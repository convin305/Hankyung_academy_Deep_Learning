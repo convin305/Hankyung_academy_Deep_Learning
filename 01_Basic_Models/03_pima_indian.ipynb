{
 "metadata": {
  "language_info": {
   "codemirror_mode": {
    "name": "ipython",
    "version": 3
   },
   "file_extension": ".py",
   "mimetype": "text/x-python",
   "name": "python",
   "nbconvert_exporter": "python",
   "pygments_lexer": "ipython3",
   "version": "3.8.5"
  },
  "orig_nbformat": 4,
  "kernelspec": {
   "name": "python3",
   "display_name": "Python 3.8.5 64-bit ('base': conda)"
  },
  "interpreter": {
   "hash": "8c1eae21719a0790335dcb83aad72b63b602cfe5cdb2bda0f60bc11d4f154e4b"
  }
 },
 "nbformat": 4,
 "nbformat_minor": 2,
 "cells": [
  {
   "source": [
    "# Pima Indian Diabetes"
   ],
   "cell_type": "markdown",
   "metadata": {}
  },
  {
   "cell_type": "code",
   "execution_count": 1,
   "metadata": {},
   "outputs": [],
   "source": [
    "import numpy as np\n",
    "import pandas as pd"
   ]
  },
  {
   "cell_type": "code",
   "execution_count": 2,
   "metadata": {},
   "outputs": [
    {
     "output_type": "execute_result",
     "data": {
      "text/plain": [
       "   0    1   2   3    4     5      6   7  8\n",
       "0  6  148  72  35    0  33.6  0.627  50  1\n",
       "1  1   85  66  29    0  26.6  0.351  31  0\n",
       "2  8  183  64   0    0  23.3  0.672  32  1\n",
       "3  1   89  66  23   94  28.1  0.167  21  0\n",
       "4  0  137  40  35  168  43.1  2.288  33  1"
      ],
      "text/html": "<div>\n<style scoped>\n    .dataframe tbody tr th:only-of-type {\n        vertical-align: middle;\n    }\n\n    .dataframe tbody tr th {\n        vertical-align: top;\n    }\n\n    .dataframe thead th {\n        text-align: right;\n    }\n</style>\n<table border=\"1\" class=\"dataframe\">\n  <thead>\n    <tr style=\"text-align: right;\">\n      <th></th>\n      <th>0</th>\n      <th>1</th>\n      <th>2</th>\n      <th>3</th>\n      <th>4</th>\n      <th>5</th>\n      <th>6</th>\n      <th>7</th>\n      <th>8</th>\n    </tr>\n  </thead>\n  <tbody>\n    <tr>\n      <th>0</th>\n      <td>6</td>\n      <td>148</td>\n      <td>72</td>\n      <td>35</td>\n      <td>0</td>\n      <td>33.6</td>\n      <td>0.627</td>\n      <td>50</td>\n      <td>1</td>\n    </tr>\n    <tr>\n      <th>1</th>\n      <td>1</td>\n      <td>85</td>\n      <td>66</td>\n      <td>29</td>\n      <td>0</td>\n      <td>26.6</td>\n      <td>0.351</td>\n      <td>31</td>\n      <td>0</td>\n    </tr>\n    <tr>\n      <th>2</th>\n      <td>8</td>\n      <td>183</td>\n      <td>64</td>\n      <td>0</td>\n      <td>0</td>\n      <td>23.3</td>\n      <td>0.672</td>\n      <td>32</td>\n      <td>1</td>\n    </tr>\n    <tr>\n      <th>3</th>\n      <td>1</td>\n      <td>89</td>\n      <td>66</td>\n      <td>23</td>\n      <td>94</td>\n      <td>28.1</td>\n      <td>0.167</td>\n      <td>21</td>\n      <td>0</td>\n    </tr>\n    <tr>\n      <th>4</th>\n      <td>0</td>\n      <td>137</td>\n      <td>40</td>\n      <td>35</td>\n      <td>168</td>\n      <td>43.1</td>\n      <td>2.288</td>\n      <td>33</td>\n      <td>1</td>\n    </tr>\n  </tbody>\n</table>\n</div>"
     },
     "metadata": {},
     "execution_count": 2
    }
   ],
   "source": [
    "df = pd.read_csv(\"dataset\\pima-indians-diabetes.csv\",header=None)\n",
    "df.head()"
   ]
  },
  {
   "cell_type": "code",
   "execution_count": 3,
   "metadata": {},
   "outputs": [
    {
     "output_type": "execute_result",
     "data": {
      "text/plain": [
       "((576, 8), (192, 8), (576,), (192,))"
      ]
     },
     "metadata": {},
     "execution_count": 3
    }
   ],
   "source": [
    "from sklearn.model_selection import train_test_split\n",
    "\n",
    "X_train,X_test, y_train,y_test = train_test_split(\n",
    "    df.iloc[:,:-1].values, df.iloc[:,-1].values, \n",
    "    stratify=df.iloc[:,-1].values,random_state=2021)\n",
    "\n",
    "X_train.shape, X_test.shape, y_train.shape, y_test.shape"
   ]
  },
  {
   "cell_type": "code",
   "execution_count": 4,
   "metadata": {},
   "outputs": [],
   "source": [
    "import tensorflow as tf \n",
    "\n",
    "# 할 때마다 동일한 결과를 얻기 위한 작업 \n",
    "seed = 2021\n",
    "np.random.seed(seed)\n",
    "tf.random.set_seed(seed)"
   ]
  },
  {
   "source": [
    "모델 정의 / 설정 / 학습/ 평가  \n",
    "- 12 / 8 / 1 layer, 200epochs"
   ],
   "cell_type": "markdown",
   "metadata": {}
  },
  {
   "cell_type": "code",
   "execution_count": 5,
   "metadata": {},
   "outputs": [],
   "source": [
    "from tensorflow.keras.models import Sequential\n",
    "from tensorflow.keras.layers import Dense"
   ]
  },
  {
   "cell_type": "code",
   "execution_count": 6,
   "metadata": {},
   "outputs": [
    {
     "output_type": "stream",
     "name": "stdout",
     "text": [
      "Model: \"sequential\"\n_________________________________________________________________\nLayer (type)                 Output Shape              Param #   \n=================================================================\ndense (Dense)                (None, 12)                108       \n_________________________________________________________________\ndense_1 (Dense)              (None, 8)                 104       \n_________________________________________________________________\ndense_2 (Dense)              (None, 1)                 9         \n=================================================================\nTotal params: 221\nTrainable params: 221\nNon-trainable params: 0\n_________________________________________________________________\n"
     ]
    }
   ],
   "source": [
    "model = Sequential([\n",
    "    Dense(12,input_dim=8,activation='relu'),\n",
    "    Dense(8,activation='relu'),\n",
    "    Dense(1,activation='sigmoid')\n",
    "])\n",
    "model.summary()"
   ]
  },
  {
   "cell_type": "code",
   "execution_count": 7,
   "metadata": {},
   "outputs": [],
   "source": [
    "model.compile(\n",
    "    loss = 'binary_crossentropy',\n",
    "    optimizer='adam',\n",
    "    metrics=['accuracy']\n",
    ")"
   ]
  },
  {
   "cell_type": "code",
   "execution_count": 8,
   "metadata": {
    "tags": []
   },
   "outputs": [],
   "source": [
    "history = model.fit(X_train,y_train,validation_split=0.2,epochs=200,batch_size=50,verbose=0)"
   ]
  },
  {
   "cell_type": "code",
   "execution_count": 9,
   "metadata": {},
   "outputs": [
    {
     "output_type": "stream",
     "name": "stdout",
     "text": [
      "6/6 [==============================] - 0s 997us/step - loss: 0.5690 - accuracy: 0.7448\n"
     ]
    },
    {
     "output_type": "execute_result",
     "data": {
      "text/plain": [
       "[0.5690341591835022, 0.7447916865348816]"
      ]
     },
     "metadata": {},
     "execution_count": 9
    }
   ],
   "source": [
    "model.evaluate(X_test,y_test)"
   ]
  },
  {
   "cell_type": "code",
   "execution_count": 10,
   "metadata": {},
   "outputs": [],
   "source": [
    "accuracy = history.history['accuracy']\n",
    "loss = history.history['loss']\n",
    "val_accuracy = history.history['val_accuracy']\n",
    "val_loss = history.history['val_loss']"
   ]
  },
  {
   "cell_type": "code",
   "execution_count": 11,
   "metadata": {},
   "outputs": [],
   "source": [
    "import matplotlib.pyplot as plt\n",
    "%matplotlib inline"
   ]
  },
  {
   "cell_type": "code",
   "execution_count": 12,
   "metadata": {},
   "outputs": [
    {
     "output_type": "display_data",
     "data": {
      "text/plain": "<Figure size 432x288 with 1 Axes>",
      "image/svg+xml": "<?xml version=\"1.0\" encoding=\"utf-8\" standalone=\"no\"?>\r\n<!DOCTYPE svg PUBLIC \"-//W3C//DTD SVG 1.1//EN\"\r\n  \"http://www.w3.org/Graphics/SVG/1.1/DTD/svg11.dtd\">\r\n<!-- Created with matplotlib (https://matplotlib.org/) -->\r\n<svg height=\"248.518125pt\" version=\"1.1\" viewBox=\"0 0 378.465625 248.518125\" width=\"378.465625pt\" xmlns=\"http://www.w3.org/2000/svg\" xmlns:xlink=\"http://www.w3.org/1999/xlink\">\r\n <metadata>\r\n  <rdf:RDF xmlns:cc=\"http://creativecommons.org/ns#\" xmlns:dc=\"http://purl.org/dc/elements/1.1/\" xmlns:rdf=\"http://www.w3.org/1999/02/22-rdf-syntax-ns#\">\r\n   <cc:Work>\r\n    <dc:type rdf:resource=\"http://purl.org/dc/dcmitype/StillImage\"/>\r\n    <dc:date>2021-06-28T14:14:34.410811</dc:date>\r\n    <dc:format>image/svg+xml</dc:format>\r\n    <dc:creator>\r\n     <cc:Agent>\r\n      <dc:title>Matplotlib v3.3.4, https://matplotlib.org/</dc:title>\r\n     </cc:Agent>\r\n    </dc:creator>\r\n   </cc:Work>\r\n  </rdf:RDF>\r\n </metadata>\r\n <defs>\r\n  <style type=\"text/css\">*{stroke-linecap:butt;stroke-linejoin:round;}</style>\r\n </defs>\r\n <g id=\"figure_1\">\r\n  <g id=\"patch_1\">\r\n   <path d=\"M 0 248.518125 \r\nL 378.465625 248.518125 \r\nL 378.465625 0 \r\nL 0 0 \r\nz\r\n\" style=\"fill:none;\"/>\r\n  </g>\r\n  <g id=\"axes_1\">\r\n   <g id=\"patch_2\">\r\n    <path d=\"M 36.465625 224.64 \r\nL 371.265625 224.64 \r\nL 371.265625 7.2 \r\nL 36.465625 7.2 \r\nz\r\n\" style=\"fill:#ffffff;\"/>\r\n   </g>\r\n   <g id=\"matplotlib.axis_1\">\r\n    <g id=\"xtick_1\">\r\n     <g id=\"line2d_1\">\r\n      <defs>\r\n       <path d=\"M 0 0 \r\nL 0 3.5 \r\n\" id=\"m8f16aea038\" style=\"stroke:#000000;stroke-width:0.8;\"/>\r\n      </defs>\r\n      <g>\r\n       <use style=\"stroke:#000000;stroke-width:0.8;\" x=\"51.683807\" xlink:href=\"#m8f16aea038\" y=\"224.64\"/>\r\n      </g>\r\n     </g>\r\n     <g id=\"text_1\">\r\n      <!-- 0 -->\r\n      <g transform=\"translate(48.502557 239.238437)scale(0.1 -0.1)\">\r\n       <defs>\r\n        <path d=\"M 31.78125 66.40625 \r\nQ 24.171875 66.40625 20.328125 58.90625 \r\nQ 16.5 51.421875 16.5 36.375 \r\nQ 16.5 21.390625 20.328125 13.890625 \r\nQ 24.171875 6.390625 31.78125 6.390625 \r\nQ 39.453125 6.390625 43.28125 13.890625 \r\nQ 47.125 21.390625 47.125 36.375 \r\nQ 47.125 51.421875 43.28125 58.90625 \r\nQ 39.453125 66.40625 31.78125 66.40625 \r\nz\r\nM 31.78125 74.21875 \r\nQ 44.046875 74.21875 50.515625 64.515625 \r\nQ 56.984375 54.828125 56.984375 36.375 \r\nQ 56.984375 17.96875 50.515625 8.265625 \r\nQ 44.046875 -1.421875 31.78125 -1.421875 \r\nQ 19.53125 -1.421875 13.0625 8.265625 \r\nQ 6.59375 17.96875 6.59375 36.375 \r\nQ 6.59375 54.828125 13.0625 64.515625 \r\nQ 19.53125 74.21875 31.78125 74.21875 \r\nz\r\n\" id=\"DejaVuSans-48\"/>\r\n       </defs>\r\n       <use xlink:href=\"#DejaVuSans-48\"/>\r\n      </g>\r\n     </g>\r\n    </g>\r\n    <g id=\"xtick_2\">\r\n     <g id=\"line2d_2\">\r\n      <g>\r\n       <use style=\"stroke:#000000;stroke-width:0.8;\" x=\"89.920445\" xlink:href=\"#m8f16aea038\" y=\"224.64\"/>\r\n      </g>\r\n     </g>\r\n     <g id=\"text_2\">\r\n      <!-- 25 -->\r\n      <g transform=\"translate(83.557945 239.238437)scale(0.1 -0.1)\">\r\n       <defs>\r\n        <path d=\"M 19.1875 8.296875 \r\nL 53.609375 8.296875 \r\nL 53.609375 0 \r\nL 7.328125 0 \r\nL 7.328125 8.296875 \r\nQ 12.9375 14.109375 22.625 23.890625 \r\nQ 32.328125 33.6875 34.8125 36.53125 \r\nQ 39.546875 41.84375 41.421875 45.53125 \r\nQ 43.3125 49.21875 43.3125 52.78125 \r\nQ 43.3125 58.59375 39.234375 62.25 \r\nQ 35.15625 65.921875 28.609375 65.921875 \r\nQ 23.96875 65.921875 18.8125 64.3125 \r\nQ 13.671875 62.703125 7.8125 59.421875 \r\nL 7.8125 69.390625 \r\nQ 13.765625 71.78125 18.9375 73 \r\nQ 24.125 74.21875 28.421875 74.21875 \r\nQ 39.75 74.21875 46.484375 68.546875 \r\nQ 53.21875 62.890625 53.21875 53.421875 \r\nQ 53.21875 48.921875 51.53125 44.890625 \r\nQ 49.859375 40.875 45.40625 35.40625 \r\nQ 44.1875 33.984375 37.640625 27.21875 \r\nQ 31.109375 20.453125 19.1875 8.296875 \r\nz\r\n\" id=\"DejaVuSans-50\"/>\r\n        <path d=\"M 10.796875 72.90625 \r\nL 49.515625 72.90625 \r\nL 49.515625 64.59375 \r\nL 19.828125 64.59375 \r\nL 19.828125 46.734375 \r\nQ 21.96875 47.46875 24.109375 47.828125 \r\nQ 26.265625 48.1875 28.421875 48.1875 \r\nQ 40.625 48.1875 47.75 41.5 \r\nQ 54.890625 34.8125 54.890625 23.390625 \r\nQ 54.890625 11.625 47.5625 5.09375 \r\nQ 40.234375 -1.421875 26.90625 -1.421875 \r\nQ 22.3125 -1.421875 17.546875 -0.640625 \r\nQ 12.796875 0.140625 7.71875 1.703125 \r\nL 7.71875 11.625 \r\nQ 12.109375 9.234375 16.796875 8.0625 \r\nQ 21.484375 6.890625 26.703125 6.890625 \r\nQ 35.15625 6.890625 40.078125 11.328125 \r\nQ 45.015625 15.765625 45.015625 23.390625 \r\nQ 45.015625 31 40.078125 35.4375 \r\nQ 35.15625 39.890625 26.703125 39.890625 \r\nQ 22.75 39.890625 18.8125 39.015625 \r\nQ 14.890625 38.140625 10.796875 36.28125 \r\nz\r\n\" id=\"DejaVuSans-53\"/>\r\n       </defs>\r\n       <use xlink:href=\"#DejaVuSans-50\"/>\r\n       <use x=\"63.623047\" xlink:href=\"#DejaVuSans-53\"/>\r\n      </g>\r\n     </g>\r\n    </g>\r\n    <g id=\"xtick_3\">\r\n     <g id=\"line2d_3\">\r\n      <g>\r\n       <use style=\"stroke:#000000;stroke-width:0.8;\" x=\"128.157082\" xlink:href=\"#m8f16aea038\" y=\"224.64\"/>\r\n      </g>\r\n     </g>\r\n     <g id=\"text_3\">\r\n      <!-- 50 -->\r\n      <g transform=\"translate(121.794582 239.238437)scale(0.1 -0.1)\">\r\n       <use xlink:href=\"#DejaVuSans-53\"/>\r\n       <use x=\"63.623047\" xlink:href=\"#DejaVuSans-48\"/>\r\n      </g>\r\n     </g>\r\n    </g>\r\n    <g id=\"xtick_4\">\r\n     <g id=\"line2d_4\">\r\n      <g>\r\n       <use style=\"stroke:#000000;stroke-width:0.8;\" x=\"166.39372\" xlink:href=\"#m8f16aea038\" y=\"224.64\"/>\r\n      </g>\r\n     </g>\r\n     <g id=\"text_4\">\r\n      <!-- 75 -->\r\n      <g transform=\"translate(160.03122 239.238437)scale(0.1 -0.1)\">\r\n       <defs>\r\n        <path d=\"M 8.203125 72.90625 \r\nL 55.078125 72.90625 \r\nL 55.078125 68.703125 \r\nL 28.609375 0 \r\nL 18.3125 0 \r\nL 43.21875 64.59375 \r\nL 8.203125 64.59375 \r\nz\r\n\" id=\"DejaVuSans-55\"/>\r\n       </defs>\r\n       <use xlink:href=\"#DejaVuSans-55\"/>\r\n       <use x=\"63.623047\" xlink:href=\"#DejaVuSans-53\"/>\r\n      </g>\r\n     </g>\r\n    </g>\r\n    <g id=\"xtick_5\">\r\n     <g id=\"line2d_5\">\r\n      <g>\r\n       <use style=\"stroke:#000000;stroke-width:0.8;\" x=\"204.630358\" xlink:href=\"#m8f16aea038\" y=\"224.64\"/>\r\n      </g>\r\n     </g>\r\n     <g id=\"text_5\">\r\n      <!-- 100 -->\r\n      <g transform=\"translate(195.086608 239.238437)scale(0.1 -0.1)\">\r\n       <defs>\r\n        <path d=\"M 12.40625 8.296875 \r\nL 28.515625 8.296875 \r\nL 28.515625 63.921875 \r\nL 10.984375 60.40625 \r\nL 10.984375 69.390625 \r\nL 28.421875 72.90625 \r\nL 38.28125 72.90625 \r\nL 38.28125 8.296875 \r\nL 54.390625 8.296875 \r\nL 54.390625 0 \r\nL 12.40625 0 \r\nz\r\n\" id=\"DejaVuSans-49\"/>\r\n       </defs>\r\n       <use xlink:href=\"#DejaVuSans-49\"/>\r\n       <use x=\"63.623047\" xlink:href=\"#DejaVuSans-48\"/>\r\n       <use x=\"127.246094\" xlink:href=\"#DejaVuSans-48\"/>\r\n      </g>\r\n     </g>\r\n    </g>\r\n    <g id=\"xtick_6\">\r\n     <g id=\"line2d_6\">\r\n      <g>\r\n       <use style=\"stroke:#000000;stroke-width:0.8;\" x=\"242.866995\" xlink:href=\"#m8f16aea038\" y=\"224.64\"/>\r\n      </g>\r\n     </g>\r\n     <g id=\"text_6\">\r\n      <!-- 125 -->\r\n      <g transform=\"translate(233.323245 239.238437)scale(0.1 -0.1)\">\r\n       <use xlink:href=\"#DejaVuSans-49\"/>\r\n       <use x=\"63.623047\" xlink:href=\"#DejaVuSans-50\"/>\r\n       <use x=\"127.246094\" xlink:href=\"#DejaVuSans-53\"/>\r\n      </g>\r\n     </g>\r\n    </g>\r\n    <g id=\"xtick_7\">\r\n     <g id=\"line2d_7\">\r\n      <g>\r\n       <use style=\"stroke:#000000;stroke-width:0.8;\" x=\"281.103633\" xlink:href=\"#m8f16aea038\" y=\"224.64\"/>\r\n      </g>\r\n     </g>\r\n     <g id=\"text_7\">\r\n      <!-- 150 -->\r\n      <g transform=\"translate(271.559883 239.238437)scale(0.1 -0.1)\">\r\n       <use xlink:href=\"#DejaVuSans-49\"/>\r\n       <use x=\"63.623047\" xlink:href=\"#DejaVuSans-53\"/>\r\n       <use x=\"127.246094\" xlink:href=\"#DejaVuSans-48\"/>\r\n      </g>\r\n     </g>\r\n    </g>\r\n    <g id=\"xtick_8\">\r\n     <g id=\"line2d_8\">\r\n      <g>\r\n       <use style=\"stroke:#000000;stroke-width:0.8;\" x=\"319.340271\" xlink:href=\"#m8f16aea038\" y=\"224.64\"/>\r\n      </g>\r\n     </g>\r\n     <g id=\"text_8\">\r\n      <!-- 175 -->\r\n      <g transform=\"translate(309.796521 239.238437)scale(0.1 -0.1)\">\r\n       <use xlink:href=\"#DejaVuSans-49\"/>\r\n       <use x=\"63.623047\" xlink:href=\"#DejaVuSans-55\"/>\r\n       <use x=\"127.246094\" xlink:href=\"#DejaVuSans-53\"/>\r\n      </g>\r\n     </g>\r\n    </g>\r\n    <g id=\"xtick_9\">\r\n     <g id=\"line2d_9\">\r\n      <g>\r\n       <use style=\"stroke:#000000;stroke-width:0.8;\" x=\"357.576909\" xlink:href=\"#m8f16aea038\" y=\"224.64\"/>\r\n      </g>\r\n     </g>\r\n     <g id=\"text_9\">\r\n      <!-- 200 -->\r\n      <g transform=\"translate(348.033159 239.238437)scale(0.1 -0.1)\">\r\n       <use xlink:href=\"#DejaVuSans-50\"/>\r\n       <use x=\"63.623047\" xlink:href=\"#DejaVuSans-48\"/>\r\n       <use x=\"127.246094\" xlink:href=\"#DejaVuSans-48\"/>\r\n      </g>\r\n     </g>\r\n    </g>\r\n   </g>\r\n   <g id=\"matplotlib.axis_2\">\r\n    <g id=\"ytick_1\">\r\n     <g id=\"line2d_10\">\r\n      <defs>\r\n       <path d=\"M 0 0 \r\nL -3.5 0 \r\n\" id=\"m4e0f4d65f8\" style=\"stroke:#000000;stroke-width:0.8;\"/>\r\n      </defs>\r\n      <g>\r\n       <use style=\"stroke:#000000;stroke-width:0.8;\" x=\"36.465625\" xlink:href=\"#m4e0f4d65f8\" y=\"213.052298\"/>\r\n      </g>\r\n     </g>\r\n     <g id=\"text_10\">\r\n      <!-- 0.50 -->\r\n      <g transform=\"translate(7.2 216.851517)scale(0.1 -0.1)\">\r\n       <defs>\r\n        <path d=\"M 10.6875 12.40625 \r\nL 21 12.40625 \r\nL 21 0 \r\nL 10.6875 0 \r\nz\r\n\" id=\"DejaVuSans-46\"/>\r\n       </defs>\r\n       <use xlink:href=\"#DejaVuSans-48\"/>\r\n       <use x=\"63.623047\" xlink:href=\"#DejaVuSans-46\"/>\r\n       <use x=\"95.410156\" xlink:href=\"#DejaVuSans-53\"/>\r\n       <use x=\"159.033203\" xlink:href=\"#DejaVuSans-48\"/>\r\n      </g>\r\n     </g>\r\n    </g>\r\n    <g id=\"ytick_2\">\r\n     <g id=\"line2d_11\">\r\n      <g>\r\n       <use style=\"stroke:#000000;stroke-width:0.8;\" x=\"36.465625\" xlink:href=\"#m4e0f4d65f8\" y=\"173.858566\"/>\r\n      </g>\r\n     </g>\r\n     <g id=\"text_11\">\r\n      <!-- 0.55 -->\r\n      <g transform=\"translate(7.2 177.657784)scale(0.1 -0.1)\">\r\n       <use xlink:href=\"#DejaVuSans-48\"/>\r\n       <use x=\"63.623047\" xlink:href=\"#DejaVuSans-46\"/>\r\n       <use x=\"95.410156\" xlink:href=\"#DejaVuSans-53\"/>\r\n       <use x=\"159.033203\" xlink:href=\"#DejaVuSans-53\"/>\r\n      </g>\r\n     </g>\r\n    </g>\r\n    <g id=\"ytick_3\">\r\n     <g id=\"line2d_12\">\r\n      <g>\r\n       <use style=\"stroke:#000000;stroke-width:0.8;\" x=\"36.465625\" xlink:href=\"#m4e0f4d65f8\" y=\"134.664833\"/>\r\n      </g>\r\n     </g>\r\n     <g id=\"text_12\">\r\n      <!-- 0.60 -->\r\n      <g transform=\"translate(7.2 138.464052)scale(0.1 -0.1)\">\r\n       <defs>\r\n        <path d=\"M 33.015625 40.375 \r\nQ 26.375 40.375 22.484375 35.828125 \r\nQ 18.609375 31.296875 18.609375 23.390625 \r\nQ 18.609375 15.53125 22.484375 10.953125 \r\nQ 26.375 6.390625 33.015625 6.390625 \r\nQ 39.65625 6.390625 43.53125 10.953125 \r\nQ 47.40625 15.53125 47.40625 23.390625 \r\nQ 47.40625 31.296875 43.53125 35.828125 \r\nQ 39.65625 40.375 33.015625 40.375 \r\nz\r\nM 52.59375 71.296875 \r\nL 52.59375 62.3125 \r\nQ 48.875 64.0625 45.09375 64.984375 \r\nQ 41.3125 65.921875 37.59375 65.921875 \r\nQ 27.828125 65.921875 22.671875 59.328125 \r\nQ 17.53125 52.734375 16.796875 39.40625 \r\nQ 19.671875 43.65625 24.015625 45.921875 \r\nQ 28.375 48.1875 33.59375 48.1875 \r\nQ 44.578125 48.1875 50.953125 41.515625 \r\nQ 57.328125 34.859375 57.328125 23.390625 \r\nQ 57.328125 12.15625 50.6875 5.359375 \r\nQ 44.046875 -1.421875 33.015625 -1.421875 \r\nQ 20.359375 -1.421875 13.671875 8.265625 \r\nQ 6.984375 17.96875 6.984375 36.375 \r\nQ 6.984375 53.65625 15.1875 63.9375 \r\nQ 23.390625 74.21875 37.203125 74.21875 \r\nQ 40.921875 74.21875 44.703125 73.484375 \r\nQ 48.484375 72.75 52.59375 71.296875 \r\nz\r\n\" id=\"DejaVuSans-54\"/>\r\n       </defs>\r\n       <use xlink:href=\"#DejaVuSans-48\"/>\r\n       <use x=\"63.623047\" xlink:href=\"#DejaVuSans-46\"/>\r\n       <use x=\"95.410156\" xlink:href=\"#DejaVuSans-54\"/>\r\n       <use x=\"159.033203\" xlink:href=\"#DejaVuSans-48\"/>\r\n      </g>\r\n     </g>\r\n    </g>\r\n    <g id=\"ytick_4\">\r\n     <g id=\"line2d_13\">\r\n      <g>\r\n       <use style=\"stroke:#000000;stroke-width:0.8;\" x=\"36.465625\" xlink:href=\"#m4e0f4d65f8\" y=\"95.471101\"/>\r\n      </g>\r\n     </g>\r\n     <g id=\"text_13\">\r\n      <!-- 0.65 -->\r\n      <g transform=\"translate(7.2 99.27032)scale(0.1 -0.1)\">\r\n       <use xlink:href=\"#DejaVuSans-48\"/>\r\n       <use x=\"63.623047\" xlink:href=\"#DejaVuSans-46\"/>\r\n       <use x=\"95.410156\" xlink:href=\"#DejaVuSans-54\"/>\r\n       <use x=\"159.033203\" xlink:href=\"#DejaVuSans-53\"/>\r\n      </g>\r\n     </g>\r\n    </g>\r\n    <g id=\"ytick_5\">\r\n     <g id=\"line2d_14\">\r\n      <g>\r\n       <use style=\"stroke:#000000;stroke-width:0.8;\" x=\"36.465625\" xlink:href=\"#m4e0f4d65f8\" y=\"56.277369\"/>\r\n      </g>\r\n     </g>\r\n     <g id=\"text_14\">\r\n      <!-- 0.70 -->\r\n      <g transform=\"translate(7.2 60.076587)scale(0.1 -0.1)\">\r\n       <use xlink:href=\"#DejaVuSans-48\"/>\r\n       <use x=\"63.623047\" xlink:href=\"#DejaVuSans-46\"/>\r\n       <use x=\"95.410156\" xlink:href=\"#DejaVuSans-55\"/>\r\n       <use x=\"159.033203\" xlink:href=\"#DejaVuSans-48\"/>\r\n      </g>\r\n     </g>\r\n    </g>\r\n    <g id=\"ytick_6\">\r\n     <g id=\"line2d_15\">\r\n      <g>\r\n       <use style=\"stroke:#000000;stroke-width:0.8;\" x=\"36.465625\" xlink:href=\"#m4e0f4d65f8\" y=\"17.083636\"/>\r\n      </g>\r\n     </g>\r\n     <g id=\"text_15\">\r\n      <!-- 0.75 -->\r\n      <g transform=\"translate(7.2 20.882855)scale(0.1 -0.1)\">\r\n       <use xlink:href=\"#DejaVuSans-48\"/>\r\n       <use x=\"63.623047\" xlink:href=\"#DejaVuSans-46\"/>\r\n       <use x=\"95.410156\" xlink:href=\"#DejaVuSans-55\"/>\r\n       <use x=\"159.033203\" xlink:href=\"#DejaVuSans-53\"/>\r\n      </g>\r\n     </g>\r\n    </g>\r\n   </g>\r\n   <g id=\"line2d_16\">\r\n    <path clip-path=\"url(#p09e0384fce)\" d=\"M 51.683807 214.756364 \r\nL 53.213272 126.14444 \r\nL 54.742738 115.92 \r\nL 56.272203 109.103691 \r\nL 57.801669 117.624066 \r\nL 59.331134 122.736309 \r\nL 60.8606 121.032243 \r\nL 62.390065 117.624066 \r\nL 63.919531 136.368927 \r\nL 65.448996 134.664815 \r\nL 66.978462 119.328178 \r\nL 68.507927 127.848552 \r\nL 70.037393 110.807757 \r\nL 71.566858 107.399625 \r\nL 73.096324 109.103691 \r\nL 74.625789 112.511869 \r\nL 76.155255 119.328178 \r\nL 77.68472 109.103691 \r\nL 79.214186 103.991494 \r\nL 80.743651 90.358876 \r\nL 82.273117 103.991494 \r\nL 83.802583 92.062942 \r\nL 85.332048 107.399625 \r\nL 86.861514 83.542567 \r\nL 88.390979 85.246633 \r\nL 89.920445 93.767007 \r\nL 91.44991 83.542567 \r\nL 92.979376 78.430371 \r\nL 94.508841 78.430371 \r\nL 96.038307 80.134436 \r\nL 97.567772 78.430371 \r\nL 99.097238 86.950745 \r\nL 100.626703 68.205884 \r\nL 102.156169 85.246633 \r\nL 105.2151 71.614062 \r\nL 106.744565 71.614062 \r\nL 108.274031 68.205884 \r\nL 109.803496 75.022193 \r\nL 111.332962 64.797753 \r\nL 112.862427 76.726258 \r\nL 114.391893 66.501818 \r\nL 115.921358 57.981444 \r\nL 117.450824 61.389575 \r\nL 118.980289 54.573312 \r\nL 120.509755 57.981444 \r\nL 122.03922 63.093687 \r\nL 125.098151 63.093687 \r\nL 126.627617 57.981444 \r\nL 128.157082 57.981444 \r\nL 129.686548 51.165135 \r\nL 131.216013 63.093687 \r\nL 132.745479 57.981444 \r\nL 134.274944 56.277378 \r\nL 137.333875 49.461069 \r\nL 138.863341 57.981444 \r\nL 140.392806 52.8692 \r\nL 141.922272 54.573312 \r\nL 143.451737 51.165135 \r\nL 144.981203 44.348826 \r\nL 146.510668 44.348826 \r\nL 148.040134 49.461069 \r\nL 149.569599 49.461069 \r\nL 151.099065 54.573312 \r\nL 152.62853 47.757003 \r\nL 154.157996 46.052938 \r\nL 155.687461 46.052938 \r\nL 157.216927 47.757003 \r\nL 158.746392 39.236629 \r\nL 160.275858 44.348826 \r\nL 161.805323 54.573312 \r\nL 163.334789 52.8692 \r\nL 164.864255 47.757003 \r\nL 167.923186 40.940694 \r\nL 169.452651 63.093687 \r\nL 170.982117 35.828451 \r\nL 172.511582 32.42032 \r\nL 174.041048 47.757003 \r\nL 175.570513 51.165135 \r\nL 177.099979 42.64476 \r\nL 178.629444 42.64476 \r\nL 180.15891 52.8692 \r\nL 181.688375 37.532563 \r\nL 183.217841 49.461069 \r\nL 184.747306 39.236629 \r\nL 186.276772 47.757003 \r\nL 187.806237 47.757003 \r\nL 189.335703 46.052938 \r\nL 190.865168 47.757003 \r\nL 192.394634 39.236629 \r\nL 193.924099 44.348826 \r\nL 195.453565 47.757003 \r\nL 196.98303 37.532563 \r\nL 198.512496 39.236629 \r\nL 200.041961 42.64476 \r\nL 203.100892 46.052938 \r\nL 204.630358 23.899945 \r\nL 206.159823 44.348826 \r\nL 207.689289 37.532563 \r\nL 209.218754 46.052938 \r\nL 210.74822 46.052938 \r\nL 212.277685 44.348826 \r\nL 213.807151 29.012142 \r\nL 215.336616 37.532563 \r\nL 216.866082 40.940694 \r\nL 218.395547 29.012142 \r\nL 219.925013 63.093687 \r\nL 221.454478 29.012142 \r\nL 222.983944 47.757003 \r\nL 224.513409 42.64476 \r\nL 226.042875 40.940694 \r\nL 227.57234 40.940694 \r\nL 229.101806 39.236629 \r\nL 230.631271 40.940694 \r\nL 232.160737 32.42032 \r\nL 233.690202 34.124385 \r\nL 235.219668 37.532563 \r\nL 236.749133 39.236629 \r\nL 238.278599 30.716254 \r\nL 239.808064 49.461069 \r\nL 241.33753 32.42032 \r\nL 242.866995 34.124385 \r\nL 244.396461 46.052938 \r\nL 245.925927 32.42032 \r\nL 247.455392 37.532563 \r\nL 248.984858 35.828451 \r\nL 250.514323 42.64476 \r\nL 252.043789 25.604011 \r\nL 253.573254 42.64476 \r\nL 255.10272 32.42032 \r\nL 256.632185 25.604011 \r\nL 258.161651 34.124385 \r\nL 259.691116 32.42032 \r\nL 261.220582 35.828451 \r\nL 262.750047 22.19588 \r\nL 264.279513 34.124385 \r\nL 265.808978 30.716254 \r\nL 267.338444 37.532563 \r\nL 268.867909 20.491768 \r\nL 270.397375 32.42032 \r\nL 271.92684 17.083636 \r\nL 273.456306 25.604011 \r\nL 274.985771 27.308076 \r\nL 276.515237 25.604011 \r\nL 278.044702 27.308076 \r\nL 279.574168 39.236629 \r\nL 281.103633 39.236629 \r\nL 282.633099 34.124385 \r\nL 284.162564 27.308076 \r\nL 285.69203 34.124385 \r\nL 287.221495 32.42032 \r\nL 288.750961 34.124385 \r\nL 290.280426 32.42032 \r\nL 291.809892 37.532563 \r\nL 293.339357 30.716254 \r\nL 294.868823 32.42032 \r\nL 296.398288 23.899945 \r\nL 297.927754 27.308076 \r\nL 299.457219 34.124385 \r\nL 300.986685 18.787702 \r\nL 302.51615 32.42032 \r\nL 304.045616 30.716254 \r\nL 305.575081 22.19588 \r\nL 307.104547 25.604011 \r\nL 308.634012 30.716254 \r\nL 310.163478 32.42032 \r\nL 311.692943 35.828451 \r\nL 313.222409 29.012142 \r\nL 314.751874 17.083636 \r\nL 316.28134 20.491768 \r\nL 317.810805 17.083636 \r\nL 319.340271 22.19588 \r\nL 320.869736 25.604011 \r\nL 322.399202 23.899945 \r\nL 323.928667 23.899945 \r\nL 325.458133 30.716254 \r\nL 326.987599 29.012142 \r\nL 328.517064 17.083636 \r\nL 330.04653 18.787702 \r\nL 331.575995 22.19588 \r\nL 333.105461 32.42032 \r\nL 334.634926 29.012142 \r\nL 337.693857 32.42032 \r\nL 339.223323 30.716254 \r\nL 340.752788 20.491768 \r\nL 342.282254 18.787702 \r\nL 343.811719 18.787702 \r\nL 345.341185 25.604011 \r\nL 346.87065 25.604011 \r\nL 348.400116 27.308076 \r\nL 351.459047 27.308076 \r\nL 352.988512 22.19588 \r\nL 354.517978 25.604011 \r\nL 356.047443 18.787702 \r\nL 356.047443 18.787702 \r\n\" style=\"fill:none;stroke:#0000ff;stroke-linecap:square;stroke-width:1.5;\"/>\r\n    <defs>\r\n     <path d=\"M 0 2.5 \r\nC 0.663008 2.5 1.29895 2.236584 1.767767 1.767767 \r\nC 2.236584 1.29895 2.5 0.663008 2.5 0 \r\nC 2.5 -0.663008 2.236584 -1.29895 1.767767 -1.767767 \r\nC 1.29895 -2.236584 0.663008 -2.5 0 -2.5 \r\nC -0.663008 -2.5 -1.29895 -2.236584 -1.767767 -1.767767 \r\nC -2.236584 -1.29895 -2.5 -0.663008 -2.5 0 \r\nC -2.5 0.663008 -2.236584 1.29895 -1.767767 1.767767 \r\nC -1.29895 2.236584 -0.663008 2.5 0 2.5 \r\nz\r\n\" id=\"m75c6826601\" style=\"stroke:#0000ff;\"/>\r\n    </defs>\r\n    <g clip-path=\"url(#p09e0384fce)\">\r\n     <use style=\"fill:#0000ff;stroke:#0000ff;\" x=\"51.683807\" xlink:href=\"#m75c6826601\" y=\"214.756364\"/>\r\n     <use style=\"fill:#0000ff;stroke:#0000ff;\" x=\"53.213272\" xlink:href=\"#m75c6826601\" y=\"126.14444\"/>\r\n     <use style=\"fill:#0000ff;stroke:#0000ff;\" x=\"54.742738\" xlink:href=\"#m75c6826601\" y=\"115.92\"/>\r\n     <use style=\"fill:#0000ff;stroke:#0000ff;\" x=\"56.272203\" xlink:href=\"#m75c6826601\" y=\"109.103691\"/>\r\n     <use style=\"fill:#0000ff;stroke:#0000ff;\" x=\"57.801669\" xlink:href=\"#m75c6826601\" y=\"117.624066\"/>\r\n     <use style=\"fill:#0000ff;stroke:#0000ff;\" x=\"59.331134\" xlink:href=\"#m75c6826601\" y=\"122.736309\"/>\r\n     <use style=\"fill:#0000ff;stroke:#0000ff;\" x=\"60.8606\" xlink:href=\"#m75c6826601\" y=\"121.032243\"/>\r\n     <use style=\"fill:#0000ff;stroke:#0000ff;\" x=\"62.390065\" xlink:href=\"#m75c6826601\" y=\"117.624066\"/>\r\n     <use style=\"fill:#0000ff;stroke:#0000ff;\" x=\"63.919531\" xlink:href=\"#m75c6826601\" y=\"136.368927\"/>\r\n     <use style=\"fill:#0000ff;stroke:#0000ff;\" x=\"65.448996\" xlink:href=\"#m75c6826601\" y=\"134.664815\"/>\r\n     <use style=\"fill:#0000ff;stroke:#0000ff;\" x=\"66.978462\" xlink:href=\"#m75c6826601\" y=\"119.328178\"/>\r\n     <use style=\"fill:#0000ff;stroke:#0000ff;\" x=\"68.507927\" xlink:href=\"#m75c6826601\" y=\"127.848552\"/>\r\n     <use style=\"fill:#0000ff;stroke:#0000ff;\" x=\"70.037393\" xlink:href=\"#m75c6826601\" y=\"110.807757\"/>\r\n     <use style=\"fill:#0000ff;stroke:#0000ff;\" x=\"71.566858\" xlink:href=\"#m75c6826601\" y=\"107.399625\"/>\r\n     <use style=\"fill:#0000ff;stroke:#0000ff;\" x=\"73.096324\" xlink:href=\"#m75c6826601\" y=\"109.103691\"/>\r\n     <use style=\"fill:#0000ff;stroke:#0000ff;\" x=\"74.625789\" xlink:href=\"#m75c6826601\" y=\"112.511869\"/>\r\n     <use style=\"fill:#0000ff;stroke:#0000ff;\" x=\"76.155255\" xlink:href=\"#m75c6826601\" y=\"119.328178\"/>\r\n     <use style=\"fill:#0000ff;stroke:#0000ff;\" x=\"77.68472\" xlink:href=\"#m75c6826601\" y=\"109.103691\"/>\r\n     <use style=\"fill:#0000ff;stroke:#0000ff;\" x=\"79.214186\" xlink:href=\"#m75c6826601\" y=\"103.991494\"/>\r\n     <use style=\"fill:#0000ff;stroke:#0000ff;\" x=\"80.743651\" xlink:href=\"#m75c6826601\" y=\"90.358876\"/>\r\n     <use style=\"fill:#0000ff;stroke:#0000ff;\" x=\"82.273117\" xlink:href=\"#m75c6826601\" y=\"103.991494\"/>\r\n     <use style=\"fill:#0000ff;stroke:#0000ff;\" x=\"83.802583\" xlink:href=\"#m75c6826601\" y=\"92.062942\"/>\r\n     <use style=\"fill:#0000ff;stroke:#0000ff;\" x=\"85.332048\" xlink:href=\"#m75c6826601\" y=\"107.399625\"/>\r\n     <use style=\"fill:#0000ff;stroke:#0000ff;\" x=\"86.861514\" xlink:href=\"#m75c6826601\" y=\"83.542567\"/>\r\n     <use style=\"fill:#0000ff;stroke:#0000ff;\" x=\"88.390979\" xlink:href=\"#m75c6826601\" y=\"85.246633\"/>\r\n     <use style=\"fill:#0000ff;stroke:#0000ff;\" x=\"89.920445\" xlink:href=\"#m75c6826601\" y=\"93.767007\"/>\r\n     <use style=\"fill:#0000ff;stroke:#0000ff;\" x=\"91.44991\" xlink:href=\"#m75c6826601\" y=\"83.542567\"/>\r\n     <use style=\"fill:#0000ff;stroke:#0000ff;\" x=\"92.979376\" xlink:href=\"#m75c6826601\" y=\"78.430371\"/>\r\n     <use style=\"fill:#0000ff;stroke:#0000ff;\" x=\"94.508841\" xlink:href=\"#m75c6826601\" y=\"78.430371\"/>\r\n     <use style=\"fill:#0000ff;stroke:#0000ff;\" x=\"96.038307\" xlink:href=\"#m75c6826601\" y=\"80.134436\"/>\r\n     <use style=\"fill:#0000ff;stroke:#0000ff;\" x=\"97.567772\" xlink:href=\"#m75c6826601\" y=\"78.430371\"/>\r\n     <use style=\"fill:#0000ff;stroke:#0000ff;\" x=\"99.097238\" xlink:href=\"#m75c6826601\" y=\"86.950745\"/>\r\n     <use style=\"fill:#0000ff;stroke:#0000ff;\" x=\"100.626703\" xlink:href=\"#m75c6826601\" y=\"68.205884\"/>\r\n     <use style=\"fill:#0000ff;stroke:#0000ff;\" x=\"102.156169\" xlink:href=\"#m75c6826601\" y=\"85.246633\"/>\r\n     <use style=\"fill:#0000ff;stroke:#0000ff;\" x=\"103.685634\" xlink:href=\"#m75c6826601\" y=\"78.430371\"/>\r\n     <use style=\"fill:#0000ff;stroke:#0000ff;\" x=\"105.2151\" xlink:href=\"#m75c6826601\" y=\"71.614062\"/>\r\n     <use style=\"fill:#0000ff;stroke:#0000ff;\" x=\"106.744565\" xlink:href=\"#m75c6826601\" y=\"71.614062\"/>\r\n     <use style=\"fill:#0000ff;stroke:#0000ff;\" x=\"108.274031\" xlink:href=\"#m75c6826601\" y=\"68.205884\"/>\r\n     <use style=\"fill:#0000ff;stroke:#0000ff;\" x=\"109.803496\" xlink:href=\"#m75c6826601\" y=\"75.022193\"/>\r\n     <use style=\"fill:#0000ff;stroke:#0000ff;\" x=\"111.332962\" xlink:href=\"#m75c6826601\" y=\"64.797753\"/>\r\n     <use style=\"fill:#0000ff;stroke:#0000ff;\" x=\"112.862427\" xlink:href=\"#m75c6826601\" y=\"76.726258\"/>\r\n     <use style=\"fill:#0000ff;stroke:#0000ff;\" x=\"114.391893\" xlink:href=\"#m75c6826601\" y=\"66.501818\"/>\r\n     <use style=\"fill:#0000ff;stroke:#0000ff;\" x=\"115.921358\" xlink:href=\"#m75c6826601\" y=\"57.981444\"/>\r\n     <use style=\"fill:#0000ff;stroke:#0000ff;\" x=\"117.450824\" xlink:href=\"#m75c6826601\" y=\"61.389575\"/>\r\n     <use style=\"fill:#0000ff;stroke:#0000ff;\" x=\"118.980289\" xlink:href=\"#m75c6826601\" y=\"54.573312\"/>\r\n     <use style=\"fill:#0000ff;stroke:#0000ff;\" x=\"120.509755\" xlink:href=\"#m75c6826601\" y=\"57.981444\"/>\r\n     <use style=\"fill:#0000ff;stroke:#0000ff;\" x=\"122.03922\" xlink:href=\"#m75c6826601\" y=\"63.093687\"/>\r\n     <use style=\"fill:#0000ff;stroke:#0000ff;\" x=\"123.568686\" xlink:href=\"#m75c6826601\" y=\"63.093687\"/>\r\n     <use style=\"fill:#0000ff;stroke:#0000ff;\" x=\"125.098151\" xlink:href=\"#m75c6826601\" y=\"63.093687\"/>\r\n     <use style=\"fill:#0000ff;stroke:#0000ff;\" x=\"126.627617\" xlink:href=\"#m75c6826601\" y=\"57.981444\"/>\r\n     <use style=\"fill:#0000ff;stroke:#0000ff;\" x=\"128.157082\" xlink:href=\"#m75c6826601\" y=\"57.981444\"/>\r\n     <use style=\"fill:#0000ff;stroke:#0000ff;\" x=\"129.686548\" xlink:href=\"#m75c6826601\" y=\"51.165135\"/>\r\n     <use style=\"fill:#0000ff;stroke:#0000ff;\" x=\"131.216013\" xlink:href=\"#m75c6826601\" y=\"63.093687\"/>\r\n     <use style=\"fill:#0000ff;stroke:#0000ff;\" x=\"132.745479\" xlink:href=\"#m75c6826601\" y=\"57.981444\"/>\r\n     <use style=\"fill:#0000ff;stroke:#0000ff;\" x=\"134.274944\" xlink:href=\"#m75c6826601\" y=\"56.277378\"/>\r\n     <use style=\"fill:#0000ff;stroke:#0000ff;\" x=\"135.80441\" xlink:href=\"#m75c6826601\" y=\"52.8692\"/>\r\n     <use style=\"fill:#0000ff;stroke:#0000ff;\" x=\"137.333875\" xlink:href=\"#m75c6826601\" y=\"49.461069\"/>\r\n     <use style=\"fill:#0000ff;stroke:#0000ff;\" x=\"138.863341\" xlink:href=\"#m75c6826601\" y=\"57.981444\"/>\r\n     <use style=\"fill:#0000ff;stroke:#0000ff;\" x=\"140.392806\" xlink:href=\"#m75c6826601\" y=\"52.8692\"/>\r\n     <use style=\"fill:#0000ff;stroke:#0000ff;\" x=\"141.922272\" xlink:href=\"#m75c6826601\" y=\"54.573312\"/>\r\n     <use style=\"fill:#0000ff;stroke:#0000ff;\" x=\"143.451737\" xlink:href=\"#m75c6826601\" y=\"51.165135\"/>\r\n     <use style=\"fill:#0000ff;stroke:#0000ff;\" x=\"144.981203\" xlink:href=\"#m75c6826601\" y=\"44.348826\"/>\r\n     <use style=\"fill:#0000ff;stroke:#0000ff;\" x=\"146.510668\" xlink:href=\"#m75c6826601\" y=\"44.348826\"/>\r\n     <use style=\"fill:#0000ff;stroke:#0000ff;\" x=\"148.040134\" xlink:href=\"#m75c6826601\" y=\"49.461069\"/>\r\n     <use style=\"fill:#0000ff;stroke:#0000ff;\" x=\"149.569599\" xlink:href=\"#m75c6826601\" y=\"49.461069\"/>\r\n     <use style=\"fill:#0000ff;stroke:#0000ff;\" x=\"151.099065\" xlink:href=\"#m75c6826601\" y=\"54.573312\"/>\r\n     <use style=\"fill:#0000ff;stroke:#0000ff;\" x=\"152.62853\" xlink:href=\"#m75c6826601\" y=\"47.757003\"/>\r\n     <use style=\"fill:#0000ff;stroke:#0000ff;\" x=\"154.157996\" xlink:href=\"#m75c6826601\" y=\"46.052938\"/>\r\n     <use style=\"fill:#0000ff;stroke:#0000ff;\" x=\"155.687461\" xlink:href=\"#m75c6826601\" y=\"46.052938\"/>\r\n     <use style=\"fill:#0000ff;stroke:#0000ff;\" x=\"157.216927\" xlink:href=\"#m75c6826601\" y=\"47.757003\"/>\r\n     <use style=\"fill:#0000ff;stroke:#0000ff;\" x=\"158.746392\" xlink:href=\"#m75c6826601\" y=\"39.236629\"/>\r\n     <use style=\"fill:#0000ff;stroke:#0000ff;\" x=\"160.275858\" xlink:href=\"#m75c6826601\" y=\"44.348826\"/>\r\n     <use style=\"fill:#0000ff;stroke:#0000ff;\" x=\"161.805323\" xlink:href=\"#m75c6826601\" y=\"54.573312\"/>\r\n     <use style=\"fill:#0000ff;stroke:#0000ff;\" x=\"163.334789\" xlink:href=\"#m75c6826601\" y=\"52.8692\"/>\r\n     <use style=\"fill:#0000ff;stroke:#0000ff;\" x=\"164.864255\" xlink:href=\"#m75c6826601\" y=\"47.757003\"/>\r\n     <use style=\"fill:#0000ff;stroke:#0000ff;\" x=\"166.39372\" xlink:href=\"#m75c6826601\" y=\"44.348826\"/>\r\n     <use style=\"fill:#0000ff;stroke:#0000ff;\" x=\"167.923186\" xlink:href=\"#m75c6826601\" y=\"40.940694\"/>\r\n     <use style=\"fill:#0000ff;stroke:#0000ff;\" x=\"169.452651\" xlink:href=\"#m75c6826601\" y=\"63.093687\"/>\r\n     <use style=\"fill:#0000ff;stroke:#0000ff;\" x=\"170.982117\" xlink:href=\"#m75c6826601\" y=\"35.828451\"/>\r\n     <use style=\"fill:#0000ff;stroke:#0000ff;\" x=\"172.511582\" xlink:href=\"#m75c6826601\" y=\"32.42032\"/>\r\n     <use style=\"fill:#0000ff;stroke:#0000ff;\" x=\"174.041048\" xlink:href=\"#m75c6826601\" y=\"47.757003\"/>\r\n     <use style=\"fill:#0000ff;stroke:#0000ff;\" x=\"175.570513\" xlink:href=\"#m75c6826601\" y=\"51.165135\"/>\r\n     <use style=\"fill:#0000ff;stroke:#0000ff;\" x=\"177.099979\" xlink:href=\"#m75c6826601\" y=\"42.64476\"/>\r\n     <use style=\"fill:#0000ff;stroke:#0000ff;\" x=\"178.629444\" xlink:href=\"#m75c6826601\" y=\"42.64476\"/>\r\n     <use style=\"fill:#0000ff;stroke:#0000ff;\" x=\"180.15891\" xlink:href=\"#m75c6826601\" y=\"52.8692\"/>\r\n     <use style=\"fill:#0000ff;stroke:#0000ff;\" x=\"181.688375\" xlink:href=\"#m75c6826601\" y=\"37.532563\"/>\r\n     <use style=\"fill:#0000ff;stroke:#0000ff;\" x=\"183.217841\" xlink:href=\"#m75c6826601\" y=\"49.461069\"/>\r\n     <use style=\"fill:#0000ff;stroke:#0000ff;\" x=\"184.747306\" xlink:href=\"#m75c6826601\" y=\"39.236629\"/>\r\n     <use style=\"fill:#0000ff;stroke:#0000ff;\" x=\"186.276772\" xlink:href=\"#m75c6826601\" y=\"47.757003\"/>\r\n     <use style=\"fill:#0000ff;stroke:#0000ff;\" x=\"187.806237\" xlink:href=\"#m75c6826601\" y=\"47.757003\"/>\r\n     <use style=\"fill:#0000ff;stroke:#0000ff;\" x=\"189.335703\" xlink:href=\"#m75c6826601\" y=\"46.052938\"/>\r\n     <use style=\"fill:#0000ff;stroke:#0000ff;\" x=\"190.865168\" xlink:href=\"#m75c6826601\" y=\"47.757003\"/>\r\n     <use style=\"fill:#0000ff;stroke:#0000ff;\" x=\"192.394634\" xlink:href=\"#m75c6826601\" y=\"39.236629\"/>\r\n     <use style=\"fill:#0000ff;stroke:#0000ff;\" x=\"193.924099\" xlink:href=\"#m75c6826601\" y=\"44.348826\"/>\r\n     <use style=\"fill:#0000ff;stroke:#0000ff;\" x=\"195.453565\" xlink:href=\"#m75c6826601\" y=\"47.757003\"/>\r\n     <use style=\"fill:#0000ff;stroke:#0000ff;\" x=\"196.98303\" xlink:href=\"#m75c6826601\" y=\"37.532563\"/>\r\n     <use style=\"fill:#0000ff;stroke:#0000ff;\" x=\"198.512496\" xlink:href=\"#m75c6826601\" y=\"39.236629\"/>\r\n     <use style=\"fill:#0000ff;stroke:#0000ff;\" x=\"200.041961\" xlink:href=\"#m75c6826601\" y=\"42.64476\"/>\r\n     <use style=\"fill:#0000ff;stroke:#0000ff;\" x=\"201.571427\" xlink:href=\"#m75c6826601\" y=\"44.348826\"/>\r\n     <use style=\"fill:#0000ff;stroke:#0000ff;\" x=\"203.100892\" xlink:href=\"#m75c6826601\" y=\"46.052938\"/>\r\n     <use style=\"fill:#0000ff;stroke:#0000ff;\" x=\"204.630358\" xlink:href=\"#m75c6826601\" y=\"23.899945\"/>\r\n     <use style=\"fill:#0000ff;stroke:#0000ff;\" x=\"206.159823\" xlink:href=\"#m75c6826601\" y=\"44.348826\"/>\r\n     <use style=\"fill:#0000ff;stroke:#0000ff;\" x=\"207.689289\" xlink:href=\"#m75c6826601\" y=\"37.532563\"/>\r\n     <use style=\"fill:#0000ff;stroke:#0000ff;\" x=\"209.218754\" xlink:href=\"#m75c6826601\" y=\"46.052938\"/>\r\n     <use style=\"fill:#0000ff;stroke:#0000ff;\" x=\"210.74822\" xlink:href=\"#m75c6826601\" y=\"46.052938\"/>\r\n     <use style=\"fill:#0000ff;stroke:#0000ff;\" x=\"212.277685\" xlink:href=\"#m75c6826601\" y=\"44.348826\"/>\r\n     <use style=\"fill:#0000ff;stroke:#0000ff;\" x=\"213.807151\" xlink:href=\"#m75c6826601\" y=\"29.012142\"/>\r\n     <use style=\"fill:#0000ff;stroke:#0000ff;\" x=\"215.336616\" xlink:href=\"#m75c6826601\" y=\"37.532563\"/>\r\n     <use style=\"fill:#0000ff;stroke:#0000ff;\" x=\"216.866082\" xlink:href=\"#m75c6826601\" y=\"40.940694\"/>\r\n     <use style=\"fill:#0000ff;stroke:#0000ff;\" x=\"218.395547\" xlink:href=\"#m75c6826601\" y=\"29.012142\"/>\r\n     <use style=\"fill:#0000ff;stroke:#0000ff;\" x=\"219.925013\" xlink:href=\"#m75c6826601\" y=\"63.093687\"/>\r\n     <use style=\"fill:#0000ff;stroke:#0000ff;\" x=\"221.454478\" xlink:href=\"#m75c6826601\" y=\"29.012142\"/>\r\n     <use style=\"fill:#0000ff;stroke:#0000ff;\" x=\"222.983944\" xlink:href=\"#m75c6826601\" y=\"47.757003\"/>\r\n     <use style=\"fill:#0000ff;stroke:#0000ff;\" x=\"224.513409\" xlink:href=\"#m75c6826601\" y=\"42.64476\"/>\r\n     <use style=\"fill:#0000ff;stroke:#0000ff;\" x=\"226.042875\" xlink:href=\"#m75c6826601\" y=\"40.940694\"/>\r\n     <use style=\"fill:#0000ff;stroke:#0000ff;\" x=\"227.57234\" xlink:href=\"#m75c6826601\" y=\"40.940694\"/>\r\n     <use style=\"fill:#0000ff;stroke:#0000ff;\" x=\"229.101806\" xlink:href=\"#m75c6826601\" y=\"39.236629\"/>\r\n     <use style=\"fill:#0000ff;stroke:#0000ff;\" x=\"230.631271\" xlink:href=\"#m75c6826601\" y=\"40.940694\"/>\r\n     <use style=\"fill:#0000ff;stroke:#0000ff;\" x=\"232.160737\" xlink:href=\"#m75c6826601\" y=\"32.42032\"/>\r\n     <use style=\"fill:#0000ff;stroke:#0000ff;\" x=\"233.690202\" xlink:href=\"#m75c6826601\" y=\"34.124385\"/>\r\n     <use style=\"fill:#0000ff;stroke:#0000ff;\" x=\"235.219668\" xlink:href=\"#m75c6826601\" y=\"37.532563\"/>\r\n     <use style=\"fill:#0000ff;stroke:#0000ff;\" x=\"236.749133\" xlink:href=\"#m75c6826601\" y=\"39.236629\"/>\r\n     <use style=\"fill:#0000ff;stroke:#0000ff;\" x=\"238.278599\" xlink:href=\"#m75c6826601\" y=\"30.716254\"/>\r\n     <use style=\"fill:#0000ff;stroke:#0000ff;\" x=\"239.808064\" xlink:href=\"#m75c6826601\" y=\"49.461069\"/>\r\n     <use style=\"fill:#0000ff;stroke:#0000ff;\" x=\"241.33753\" xlink:href=\"#m75c6826601\" y=\"32.42032\"/>\r\n     <use style=\"fill:#0000ff;stroke:#0000ff;\" x=\"242.866995\" xlink:href=\"#m75c6826601\" y=\"34.124385\"/>\r\n     <use style=\"fill:#0000ff;stroke:#0000ff;\" x=\"244.396461\" xlink:href=\"#m75c6826601\" y=\"46.052938\"/>\r\n     <use style=\"fill:#0000ff;stroke:#0000ff;\" x=\"245.925927\" xlink:href=\"#m75c6826601\" y=\"32.42032\"/>\r\n     <use style=\"fill:#0000ff;stroke:#0000ff;\" x=\"247.455392\" xlink:href=\"#m75c6826601\" y=\"37.532563\"/>\r\n     <use style=\"fill:#0000ff;stroke:#0000ff;\" x=\"248.984858\" xlink:href=\"#m75c6826601\" y=\"35.828451\"/>\r\n     <use style=\"fill:#0000ff;stroke:#0000ff;\" x=\"250.514323\" xlink:href=\"#m75c6826601\" y=\"42.64476\"/>\r\n     <use style=\"fill:#0000ff;stroke:#0000ff;\" x=\"252.043789\" xlink:href=\"#m75c6826601\" y=\"25.604011\"/>\r\n     <use style=\"fill:#0000ff;stroke:#0000ff;\" x=\"253.573254\" xlink:href=\"#m75c6826601\" y=\"42.64476\"/>\r\n     <use style=\"fill:#0000ff;stroke:#0000ff;\" x=\"255.10272\" xlink:href=\"#m75c6826601\" y=\"32.42032\"/>\r\n     <use style=\"fill:#0000ff;stroke:#0000ff;\" x=\"256.632185\" xlink:href=\"#m75c6826601\" y=\"25.604011\"/>\r\n     <use style=\"fill:#0000ff;stroke:#0000ff;\" x=\"258.161651\" xlink:href=\"#m75c6826601\" y=\"34.124385\"/>\r\n     <use style=\"fill:#0000ff;stroke:#0000ff;\" x=\"259.691116\" xlink:href=\"#m75c6826601\" y=\"32.42032\"/>\r\n     <use style=\"fill:#0000ff;stroke:#0000ff;\" x=\"261.220582\" xlink:href=\"#m75c6826601\" y=\"35.828451\"/>\r\n     <use style=\"fill:#0000ff;stroke:#0000ff;\" x=\"262.750047\" xlink:href=\"#m75c6826601\" y=\"22.19588\"/>\r\n     <use style=\"fill:#0000ff;stroke:#0000ff;\" x=\"264.279513\" xlink:href=\"#m75c6826601\" y=\"34.124385\"/>\r\n     <use style=\"fill:#0000ff;stroke:#0000ff;\" x=\"265.808978\" xlink:href=\"#m75c6826601\" y=\"30.716254\"/>\r\n     <use style=\"fill:#0000ff;stroke:#0000ff;\" x=\"267.338444\" xlink:href=\"#m75c6826601\" y=\"37.532563\"/>\r\n     <use style=\"fill:#0000ff;stroke:#0000ff;\" x=\"268.867909\" xlink:href=\"#m75c6826601\" y=\"20.491768\"/>\r\n     <use style=\"fill:#0000ff;stroke:#0000ff;\" x=\"270.397375\" xlink:href=\"#m75c6826601\" y=\"32.42032\"/>\r\n     <use style=\"fill:#0000ff;stroke:#0000ff;\" x=\"271.92684\" xlink:href=\"#m75c6826601\" y=\"17.083636\"/>\r\n     <use style=\"fill:#0000ff;stroke:#0000ff;\" x=\"273.456306\" xlink:href=\"#m75c6826601\" y=\"25.604011\"/>\r\n     <use style=\"fill:#0000ff;stroke:#0000ff;\" x=\"274.985771\" xlink:href=\"#m75c6826601\" y=\"27.308076\"/>\r\n     <use style=\"fill:#0000ff;stroke:#0000ff;\" x=\"276.515237\" xlink:href=\"#m75c6826601\" y=\"25.604011\"/>\r\n     <use style=\"fill:#0000ff;stroke:#0000ff;\" x=\"278.044702\" xlink:href=\"#m75c6826601\" y=\"27.308076\"/>\r\n     <use style=\"fill:#0000ff;stroke:#0000ff;\" x=\"279.574168\" xlink:href=\"#m75c6826601\" y=\"39.236629\"/>\r\n     <use style=\"fill:#0000ff;stroke:#0000ff;\" x=\"281.103633\" xlink:href=\"#m75c6826601\" y=\"39.236629\"/>\r\n     <use style=\"fill:#0000ff;stroke:#0000ff;\" x=\"282.633099\" xlink:href=\"#m75c6826601\" y=\"34.124385\"/>\r\n     <use style=\"fill:#0000ff;stroke:#0000ff;\" x=\"284.162564\" xlink:href=\"#m75c6826601\" y=\"27.308076\"/>\r\n     <use style=\"fill:#0000ff;stroke:#0000ff;\" x=\"285.69203\" xlink:href=\"#m75c6826601\" y=\"34.124385\"/>\r\n     <use style=\"fill:#0000ff;stroke:#0000ff;\" x=\"287.221495\" xlink:href=\"#m75c6826601\" y=\"32.42032\"/>\r\n     <use style=\"fill:#0000ff;stroke:#0000ff;\" x=\"288.750961\" xlink:href=\"#m75c6826601\" y=\"34.124385\"/>\r\n     <use style=\"fill:#0000ff;stroke:#0000ff;\" x=\"290.280426\" xlink:href=\"#m75c6826601\" y=\"32.42032\"/>\r\n     <use style=\"fill:#0000ff;stroke:#0000ff;\" x=\"291.809892\" xlink:href=\"#m75c6826601\" y=\"37.532563\"/>\r\n     <use style=\"fill:#0000ff;stroke:#0000ff;\" x=\"293.339357\" xlink:href=\"#m75c6826601\" y=\"30.716254\"/>\r\n     <use style=\"fill:#0000ff;stroke:#0000ff;\" x=\"294.868823\" xlink:href=\"#m75c6826601\" y=\"32.42032\"/>\r\n     <use style=\"fill:#0000ff;stroke:#0000ff;\" x=\"296.398288\" xlink:href=\"#m75c6826601\" y=\"23.899945\"/>\r\n     <use style=\"fill:#0000ff;stroke:#0000ff;\" x=\"297.927754\" xlink:href=\"#m75c6826601\" y=\"27.308076\"/>\r\n     <use style=\"fill:#0000ff;stroke:#0000ff;\" x=\"299.457219\" xlink:href=\"#m75c6826601\" y=\"34.124385\"/>\r\n     <use style=\"fill:#0000ff;stroke:#0000ff;\" x=\"300.986685\" xlink:href=\"#m75c6826601\" y=\"18.787702\"/>\r\n     <use style=\"fill:#0000ff;stroke:#0000ff;\" x=\"302.51615\" xlink:href=\"#m75c6826601\" y=\"32.42032\"/>\r\n     <use style=\"fill:#0000ff;stroke:#0000ff;\" x=\"304.045616\" xlink:href=\"#m75c6826601\" y=\"30.716254\"/>\r\n     <use style=\"fill:#0000ff;stroke:#0000ff;\" x=\"305.575081\" xlink:href=\"#m75c6826601\" y=\"22.19588\"/>\r\n     <use style=\"fill:#0000ff;stroke:#0000ff;\" x=\"307.104547\" xlink:href=\"#m75c6826601\" y=\"25.604011\"/>\r\n     <use style=\"fill:#0000ff;stroke:#0000ff;\" x=\"308.634012\" xlink:href=\"#m75c6826601\" y=\"30.716254\"/>\r\n     <use style=\"fill:#0000ff;stroke:#0000ff;\" x=\"310.163478\" xlink:href=\"#m75c6826601\" y=\"32.42032\"/>\r\n     <use style=\"fill:#0000ff;stroke:#0000ff;\" x=\"311.692943\" xlink:href=\"#m75c6826601\" y=\"35.828451\"/>\r\n     <use style=\"fill:#0000ff;stroke:#0000ff;\" x=\"313.222409\" xlink:href=\"#m75c6826601\" y=\"29.012142\"/>\r\n     <use style=\"fill:#0000ff;stroke:#0000ff;\" x=\"314.751874\" xlink:href=\"#m75c6826601\" y=\"17.083636\"/>\r\n     <use style=\"fill:#0000ff;stroke:#0000ff;\" x=\"316.28134\" xlink:href=\"#m75c6826601\" y=\"20.491768\"/>\r\n     <use style=\"fill:#0000ff;stroke:#0000ff;\" x=\"317.810805\" xlink:href=\"#m75c6826601\" y=\"17.083636\"/>\r\n     <use style=\"fill:#0000ff;stroke:#0000ff;\" x=\"319.340271\" xlink:href=\"#m75c6826601\" y=\"22.19588\"/>\r\n     <use style=\"fill:#0000ff;stroke:#0000ff;\" x=\"320.869736\" xlink:href=\"#m75c6826601\" y=\"25.604011\"/>\r\n     <use style=\"fill:#0000ff;stroke:#0000ff;\" x=\"322.399202\" xlink:href=\"#m75c6826601\" y=\"23.899945\"/>\r\n     <use style=\"fill:#0000ff;stroke:#0000ff;\" x=\"323.928667\" xlink:href=\"#m75c6826601\" y=\"23.899945\"/>\r\n     <use style=\"fill:#0000ff;stroke:#0000ff;\" x=\"325.458133\" xlink:href=\"#m75c6826601\" y=\"30.716254\"/>\r\n     <use style=\"fill:#0000ff;stroke:#0000ff;\" x=\"326.987599\" xlink:href=\"#m75c6826601\" y=\"29.012142\"/>\r\n     <use style=\"fill:#0000ff;stroke:#0000ff;\" x=\"328.517064\" xlink:href=\"#m75c6826601\" y=\"17.083636\"/>\r\n     <use style=\"fill:#0000ff;stroke:#0000ff;\" x=\"330.04653\" xlink:href=\"#m75c6826601\" y=\"18.787702\"/>\r\n     <use style=\"fill:#0000ff;stroke:#0000ff;\" x=\"331.575995\" xlink:href=\"#m75c6826601\" y=\"22.19588\"/>\r\n     <use style=\"fill:#0000ff;stroke:#0000ff;\" x=\"333.105461\" xlink:href=\"#m75c6826601\" y=\"32.42032\"/>\r\n     <use style=\"fill:#0000ff;stroke:#0000ff;\" x=\"334.634926\" xlink:href=\"#m75c6826601\" y=\"29.012142\"/>\r\n     <use style=\"fill:#0000ff;stroke:#0000ff;\" x=\"336.164392\" xlink:href=\"#m75c6826601\" y=\"30.716254\"/>\r\n     <use style=\"fill:#0000ff;stroke:#0000ff;\" x=\"337.693857\" xlink:href=\"#m75c6826601\" y=\"32.42032\"/>\r\n     <use style=\"fill:#0000ff;stroke:#0000ff;\" x=\"339.223323\" xlink:href=\"#m75c6826601\" y=\"30.716254\"/>\r\n     <use style=\"fill:#0000ff;stroke:#0000ff;\" x=\"340.752788\" xlink:href=\"#m75c6826601\" y=\"20.491768\"/>\r\n     <use style=\"fill:#0000ff;stroke:#0000ff;\" x=\"342.282254\" xlink:href=\"#m75c6826601\" y=\"18.787702\"/>\r\n     <use style=\"fill:#0000ff;stroke:#0000ff;\" x=\"343.811719\" xlink:href=\"#m75c6826601\" y=\"18.787702\"/>\r\n     <use style=\"fill:#0000ff;stroke:#0000ff;\" x=\"345.341185\" xlink:href=\"#m75c6826601\" y=\"25.604011\"/>\r\n     <use style=\"fill:#0000ff;stroke:#0000ff;\" x=\"346.87065\" xlink:href=\"#m75c6826601\" y=\"25.604011\"/>\r\n     <use style=\"fill:#0000ff;stroke:#0000ff;\" x=\"348.400116\" xlink:href=\"#m75c6826601\" y=\"27.308076\"/>\r\n     <use style=\"fill:#0000ff;stroke:#0000ff;\" x=\"349.929581\" xlink:href=\"#m75c6826601\" y=\"27.308076\"/>\r\n     <use style=\"fill:#0000ff;stroke:#0000ff;\" x=\"351.459047\" xlink:href=\"#m75c6826601\" y=\"27.308076\"/>\r\n     <use style=\"fill:#0000ff;stroke:#0000ff;\" x=\"352.988512\" xlink:href=\"#m75c6826601\" y=\"22.19588\"/>\r\n     <use style=\"fill:#0000ff;stroke:#0000ff;\" x=\"354.517978\" xlink:href=\"#m75c6826601\" y=\"25.604011\"/>\r\n     <use style=\"fill:#0000ff;stroke:#0000ff;\" x=\"356.047443\" xlink:href=\"#m75c6826601\" y=\"18.787702\"/>\r\n    </g>\r\n   </g>\r\n   <g id=\"patch_3\">\r\n    <path d=\"M 36.465625 224.64 \r\nL 36.465625 7.2 \r\n\" style=\"fill:none;stroke:#000000;stroke-linecap:square;stroke-linejoin:miter;stroke-width:0.8;\"/>\r\n   </g>\r\n   <g id=\"patch_4\">\r\n    <path d=\"M 371.265625 224.64 \r\nL 371.265625 7.2 \r\n\" style=\"fill:none;stroke:#000000;stroke-linecap:square;stroke-linejoin:miter;stroke-width:0.8;\"/>\r\n   </g>\r\n   <g id=\"patch_5\">\r\n    <path d=\"M 36.465625 224.64 \r\nL 371.265625 224.64 \r\n\" style=\"fill:none;stroke:#000000;stroke-linecap:square;stroke-linejoin:miter;stroke-width:0.8;\"/>\r\n   </g>\r\n   <g id=\"patch_6\">\r\n    <path d=\"M 36.465625 7.2 \r\nL 371.265625 7.2 \r\n\" style=\"fill:none;stroke:#000000;stroke-linecap:square;stroke-linejoin:miter;stroke-width:0.8;\"/>\r\n   </g>\r\n  </g>\r\n </g>\r\n <defs>\r\n  <clipPath id=\"p09e0384fce\">\r\n   <rect height=\"217.44\" width=\"334.8\" x=\"36.465625\" y=\"7.2\"/>\r\n  </clipPath>\r\n </defs>\r\n</svg>\r\n",
      "image/png": "[encoded data removed]"
     },
     "metadata": {
      "needs_background": "light"
     }
    }
   ],
   "source": [
    "x_len = np.arange(len(accuracy))\n",
    "\n",
    "plt.plot(x_len, accuracy, 'bo-',markersize=5, label='accuracy')\n",
    "plt.show()"
   ]
  },
  {
   "cell_type": "code",
   "execution_count": 13,
   "metadata": {},
   "outputs": [
    {
     "output_type": "display_data",
     "data": {
      "text/plain": "<Figure size 432x288 with 1 Axes>",
      "image/svg+xml": "<?xml version=\"1.0\" encoding=\"utf-8\" standalone=\"no\"?>\r\n<!DOCTYPE svg PUBLIC \"-//W3C//DTD SVG 1.1//EN\"\r\n  \"http://www.w3.org/Graphics/SVG/1.1/DTD/svg11.dtd\">\r\n<!-- Created with matplotlib (https://matplotlib.org/) -->\r\n<svg height=\"248.518125pt\" version=\"1.1\" viewBox=\"0 0 372.103125 248.518125\" width=\"372.103125pt\" xmlns=\"http://www.w3.org/2000/svg\" xmlns:xlink=\"http://www.w3.org/1999/xlink\">\r\n <metadata>\r\n  <rdf:RDF xmlns:cc=\"http://creativecommons.org/ns#\" xmlns:dc=\"http://purl.org/dc/elements/1.1/\" xmlns:rdf=\"http://www.w3.org/1999/02/22-rdf-syntax-ns#\">\r\n   <cc:Work>\r\n    <dc:type rdf:resource=\"http://purl.org/dc/dcmitype/StillImage\"/>\r\n    <dc:date>2021-06-28T14:14:34.683118</dc:date>\r\n    <dc:format>image/svg+xml</dc:format>\r\n    <dc:creator>\r\n     <cc:Agent>\r\n      <dc:title>Matplotlib v3.3.4, https://matplotlib.org/</dc:title>\r\n     </cc:Agent>\r\n    </dc:creator>\r\n   </cc:Work>\r\n  </rdf:RDF>\r\n </metadata>\r\n <defs>\r\n  <style type=\"text/css\">*{stroke-linecap:butt;stroke-linejoin:round;}</style>\r\n </defs>\r\n <g id=\"figure_1\">\r\n  <g id=\"patch_1\">\r\n   <path d=\"M 0 248.518125 \r\nL 372.103125 248.518125 \r\nL 372.103125 0 \r\nL 0 0 \r\nz\r\n\" style=\"fill:none;\"/>\r\n  </g>\r\n  <g id=\"axes_1\">\r\n   <g id=\"patch_2\">\r\n    <path d=\"M 30.103125 224.64 \r\nL 364.903125 224.64 \r\nL 364.903125 7.2 \r\nL 30.103125 7.2 \r\nz\r\n\" style=\"fill:#ffffff;\"/>\r\n   </g>\r\n   <g id=\"matplotlib.axis_1\">\r\n    <g id=\"xtick_1\">\r\n     <g id=\"line2d_1\">\r\n      <defs>\r\n       <path d=\"M 0 0 \r\nL 0 3.5 \r\n\" id=\"m56b1ec0323\" style=\"stroke:#000000;stroke-width:0.8;\"/>\r\n      </defs>\r\n      <g>\r\n       <use style=\"stroke:#000000;stroke-width:0.8;\" x=\"45.321307\" xlink:href=\"#m56b1ec0323\" y=\"224.64\"/>\r\n      </g>\r\n     </g>\r\n     <g id=\"text_1\">\r\n      <!-- 0 -->\r\n      <g transform=\"translate(42.140057 239.238437)scale(0.1 -0.1)\">\r\n       <defs>\r\n        <path d=\"M 31.78125 66.40625 \r\nQ 24.171875 66.40625 20.328125 58.90625 \r\nQ 16.5 51.421875 16.5 36.375 \r\nQ 16.5 21.390625 20.328125 13.890625 \r\nQ 24.171875 6.390625 31.78125 6.390625 \r\nQ 39.453125 6.390625 43.28125 13.890625 \r\nQ 47.125 21.390625 47.125 36.375 \r\nQ 47.125 51.421875 43.28125 58.90625 \r\nQ 39.453125 66.40625 31.78125 66.40625 \r\nz\r\nM 31.78125 74.21875 \r\nQ 44.046875 74.21875 50.515625 64.515625 \r\nQ 56.984375 54.828125 56.984375 36.375 \r\nQ 56.984375 17.96875 50.515625 8.265625 \r\nQ 44.046875 -1.421875 31.78125 -1.421875 \r\nQ 19.53125 -1.421875 13.0625 8.265625 \r\nQ 6.59375 17.96875 6.59375 36.375 \r\nQ 6.59375 54.828125 13.0625 64.515625 \r\nQ 19.53125 74.21875 31.78125 74.21875 \r\nz\r\n\" id=\"DejaVuSans-48\"/>\r\n       </defs>\r\n       <use xlink:href=\"#DejaVuSans-48\"/>\r\n      </g>\r\n     </g>\r\n    </g>\r\n    <g id=\"xtick_2\">\r\n     <g id=\"line2d_2\">\r\n      <g>\r\n       <use style=\"stroke:#000000;stroke-width:0.8;\" x=\"83.557945\" xlink:href=\"#m56b1ec0323\" y=\"224.64\"/>\r\n      </g>\r\n     </g>\r\n     <g id=\"text_2\">\r\n      <!-- 25 -->\r\n      <g transform=\"translate(77.195445 239.238437)scale(0.1 -0.1)\">\r\n       <defs>\r\n        <path d=\"M 19.1875 8.296875 \r\nL 53.609375 8.296875 \r\nL 53.609375 0 \r\nL 7.328125 0 \r\nL 7.328125 8.296875 \r\nQ 12.9375 14.109375 22.625 23.890625 \r\nQ 32.328125 33.6875 34.8125 36.53125 \r\nQ 39.546875 41.84375 41.421875 45.53125 \r\nQ 43.3125 49.21875 43.3125 52.78125 \r\nQ 43.3125 58.59375 39.234375 62.25 \r\nQ 35.15625 65.921875 28.609375 65.921875 \r\nQ 23.96875 65.921875 18.8125 64.3125 \r\nQ 13.671875 62.703125 7.8125 59.421875 \r\nL 7.8125 69.390625 \r\nQ 13.765625 71.78125 18.9375 73 \r\nQ 24.125 74.21875 28.421875 74.21875 \r\nQ 39.75 74.21875 46.484375 68.546875 \r\nQ 53.21875 62.890625 53.21875 53.421875 \r\nQ 53.21875 48.921875 51.53125 44.890625 \r\nQ 49.859375 40.875 45.40625 35.40625 \r\nQ 44.1875 33.984375 37.640625 27.21875 \r\nQ 31.109375 20.453125 19.1875 8.296875 \r\nz\r\n\" id=\"DejaVuSans-50\"/>\r\n        <path d=\"M 10.796875 72.90625 \r\nL 49.515625 72.90625 \r\nL 49.515625 64.59375 \r\nL 19.828125 64.59375 \r\nL 19.828125 46.734375 \r\nQ 21.96875 47.46875 24.109375 47.828125 \r\nQ 26.265625 48.1875 28.421875 48.1875 \r\nQ 40.625 48.1875 47.75 41.5 \r\nQ 54.890625 34.8125 54.890625 23.390625 \r\nQ 54.890625 11.625 47.5625 5.09375 \r\nQ 40.234375 -1.421875 26.90625 -1.421875 \r\nQ 22.3125 -1.421875 17.546875 -0.640625 \r\nQ 12.796875 0.140625 7.71875 1.703125 \r\nL 7.71875 11.625 \r\nQ 12.109375 9.234375 16.796875 8.0625 \r\nQ 21.484375 6.890625 26.703125 6.890625 \r\nQ 35.15625 6.890625 40.078125 11.328125 \r\nQ 45.015625 15.765625 45.015625 23.390625 \r\nQ 45.015625 31 40.078125 35.4375 \r\nQ 35.15625 39.890625 26.703125 39.890625 \r\nQ 22.75 39.890625 18.8125 39.015625 \r\nQ 14.890625 38.140625 10.796875 36.28125 \r\nz\r\n\" id=\"DejaVuSans-53\"/>\r\n       </defs>\r\n       <use xlink:href=\"#DejaVuSans-50\"/>\r\n       <use x=\"63.623047\" xlink:href=\"#DejaVuSans-53\"/>\r\n      </g>\r\n     </g>\r\n    </g>\r\n    <g id=\"xtick_3\">\r\n     <g id=\"line2d_3\">\r\n      <g>\r\n       <use style=\"stroke:#000000;stroke-width:0.8;\" x=\"121.794582\" xlink:href=\"#m56b1ec0323\" y=\"224.64\"/>\r\n      </g>\r\n     </g>\r\n     <g id=\"text_3\">\r\n      <!-- 50 -->\r\n      <g transform=\"translate(115.432082 239.238437)scale(0.1 -0.1)\">\r\n       <use xlink:href=\"#DejaVuSans-53\"/>\r\n       <use x=\"63.623047\" xlink:href=\"#DejaVuSans-48\"/>\r\n      </g>\r\n     </g>\r\n    </g>\r\n    <g id=\"xtick_4\">\r\n     <g id=\"line2d_4\">\r\n      <g>\r\n       <use style=\"stroke:#000000;stroke-width:0.8;\" x=\"160.03122\" xlink:href=\"#m56b1ec0323\" y=\"224.64\"/>\r\n      </g>\r\n     </g>\r\n     <g id=\"text_4\">\r\n      <!-- 75 -->\r\n      <g transform=\"translate(153.66872 239.238437)scale(0.1 -0.1)\">\r\n       <defs>\r\n        <path d=\"M 8.203125 72.90625 \r\nL 55.078125 72.90625 \r\nL 55.078125 68.703125 \r\nL 28.609375 0 \r\nL 18.3125 0 \r\nL 43.21875 64.59375 \r\nL 8.203125 64.59375 \r\nz\r\n\" id=\"DejaVuSans-55\"/>\r\n       </defs>\r\n       <use xlink:href=\"#DejaVuSans-55\"/>\r\n       <use x=\"63.623047\" xlink:href=\"#DejaVuSans-53\"/>\r\n      </g>\r\n     </g>\r\n    </g>\r\n    <g id=\"xtick_5\">\r\n     <g id=\"line2d_5\">\r\n      <g>\r\n       <use style=\"stroke:#000000;stroke-width:0.8;\" x=\"198.267858\" xlink:href=\"#m56b1ec0323\" y=\"224.64\"/>\r\n      </g>\r\n     </g>\r\n     <g id=\"text_5\">\r\n      <!-- 100 -->\r\n      <g transform=\"translate(188.724108 239.238437)scale(0.1 -0.1)\">\r\n       <defs>\r\n        <path d=\"M 12.40625 8.296875 \r\nL 28.515625 8.296875 \r\nL 28.515625 63.921875 \r\nL 10.984375 60.40625 \r\nL 10.984375 69.390625 \r\nL 28.421875 72.90625 \r\nL 38.28125 72.90625 \r\nL 38.28125 8.296875 \r\nL 54.390625 8.296875 \r\nL 54.390625 0 \r\nL 12.40625 0 \r\nz\r\n\" id=\"DejaVuSans-49\"/>\r\n       </defs>\r\n       <use xlink:href=\"#DejaVuSans-49\"/>\r\n       <use x=\"63.623047\" xlink:href=\"#DejaVuSans-48\"/>\r\n       <use x=\"127.246094\" xlink:href=\"#DejaVuSans-48\"/>\r\n      </g>\r\n     </g>\r\n    </g>\r\n    <g id=\"xtick_6\">\r\n     <g id=\"line2d_6\">\r\n      <g>\r\n       <use style=\"stroke:#000000;stroke-width:0.8;\" x=\"236.504495\" xlink:href=\"#m56b1ec0323\" y=\"224.64\"/>\r\n      </g>\r\n     </g>\r\n     <g id=\"text_6\">\r\n      <!-- 125 -->\r\n      <g transform=\"translate(226.960745 239.238437)scale(0.1 -0.1)\">\r\n       <use xlink:href=\"#DejaVuSans-49\"/>\r\n       <use x=\"63.623047\" xlink:href=\"#DejaVuSans-50\"/>\r\n       <use x=\"127.246094\" xlink:href=\"#DejaVuSans-53\"/>\r\n      </g>\r\n     </g>\r\n    </g>\r\n    <g id=\"xtick_7\">\r\n     <g id=\"line2d_7\">\r\n      <g>\r\n       <use style=\"stroke:#000000;stroke-width:0.8;\" x=\"274.741133\" xlink:href=\"#m56b1ec0323\" y=\"224.64\"/>\r\n      </g>\r\n     </g>\r\n     <g id=\"text_7\">\r\n      <!-- 150 -->\r\n      <g transform=\"translate(265.197383 239.238437)scale(0.1 -0.1)\">\r\n       <use xlink:href=\"#DejaVuSans-49\"/>\r\n       <use x=\"63.623047\" xlink:href=\"#DejaVuSans-53\"/>\r\n       <use x=\"127.246094\" xlink:href=\"#DejaVuSans-48\"/>\r\n      </g>\r\n     </g>\r\n    </g>\r\n    <g id=\"xtick_8\">\r\n     <g id=\"line2d_8\">\r\n      <g>\r\n       <use style=\"stroke:#000000;stroke-width:0.8;\" x=\"312.977771\" xlink:href=\"#m56b1ec0323\" y=\"224.64\"/>\r\n      </g>\r\n     </g>\r\n     <g id=\"text_8\">\r\n      <!-- 175 -->\r\n      <g transform=\"translate(303.434021 239.238437)scale(0.1 -0.1)\">\r\n       <use xlink:href=\"#DejaVuSans-49\"/>\r\n       <use x=\"63.623047\" xlink:href=\"#DejaVuSans-55\"/>\r\n       <use x=\"127.246094\" xlink:href=\"#DejaVuSans-53\"/>\r\n      </g>\r\n     </g>\r\n    </g>\r\n    <g id=\"xtick_9\">\r\n     <g id=\"line2d_9\">\r\n      <g>\r\n       <use style=\"stroke:#000000;stroke-width:0.8;\" x=\"351.214409\" xlink:href=\"#m56b1ec0323\" y=\"224.64\"/>\r\n      </g>\r\n     </g>\r\n     <g id=\"text_9\">\r\n      <!-- 200 -->\r\n      <g transform=\"translate(341.670659 239.238437)scale(0.1 -0.1)\">\r\n       <use xlink:href=\"#DejaVuSans-50\"/>\r\n       <use x=\"63.623047\" xlink:href=\"#DejaVuSans-48\"/>\r\n       <use x=\"127.246094\" xlink:href=\"#DejaVuSans-48\"/>\r\n      </g>\r\n     </g>\r\n    </g>\r\n   </g>\r\n   <g id=\"matplotlib.axis_2\">\r\n    <g id=\"ytick_1\">\r\n     <g id=\"line2d_10\">\r\n      <defs>\r\n       <path d=\"M 0 0 \r\nL -3.5 0 \r\n\" id=\"m8347c47794\" style=\"stroke:#000000;stroke-width:0.8;\"/>\r\n      </defs>\r\n      <g>\r\n       <use style=\"stroke:#000000;stroke-width:0.8;\" x=\"30.103125\" xlink:href=\"#m8347c47794\" y=\"216.008862\"/>\r\n      </g>\r\n     </g>\r\n     <g id=\"text_10\">\r\n      <!-- 0.6 -->\r\n      <g transform=\"translate(7.2 219.80808)scale(0.1 -0.1)\">\r\n       <defs>\r\n        <path d=\"M 10.6875 12.40625 \r\nL 21 12.40625 \r\nL 21 0 \r\nL 10.6875 0 \r\nz\r\n\" id=\"DejaVuSans-46\"/>\r\n        <path d=\"M 33.015625 40.375 \r\nQ 26.375 40.375 22.484375 35.828125 \r\nQ 18.609375 31.296875 18.609375 23.390625 \r\nQ 18.609375 15.53125 22.484375 10.953125 \r\nQ 26.375 6.390625 33.015625 6.390625 \r\nQ 39.65625 6.390625 43.53125 10.953125 \r\nQ 47.40625 15.53125 47.40625 23.390625 \r\nQ 47.40625 31.296875 43.53125 35.828125 \r\nQ 39.65625 40.375 33.015625 40.375 \r\nz\r\nM 52.59375 71.296875 \r\nL 52.59375 62.3125 \r\nQ 48.875 64.0625 45.09375 64.984375 \r\nQ 41.3125 65.921875 37.59375 65.921875 \r\nQ 27.828125 65.921875 22.671875 59.328125 \r\nQ 17.53125 52.734375 16.796875 39.40625 \r\nQ 19.671875 43.65625 24.015625 45.921875 \r\nQ 28.375 48.1875 33.59375 48.1875 \r\nQ 44.578125 48.1875 50.953125 41.515625 \r\nQ 57.328125 34.859375 57.328125 23.390625 \r\nQ 57.328125 12.15625 50.6875 5.359375 \r\nQ 44.046875 -1.421875 33.015625 -1.421875 \r\nQ 20.359375 -1.421875 13.671875 8.265625 \r\nQ 6.984375 17.96875 6.984375 36.375 \r\nQ 6.984375 53.65625 15.1875 63.9375 \r\nQ 23.390625 74.21875 37.203125 74.21875 \r\nQ 40.921875 74.21875 44.703125 73.484375 \r\nQ 48.484375 72.75 52.59375 71.296875 \r\nz\r\n\" id=\"DejaVuSans-54\"/>\r\n       </defs>\r\n       <use xlink:href=\"#DejaVuSans-48\"/>\r\n       <use x=\"63.623047\" xlink:href=\"#DejaVuSans-46\"/>\r\n       <use x=\"95.410156\" xlink:href=\"#DejaVuSans-54\"/>\r\n      </g>\r\n     </g>\r\n    </g>\r\n    <g id=\"ytick_2\">\r\n     <g id=\"line2d_11\">\r\n      <g>\r\n       <use style=\"stroke:#000000;stroke-width:0.8;\" x=\"30.103125\" xlink:href=\"#m8347c47794\" y=\"187.613565\"/>\r\n      </g>\r\n     </g>\r\n     <g id=\"text_11\">\r\n      <!-- 0.8 -->\r\n      <g transform=\"translate(7.2 191.412783)scale(0.1 -0.1)\">\r\n       <defs>\r\n        <path d=\"M 31.78125 34.625 \r\nQ 24.75 34.625 20.71875 30.859375 \r\nQ 16.703125 27.09375 16.703125 20.515625 \r\nQ 16.703125 13.921875 20.71875 10.15625 \r\nQ 24.75 6.390625 31.78125 6.390625 \r\nQ 38.8125 6.390625 42.859375 10.171875 \r\nQ 46.921875 13.96875 46.921875 20.515625 \r\nQ 46.921875 27.09375 42.890625 30.859375 \r\nQ 38.875 34.625 31.78125 34.625 \r\nz\r\nM 21.921875 38.8125 \r\nQ 15.578125 40.375 12.03125 44.71875 \r\nQ 8.5 49.078125 8.5 55.328125 \r\nQ 8.5 64.0625 14.71875 69.140625 \r\nQ 20.953125 74.21875 31.78125 74.21875 \r\nQ 42.671875 74.21875 48.875 69.140625 \r\nQ 55.078125 64.0625 55.078125 55.328125 \r\nQ 55.078125 49.078125 51.53125 44.71875 \r\nQ 48 40.375 41.703125 38.8125 \r\nQ 48.828125 37.15625 52.796875 32.3125 \r\nQ 56.78125 27.484375 56.78125 20.515625 \r\nQ 56.78125 9.90625 50.3125 4.234375 \r\nQ 43.84375 -1.421875 31.78125 -1.421875 \r\nQ 19.734375 -1.421875 13.25 4.234375 \r\nQ 6.78125 9.90625 6.78125 20.515625 \r\nQ 6.78125 27.484375 10.78125 32.3125 \r\nQ 14.796875 37.15625 21.921875 38.8125 \r\nz\r\nM 18.3125 54.390625 \r\nQ 18.3125 48.734375 21.84375 45.5625 \r\nQ 25.390625 42.390625 31.78125 42.390625 \r\nQ 38.140625 42.390625 41.71875 45.5625 \r\nQ 45.3125 48.734375 45.3125 54.390625 \r\nQ 45.3125 60.0625 41.71875 63.234375 \r\nQ 38.140625 66.40625 31.78125 66.40625 \r\nQ 25.390625 66.40625 21.84375 63.234375 \r\nQ 18.3125 60.0625 18.3125 54.390625 \r\nz\r\n\" id=\"DejaVuSans-56\"/>\r\n       </defs>\r\n       <use xlink:href=\"#DejaVuSans-48\"/>\r\n       <use x=\"63.623047\" xlink:href=\"#DejaVuSans-46\"/>\r\n       <use x=\"95.410156\" xlink:href=\"#DejaVuSans-56\"/>\r\n      </g>\r\n     </g>\r\n    </g>\r\n    <g id=\"ytick_3\">\r\n     <g id=\"line2d_12\">\r\n      <g>\r\n       <use style=\"stroke:#000000;stroke-width:0.8;\" x=\"30.103125\" xlink:href=\"#m8347c47794\" y=\"159.218268\"/>\r\n      </g>\r\n     </g>\r\n     <g id=\"text_12\">\r\n      <!-- 1.0 -->\r\n      <g transform=\"translate(7.2 163.017486)scale(0.1 -0.1)\">\r\n       <use xlink:href=\"#DejaVuSans-49\"/>\r\n       <use x=\"63.623047\" xlink:href=\"#DejaVuSans-46\"/>\r\n       <use x=\"95.410156\" xlink:href=\"#DejaVuSans-48\"/>\r\n      </g>\r\n     </g>\r\n    </g>\r\n    <g id=\"ytick_4\">\r\n     <g id=\"line2d_13\">\r\n      <g>\r\n       <use style=\"stroke:#000000;stroke-width:0.8;\" x=\"30.103125\" xlink:href=\"#m8347c47794\" y=\"130.822971\"/>\r\n      </g>\r\n     </g>\r\n     <g id=\"text_13\">\r\n      <!-- 1.2 -->\r\n      <g transform=\"translate(7.2 134.622189)scale(0.1 -0.1)\">\r\n       <use xlink:href=\"#DejaVuSans-49\"/>\r\n       <use x=\"63.623047\" xlink:href=\"#DejaVuSans-46\"/>\r\n       <use x=\"95.410156\" xlink:href=\"#DejaVuSans-50\"/>\r\n      </g>\r\n     </g>\r\n    </g>\r\n    <g id=\"ytick_5\">\r\n     <g id=\"line2d_14\">\r\n      <g>\r\n       <use style=\"stroke:#000000;stroke-width:0.8;\" x=\"30.103125\" xlink:href=\"#m8347c47794\" y=\"102.427674\"/>\r\n      </g>\r\n     </g>\r\n     <g id=\"text_14\">\r\n      <!-- 1.4 -->\r\n      <g transform=\"translate(7.2 106.226892)scale(0.1 -0.1)\">\r\n       <defs>\r\n        <path d=\"M 37.796875 64.3125 \r\nL 12.890625 25.390625 \r\nL 37.796875 25.390625 \r\nz\r\nM 35.203125 72.90625 \r\nL 47.609375 72.90625 \r\nL 47.609375 25.390625 \r\nL 58.015625 25.390625 \r\nL 58.015625 17.1875 \r\nL 47.609375 17.1875 \r\nL 47.609375 0 \r\nL 37.796875 0 \r\nL 37.796875 17.1875 \r\nL 4.890625 17.1875 \r\nL 4.890625 26.703125 \r\nz\r\n\" id=\"DejaVuSans-52\"/>\r\n       </defs>\r\n       <use xlink:href=\"#DejaVuSans-49\"/>\r\n       <use x=\"63.623047\" xlink:href=\"#DejaVuSans-46\"/>\r\n       <use x=\"95.410156\" xlink:href=\"#DejaVuSans-52\"/>\r\n      </g>\r\n     </g>\r\n    </g>\r\n    <g id=\"ytick_6\">\r\n     <g id=\"line2d_15\">\r\n      <g>\r\n       <use style=\"stroke:#000000;stroke-width:0.8;\" x=\"30.103125\" xlink:href=\"#m8347c47794\" y=\"74.032377\"/>\r\n      </g>\r\n     </g>\r\n     <g id=\"text_15\">\r\n      <!-- 1.6 -->\r\n      <g transform=\"translate(7.2 77.831595)scale(0.1 -0.1)\">\r\n       <use xlink:href=\"#DejaVuSans-49\"/>\r\n       <use x=\"63.623047\" xlink:href=\"#DejaVuSans-46\"/>\r\n       <use x=\"95.410156\" xlink:href=\"#DejaVuSans-54\"/>\r\n      </g>\r\n     </g>\r\n    </g>\r\n    <g id=\"ytick_7\">\r\n     <g id=\"line2d_16\">\r\n      <g>\r\n       <use style=\"stroke:#000000;stroke-width:0.8;\" x=\"30.103125\" xlink:href=\"#m8347c47794\" y=\"45.63708\"/>\r\n      </g>\r\n     </g>\r\n     <g id=\"text_16\">\r\n      <!-- 1.8 -->\r\n      <g transform=\"translate(7.2 49.436298)scale(0.1 -0.1)\">\r\n       <use xlink:href=\"#DejaVuSans-49\"/>\r\n       <use x=\"63.623047\" xlink:href=\"#DejaVuSans-46\"/>\r\n       <use x=\"95.410156\" xlink:href=\"#DejaVuSans-56\"/>\r\n      </g>\r\n     </g>\r\n    </g>\r\n    <g id=\"ytick_8\">\r\n     <g id=\"line2d_17\">\r\n      <g>\r\n       <use style=\"stroke:#000000;stroke-width:0.8;\" x=\"30.103125\" xlink:href=\"#m8347c47794\" y=\"17.241783\"/>\r\n      </g>\r\n     </g>\r\n     <g id=\"text_17\">\r\n      <!-- 2.0 -->\r\n      <g transform=\"translate(7.2 21.041002)scale(0.1 -0.1)\">\r\n       <use xlink:href=\"#DejaVuSans-50\"/>\r\n       <use x=\"63.623047\" xlink:href=\"#DejaVuSans-46\"/>\r\n       <use x=\"95.410156\" xlink:href=\"#DejaVuSans-48\"/>\r\n      </g>\r\n     </g>\r\n    </g>\r\n   </g>\r\n   <g id=\"line2d_18\">\r\n    <path clip-path=\"url(#pa596ad5e19)\" d=\"M 45.321307 48.89405 \r\nL 46.850772 17.083636 \r\nL 48.380238 69.955517 \r\nL 49.909703 107.160256 \r\nL 51.439169 117.235438 \r\nL 52.968634 115.229413 \r\nL 54.4981 125.730646 \r\nL 56.027565 132.567838 \r\nL 57.557031 143.855691 \r\nL 59.086496 148.587457 \r\nL 60.615962 154.671271 \r\nL 62.145427 164.356926 \r\nL 63.674893 161.829367 \r\nL 65.204358 171.888226 \r\nL 66.733824 172.917599 \r\nL 68.263289 177.537365 \r\nL 69.792755 178.697881 \r\nL 71.32222 182.485652 \r\nL 72.851686 181.901141 \r\nL 74.381151 183.669457 \r\nL 75.910617 184.306155 \r\nL 77.440083 184.372932 \r\nL 78.969548 189.326991 \r\nL 80.499014 182.08344 \r\nL 82.028479 190.871474 \r\nL 83.557945 188.540168 \r\nL 85.08741 188.377571 \r\nL 86.616876 192.005832 \r\nL 88.146341 190.734924 \r\nL 89.675807 193.258445 \r\nL 91.205272 192.245396 \r\nL 92.734738 192.365233 \r\nL 94.264203 195.036391 \r\nL 95.793669 192.858019 \r\nL 97.323134 191.970603 \r\nL 98.8526 193.731548 \r\nL 100.382065 192.234962 \r\nL 101.911531 196.845521 \r\nL 103.440996 192.499947 \r\nL 104.970462 198.276074 \r\nL 106.499927 196.389504 \r\nL 108.029393 197.337477 \r\nL 109.558858 196.441734 \r\nL 111.088324 198.625421 \r\nL 112.617789 197.939234 \r\nL 114.147255 197.72477 \r\nL 115.67672 200.845555 \r\nL 117.206186 198.766279 \r\nL 118.735651 199.267552 \r\nL 120.265117 200.856836 \r\nL 121.794582 196.967507 \r\nL 123.324048 201.988901 \r\nL 124.853513 201.017149 \r\nL 126.382979 201.975319 \r\nL 127.912444 198.731862 \r\nL 129.44191 202.804217 \r\nL 130.971375 202.47644 \r\nL 132.500841 202.97124 \r\nL 135.559772 203.704554 \r\nL 137.089237 201.793469 \r\nL 138.618703 202.706788 \r\nL 140.148168 203.023081 \r\nL 141.677634 202.809328 \r\nL 143.207099 204.985838 \r\nL 144.736565 201.572049 \r\nL 146.26603 205.541145 \r\nL 147.795496 204.862786 \r\nL 149.324961 203.676611 \r\nL 150.854427 202.704317 \r\nL 153.913358 206.403605 \r\nL 155.442823 207.582535 \r\nL 156.972289 205.554008 \r\nL 158.501755 204.080592 \r\nL 160.03122 205.404349 \r\nL 161.560686 206.10009 \r\nL 163.090151 205.152735 \r\nL 164.619617 206.844947 \r\nL 166.149082 208.031071 \r\nL 167.678548 208.358712 \r\nL 169.208013 204.722004 \r\nL 172.266944 208.735029 \r\nL 173.79641 203.468393 \r\nL 175.325875 207.598064 \r\nL 176.855341 206.48239 \r\nL 178.384806 209.080635 \r\nL 181.443737 206.968245 \r\nL 182.973203 210.479446 \r\nL 184.502668 207.618864 \r\nL 186.032134 206.601736 \r\nL 187.561599 208.687055 \r\nL 189.091065 206.202012 \r\nL 190.62053 208.57783 \r\nL 192.149996 208.482991 \r\nL 195.208927 207.775784 \r\nL 196.738392 208.473556 \r\nL 198.267858 209.918106 \r\nL 199.797323 208.447347 \r\nL 201.326789 211.038831 \r\nL 202.856254 209.207437 \r\nL 204.38572 208.364322 \r\nL 207.444651 209.652012 \r\nL 208.974116 209.421385 \r\nL 210.503582 207.631685 \r\nL 212.033047 210.813137 \r\nL 213.562513 206.119494 \r\nL 215.091978 207.909575 \r\nL 216.621444 210.046583 \r\nL 218.150909 208.863184 \r\nL 219.680375 209.985797 \r\nL 221.20984 209.222965 \r\nL 222.739306 209.473293 \r\nL 224.268771 211.151957 \r\nL 225.798237 206.388609 \r\nL 227.327702 210.115712 \r\nL 228.857168 210.352179 \r\nL 230.386633 211.076582 \r\nL 231.916099 211.431498 \r\nL 233.445564 209.090054 \r\nL 234.97503 209.846708 \r\nL 236.504495 211.581402 \r\nL 238.033961 210.56462 \r\nL 239.563427 211.661677 \r\nL 241.092892 208.509199 \r\nL 242.622358 211.793767 \r\nL 244.151823 208.313624 \r\nL 245.681289 212.136564 \r\nL 247.210754 208.961349 \r\nL 248.74022 211.534638 \r\nL 250.269685 211.43462 \r\nL 251.799151 208.823165 \r\nL 253.328616 212.256977 \r\nL 254.858082 209.012521 \r\nL 256.387547 213.559764 \r\nL 257.917013 211.460473 \r\nL 259.446478 212.128677 \r\nL 260.975944 211.368876 \r\nL 262.505409 212.114257 \r\nL 264.034875 206.999988 \r\nL 265.56434 213.258974 \r\nL 267.093806 212.011193 \r\nL 268.623271 212.563309 \r\nL 270.152737 210.404122 \r\nL 271.682202 211.471424 \r\nL 273.211668 210.71719 \r\nL 274.741133 214.033297 \r\nL 276.270599 212.909999 \r\nL 277.800064 208.888724 \r\nL 279.32953 213.616251 \r\nL 280.858995 212.321528 \r\nL 282.388461 213.147921 \r\nL 283.917926 211.481807 \r\nL 285.447392 211.438158 \r\nL 286.976857 209.993574 \r\nL 288.506323 211.905446 \r\nL 290.035788 211.06702 \r\nL 291.565254 214.172217 \r\nL 293.094719 210.885872 \r\nL 294.624185 213.110069 \r\nL 296.15365 213.322316 \r\nL 297.683116 212.158431 \r\nL 299.212581 212.305602 \r\nL 300.742047 212.893937 \r\nL 302.271512 212.740742 \r\nL 303.800978 213.885077 \r\nL 305.330443 213.672627 \r\nL 306.859909 211.439529 \r\nL 308.389374 213.692582 \r\nL 309.91884 209.403385 \r\nL 311.448305 214.259059 \r\nL 312.977771 211.14385 \r\nL 314.507236 213.379344 \r\nL 316.036702 211.040668 \r\nL 317.566167 213.597489 \r\nL 319.095633 213.891094 \r\nL 320.625099 212.144477 \r\nL 322.154564 212.941361 \r\nL 323.68403 211.185714 \r\nL 325.213495 213.113327 \r\nL 326.742961 214.073672 \r\nL 328.272426 212.60904 \r\nL 329.801892 213.987566 \r\nL 331.331357 213.43534 \r\nL 332.860823 213.168104 \r\nL 334.390288 213.300601 \r\nL 335.919754 212.053945 \r\nL 337.449219 209.132739 \r\nL 338.978685 214.346933 \r\nL 340.50815 210.476611 \r\nL 342.037616 213.233358 \r\nL 343.567081 213.967764 \r\nL 345.096547 212.749559 \r\nL 346.626012 211.025147 \r\nL 348.155478 214.756364 \r\nL 349.684943 211.092551 \r\nL 349.684943 211.092551 \r\n\" style=\"fill:none;stroke:#ff0000;stroke-linecap:square;stroke-width:1.5;\"/>\r\n    <defs>\r\n     <path d=\"M 0 2.5 \r\nC 0.663008 2.5 1.29895 2.236584 1.767767 1.767767 \r\nC 2.236584 1.29895 2.5 0.663008 2.5 0 \r\nC 2.5 -0.663008 2.236584 -1.29895 1.767767 -1.767767 \r\nC 1.29895 -2.236584 0.663008 -2.5 0 -2.5 \r\nC -0.663008 -2.5 -1.29895 -2.236584 -1.767767 -1.767767 \r\nC -2.236584 -1.29895 -2.5 -0.663008 -2.5 0 \r\nC -2.5 0.663008 -2.236584 1.29895 -1.767767 1.767767 \r\nC -1.29895 2.236584 -0.663008 2.5 0 2.5 \r\nz\r\n\" id=\"m8a59acdb99\" style=\"stroke:#ff0000;\"/>\r\n    </defs>\r\n    <g clip-path=\"url(#pa596ad5e19)\">\r\n     <use style=\"fill:#ff0000;stroke:#ff0000;\" x=\"45.321307\" xlink:href=\"#m8a59acdb99\" y=\"48.89405\"/>\r\n     <use style=\"fill:#ff0000;stroke:#ff0000;\" x=\"46.850772\" xlink:href=\"#m8a59acdb99\" y=\"17.083636\"/>\r\n     <use style=\"fill:#ff0000;stroke:#ff0000;\" x=\"48.380238\" xlink:href=\"#m8a59acdb99\" y=\"69.955517\"/>\r\n     <use style=\"fill:#ff0000;stroke:#ff0000;\" x=\"49.909703\" xlink:href=\"#m8a59acdb99\" y=\"107.160256\"/>\r\n     <use style=\"fill:#ff0000;stroke:#ff0000;\" x=\"51.439169\" xlink:href=\"#m8a59acdb99\" y=\"117.235438\"/>\r\n     <use style=\"fill:#ff0000;stroke:#ff0000;\" x=\"52.968634\" xlink:href=\"#m8a59acdb99\" y=\"115.229413\"/>\r\n     <use style=\"fill:#ff0000;stroke:#ff0000;\" x=\"54.4981\" xlink:href=\"#m8a59acdb99\" y=\"125.730646\"/>\r\n     <use style=\"fill:#ff0000;stroke:#ff0000;\" x=\"56.027565\" xlink:href=\"#m8a59acdb99\" y=\"132.567838\"/>\r\n     <use style=\"fill:#ff0000;stroke:#ff0000;\" x=\"57.557031\" xlink:href=\"#m8a59acdb99\" y=\"143.855691\"/>\r\n     <use style=\"fill:#ff0000;stroke:#ff0000;\" x=\"59.086496\" xlink:href=\"#m8a59acdb99\" y=\"148.587457\"/>\r\n     <use style=\"fill:#ff0000;stroke:#ff0000;\" x=\"60.615962\" xlink:href=\"#m8a59acdb99\" y=\"154.671271\"/>\r\n     <use style=\"fill:#ff0000;stroke:#ff0000;\" x=\"62.145427\" xlink:href=\"#m8a59acdb99\" y=\"164.356926\"/>\r\n     <use style=\"fill:#ff0000;stroke:#ff0000;\" x=\"63.674893\" xlink:href=\"#m8a59acdb99\" y=\"161.829367\"/>\r\n     <use style=\"fill:#ff0000;stroke:#ff0000;\" x=\"65.204358\" xlink:href=\"#m8a59acdb99\" y=\"171.888226\"/>\r\n     <use style=\"fill:#ff0000;stroke:#ff0000;\" x=\"66.733824\" xlink:href=\"#m8a59acdb99\" y=\"172.917599\"/>\r\n     <use style=\"fill:#ff0000;stroke:#ff0000;\" x=\"68.263289\" xlink:href=\"#m8a59acdb99\" y=\"177.537365\"/>\r\n     <use style=\"fill:#ff0000;stroke:#ff0000;\" x=\"69.792755\" xlink:href=\"#m8a59acdb99\" y=\"178.697881\"/>\r\n     <use style=\"fill:#ff0000;stroke:#ff0000;\" x=\"71.32222\" xlink:href=\"#m8a59acdb99\" y=\"182.485652\"/>\r\n     <use style=\"fill:#ff0000;stroke:#ff0000;\" x=\"72.851686\" xlink:href=\"#m8a59acdb99\" y=\"181.901141\"/>\r\n     <use style=\"fill:#ff0000;stroke:#ff0000;\" x=\"74.381151\" xlink:href=\"#m8a59acdb99\" y=\"183.669457\"/>\r\n     <use style=\"fill:#ff0000;stroke:#ff0000;\" x=\"75.910617\" xlink:href=\"#m8a59acdb99\" y=\"184.306155\"/>\r\n     <use style=\"fill:#ff0000;stroke:#ff0000;\" x=\"77.440083\" xlink:href=\"#m8a59acdb99\" y=\"184.372932\"/>\r\n     <use style=\"fill:#ff0000;stroke:#ff0000;\" x=\"78.969548\" xlink:href=\"#m8a59acdb99\" y=\"189.326991\"/>\r\n     <use style=\"fill:#ff0000;stroke:#ff0000;\" x=\"80.499014\" xlink:href=\"#m8a59acdb99\" y=\"182.08344\"/>\r\n     <use style=\"fill:#ff0000;stroke:#ff0000;\" x=\"82.028479\" xlink:href=\"#m8a59acdb99\" y=\"190.871474\"/>\r\n     <use style=\"fill:#ff0000;stroke:#ff0000;\" x=\"83.557945\" xlink:href=\"#m8a59acdb99\" y=\"188.540168\"/>\r\n     <use style=\"fill:#ff0000;stroke:#ff0000;\" x=\"85.08741\" xlink:href=\"#m8a59acdb99\" y=\"188.377571\"/>\r\n     <use style=\"fill:#ff0000;stroke:#ff0000;\" x=\"86.616876\" xlink:href=\"#m8a59acdb99\" y=\"192.005832\"/>\r\n     <use style=\"fill:#ff0000;stroke:#ff0000;\" x=\"88.146341\" xlink:href=\"#m8a59acdb99\" y=\"190.734924\"/>\r\n     <use style=\"fill:#ff0000;stroke:#ff0000;\" x=\"89.675807\" xlink:href=\"#m8a59acdb99\" y=\"193.258445\"/>\r\n     <use style=\"fill:#ff0000;stroke:#ff0000;\" x=\"91.205272\" xlink:href=\"#m8a59acdb99\" y=\"192.245396\"/>\r\n     <use style=\"fill:#ff0000;stroke:#ff0000;\" x=\"92.734738\" xlink:href=\"#m8a59acdb99\" y=\"192.365233\"/>\r\n     <use style=\"fill:#ff0000;stroke:#ff0000;\" x=\"94.264203\" xlink:href=\"#m8a59acdb99\" y=\"195.036391\"/>\r\n     <use style=\"fill:#ff0000;stroke:#ff0000;\" x=\"95.793669\" xlink:href=\"#m8a59acdb99\" y=\"192.858019\"/>\r\n     <use style=\"fill:#ff0000;stroke:#ff0000;\" x=\"97.323134\" xlink:href=\"#m8a59acdb99\" y=\"191.970603\"/>\r\n     <use style=\"fill:#ff0000;stroke:#ff0000;\" x=\"98.8526\" xlink:href=\"#m8a59acdb99\" y=\"193.731548\"/>\r\n     <use style=\"fill:#ff0000;stroke:#ff0000;\" x=\"100.382065\" xlink:href=\"#m8a59acdb99\" y=\"192.234962\"/>\r\n     <use style=\"fill:#ff0000;stroke:#ff0000;\" x=\"101.911531\" xlink:href=\"#m8a59acdb99\" y=\"196.845521\"/>\r\n     <use style=\"fill:#ff0000;stroke:#ff0000;\" x=\"103.440996\" xlink:href=\"#m8a59acdb99\" y=\"192.499947\"/>\r\n     <use style=\"fill:#ff0000;stroke:#ff0000;\" x=\"104.970462\" xlink:href=\"#m8a59acdb99\" y=\"198.276074\"/>\r\n     <use style=\"fill:#ff0000;stroke:#ff0000;\" x=\"106.499927\" xlink:href=\"#m8a59acdb99\" y=\"196.389504\"/>\r\n     <use style=\"fill:#ff0000;stroke:#ff0000;\" x=\"108.029393\" xlink:href=\"#m8a59acdb99\" y=\"197.337477\"/>\r\n     <use style=\"fill:#ff0000;stroke:#ff0000;\" x=\"109.558858\" xlink:href=\"#m8a59acdb99\" y=\"196.441734\"/>\r\n     <use style=\"fill:#ff0000;stroke:#ff0000;\" x=\"111.088324\" xlink:href=\"#m8a59acdb99\" y=\"198.625421\"/>\r\n     <use style=\"fill:#ff0000;stroke:#ff0000;\" x=\"112.617789\" xlink:href=\"#m8a59acdb99\" y=\"197.939234\"/>\r\n     <use style=\"fill:#ff0000;stroke:#ff0000;\" x=\"114.147255\" xlink:href=\"#m8a59acdb99\" y=\"197.72477\"/>\r\n     <use style=\"fill:#ff0000;stroke:#ff0000;\" x=\"115.67672\" xlink:href=\"#m8a59acdb99\" y=\"200.845555\"/>\r\n     <use style=\"fill:#ff0000;stroke:#ff0000;\" x=\"117.206186\" xlink:href=\"#m8a59acdb99\" y=\"198.766279\"/>\r\n     <use style=\"fill:#ff0000;stroke:#ff0000;\" x=\"118.735651\" xlink:href=\"#m8a59acdb99\" y=\"199.267552\"/>\r\n     <use style=\"fill:#ff0000;stroke:#ff0000;\" x=\"120.265117\" xlink:href=\"#m8a59acdb99\" y=\"200.856836\"/>\r\n     <use style=\"fill:#ff0000;stroke:#ff0000;\" x=\"121.794582\" xlink:href=\"#m8a59acdb99\" y=\"196.967507\"/>\r\n     <use style=\"fill:#ff0000;stroke:#ff0000;\" x=\"123.324048\" xlink:href=\"#m8a59acdb99\" y=\"201.988901\"/>\r\n     <use style=\"fill:#ff0000;stroke:#ff0000;\" x=\"124.853513\" xlink:href=\"#m8a59acdb99\" y=\"201.017149\"/>\r\n     <use style=\"fill:#ff0000;stroke:#ff0000;\" x=\"126.382979\" xlink:href=\"#m8a59acdb99\" y=\"201.975319\"/>\r\n     <use style=\"fill:#ff0000;stroke:#ff0000;\" x=\"127.912444\" xlink:href=\"#m8a59acdb99\" y=\"198.731862\"/>\r\n     <use style=\"fill:#ff0000;stroke:#ff0000;\" x=\"129.44191\" xlink:href=\"#m8a59acdb99\" y=\"202.804217\"/>\r\n     <use style=\"fill:#ff0000;stroke:#ff0000;\" x=\"130.971375\" xlink:href=\"#m8a59acdb99\" y=\"202.47644\"/>\r\n     <use style=\"fill:#ff0000;stroke:#ff0000;\" x=\"132.500841\" xlink:href=\"#m8a59acdb99\" y=\"202.97124\"/>\r\n     <use style=\"fill:#ff0000;stroke:#ff0000;\" x=\"134.030306\" xlink:href=\"#m8a59acdb99\" y=\"203.340592\"/>\r\n     <use style=\"fill:#ff0000;stroke:#ff0000;\" x=\"135.559772\" xlink:href=\"#m8a59acdb99\" y=\"203.704554\"/>\r\n     <use style=\"fill:#ff0000;stroke:#ff0000;\" x=\"137.089237\" xlink:href=\"#m8a59acdb99\" y=\"201.793469\"/>\r\n     <use style=\"fill:#ff0000;stroke:#ff0000;\" x=\"138.618703\" xlink:href=\"#m8a59acdb99\" y=\"202.706788\"/>\r\n     <use style=\"fill:#ff0000;stroke:#ff0000;\" x=\"140.148168\" xlink:href=\"#m8a59acdb99\" y=\"203.023081\"/>\r\n     <use style=\"fill:#ff0000;stroke:#ff0000;\" x=\"141.677634\" xlink:href=\"#m8a59acdb99\" y=\"202.809328\"/>\r\n     <use style=\"fill:#ff0000;stroke:#ff0000;\" x=\"143.207099\" xlink:href=\"#m8a59acdb99\" y=\"204.985838\"/>\r\n     <use style=\"fill:#ff0000;stroke:#ff0000;\" x=\"144.736565\" xlink:href=\"#m8a59acdb99\" y=\"201.572049\"/>\r\n     <use style=\"fill:#ff0000;stroke:#ff0000;\" x=\"146.26603\" xlink:href=\"#m8a59acdb99\" y=\"205.541145\"/>\r\n     <use style=\"fill:#ff0000;stroke:#ff0000;\" x=\"147.795496\" xlink:href=\"#m8a59acdb99\" y=\"204.862786\"/>\r\n     <use style=\"fill:#ff0000;stroke:#ff0000;\" x=\"149.324961\" xlink:href=\"#m8a59acdb99\" y=\"203.676611\"/>\r\n     <use style=\"fill:#ff0000;stroke:#ff0000;\" x=\"150.854427\" xlink:href=\"#m8a59acdb99\" y=\"202.704317\"/>\r\n     <use style=\"fill:#ff0000;stroke:#ff0000;\" x=\"152.383892\" xlink:href=\"#m8a59acdb99\" y=\"204.578659\"/>\r\n     <use style=\"fill:#ff0000;stroke:#ff0000;\" x=\"153.913358\" xlink:href=\"#m8a59acdb99\" y=\"206.403605\"/>\r\n     <use style=\"fill:#ff0000;stroke:#ff0000;\" x=\"155.442823\" xlink:href=\"#m8a59acdb99\" y=\"207.582535\"/>\r\n     <use style=\"fill:#ff0000;stroke:#ff0000;\" x=\"156.972289\" xlink:href=\"#m8a59acdb99\" y=\"205.554008\"/>\r\n     <use style=\"fill:#ff0000;stroke:#ff0000;\" x=\"158.501755\" xlink:href=\"#m8a59acdb99\" y=\"204.080592\"/>\r\n     <use style=\"fill:#ff0000;stroke:#ff0000;\" x=\"160.03122\" xlink:href=\"#m8a59acdb99\" y=\"205.404349\"/>\r\n     <use style=\"fill:#ff0000;stroke:#ff0000;\" x=\"161.560686\" xlink:href=\"#m8a59acdb99\" y=\"206.10009\"/>\r\n     <use style=\"fill:#ff0000;stroke:#ff0000;\" x=\"163.090151\" xlink:href=\"#m8a59acdb99\" y=\"205.152735\"/>\r\n     <use style=\"fill:#ff0000;stroke:#ff0000;\" x=\"164.619617\" xlink:href=\"#m8a59acdb99\" y=\"206.844947\"/>\r\n     <use style=\"fill:#ff0000;stroke:#ff0000;\" x=\"166.149082\" xlink:href=\"#m8a59acdb99\" y=\"208.031071\"/>\r\n     <use style=\"fill:#ff0000;stroke:#ff0000;\" x=\"167.678548\" xlink:href=\"#m8a59acdb99\" y=\"208.358712\"/>\r\n     <use style=\"fill:#ff0000;stroke:#ff0000;\" x=\"169.208013\" xlink:href=\"#m8a59acdb99\" y=\"204.722004\"/>\r\n     <use style=\"fill:#ff0000;stroke:#ff0000;\" x=\"170.737479\" xlink:href=\"#m8a59acdb99\" y=\"206.702939\"/>\r\n     <use style=\"fill:#ff0000;stroke:#ff0000;\" x=\"172.266944\" xlink:href=\"#m8a59acdb99\" y=\"208.735029\"/>\r\n     <use style=\"fill:#ff0000;stroke:#ff0000;\" x=\"173.79641\" xlink:href=\"#m8a59acdb99\" y=\"203.468393\"/>\r\n     <use style=\"fill:#ff0000;stroke:#ff0000;\" x=\"175.325875\" xlink:href=\"#m8a59acdb99\" y=\"207.598064\"/>\r\n     <use style=\"fill:#ff0000;stroke:#ff0000;\" x=\"176.855341\" xlink:href=\"#m8a59acdb99\" y=\"206.48239\"/>\r\n     <use style=\"fill:#ff0000;stroke:#ff0000;\" x=\"178.384806\" xlink:href=\"#m8a59acdb99\" y=\"209.080635\"/>\r\n     <use style=\"fill:#ff0000;stroke:#ff0000;\" x=\"179.914272\" xlink:href=\"#m8a59acdb99\" y=\"208.072088\"/>\r\n     <use style=\"fill:#ff0000;stroke:#ff0000;\" x=\"181.443737\" xlink:href=\"#m8a59acdb99\" y=\"206.968245\"/>\r\n     <use style=\"fill:#ff0000;stroke:#ff0000;\" x=\"182.973203\" xlink:href=\"#m8a59acdb99\" y=\"210.479446\"/>\r\n     <use style=\"fill:#ff0000;stroke:#ff0000;\" x=\"184.502668\" xlink:href=\"#m8a59acdb99\" y=\"207.618864\"/>\r\n     <use style=\"fill:#ff0000;stroke:#ff0000;\" x=\"186.032134\" xlink:href=\"#m8a59acdb99\" y=\"206.601736\"/>\r\n     <use style=\"fill:#ff0000;stroke:#ff0000;\" x=\"187.561599\" xlink:href=\"#m8a59acdb99\" y=\"208.687055\"/>\r\n     <use style=\"fill:#ff0000;stroke:#ff0000;\" x=\"189.091065\" xlink:href=\"#m8a59acdb99\" y=\"206.202012\"/>\r\n     <use style=\"fill:#ff0000;stroke:#ff0000;\" x=\"190.62053\" xlink:href=\"#m8a59acdb99\" y=\"208.57783\"/>\r\n     <use style=\"fill:#ff0000;stroke:#ff0000;\" x=\"192.149996\" xlink:href=\"#m8a59acdb99\" y=\"208.482991\"/>\r\n     <use style=\"fill:#ff0000;stroke:#ff0000;\" x=\"193.679461\" xlink:href=\"#m8a59acdb99\" y=\"208.140431\"/>\r\n     <use style=\"fill:#ff0000;stroke:#ff0000;\" x=\"195.208927\" xlink:href=\"#m8a59acdb99\" y=\"207.775784\"/>\r\n     <use style=\"fill:#ff0000;stroke:#ff0000;\" x=\"196.738392\" xlink:href=\"#m8a59acdb99\" y=\"208.473556\"/>\r\n     <use style=\"fill:#ff0000;stroke:#ff0000;\" x=\"198.267858\" xlink:href=\"#m8a59acdb99\" y=\"209.918106\"/>\r\n     <use style=\"fill:#ff0000;stroke:#ff0000;\" x=\"199.797323\" xlink:href=\"#m8a59acdb99\" y=\"208.447347\"/>\r\n     <use style=\"fill:#ff0000;stroke:#ff0000;\" x=\"201.326789\" xlink:href=\"#m8a59acdb99\" y=\"211.038831\"/>\r\n     <use style=\"fill:#ff0000;stroke:#ff0000;\" x=\"202.856254\" xlink:href=\"#m8a59acdb99\" y=\"209.207437\"/>\r\n     <use style=\"fill:#ff0000;stroke:#ff0000;\" x=\"204.38572\" xlink:href=\"#m8a59acdb99\" y=\"208.364322\"/>\r\n     <use style=\"fill:#ff0000;stroke:#ff0000;\" x=\"205.915185\" xlink:href=\"#m8a59acdb99\" y=\"209.049527\"/>\r\n     <use style=\"fill:#ff0000;stroke:#ff0000;\" x=\"207.444651\" xlink:href=\"#m8a59acdb99\" y=\"209.652012\"/>\r\n     <use style=\"fill:#ff0000;stroke:#ff0000;\" x=\"208.974116\" xlink:href=\"#m8a59acdb99\" y=\"209.421385\"/>\r\n     <use style=\"fill:#ff0000;stroke:#ff0000;\" x=\"210.503582\" xlink:href=\"#m8a59acdb99\" y=\"207.631685\"/>\r\n     <use style=\"fill:#ff0000;stroke:#ff0000;\" x=\"212.033047\" xlink:href=\"#m8a59acdb99\" y=\"210.813137\"/>\r\n     <use style=\"fill:#ff0000;stroke:#ff0000;\" x=\"213.562513\" xlink:href=\"#m8a59acdb99\" y=\"206.119494\"/>\r\n     <use style=\"fill:#ff0000;stroke:#ff0000;\" x=\"215.091978\" xlink:href=\"#m8a59acdb99\" y=\"207.909575\"/>\r\n     <use style=\"fill:#ff0000;stroke:#ff0000;\" x=\"216.621444\" xlink:href=\"#m8a59acdb99\" y=\"210.046583\"/>\r\n     <use style=\"fill:#ff0000;stroke:#ff0000;\" x=\"218.150909\" xlink:href=\"#m8a59acdb99\" y=\"208.863184\"/>\r\n     <use style=\"fill:#ff0000;stroke:#ff0000;\" x=\"219.680375\" xlink:href=\"#m8a59acdb99\" y=\"209.985797\"/>\r\n     <use style=\"fill:#ff0000;stroke:#ff0000;\" x=\"221.20984\" xlink:href=\"#m8a59acdb99\" y=\"209.222965\"/>\r\n     <use style=\"fill:#ff0000;stroke:#ff0000;\" x=\"222.739306\" xlink:href=\"#m8a59acdb99\" y=\"209.473293\"/>\r\n     <use style=\"fill:#ff0000;stroke:#ff0000;\" x=\"224.268771\" xlink:href=\"#m8a59acdb99\" y=\"211.151957\"/>\r\n     <use style=\"fill:#ff0000;stroke:#ff0000;\" x=\"225.798237\" xlink:href=\"#m8a59acdb99\" y=\"206.388609\"/>\r\n     <use style=\"fill:#ff0000;stroke:#ff0000;\" x=\"227.327702\" xlink:href=\"#m8a59acdb99\" y=\"210.115712\"/>\r\n     <use style=\"fill:#ff0000;stroke:#ff0000;\" x=\"228.857168\" xlink:href=\"#m8a59acdb99\" y=\"210.352179\"/>\r\n     <use style=\"fill:#ff0000;stroke:#ff0000;\" x=\"230.386633\" xlink:href=\"#m8a59acdb99\" y=\"211.076582\"/>\r\n     <use style=\"fill:#ff0000;stroke:#ff0000;\" x=\"231.916099\" xlink:href=\"#m8a59acdb99\" y=\"211.431498\"/>\r\n     <use style=\"fill:#ff0000;stroke:#ff0000;\" x=\"233.445564\" xlink:href=\"#m8a59acdb99\" y=\"209.090054\"/>\r\n     <use style=\"fill:#ff0000;stroke:#ff0000;\" x=\"234.97503\" xlink:href=\"#m8a59acdb99\" y=\"209.846708\"/>\r\n     <use style=\"fill:#ff0000;stroke:#ff0000;\" x=\"236.504495\" xlink:href=\"#m8a59acdb99\" y=\"211.581402\"/>\r\n     <use style=\"fill:#ff0000;stroke:#ff0000;\" x=\"238.033961\" xlink:href=\"#m8a59acdb99\" y=\"210.56462\"/>\r\n     <use style=\"fill:#ff0000;stroke:#ff0000;\" x=\"239.563427\" xlink:href=\"#m8a59acdb99\" y=\"211.661677\"/>\r\n     <use style=\"fill:#ff0000;stroke:#ff0000;\" x=\"241.092892\" xlink:href=\"#m8a59acdb99\" y=\"208.509199\"/>\r\n     <use style=\"fill:#ff0000;stroke:#ff0000;\" x=\"242.622358\" xlink:href=\"#m8a59acdb99\" y=\"211.793767\"/>\r\n     <use style=\"fill:#ff0000;stroke:#ff0000;\" x=\"244.151823\" xlink:href=\"#m8a59acdb99\" y=\"208.313624\"/>\r\n     <use style=\"fill:#ff0000;stroke:#ff0000;\" x=\"245.681289\" xlink:href=\"#m8a59acdb99\" y=\"212.136564\"/>\r\n     <use style=\"fill:#ff0000;stroke:#ff0000;\" x=\"247.210754\" xlink:href=\"#m8a59acdb99\" y=\"208.961349\"/>\r\n     <use style=\"fill:#ff0000;stroke:#ff0000;\" x=\"248.74022\" xlink:href=\"#m8a59acdb99\" y=\"211.534638\"/>\r\n     <use style=\"fill:#ff0000;stroke:#ff0000;\" x=\"250.269685\" xlink:href=\"#m8a59acdb99\" y=\"211.43462\"/>\r\n     <use style=\"fill:#ff0000;stroke:#ff0000;\" x=\"251.799151\" xlink:href=\"#m8a59acdb99\" y=\"208.823165\"/>\r\n     <use style=\"fill:#ff0000;stroke:#ff0000;\" x=\"253.328616\" xlink:href=\"#m8a59acdb99\" y=\"212.256977\"/>\r\n     <use style=\"fill:#ff0000;stroke:#ff0000;\" x=\"254.858082\" xlink:href=\"#m8a59acdb99\" y=\"209.012521\"/>\r\n     <use style=\"fill:#ff0000;stroke:#ff0000;\" x=\"256.387547\" xlink:href=\"#m8a59acdb99\" y=\"213.559764\"/>\r\n     <use style=\"fill:#ff0000;stroke:#ff0000;\" x=\"257.917013\" xlink:href=\"#m8a59acdb99\" y=\"211.460473\"/>\r\n     <use style=\"fill:#ff0000;stroke:#ff0000;\" x=\"259.446478\" xlink:href=\"#m8a59acdb99\" y=\"212.128677\"/>\r\n     <use style=\"fill:#ff0000;stroke:#ff0000;\" x=\"260.975944\" xlink:href=\"#m8a59acdb99\" y=\"211.368876\"/>\r\n     <use style=\"fill:#ff0000;stroke:#ff0000;\" x=\"262.505409\" xlink:href=\"#m8a59acdb99\" y=\"212.114257\"/>\r\n     <use style=\"fill:#ff0000;stroke:#ff0000;\" x=\"264.034875\" xlink:href=\"#m8a59acdb99\" y=\"206.999988\"/>\r\n     <use style=\"fill:#ff0000;stroke:#ff0000;\" x=\"265.56434\" xlink:href=\"#m8a59acdb99\" y=\"213.258974\"/>\r\n     <use style=\"fill:#ff0000;stroke:#ff0000;\" x=\"267.093806\" xlink:href=\"#m8a59acdb99\" y=\"212.011193\"/>\r\n     <use style=\"fill:#ff0000;stroke:#ff0000;\" x=\"268.623271\" xlink:href=\"#m8a59acdb99\" y=\"212.563309\"/>\r\n     <use style=\"fill:#ff0000;stroke:#ff0000;\" x=\"270.152737\" xlink:href=\"#m8a59acdb99\" y=\"210.404122\"/>\r\n     <use style=\"fill:#ff0000;stroke:#ff0000;\" x=\"271.682202\" xlink:href=\"#m8a59acdb99\" y=\"211.471424\"/>\r\n     <use style=\"fill:#ff0000;stroke:#ff0000;\" x=\"273.211668\" xlink:href=\"#m8a59acdb99\" y=\"210.71719\"/>\r\n     <use style=\"fill:#ff0000;stroke:#ff0000;\" x=\"274.741133\" xlink:href=\"#m8a59acdb99\" y=\"214.033297\"/>\r\n     <use style=\"fill:#ff0000;stroke:#ff0000;\" x=\"276.270599\" xlink:href=\"#m8a59acdb99\" y=\"212.909999\"/>\r\n     <use style=\"fill:#ff0000;stroke:#ff0000;\" x=\"277.800064\" xlink:href=\"#m8a59acdb99\" y=\"208.888724\"/>\r\n     <use style=\"fill:#ff0000;stroke:#ff0000;\" x=\"279.32953\" xlink:href=\"#m8a59acdb99\" y=\"213.616251\"/>\r\n     <use style=\"fill:#ff0000;stroke:#ff0000;\" x=\"280.858995\" xlink:href=\"#m8a59acdb99\" y=\"212.321528\"/>\r\n     <use style=\"fill:#ff0000;stroke:#ff0000;\" x=\"282.388461\" xlink:href=\"#m8a59acdb99\" y=\"213.147921\"/>\r\n     <use style=\"fill:#ff0000;stroke:#ff0000;\" x=\"283.917926\" xlink:href=\"#m8a59acdb99\" y=\"211.481807\"/>\r\n     <use style=\"fill:#ff0000;stroke:#ff0000;\" x=\"285.447392\" xlink:href=\"#m8a59acdb99\" y=\"211.438158\"/>\r\n     <use style=\"fill:#ff0000;stroke:#ff0000;\" x=\"286.976857\" xlink:href=\"#m8a59acdb99\" y=\"209.993574\"/>\r\n     <use style=\"fill:#ff0000;stroke:#ff0000;\" x=\"288.506323\" xlink:href=\"#m8a59acdb99\" y=\"211.905446\"/>\r\n     <use style=\"fill:#ff0000;stroke:#ff0000;\" x=\"290.035788\" xlink:href=\"#m8a59acdb99\" y=\"211.06702\"/>\r\n     <use style=\"fill:#ff0000;stroke:#ff0000;\" x=\"291.565254\" xlink:href=\"#m8a59acdb99\" y=\"214.172217\"/>\r\n     <use style=\"fill:#ff0000;stroke:#ff0000;\" x=\"293.094719\" xlink:href=\"#m8a59acdb99\" y=\"210.885872\"/>\r\n     <use style=\"fill:#ff0000;stroke:#ff0000;\" x=\"294.624185\" xlink:href=\"#m8a59acdb99\" y=\"213.110069\"/>\r\n     <use style=\"fill:#ff0000;stroke:#ff0000;\" x=\"296.15365\" xlink:href=\"#m8a59acdb99\" y=\"213.322316\"/>\r\n     <use style=\"fill:#ff0000;stroke:#ff0000;\" x=\"297.683116\" xlink:href=\"#m8a59acdb99\" y=\"212.158431\"/>\r\n     <use style=\"fill:#ff0000;stroke:#ff0000;\" x=\"299.212581\" xlink:href=\"#m8a59acdb99\" y=\"212.305602\"/>\r\n     <use style=\"fill:#ff0000;stroke:#ff0000;\" x=\"300.742047\" xlink:href=\"#m8a59acdb99\" y=\"212.893937\"/>\r\n     <use style=\"fill:#ff0000;stroke:#ff0000;\" x=\"302.271512\" xlink:href=\"#m8a59acdb99\" y=\"212.740742\"/>\r\n     <use style=\"fill:#ff0000;stroke:#ff0000;\" x=\"303.800978\" xlink:href=\"#m8a59acdb99\" y=\"213.885077\"/>\r\n     <use style=\"fill:#ff0000;stroke:#ff0000;\" x=\"305.330443\" xlink:href=\"#m8a59acdb99\" y=\"213.672627\"/>\r\n     <use style=\"fill:#ff0000;stroke:#ff0000;\" x=\"306.859909\" xlink:href=\"#m8a59acdb99\" y=\"211.439529\"/>\r\n     <use style=\"fill:#ff0000;stroke:#ff0000;\" x=\"308.389374\" xlink:href=\"#m8a59acdb99\" y=\"213.692582\"/>\r\n     <use style=\"fill:#ff0000;stroke:#ff0000;\" x=\"309.91884\" xlink:href=\"#m8a59acdb99\" y=\"209.403385\"/>\r\n     <use style=\"fill:#ff0000;stroke:#ff0000;\" x=\"311.448305\" xlink:href=\"#m8a59acdb99\" y=\"214.259059\"/>\r\n     <use style=\"fill:#ff0000;stroke:#ff0000;\" x=\"312.977771\" xlink:href=\"#m8a59acdb99\" y=\"211.14385\"/>\r\n     <use style=\"fill:#ff0000;stroke:#ff0000;\" x=\"314.507236\" xlink:href=\"#m8a59acdb99\" y=\"213.379344\"/>\r\n     <use style=\"fill:#ff0000;stroke:#ff0000;\" x=\"316.036702\" xlink:href=\"#m8a59acdb99\" y=\"211.040668\"/>\r\n     <use style=\"fill:#ff0000;stroke:#ff0000;\" x=\"317.566167\" xlink:href=\"#m8a59acdb99\" y=\"213.597489\"/>\r\n     <use style=\"fill:#ff0000;stroke:#ff0000;\" x=\"319.095633\" xlink:href=\"#m8a59acdb99\" y=\"213.891094\"/>\r\n     <use style=\"fill:#ff0000;stroke:#ff0000;\" x=\"320.625099\" xlink:href=\"#m8a59acdb99\" y=\"212.144477\"/>\r\n     <use style=\"fill:#ff0000;stroke:#ff0000;\" x=\"322.154564\" xlink:href=\"#m8a59acdb99\" y=\"212.941361\"/>\r\n     <use style=\"fill:#ff0000;stroke:#ff0000;\" x=\"323.68403\" xlink:href=\"#m8a59acdb99\" y=\"211.185714\"/>\r\n     <use style=\"fill:#ff0000;stroke:#ff0000;\" x=\"325.213495\" xlink:href=\"#m8a59acdb99\" y=\"213.113327\"/>\r\n     <use style=\"fill:#ff0000;stroke:#ff0000;\" x=\"326.742961\" xlink:href=\"#m8a59acdb99\" y=\"214.073672\"/>\r\n     <use style=\"fill:#ff0000;stroke:#ff0000;\" x=\"328.272426\" xlink:href=\"#m8a59acdb99\" y=\"212.60904\"/>\r\n     <use style=\"fill:#ff0000;stroke:#ff0000;\" x=\"329.801892\" xlink:href=\"#m8a59acdb99\" y=\"213.987566\"/>\r\n     <use style=\"fill:#ff0000;stroke:#ff0000;\" x=\"331.331357\" xlink:href=\"#m8a59acdb99\" y=\"213.43534\"/>\r\n     <use style=\"fill:#ff0000;stroke:#ff0000;\" x=\"332.860823\" xlink:href=\"#m8a59acdb99\" y=\"213.168104\"/>\r\n     <use style=\"fill:#ff0000;stroke:#ff0000;\" x=\"334.390288\" xlink:href=\"#m8a59acdb99\" y=\"213.300601\"/>\r\n     <use style=\"fill:#ff0000;stroke:#ff0000;\" x=\"335.919754\" xlink:href=\"#m8a59acdb99\" y=\"212.053945\"/>\r\n     <use style=\"fill:#ff0000;stroke:#ff0000;\" x=\"337.449219\" xlink:href=\"#m8a59acdb99\" y=\"209.132739\"/>\r\n     <use style=\"fill:#ff0000;stroke:#ff0000;\" x=\"338.978685\" xlink:href=\"#m8a59acdb99\" y=\"214.346933\"/>\r\n     <use style=\"fill:#ff0000;stroke:#ff0000;\" x=\"340.50815\" xlink:href=\"#m8a59acdb99\" y=\"210.476611\"/>\r\n     <use style=\"fill:#ff0000;stroke:#ff0000;\" x=\"342.037616\" xlink:href=\"#m8a59acdb99\" y=\"213.233358\"/>\r\n     <use style=\"fill:#ff0000;stroke:#ff0000;\" x=\"343.567081\" xlink:href=\"#m8a59acdb99\" y=\"213.967764\"/>\r\n     <use style=\"fill:#ff0000;stroke:#ff0000;\" x=\"345.096547\" xlink:href=\"#m8a59acdb99\" y=\"212.749559\"/>\r\n     <use style=\"fill:#ff0000;stroke:#ff0000;\" x=\"346.626012\" xlink:href=\"#m8a59acdb99\" y=\"211.025147\"/>\r\n     <use style=\"fill:#ff0000;stroke:#ff0000;\" x=\"348.155478\" xlink:href=\"#m8a59acdb99\" y=\"214.756364\"/>\r\n     <use style=\"fill:#ff0000;stroke:#ff0000;\" x=\"349.684943\" xlink:href=\"#m8a59acdb99\" y=\"211.092551\"/>\r\n    </g>\r\n   </g>\r\n   <g id=\"patch_3\">\r\n    <path d=\"M 30.103125 224.64 \r\nL 30.103125 7.2 \r\n\" style=\"fill:none;stroke:#000000;stroke-linecap:square;stroke-linejoin:miter;stroke-width:0.8;\"/>\r\n   </g>\r\n   <g id=\"patch_4\">\r\n    <path d=\"M 364.903125 224.64 \r\nL 364.903125 7.2 \r\n\" style=\"fill:none;stroke:#000000;stroke-linecap:square;stroke-linejoin:miter;stroke-width:0.8;\"/>\r\n   </g>\r\n   <g id=\"patch_5\">\r\n    <path d=\"M 30.103125 224.64 \r\nL 364.903125 224.64 \r\n\" style=\"fill:none;stroke:#000000;stroke-linecap:square;stroke-linejoin:miter;stroke-width:0.8;\"/>\r\n   </g>\r\n   <g id=\"patch_6\">\r\n    <path d=\"M 30.103125 7.2 \r\nL 364.903125 7.2 \r\n\" style=\"fill:none;stroke:#000000;stroke-linecap:square;stroke-linejoin:miter;stroke-width:0.8;\"/>\r\n   </g>\r\n  </g>\r\n </g>\r\n <defs>\r\n  <clipPath id=\"pa596ad5e19\">\r\n   <rect height=\"217.44\" width=\"334.8\" x=\"30.103125\" y=\"7.2\"/>\r\n  </clipPath>\r\n </defs>\r\n</svg>\r\n",
      "image/png": "[encoded data removed]"
     },
     "metadata": {
      "needs_background": "light"
     }
    }
   ],
   "source": [
    "x_len = np.arange(len(accuracy))\n",
    "plt.plot(x_len, val_loss, 'ro-',markersize=5, label='val_loss')\n",
    "plt.show()"
   ]
  },
  {
   "source": [
    "- 30 / 1 , rmsprop, 100 epochs"
   ],
   "cell_type": "markdown",
   "metadata": {}
  },
  {
   "cell_type": "code",
   "execution_count": 14,
   "metadata": {},
   "outputs": [
    {
     "output_type": "stream",
     "name": "stdout",
     "text": [
      "Model: \"sequential_1\"\n_________________________________________________________________\nLayer (type)                 Output Shape              Param #   \n=================================================================\ndense_3 (Dense)              (None, 30)                270       \n_________________________________________________________________\ndense_4 (Dense)              (None, 1)                 31        \n=================================================================\nTotal params: 301\nTrainable params: 301\nNon-trainable params: 0\n_________________________________________________________________\n"
     ]
    }
   ],
   "source": [
    "model2 = Sequential([\n",
    "    Dense(30,input_dim=8,activation='relu'),\n",
    "    Dense(1,activation='sigmoid')\n",
    "])\n",
    "model2.summary()"
   ]
  },
  {
   "cell_type": "code",
   "execution_count": 15,
   "metadata": {},
   "outputs": [],
   "source": [
    "model2.compile(\n",
    "    loss = 'binary_crossentropy',\n",
    "    optimizer='rmsprop',\n",
    "    metrics=['accuracy']\n",
    ")"
   ]
  },
  {
   "cell_type": "code",
   "execution_count": 16,
   "metadata": {},
   "outputs": [],
   "source": [
    "history2 = model2.fit(X_train,y_train,validation_split=0.2,epochs=100,batch_size=50,verbose=0)"
   ]
  },
  {
   "cell_type": "code",
   "execution_count": 17,
   "metadata": {},
   "outputs": [
    {
     "output_type": "stream",
     "name": "stdout",
     "text": [
      "6/6 [==============================] - 0s 1ms/step - loss: 0.7539 - accuracy: 0.6927\n"
     ]
    },
    {
     "output_type": "execute_result",
     "data": {
      "text/plain": [
       "[0.7539340853691101, 0.6927083134651184]"
      ]
     },
     "metadata": {},
     "execution_count": 17
    }
   ],
   "source": [
    "model2.evaluate(X_test,y_test)"
   ]
  },
  {
   "source": [
    "- 24 / 12 / 8 / 1, 200 epochs"
   ],
   "cell_type": "markdown",
   "metadata": {}
  },
  {
   "cell_type": "code",
   "execution_count": 18,
   "metadata": {},
   "outputs": [
    {
     "output_type": "stream",
     "name": "stdout",
     "text": [
      "Model: \"sequential_2\"\n_________________________________________________________________\nLayer (type)                 Output Shape              Param #   \n=================================================================\ndense_5 (Dense)              (None, 24)                216       \n_________________________________________________________________\ndense_6 (Dense)              (None, 12)                300       \n_________________________________________________________________\ndense_7 (Dense)              (None, 8)                 104       \n_________________________________________________________________\ndense_8 (Dense)              (None, 1)                 9         \n=================================================================\nTotal params: 629\nTrainable params: 629\nNon-trainable params: 0\n_________________________________________________________________\n"
     ]
    }
   ],
   "source": [
    "model3 = Sequential([\n",
    "    Dense(24,input_dim=8,activation='relu'),\n",
    "    Dense(12,activation='relu'),\n",
    "    Dense(8,activation='relu'),\n",
    "    Dense(1,activation='sigmoid')\n",
    "])\n",
    "model3.summary()"
   ]
  },
  {
   "cell_type": "code",
   "execution_count": 19,
   "metadata": {},
   "outputs": [],
   "source": [
    "model3.compile(\n",
    "    loss = 'binary_crossentropy',\n",
    "    optimizer='adam',\n",
    "    metrics=['accuracy']\n",
    ")"
   ]
  },
  {
   "cell_type": "code",
   "execution_count": 20,
   "metadata": {
    "tags": [
     "outputPrepend"
    ]
   },
   "outputs": [
    {
     "output_type": "stream",
     "name": "stdout",
     "text": [
      "0.4138\n",
      "Epoch 2/200\n",
      "10/10 - 0s - loss: 6.6367 - accuracy: 0.3348 - val_loss: 3.7411 - val_accuracy: 0.4224\n",
      "Epoch 3/200\n",
      "10/10 - 0s - loss: 3.2617 - accuracy: 0.3457 - val_loss: 1.6477 - val_accuracy: 0.4224\n",
      "Epoch 4/200\n",
      "10/10 - 0s - loss: 1.5858 - accuracy: 0.4087 - val_loss: 1.1279 - val_accuracy: 0.4569\n",
      "Epoch 5/200\n",
      "10/10 - 0s - loss: 1.0471 - accuracy: 0.5435 - val_loss: 0.9885 - val_accuracy: 0.5603\n",
      "Epoch 6/200\n",
      "10/10 - 0s - loss: 0.8512 - accuracy: 0.6348 - val_loss: 0.7958 - val_accuracy: 0.5345\n",
      "Epoch 7/200\n",
      "10/10 - 0s - loss: 0.7630 - accuracy: 0.6152 - val_loss: 0.7620 - val_accuracy: 0.5259\n",
      "Epoch 8/200\n",
      "10/10 - 0s - loss: 0.7297 - accuracy: 0.6174 - val_loss: 0.7272 - val_accuracy: 0.5690\n",
      "Epoch 9/200\n",
      "10/10 - 0s - loss: 0.7092 - accuracy: 0.6217 - val_loss: 0.7099 - val_accuracy: 0.5948\n",
      "Epoch 10/200\n",
      "10/10 - 0s - loss: 0.6967 - accuracy: 0.6457 - val_loss: 0.7150 - val_accuracy: 0.5776\n",
      "Epoch 11/200\n",
      "10/10 - 0s - loss: 0.6894 - accuracy: 0.6652 - val_loss: 0.7322 - val_accuracy: 0.5948\n",
      "Epoch 12/200\n",
      "10/10 - 0s - loss: 0.6856 - accuracy: 0.6609 - val_loss: 0.7250 - val_accuracy: 0.5862\n",
      "Epoch 13/200\n",
      "10/10 - 0s - loss: 0.6816 - accuracy: 0.6652 - val_loss: 0.7094 - val_accuracy: 0.5776\n",
      "Epoch 14/200\n",
      "10/10 - 0s - loss: 0.6776 - accuracy: 0.6587 - val_loss: 0.7063 - val_accuracy: 0.5776\n",
      "Epoch 15/200\n",
      "10/10 - 0s - loss: 0.6754 - accuracy: 0.6674 - val_loss: 0.7162 - val_accuracy: 0.5948\n",
      "Epoch 16/200\n",
      "10/10 - 0s - loss: 0.6720 - accuracy: 0.6696 - val_loss: 0.7086 - val_accuracy: 0.5862\n",
      "Epoch 17/200\n",
      "10/10 - 0s - loss: 0.6694 - accuracy: 0.6674 - val_loss: 0.7028 - val_accuracy: 0.5862\n",
      "Epoch 18/200\n",
      "10/10 - 0s - loss: 0.6683 - accuracy: 0.6609 - val_loss: 0.6938 - val_accuracy: 0.5776\n",
      "Epoch 19/200\n",
      "10/10 - 0s - loss: 0.6668 - accuracy: 0.6652 - val_loss: 0.7044 - val_accuracy: 0.5862\n",
      "Epoch 20/200\n",
      "10/10 - 0s - loss: 0.6645 - accuracy: 0.6674 - val_loss: 0.7123 - val_accuracy: 0.5948\n",
      "Epoch 21/200\n",
      "10/10 - 0s - loss: 0.6623 - accuracy: 0.6630 - val_loss: 0.6973 - val_accuracy: 0.5862\n",
      "Epoch 22/200\n",
      "10/10 - 0s - loss: 0.6606 - accuracy: 0.6630 - val_loss: 0.7019 - val_accuracy: 0.5862\n",
      "Epoch 23/200\n",
      "10/10 - 0s - loss: 0.6540 - accuracy: 0.6674 - val_loss: 0.6874 - val_accuracy: 0.5862\n",
      "Epoch 24/200\n",
      "10/10 - 0s - loss: 0.6491 - accuracy: 0.6696 - val_loss: 0.6910 - val_accuracy: 0.6034\n",
      "Epoch 25/200\n",
      "10/10 - 0s - loss: 0.6471 - accuracy: 0.6739 - val_loss: 0.6943 - val_accuracy: 0.5948\n",
      "Epoch 26/200\n",
      "10/10 - 0s - loss: 0.6433 - accuracy: 0.6717 - val_loss: 0.6823 - val_accuracy: 0.5948\n",
      "Epoch 27/200\n",
      "10/10 - 0s - loss: 0.6405 - accuracy: 0.6674 - val_loss: 0.6830 - val_accuracy: 0.5776\n",
      "Epoch 28/200\n",
      "10/10 - 0s - loss: 0.6410 - accuracy: 0.6696 - val_loss: 0.6747 - val_accuracy: 0.5862\n",
      "Epoch 29/200\n",
      "10/10 - 0s - loss: 0.6404 - accuracy: 0.6674 - val_loss: 0.6876 - val_accuracy: 0.5776\n",
      "Epoch 30/200\n",
      "10/10 - 0s - loss: 0.6372 - accuracy: 0.6717 - val_loss: 0.6767 - val_accuracy: 0.5862\n",
      "Epoch 31/200\n",
      "10/10 - 0s - loss: 0.6361 - accuracy: 0.6696 - val_loss: 0.6664 - val_accuracy: 0.5948\n",
      "Epoch 32/200\n",
      "10/10 - 0s - loss: 0.6384 - accuracy: 0.6696 - val_loss: 0.6685 - val_accuracy: 0.5948\n",
      "Epoch 33/200\n",
      "10/10 - 0s - loss: 0.6376 - accuracy: 0.6717 - val_loss: 0.6743 - val_accuracy: 0.5862\n",
      "Epoch 34/200\n",
      "10/10 - 0s - loss: 0.6333 - accuracy: 0.6696 - val_loss: 0.6678 - val_accuracy: 0.5862\n",
      "Epoch 35/200\n",
      "10/10 - 0s - loss: 0.6346 - accuracy: 0.6696 - val_loss: 0.6679 - val_accuracy: 0.5862\n",
      "Epoch 36/200\n",
      "10/10 - 0s - loss: 0.6343 - accuracy: 0.6674 - val_loss: 0.6777 - val_accuracy: 0.5776\n",
      "Epoch 37/200\n",
      "10/10 - 0s - loss: 0.6315 - accuracy: 0.6696 - val_loss: 0.6775 - val_accuracy: 0.5862\n",
      "Epoch 38/200\n",
      "10/10 - 0s - loss: 0.6331 - accuracy: 0.6652 - val_loss: 0.6733 - val_accuracy: 0.5862\n",
      "Epoch 39/200\n",
      "10/10 - 0s - loss: 0.6374 - accuracy: 0.6696 - val_loss: 0.6633 - val_accuracy: 0.5948\n",
      "Epoch 40/200\n",
      "10/10 - 0s - loss: 0.6323 - accuracy: 0.6717 - val_loss: 0.6864 - val_accuracy: 0.5776\n",
      "Epoch 41/200\n",
      "10/10 - 0s - loss: 0.6333 - accuracy: 0.6674 - val_loss: 0.6645 - val_accuracy: 0.5862\n",
      "Epoch 42/200\n",
      "10/10 - 0s - loss: 0.6309 - accuracy: 0.6674 - val_loss: 0.6713 - val_accuracy: 0.5948\n",
      "Epoch 43/200\n",
      "10/10 - 0s - loss: 0.6279 - accuracy: 0.6652 - val_loss: 0.6840 - val_accuracy: 0.5776\n",
      "Epoch 44/200\n",
      "10/10 - 0s - loss: 0.6368 - accuracy: 0.6674 - val_loss: 0.6644 - val_accuracy: 0.5948\n",
      "Epoch 45/200\n",
      "10/10 - 0s - loss: 0.6288 - accuracy: 0.6739 - val_loss: 0.6684 - val_accuracy: 0.5948\n",
      "Epoch 46/200\n",
      "10/10 - 0s - loss: 0.6268 - accuracy: 0.6674 - val_loss: 0.6790 - val_accuracy: 0.5862\n",
      "Epoch 47/200\n",
      "10/10 - 0s - loss: 0.6280 - accuracy: 0.6674 - val_loss: 0.6612 - val_accuracy: 0.5948\n",
      "Epoch 48/200\n",
      "10/10 - 0s - loss: 0.6257 - accuracy: 0.6739 - val_loss: 0.6608 - val_accuracy: 0.5948\n",
      "Epoch 49/200\n",
      "10/10 - 0s - loss: 0.6257 - accuracy: 0.6674 - val_loss: 0.6753 - val_accuracy: 0.5862\n",
      "Epoch 50/200\n",
      "10/10 - 0s - loss: 0.6244 - accuracy: 0.6674 - val_loss: 0.6664 - val_accuracy: 0.5948\n",
      "Epoch 51/200\n",
      "10/10 - 0s - loss: 0.6312 - accuracy: 0.6652 - val_loss: 0.6539 - val_accuracy: 0.6034\n",
      "Epoch 52/200\n",
      "10/10 - 0s - loss: 0.6267 - accuracy: 0.6717 - val_loss: 0.6774 - val_accuracy: 0.5862\n",
      "Epoch 53/200\n",
      "10/10 - 0s - loss: 0.6243 - accuracy: 0.6674 - val_loss: 0.6745 - val_accuracy: 0.5862\n",
      "Epoch 54/200\n",
      "10/10 - 0s - loss: 0.6247 - accuracy: 0.6630 - val_loss: 0.6592 - val_accuracy: 0.6034\n",
      "Epoch 55/200\n",
      "10/10 - 0s - loss: 0.6253 - accuracy: 0.6696 - val_loss: 0.6615 - val_accuracy: 0.5948\n",
      "Epoch 56/200\n",
      "10/10 - 0s - loss: 0.6246 - accuracy: 0.6717 - val_loss: 0.6801 - val_accuracy: 0.5862\n",
      "Epoch 57/200\n",
      "10/10 - 0s - loss: 0.6183 - accuracy: 0.6696 - val_loss: 0.6657 - val_accuracy: 0.5948\n",
      "Epoch 58/200\n",
      "10/10 - 0s - loss: 0.6267 - accuracy: 0.6696 - val_loss: 0.6573 - val_accuracy: 0.5948\n",
      "Epoch 59/200\n",
      "10/10 - 0s - loss: 0.6224 - accuracy: 0.6696 - val_loss: 0.6699 - val_accuracy: 0.5948\n",
      "Epoch 60/200\n",
      "10/10 - 0s - loss: 0.6205 - accuracy: 0.6696 - val_loss: 0.6659 - val_accuracy: 0.5948\n",
      "Epoch 61/200\n",
      "10/10 - 0s - loss: 0.6229 - accuracy: 0.6696 - val_loss: 0.6645 - val_accuracy: 0.5948\n",
      "Epoch 62/200\n",
      "10/10 - 0s - loss: 0.6208 - accuracy: 0.6717 - val_loss: 0.6710 - val_accuracy: 0.5948\n",
      "Epoch 63/200\n",
      "10/10 - 0s - loss: 0.6177 - accuracy: 0.6717 - val_loss: 0.6677 - val_accuracy: 0.5948\n",
      "Epoch 64/200\n",
      "10/10 - 0s - loss: 0.6235 - accuracy: 0.6717 - val_loss: 0.6754 - val_accuracy: 0.5862\n",
      "Epoch 65/200\n",
      "10/10 - 0s - loss: 0.6287 - accuracy: 0.6674 - val_loss: 0.6853 - val_accuracy: 0.5862\n",
      "Epoch 66/200\n",
      "10/10 - 0s - loss: 0.6225 - accuracy: 0.6696 - val_loss: 0.6619 - val_accuracy: 0.5948\n",
      "Epoch 67/200\n",
      "10/10 - 0s - loss: 0.6168 - accuracy: 0.6717 - val_loss: 0.6713 - val_accuracy: 0.5948\n",
      "Epoch 68/200\n",
      "10/10 - 0s - loss: 0.6179 - accuracy: 0.6674 - val_loss: 0.6690 - val_accuracy: 0.5948\n",
      "Epoch 69/200\n",
      "10/10 - 0s - loss: 0.6179 - accuracy: 0.6674 - val_loss: 0.6720 - val_accuracy: 0.5948\n",
      "Epoch 70/200\n",
      "10/10 - 0s - loss: 0.6198 - accuracy: 0.6696 - val_loss: 0.6712 - val_accuracy: 0.5862\n",
      "Epoch 71/200\n",
      "10/10 - 0s - loss: 0.6158 - accuracy: 0.6652 - val_loss: 0.6824 - val_accuracy: 0.5862\n",
      "Epoch 72/200\n",
      "10/10 - 0s - loss: 0.6157 - accuracy: 0.6674 - val_loss: 0.6659 - val_accuracy: 0.5948\n",
      "Epoch 73/200\n",
      "10/10 - 0s - loss: 0.6164 - accuracy: 0.6739 - val_loss: 0.6613 - val_accuracy: 0.5948\n",
      "Epoch 74/200\n",
      "10/10 - 0s - loss: 0.6200 - accuracy: 0.6696 - val_loss: 0.6545 - val_accuracy: 0.5948\n",
      "Epoch 75/200\n",
      "10/10 - 0s - loss: 0.6178 - accuracy: 0.6652 - val_loss: 0.6702 - val_accuracy: 0.5948\n",
      "Epoch 76/200\n",
      "10/10 - 0s - loss: 0.6174 - accuracy: 0.6674 - val_loss: 0.6827 - val_accuracy: 0.5862\n",
      "Epoch 77/200\n",
      "10/10 - 0s - loss: 0.6153 - accuracy: 0.6652 - val_loss: 0.6709 - val_accuracy: 0.5862\n",
      "Epoch 78/200\n",
      "10/10 - 0s - loss: 0.6249 - accuracy: 0.6739 - val_loss: 0.6570 - val_accuracy: 0.6034\n",
      "Epoch 79/200\n",
      "10/10 - 0s - loss: 0.6201 - accuracy: 0.6717 - val_loss: 0.6625 - val_accuracy: 0.5948\n",
      "Epoch 80/200\n",
      "10/10 - 0s - loss: 0.6208 - accuracy: 0.6696 - val_loss: 0.6679 - val_accuracy: 0.5862\n",
      "Epoch 81/200\n",
      "10/10 - 0s - loss: 0.6114 - accuracy: 0.6717 - val_loss: 0.6561 - val_accuracy: 0.5948\n",
      "Epoch 82/200\n",
      "10/10 - 0s - loss: 0.6131 - accuracy: 0.6674 - val_loss: 0.6575 - val_accuracy: 0.5948\n",
      "Epoch 83/200\n",
      "10/10 - 0s - loss: 0.6115 - accuracy: 0.6696 - val_loss: 0.6659 - val_accuracy: 0.5948\n",
      "Epoch 84/200\n",
      "10/10 - 0s - loss: 0.6104 - accuracy: 0.6717 - val_loss: 0.6610 - val_accuracy: 0.5948\n",
      "Epoch 85/200\n",
      "10/10 - 0s - loss: 0.6127 - accuracy: 0.6717 - val_loss: 0.6642 - val_accuracy: 0.5948\n",
      "Epoch 86/200\n",
      "10/10 - 0s - loss: 0.6104 - accuracy: 0.6717 - val_loss: 0.6699 - val_accuracy: 0.5948\n",
      "Epoch 87/200\n",
      "10/10 - 0s - loss: 0.6099 - accuracy: 0.6717 - val_loss: 0.6636 - val_accuracy: 0.5948\n",
      "Epoch 88/200\n",
      "10/10 - 0s - loss: 0.6092 - accuracy: 0.6717 - val_loss: 0.6605 - val_accuracy: 0.5948\n",
      "Epoch 89/200\n",
      "10/10 - 0s - loss: 0.6106 - accuracy: 0.6696 - val_loss: 0.6672 - val_accuracy: 0.5948\n",
      "Epoch 90/200\n",
      "10/10 - 0s - loss: 0.6100 - accuracy: 0.6717 - val_loss: 0.6611 - val_accuracy: 0.5948\n",
      "Epoch 91/200\n",
      "10/10 - 0s - loss: 0.6120 - accuracy: 0.6696 - val_loss: 0.6538 - val_accuracy: 0.6293\n",
      "Epoch 92/200\n",
      "10/10 - 0s - loss: 0.6094 - accuracy: 0.6717 - val_loss: 0.6641 - val_accuracy: 0.5948\n",
      "Epoch 93/200\n",
      "10/10 - 0s - loss: 0.6071 - accuracy: 0.6739 - val_loss: 0.6683 - val_accuracy: 0.5948\n",
      "Epoch 94/200\n",
      "10/10 - 0s - loss: 0.6073 - accuracy: 0.6696 - val_loss: 0.6756 - val_accuracy: 0.5862\n",
      "Epoch 95/200\n",
      "10/10 - 0s - loss: 0.6173 - accuracy: 0.6696 - val_loss: 0.6640 - val_accuracy: 0.5948\n",
      "Epoch 96/200\n",
      "10/10 - 0s - loss: 0.6178 - accuracy: 0.6717 - val_loss: 0.6753 - val_accuracy: 0.5862\n",
      "Epoch 97/200\n",
      "10/10 - 0s - loss: 0.6083 - accuracy: 0.6739 - val_loss: 0.6653 - val_accuracy: 0.6034\n",
      "Epoch 98/200\n",
      "10/10 - 0s - loss: 0.6093 - accuracy: 0.6761 - val_loss: 0.6652 - val_accuracy: 0.6034\n",
      "Epoch 99/200\n",
      "10/10 - 0s - loss: 0.6067 - accuracy: 0.6739 - val_loss: 0.6661 - val_accuracy: 0.6034\n",
      "Epoch 100/200\n",
      "10/10 - 0s - loss: 0.6056 - accuracy: 0.6696 - val_loss: 0.6613 - val_accuracy: 0.6034\n",
      "Epoch 101/200\n",
      "10/10 - 0s - loss: 0.6088 - accuracy: 0.6674 - val_loss: 0.6795 - val_accuracy: 0.5862\n",
      "Epoch 102/200\n",
      "10/10 - 0s - loss: 0.6076 - accuracy: 0.6674 - val_loss: 0.6546 - val_accuracy: 0.6207\n",
      "Epoch 103/200\n",
      "10/10 - 0s - loss: 0.6125 - accuracy: 0.6717 - val_loss: 0.6605 - val_accuracy: 0.6034\n",
      "Epoch 104/200\n",
      "10/10 - 0s - loss: 0.6100 - accuracy: 0.6696 - val_loss: 0.6645 - val_accuracy: 0.5948\n",
      "Epoch 105/200\n",
      "10/10 - 0s - loss: 0.6142 - accuracy: 0.6717 - val_loss: 0.6661 - val_accuracy: 0.5948\n",
      "Epoch 106/200\n",
      "10/10 - 0s - loss: 0.6058 - accuracy: 0.6761 - val_loss: 0.6634 - val_accuracy: 0.6034\n",
      "Epoch 107/200\n",
      "10/10 - 0s - loss: 0.6047 - accuracy: 0.6761 - val_loss: 0.6658 - val_accuracy: 0.6034\n",
      "Epoch 108/200\n",
      "10/10 - 0s - loss: 0.6043 - accuracy: 0.6696 - val_loss: 0.6645 - val_accuracy: 0.6034\n",
      "Epoch 109/200\n",
      "10/10 - 0s - loss: 0.6170 - accuracy: 0.6739 - val_loss: 0.6532 - val_accuracy: 0.6207\n",
      "Epoch 110/200\n",
      "10/10 - 0s - loss: 0.6198 - accuracy: 0.6674 - val_loss: 0.6767 - val_accuracy: 0.5862\n",
      "Epoch 111/200\n",
      "10/10 - 0s - loss: 0.6150 - accuracy: 0.6652 - val_loss: 0.6536 - val_accuracy: 0.6207\n",
      "Epoch 112/200\n",
      "10/10 - 0s - loss: 0.6047 - accuracy: 0.6652 - val_loss: 0.6745 - val_accuracy: 0.5862\n",
      "Epoch 113/200\n",
      "10/10 - 0s - loss: 0.6020 - accuracy: 0.6717 - val_loss: 0.6574 - val_accuracy: 0.6034\n",
      "Epoch 114/200\n",
      "10/10 - 0s - loss: 0.6073 - accuracy: 0.6739 - val_loss: 0.6577 - val_accuracy: 0.6034\n",
      "Epoch 115/200\n",
      "10/10 - 0s - loss: 0.6113 - accuracy: 0.6739 - val_loss: 0.6663 - val_accuracy: 0.5948\n",
      "Epoch 116/200\n",
      "10/10 - 0s - loss: 0.6006 - accuracy: 0.6761 - val_loss: 0.6595 - val_accuracy: 0.6034\n",
      "Epoch 117/200\n",
      "10/10 - 0s - loss: 0.6126 - accuracy: 0.6652 - val_loss: 0.6496 - val_accuracy: 0.6207\n",
      "Epoch 118/200\n",
      "10/10 - 0s - loss: 0.5985 - accuracy: 0.6696 - val_loss: 0.6552 - val_accuracy: 0.6034\n",
      "Epoch 119/200\n",
      "10/10 - 0s - loss: 0.6057 - accuracy: 0.6696 - val_loss: 0.6632 - val_accuracy: 0.5948\n",
      "Epoch 120/200\n",
      "10/10 - 0s - loss: 0.6053 - accuracy: 0.6761 - val_loss: 0.6728 - val_accuracy: 0.6034\n",
      "Epoch 121/200\n",
      "10/10 - 0s - loss: 0.6000 - accuracy: 0.6674 - val_loss: 0.6453 - val_accuracy: 0.6293\n",
      "Epoch 122/200\n",
      "10/10 - 0s - loss: 0.6006 - accuracy: 0.6696 - val_loss: 0.6562 - val_accuracy: 0.6034\n",
      "Epoch 123/200\n",
      "10/10 - 0s - loss: 0.6034 - accuracy: 0.6717 - val_loss: 0.6710 - val_accuracy: 0.5862\n",
      "Epoch 124/200\n",
      "10/10 - 0s - loss: 0.5994 - accuracy: 0.6696 - val_loss: 0.6421 - val_accuracy: 0.6207\n",
      "Epoch 125/200\n",
      "10/10 - 0s - loss: 0.6071 - accuracy: 0.6717 - val_loss: 0.6442 - val_accuracy: 0.6293\n",
      "Epoch 126/200\n",
      "10/10 - 0s - loss: 0.5998 - accuracy: 0.6565 - val_loss: 0.6683 - val_accuracy: 0.5948\n",
      "Epoch 127/200\n",
      "10/10 - 0s - loss: 0.5973 - accuracy: 0.6761 - val_loss: 0.6571 - val_accuracy: 0.6034\n",
      "Epoch 128/200\n",
      "10/10 - 0s - loss: 0.5947 - accuracy: 0.6674 - val_loss: 0.6593 - val_accuracy: 0.6207\n",
      "Epoch 129/200\n",
      "10/10 - 0s - loss: 0.5981 - accuracy: 0.6717 - val_loss: 0.6515 - val_accuracy: 0.6207\n",
      "Epoch 130/200\n",
      "10/10 - 0s - loss: 0.5943 - accuracy: 0.6652 - val_loss: 0.6766 - val_accuracy: 0.6034\n",
      "Epoch 131/200\n",
      "10/10 - 0s - loss: 0.5944 - accuracy: 0.6739 - val_loss: 0.6634 - val_accuracy: 0.6034\n",
      "Epoch 132/200\n",
      "10/10 - 0s - loss: 0.5926 - accuracy: 0.6739 - val_loss: 0.6737 - val_accuracy: 0.6034\n",
      "Epoch 133/200\n",
      "10/10 - 0s - loss: 0.5940 - accuracy: 0.6761 - val_loss: 0.6591 - val_accuracy: 0.6121\n",
      "Epoch 134/200\n",
      "10/10 - 0s - loss: 0.5925 - accuracy: 0.6696 - val_loss: 0.6635 - val_accuracy: 0.6034\n",
      "Epoch 135/200\n",
      "10/10 - 0s - loss: 0.5939 - accuracy: 0.6696 - val_loss: 0.6736 - val_accuracy: 0.6034\n",
      "Epoch 136/200\n",
      "10/10 - 0s - loss: 0.5888 - accuracy: 0.6717 - val_loss: 0.6585 - val_accuracy: 0.6207\n",
      "Epoch 137/200\n",
      "10/10 - 0s - loss: 0.5908 - accuracy: 0.6717 - val_loss: 0.6663 - val_accuracy: 0.6207\n",
      "Epoch 138/200\n",
      "10/10 - 0s - loss: 0.5911 - accuracy: 0.6717 - val_loss: 0.6678 - val_accuracy: 0.6293\n",
      "Epoch 139/200\n",
      "10/10 - 0s - loss: 0.5912 - accuracy: 0.6696 - val_loss: 0.6736 - val_accuracy: 0.6034\n",
      "Epoch 140/200\n",
      "10/10 - 0s - loss: 0.5884 - accuracy: 0.6674 - val_loss: 0.6707 - val_accuracy: 0.6293\n",
      "Epoch 141/200\n",
      "10/10 - 0s - loss: 0.5860 - accuracy: 0.6739 - val_loss: 0.6660 - val_accuracy: 0.6293\n",
      "Epoch 142/200\n",
      "10/10 - 0s - loss: 0.5858 - accuracy: 0.6739 - val_loss: 0.6706 - val_accuracy: 0.6293\n",
      "Epoch 143/200\n",
      "10/10 - 0s - loss: 0.5841 - accuracy: 0.6804 - val_loss: 0.6907 - val_accuracy: 0.5948\n",
      "Epoch 144/200\n",
      "10/10 - 0s - loss: 0.5878 - accuracy: 0.6674 - val_loss: 0.6754 - val_accuracy: 0.6034\n",
      "Epoch 145/200\n",
      "10/10 - 0s - loss: 0.5864 - accuracy: 0.6717 - val_loss: 0.6775 - val_accuracy: 0.6034\n",
      "Epoch 146/200\n",
      "10/10 - 0s - loss: 0.5862 - accuracy: 0.6717 - val_loss: 0.6620 - val_accuracy: 0.6293\n",
      "Epoch 147/200\n",
      "10/10 - 0s - loss: 0.5859 - accuracy: 0.6848 - val_loss: 0.6692 - val_accuracy: 0.6293\n",
      "Epoch 148/200\n",
      "10/10 - 0s - loss: 0.5827 - accuracy: 0.6739 - val_loss: 0.6689 - val_accuracy: 0.6293\n",
      "Epoch 149/200\n",
      "10/10 - 0s - loss: 0.5804 - accuracy: 0.6739 - val_loss: 0.6721 - val_accuracy: 0.6207\n",
      "Epoch 150/200\n",
      "10/10 - 0s - loss: 0.5803 - accuracy: 0.6783 - val_loss: 0.6737 - val_accuracy: 0.6207\n",
      "Epoch 151/200\n",
      "10/10 - 0s - loss: 0.5826 - accuracy: 0.6674 - val_loss: 0.6661 - val_accuracy: 0.6379\n",
      "Epoch 152/200\n",
      "10/10 - 0s - loss: 0.5903 - accuracy: 0.6783 - val_loss: 0.6689 - val_accuracy: 0.6207\n",
      "Epoch 153/200\n",
      "10/10 - 0s - loss: 0.5877 - accuracy: 0.6848 - val_loss: 0.6719 - val_accuracy: 0.6379\n",
      "Epoch 154/200\n",
      "10/10 - 0s - loss: 0.5790 - accuracy: 0.6652 - val_loss: 0.6733 - val_accuracy: 0.6207\n",
      "Epoch 155/200\n",
      "10/10 - 0s - loss: 0.5753 - accuracy: 0.6696 - val_loss: 0.6717 - val_accuracy: 0.6207\n",
      "Epoch 156/200\n",
      "10/10 - 0s - loss: 0.5732 - accuracy: 0.6761 - val_loss: 0.6753 - val_accuracy: 0.6379\n",
      "Epoch 157/200\n",
      "10/10 - 0s - loss: 0.5747 - accuracy: 0.6957 - val_loss: 0.6710 - val_accuracy: 0.6466\n",
      "Epoch 158/200\n",
      "10/10 - 0s - loss: 0.5760 - accuracy: 0.7174 - val_loss: 0.6752 - val_accuracy: 0.6379\n",
      "Epoch 159/200\n",
      "10/10 - 0s - loss: 0.5763 - accuracy: 0.6913 - val_loss: 0.6873 - val_accuracy: 0.5948\n",
      "Epoch 160/200\n",
      "10/10 - 0s - loss: 0.5752 - accuracy: 0.6674 - val_loss: 0.6898 - val_accuracy: 0.5948\n",
      "Epoch 161/200\n",
      "10/10 - 0s - loss: 0.5754 - accuracy: 0.6761 - val_loss: 0.6786 - val_accuracy: 0.5948\n",
      "Epoch 162/200\n",
      "10/10 - 0s - loss: 0.5711 - accuracy: 0.6891 - val_loss: 0.6727 - val_accuracy: 0.6207\n",
      "Epoch 163/200\n",
      "10/10 - 0s - loss: 0.5786 - accuracy: 0.7109 - val_loss: 0.6639 - val_accuracy: 0.6552\n",
      "Epoch 164/200\n",
      "10/10 - 0s - loss: 0.5710 - accuracy: 0.7043 - val_loss: 0.6736 - val_accuracy: 0.6034\n",
      "Epoch 165/200\n",
      "10/10 - 0s - loss: 0.5705 - accuracy: 0.6891 - val_loss: 0.6766 - val_accuracy: 0.5948\n",
      "Epoch 166/200\n",
      "10/10 - 0s - loss: 0.5697 - accuracy: 0.6913 - val_loss: 0.6714 - val_accuracy: 0.6466\n",
      "Epoch 167/200\n",
      "10/10 - 0s - loss: 0.5703 - accuracy: 0.6957 - val_loss: 0.6699 - val_accuracy: 0.6379\n",
      "Epoch 168/200\n",
      "10/10 - 0s - loss: 0.5771 - accuracy: 0.7174 - val_loss: 0.6667 - val_accuracy: 0.6552\n",
      "Epoch 169/200\n",
      "10/10 - 0s - loss: 0.5749 - accuracy: 0.6935 - val_loss: 0.6801 - val_accuracy: 0.6121\n",
      "Epoch 170/200\n",
      "10/10 - 0s - loss: 0.5704 - accuracy: 0.7022 - val_loss: 0.6679 - val_accuracy: 0.6379\n",
      "Epoch 171/200\n",
      "10/10 - 0s - loss: 0.5643 - accuracy: 0.7065 - val_loss: 0.6759 - val_accuracy: 0.6293\n",
      "Epoch 172/200\n",
      "10/10 - 0s - loss: 0.5659 - accuracy: 0.7022 - val_loss: 0.6705 - val_accuracy: 0.6293\n",
      "Epoch 173/200\n",
      "10/10 - 0s - loss: 0.5637 - accuracy: 0.7043 - val_loss: 0.6685 - val_accuracy: 0.6379\n",
      "Epoch 174/200\n",
      "10/10 - 0s - loss: 0.5637 - accuracy: 0.7152 - val_loss: 0.6699 - val_accuracy: 0.6379\n",
      "Epoch 175/200\n",
      "10/10 - 0s - loss: 0.5685 - accuracy: 0.6957 - val_loss: 0.6740 - val_accuracy: 0.6207\n",
      "Epoch 176/200\n",
      "10/10 - 0s - loss: 0.5773 - accuracy: 0.7152 - val_loss: 0.6669 - val_accuracy: 0.6724\n",
      "Epoch 177/200\n",
      "10/10 - 0s - loss: 0.5789 - accuracy: 0.6978 - val_loss: 0.6777 - val_accuracy: 0.5948\n",
      "Epoch 178/200\n",
      "10/10 - 0s - loss: 0.5637 - accuracy: 0.6891 - val_loss: 0.6830 - val_accuracy: 0.6121\n",
      "Epoch 179/200\n",
      "10/10 - 0s - loss: 0.5681 - accuracy: 0.7174 - val_loss: 0.6609 - val_accuracy: 0.6983\n",
      "Epoch 180/200\n",
      "10/10 - 0s - loss: 0.5667 - accuracy: 0.7065 - val_loss: 0.6722 - val_accuracy: 0.6379\n",
      "Epoch 181/200\n",
      "10/10 - 0s - loss: 0.5595 - accuracy: 0.7152 - val_loss: 0.6668 - val_accuracy: 0.6810\n",
      "Epoch 182/200\n",
      "10/10 - 0s - loss: 0.5591 - accuracy: 0.7174 - val_loss: 0.6678 - val_accuracy: 0.6379\n",
      "Epoch 183/200\n",
      "10/10 - 0s - loss: 0.5576 - accuracy: 0.7174 - val_loss: 0.6742 - val_accuracy: 0.6466\n",
      "Epoch 184/200\n",
      "10/10 - 0s - loss: 0.5633 - accuracy: 0.7174 - val_loss: 0.6648 - val_accuracy: 0.6638\n",
      "Epoch 185/200\n",
      "10/10 - 0s - loss: 0.5579 - accuracy: 0.7065 - val_loss: 0.6722 - val_accuracy: 0.6207\n",
      "Epoch 186/200\n",
      "10/10 - 0s - loss: 0.5571 - accuracy: 0.7152 - val_loss: 0.6658 - val_accuracy: 0.6724\n",
      "Epoch 187/200\n",
      "10/10 - 0s - loss: 0.5572 - accuracy: 0.7239 - val_loss: 0.6628 - val_accuracy: 0.6638\n",
      "Epoch 188/200\n",
      "10/10 - 0s - loss: 0.5560 - accuracy: 0.7217 - val_loss: 0.6661 - val_accuracy: 0.6638\n",
      "Epoch 189/200\n",
      "10/10 - 0s - loss: 0.5562 - accuracy: 0.7152 - val_loss: 0.6698 - val_accuracy: 0.6207\n",
      "Epoch 190/200\n",
      "10/10 - 0s - loss: 0.5579 - accuracy: 0.7109 - val_loss: 0.6715 - val_accuracy: 0.6207\n",
      "Epoch 191/200\n",
      "10/10 - 0s - loss: 0.5534 - accuracy: 0.7196 - val_loss: 0.6643 - val_accuracy: 0.6552\n",
      "Epoch 192/200\n",
      "10/10 - 0s - loss: 0.5571 - accuracy: 0.7326 - val_loss: 0.6708 - val_accuracy: 0.6724\n",
      "Epoch 193/200\n",
      "10/10 - 0s - loss: 0.5668 - accuracy: 0.7239 - val_loss: 0.6690 - val_accuracy: 0.6638\n",
      "Epoch 194/200\n",
      "10/10 - 0s - loss: 0.5730 - accuracy: 0.7043 - val_loss: 0.6664 - val_accuracy: 0.6638\n",
      "Epoch 195/200\n",
      "10/10 - 0s - loss: 0.5766 - accuracy: 0.7022 - val_loss: 0.6798 - val_accuracy: 0.5862\n",
      "Epoch 196/200\n",
      "10/10 - 0s - loss: 0.5728 - accuracy: 0.6848 - val_loss: 0.6799 - val_accuracy: 0.5948\n",
      "Epoch 197/200\n",
      "10/10 - 0s - loss: 0.5609 - accuracy: 0.6935 - val_loss: 0.6749 - val_accuracy: 0.6207\n",
      "Epoch 198/200\n",
      "10/10 - 0s - loss: 0.5575 - accuracy: 0.7239 - val_loss: 0.6608 - val_accuracy: 0.6724\n",
      "Epoch 199/200\n",
      "10/10 - 0s - loss: 0.5567 - accuracy: 0.7304 - val_loss: 0.6651 - val_accuracy: 0.6638\n",
      "Epoch 200/200\n",
      "10/10 - 0s - loss: 0.5502 - accuracy: 0.7152 - val_loss: 0.6748 - val_accuracy: 0.6466\n"
     ]
    }
   ],
   "source": [
    "history3= model3.fit(X_train,y_train,validation_split=0.2,epochs=200,batch_size=50,verbose=2)"
   ]
  },
  {
   "cell_type": "code",
   "execution_count": 21,
   "metadata": {},
   "outputs": [
    {
     "output_type": "stream",
     "name": "stdout",
     "text": [
      "6/6 [==============================] - 0s 1ms/step - loss: 0.5563 - accuracy: 0.7448\n"
     ]
    },
    {
     "output_type": "execute_result",
     "data": {
      "text/plain": [
       "[0.5562655329704285, 0.7447916865348816]"
      ]
     },
     "metadata": {},
     "execution_count": 21
    }
   ],
   "source": [
    "model3.evaluate(X_test,y_test)"
   ]
  },
  {
   "source": [
    "Min-Max Scaling"
   ],
   "cell_type": "markdown",
   "metadata": {}
  },
  {
   "cell_type": "code",
   "execution_count": 22,
   "metadata": {},
   "outputs": [],
   "source": [
    "from sklearn.preprocessing import MinMaxScaler\n",
    "\n",
    "scaler = MinMaxScaler()\n",
    "X_scaled = scaler.fit_transform(df.iloc[:,:-1].values)"
   ]
  },
  {
   "cell_type": "code",
   "execution_count": 23,
   "metadata": {},
   "outputs": [
    {
     "output_type": "execute_result",
     "data": {
      "text/plain": [
       "((576, 8), (192, 8), (576,), (192,))"
      ]
     },
     "metadata": {},
     "execution_count": 23
    }
   ],
   "source": [
    "X_train, X_test, y_train, y_test = train_test_split(X_scaled, df.iloc[:,-1].values,\n",
    "stratify=df.iloc[:,-1].values,random_state=2021)\n",
    "\n",
    "X_train.shape, X_test.shape, y_train.shape, y_test.shape"
   ]
  },
  {
   "cell_type": "code",
   "execution_count": 24,
   "metadata": {},
   "outputs": [
    {
     "output_type": "stream",
     "name": "stdout",
     "text": [
      "Model: \"sequential_3\"\n_________________________________________________________________\nLayer (type)                 Output Shape              Param #   \n=================================================================\ndense_9 (Dense)              (None, 12)                108       \n_________________________________________________________________\ndense_10 (Dense)             (None, 8)                 104       \n_________________________________________________________________\ndense_11 (Dense)             (None, 4)                 36        \n_________________________________________________________________\ndense_12 (Dense)             (None, 1)                 5         \n=================================================================\nTotal params: 253\nTrainable params: 253\nNon-trainable params: 0\n_________________________________________________________________\n"
     ]
    }
   ],
   "source": [
    "model4 = Sequential()\n",
    "model4.add(Dense(12,input_dim=8,activation='relu'))\n",
    "model4.add(Dense(8,activation='relu'))\n",
    "model4.add(Dense(4,activation='relu'))\n",
    "model4.add(Dense(1,activation='sigmoid'))\n",
    "\n",
    "model4.summary()"
   ]
  },
  {
   "cell_type": "code",
   "execution_count": 25,
   "metadata": {},
   "outputs": [],
   "source": [
    "model4.compile(\n",
    "    loss = 'binary_crossentropy',\n",
    "    optimizer='adam',\n",
    "    metrics=['accuracy']\n",
    ")"
   ]
  },
  {
   "cell_type": "code",
   "execution_count": 26,
   "metadata": {
    "tags": [
     "outputPrepend"
    ]
   },
   "outputs": [
    {
     "output_type": "stream",
     "name": "stdout",
     "text": [
      "0.6034\n",
      "Epoch 2/200\n",
      "10/10 - 0s - loss: 0.6766 - accuracy: 0.6674 - val_loss: 0.6938 - val_accuracy: 0.5862\n",
      "Epoch 3/200\n",
      "10/10 - 0s - loss: 0.6698 - accuracy: 0.6674 - val_loss: 0.6936 - val_accuracy: 0.5862\n",
      "Epoch 4/200\n",
      "10/10 - 0s - loss: 0.6661 - accuracy: 0.6674 - val_loss: 0.6943 - val_accuracy: 0.5862\n",
      "Epoch 5/200\n",
      "10/10 - 0s - loss: 0.6624 - accuracy: 0.6674 - val_loss: 0.6949 - val_accuracy: 0.5862\n",
      "Epoch 6/200\n",
      "10/10 - 0s - loss: 0.6604 - accuracy: 0.6674 - val_loss: 0.6954 - val_accuracy: 0.5862\n",
      "Epoch 7/200\n",
      "10/10 - 0s - loss: 0.6583 - accuracy: 0.6674 - val_loss: 0.6952 - val_accuracy: 0.5862\n",
      "Epoch 8/200\n",
      "10/10 - 0s - loss: 0.6570 - accuracy: 0.6674 - val_loss: 0.6958 - val_accuracy: 0.5862\n",
      "Epoch 9/200\n",
      "10/10 - 0s - loss: 0.6552 - accuracy: 0.6674 - val_loss: 0.6958 - val_accuracy: 0.5862\n",
      "Epoch 10/200\n",
      "10/10 - 0s - loss: 0.6538 - accuracy: 0.6674 - val_loss: 0.6957 - val_accuracy: 0.5862\n",
      "Epoch 11/200\n",
      "10/10 - 0s - loss: 0.6528 - accuracy: 0.6674 - val_loss: 0.6973 - val_accuracy: 0.5862\n",
      "Epoch 12/200\n",
      "10/10 - 0s - loss: 0.6514 - accuracy: 0.6674 - val_loss: 0.6980 - val_accuracy: 0.5862\n",
      "Epoch 13/200\n",
      "10/10 - 0s - loss: 0.6501 - accuracy: 0.6674 - val_loss: 0.6983 - val_accuracy: 0.5862\n",
      "Epoch 14/200\n",
      "10/10 - 0s - loss: 0.6493 - accuracy: 0.6674 - val_loss: 0.6977 - val_accuracy: 0.5862\n",
      "Epoch 15/200\n",
      "10/10 - 0s - loss: 0.6485 - accuracy: 0.6674 - val_loss: 0.6987 - val_accuracy: 0.5862\n",
      "Epoch 16/200\n",
      "10/10 - 0s - loss: 0.6474 - accuracy: 0.6674 - val_loss: 0.6976 - val_accuracy: 0.5862\n",
      "Epoch 17/200\n",
      "10/10 - 0s - loss: 0.6465 - accuracy: 0.6674 - val_loss: 0.6961 - val_accuracy: 0.5862\n",
      "Epoch 18/200\n",
      "10/10 - 0s - loss: 0.6456 - accuracy: 0.6674 - val_loss: 0.6936 - val_accuracy: 0.5862\n",
      "Epoch 19/200\n",
      "10/10 - 0s - loss: 0.6448 - accuracy: 0.6674 - val_loss: 0.6927 - val_accuracy: 0.5862\n",
      "Epoch 20/200\n",
      "10/10 - 0s - loss: 0.6441 - accuracy: 0.6674 - val_loss: 0.6934 - val_accuracy: 0.5862\n",
      "Epoch 21/200\n",
      "10/10 - 0s - loss: 0.6429 - accuracy: 0.6674 - val_loss: 0.6922 - val_accuracy: 0.5862\n",
      "Epoch 22/200\n",
      "10/10 - 0s - loss: 0.6422 - accuracy: 0.6674 - val_loss: 0.6926 - val_accuracy: 0.5862\n",
      "Epoch 23/200\n",
      "10/10 - 0s - loss: 0.6410 - accuracy: 0.6674 - val_loss: 0.6907 - val_accuracy: 0.5862\n",
      "Epoch 24/200\n",
      "10/10 - 0s - loss: 0.6399 - accuracy: 0.6674 - val_loss: 0.6906 - val_accuracy: 0.5862\n",
      "Epoch 25/200\n",
      "10/10 - 0s - loss: 0.6391 - accuracy: 0.6674 - val_loss: 0.6915 - val_accuracy: 0.5862\n",
      "Epoch 26/200\n",
      "10/10 - 0s - loss: 0.6380 - accuracy: 0.6674 - val_loss: 0.6905 - val_accuracy: 0.5862\n",
      "Epoch 27/200\n",
      "10/10 - 0s - loss: 0.6371 - accuracy: 0.6674 - val_loss: 0.6883 - val_accuracy: 0.5862\n",
      "Epoch 28/200\n",
      "10/10 - 0s - loss: 0.6356 - accuracy: 0.6674 - val_loss: 0.6880 - val_accuracy: 0.5862\n",
      "Epoch 29/200\n",
      "10/10 - 0s - loss: 0.6345 - accuracy: 0.6674 - val_loss: 0.6880 - val_accuracy: 0.5862\n",
      "Epoch 30/200\n",
      "10/10 - 0s - loss: 0.6332 - accuracy: 0.6674 - val_loss: 0.6862 - val_accuracy: 0.5862\n",
      "Epoch 31/200\n",
      "10/10 - 0s - loss: 0.6319 - accuracy: 0.6674 - val_loss: 0.6839 - val_accuracy: 0.5862\n",
      "Epoch 32/200\n",
      "10/10 - 0s - loss: 0.6304 - accuracy: 0.6674 - val_loss: 0.6794 - val_accuracy: 0.5862\n",
      "Epoch 33/200\n",
      "10/10 - 0s - loss: 0.6282 - accuracy: 0.6674 - val_loss: 0.6742 - val_accuracy: 0.5862\n",
      "Epoch 34/200\n",
      "10/10 - 0s - loss: 0.6244 - accuracy: 0.6674 - val_loss: 0.6653 - val_accuracy: 0.5862\n",
      "Epoch 35/200\n",
      "10/10 - 0s - loss: 0.6220 - accuracy: 0.6674 - val_loss: 0.6605 - val_accuracy: 0.5862\n",
      "Epoch 36/200\n",
      "10/10 - 0s - loss: 0.6181 - accuracy: 0.6696 - val_loss: 0.6606 - val_accuracy: 0.5862\n",
      "Epoch 37/200\n",
      "10/10 - 0s - loss: 0.6151 - accuracy: 0.6696 - val_loss: 0.6595 - val_accuracy: 0.5776\n",
      "Epoch 38/200\n",
      "10/10 - 0s - loss: 0.6125 - accuracy: 0.6696 - val_loss: 0.6567 - val_accuracy: 0.5776\n",
      "Epoch 39/200\n",
      "10/10 - 0s - loss: 0.6093 - accuracy: 0.6739 - val_loss: 0.6475 - val_accuracy: 0.5776\n",
      "Epoch 40/200\n",
      "10/10 - 0s - loss: 0.6060 - accuracy: 0.6739 - val_loss: 0.6497 - val_accuracy: 0.5776\n",
      "Epoch 41/200\n",
      "10/10 - 0s - loss: 0.6027 - accuracy: 0.6761 - val_loss: 0.6461 - val_accuracy: 0.5776\n",
      "Epoch 42/200\n",
      "10/10 - 0s - loss: 0.5996 - accuracy: 0.6761 - val_loss: 0.6415 - val_accuracy: 0.5948\n",
      "Epoch 43/200\n",
      "10/10 - 0s - loss: 0.5961 - accuracy: 0.6804 - val_loss: 0.6400 - val_accuracy: 0.5948\n",
      "Epoch 44/200\n",
      "10/10 - 0s - loss: 0.5930 - accuracy: 0.6804 - val_loss: 0.6381 - val_accuracy: 0.5948\n",
      "Epoch 45/200\n",
      "10/10 - 0s - loss: 0.5896 - accuracy: 0.6804 - val_loss: 0.6364 - val_accuracy: 0.5948\n",
      "Epoch 46/200\n",
      "10/10 - 0s - loss: 0.5865 - accuracy: 0.6848 - val_loss: 0.6308 - val_accuracy: 0.5948\n",
      "Epoch 47/200\n",
      "10/10 - 0s - loss: 0.5828 - accuracy: 0.6870 - val_loss: 0.6298 - val_accuracy: 0.5948\n",
      "Epoch 48/200\n",
      "10/10 - 0s - loss: 0.5783 - accuracy: 0.6913 - val_loss: 0.6244 - val_accuracy: 0.6034\n",
      "Epoch 49/200\n",
      "10/10 - 0s - loss: 0.5742 - accuracy: 0.6935 - val_loss: 0.6198 - val_accuracy: 0.6034\n",
      "Epoch 50/200\n",
      "10/10 - 0s - loss: 0.5696 - accuracy: 0.7000 - val_loss: 0.6110 - val_accuracy: 0.6293\n",
      "Epoch 51/200\n",
      "10/10 - 0s - loss: 0.5681 - accuracy: 0.7065 - val_loss: 0.6001 - val_accuracy: 0.6810\n",
      "Epoch 52/200\n",
      "10/10 - 0s - loss: 0.5624 - accuracy: 0.7022 - val_loss: 0.6072 - val_accuracy: 0.6379\n",
      "Epoch 53/200\n",
      "10/10 - 0s - loss: 0.5577 - accuracy: 0.7109 - val_loss: 0.6040 - val_accuracy: 0.6638\n",
      "Epoch 54/200\n",
      "10/10 - 0s - loss: 0.5537 - accuracy: 0.7130 - val_loss: 0.5928 - val_accuracy: 0.6810\n",
      "Epoch 55/200\n",
      "10/10 - 0s - loss: 0.5504 - accuracy: 0.7217 - val_loss: 0.5884 - val_accuracy: 0.6810\n",
      "Epoch 56/200\n",
      "10/10 - 0s - loss: 0.5466 - accuracy: 0.7065 - val_loss: 0.5901 - val_accuracy: 0.6810\n",
      "Epoch 57/200\n",
      "10/10 - 0s - loss: 0.5421 - accuracy: 0.7152 - val_loss: 0.5847 - val_accuracy: 0.6724\n",
      "Epoch 58/200\n",
      "10/10 - 0s - loss: 0.5395 - accuracy: 0.7391 - val_loss: 0.5757 - val_accuracy: 0.6724\n",
      "Epoch 59/200\n",
      "10/10 - 0s - loss: 0.5361 - accuracy: 0.7391 - val_loss: 0.5751 - val_accuracy: 0.6724\n",
      "Epoch 60/200\n",
      "10/10 - 0s - loss: 0.5320 - accuracy: 0.7457 - val_loss: 0.5751 - val_accuracy: 0.6724\n",
      "Epoch 61/200\n",
      "10/10 - 0s - loss: 0.5289 - accuracy: 0.7478 - val_loss: 0.5674 - val_accuracy: 0.6724\n",
      "Epoch 62/200\n",
      "10/10 - 0s - loss: 0.5257 - accuracy: 0.7478 - val_loss: 0.5696 - val_accuracy: 0.6724\n",
      "Epoch 63/200\n",
      "10/10 - 0s - loss: 0.5218 - accuracy: 0.7500 - val_loss: 0.5658 - val_accuracy: 0.6724\n",
      "Epoch 64/200\n",
      "10/10 - 0s - loss: 0.5190 - accuracy: 0.7543 - val_loss: 0.5640 - val_accuracy: 0.6724\n",
      "Epoch 65/200\n",
      "10/10 - 0s - loss: 0.5198 - accuracy: 0.7413 - val_loss: 0.5759 - val_accuracy: 0.6638\n",
      "Epoch 66/200\n",
      "10/10 - 0s - loss: 0.5152 - accuracy: 0.7522 - val_loss: 0.5587 - val_accuracy: 0.6810\n",
      "Epoch 67/200\n",
      "10/10 - 0s - loss: 0.5101 - accuracy: 0.7630 - val_loss: 0.5617 - val_accuracy: 0.6552\n",
      "Epoch 68/200\n",
      "10/10 - 0s - loss: 0.5083 - accuracy: 0.7652 - val_loss: 0.5643 - val_accuracy: 0.6552\n",
      "Epoch 69/200\n",
      "10/10 - 0s - loss: 0.5056 - accuracy: 0.7717 - val_loss: 0.5563 - val_accuracy: 0.6552\n",
      "Epoch 70/200\n",
      "10/10 - 0s - loss: 0.5020 - accuracy: 0.7804 - val_loss: 0.5593 - val_accuracy: 0.6466\n",
      "Epoch 71/200\n",
      "10/10 - 0s - loss: 0.5003 - accuracy: 0.7761 - val_loss: 0.5618 - val_accuracy: 0.6552\n",
      "Epoch 72/200\n",
      "10/10 - 0s - loss: 0.5009 - accuracy: 0.7696 - val_loss: 0.5620 - val_accuracy: 0.6466\n",
      "Epoch 73/200\n",
      "10/10 - 0s - loss: 0.4939 - accuracy: 0.7826 - val_loss: 0.5451 - val_accuracy: 0.6638\n",
      "Epoch 74/200\n",
      "10/10 - 0s - loss: 0.4976 - accuracy: 0.7652 - val_loss: 0.5380 - val_accuracy: 0.7155\n",
      "Epoch 75/200\n",
      "10/10 - 0s - loss: 0.4943 - accuracy: 0.7761 - val_loss: 0.5505 - val_accuracy: 0.6466\n",
      "Epoch 76/200\n",
      "10/10 - 0s - loss: 0.4900 - accuracy: 0.7783 - val_loss: 0.5630 - val_accuracy: 0.6552\n",
      "Epoch 77/200\n",
      "10/10 - 0s - loss: 0.4887 - accuracy: 0.7739 - val_loss: 0.5507 - val_accuracy: 0.6466\n",
      "Epoch 78/200\n",
      "10/10 - 0s - loss: 0.4926 - accuracy: 0.7913 - val_loss: 0.5342 - val_accuracy: 0.7155\n",
      "Epoch 79/200\n",
      "10/10 - 0s - loss: 0.4846 - accuracy: 0.7696 - val_loss: 0.5481 - val_accuracy: 0.6638\n",
      "Epoch 80/200\n",
      "10/10 - 0s - loss: 0.4847 - accuracy: 0.7848 - val_loss: 0.5577 - val_accuracy: 0.6552\n",
      "Epoch 81/200\n",
      "10/10 - 0s - loss: 0.4801 - accuracy: 0.7913 - val_loss: 0.5397 - val_accuracy: 0.6810\n",
      "Epoch 82/200\n",
      "10/10 - 0s - loss: 0.4817 - accuracy: 0.7717 - val_loss: 0.5345 - val_accuracy: 0.7069\n",
      "Epoch 83/200\n",
      "10/10 - 0s - loss: 0.4761 - accuracy: 0.7870 - val_loss: 0.5492 - val_accuracy: 0.6638\n",
      "Epoch 84/200\n",
      "10/10 - 0s - loss: 0.4760 - accuracy: 0.7891 - val_loss: 0.5432 - val_accuracy: 0.6724\n",
      "Epoch 85/200\n",
      "10/10 - 0s - loss: 0.4739 - accuracy: 0.7804 - val_loss: 0.5342 - val_accuracy: 0.7069\n",
      "Epoch 86/200\n",
      "10/10 - 0s - loss: 0.4712 - accuracy: 0.7891 - val_loss: 0.5424 - val_accuracy: 0.6897\n",
      "Epoch 87/200\n",
      "10/10 - 0s - loss: 0.4696 - accuracy: 0.7935 - val_loss: 0.5461 - val_accuracy: 0.6724\n",
      "Epoch 88/200\n",
      "10/10 - 0s - loss: 0.4690 - accuracy: 0.7913 - val_loss: 0.5392 - val_accuracy: 0.6983\n",
      "Epoch 89/200\n",
      "10/10 - 0s - loss: 0.4659 - accuracy: 0.7891 - val_loss: 0.5309 - val_accuracy: 0.6983\n",
      "Epoch 90/200\n",
      "10/10 - 0s - loss: 0.4674 - accuracy: 0.7804 - val_loss: 0.5354 - val_accuracy: 0.7069\n",
      "Epoch 91/200\n",
      "10/10 - 0s - loss: 0.4682 - accuracy: 0.7848 - val_loss: 0.5485 - val_accuracy: 0.6897\n",
      "Epoch 92/200\n",
      "10/10 - 0s - loss: 0.4623 - accuracy: 0.7913 - val_loss: 0.5346 - val_accuracy: 0.6983\n",
      "Epoch 93/200\n",
      "10/10 - 0s - loss: 0.4630 - accuracy: 0.7978 - val_loss: 0.5351 - val_accuracy: 0.7069\n",
      "Epoch 94/200\n",
      "10/10 - 0s - loss: 0.4629 - accuracy: 0.7978 - val_loss: 0.5443 - val_accuracy: 0.6897\n",
      "Epoch 95/200\n",
      "10/10 - 0s - loss: 0.4599 - accuracy: 0.7935 - val_loss: 0.5346 - val_accuracy: 0.7155\n",
      "Epoch 96/200\n",
      "10/10 - 0s - loss: 0.4598 - accuracy: 0.7935 - val_loss: 0.5406 - val_accuracy: 0.6983\n",
      "Epoch 97/200\n",
      "10/10 - 0s - loss: 0.4579 - accuracy: 0.7913 - val_loss: 0.5377 - val_accuracy: 0.6897\n",
      "Epoch 98/200\n",
      "10/10 - 0s - loss: 0.4563 - accuracy: 0.8000 - val_loss: 0.5363 - val_accuracy: 0.6983\n",
      "Epoch 99/200\n",
      "10/10 - 0s - loss: 0.4560 - accuracy: 0.8000 - val_loss: 0.5362 - val_accuracy: 0.6983\n",
      "Epoch 100/200\n",
      "10/10 - 0s - loss: 0.4544 - accuracy: 0.8000 - val_loss: 0.5368 - val_accuracy: 0.7069\n",
      "Epoch 101/200\n",
      "10/10 - 0s - loss: 0.4572 - accuracy: 0.7957 - val_loss: 0.5507 - val_accuracy: 0.6810\n",
      "Epoch 102/200\n",
      "10/10 - 0s - loss: 0.4531 - accuracy: 0.7935 - val_loss: 0.5304 - val_accuracy: 0.7069\n",
      "Epoch 103/200\n",
      "10/10 - 0s - loss: 0.4534 - accuracy: 0.7978 - val_loss: 0.5344 - val_accuracy: 0.7155\n",
      "Epoch 104/200\n",
      "10/10 - 0s - loss: 0.4515 - accuracy: 0.7935 - val_loss: 0.5303 - val_accuracy: 0.7328\n",
      "Epoch 105/200\n",
      "10/10 - 0s - loss: 0.4508 - accuracy: 0.7913 - val_loss: 0.5359 - val_accuracy: 0.7069\n",
      "Epoch 106/200\n",
      "10/10 - 0s - loss: 0.4487 - accuracy: 0.8022 - val_loss: 0.5400 - val_accuracy: 0.7069\n",
      "Epoch 107/200\n",
      "10/10 - 0s - loss: 0.4493 - accuracy: 0.7913 - val_loss: 0.5499 - val_accuracy: 0.6983\n",
      "Epoch 108/200\n",
      "10/10 - 0s - loss: 0.4489 - accuracy: 0.7957 - val_loss: 0.5417 - val_accuracy: 0.6897\n",
      "Epoch 109/200\n",
      "10/10 - 0s - loss: 0.4540 - accuracy: 0.7978 - val_loss: 0.5253 - val_accuracy: 0.7241\n",
      "Epoch 110/200\n",
      "10/10 - 0s - loss: 0.4496 - accuracy: 0.7978 - val_loss: 0.5487 - val_accuracy: 0.6810\n",
      "Epoch 111/200\n",
      "10/10 - 0s - loss: 0.4524 - accuracy: 0.7826 - val_loss: 0.5288 - val_accuracy: 0.7328\n",
      "Epoch 112/200\n",
      "10/10 - 0s - loss: 0.4430 - accuracy: 0.7935 - val_loss: 0.5609 - val_accuracy: 0.6724\n",
      "Epoch 113/200\n",
      "10/10 - 0s - loss: 0.4460 - accuracy: 0.8000 - val_loss: 0.5459 - val_accuracy: 0.6897\n",
      "Epoch 114/200\n",
      "10/10 - 0s - loss: 0.4435 - accuracy: 0.7935 - val_loss: 0.5328 - val_accuracy: 0.7414\n",
      "Epoch 115/200\n",
      "10/10 - 0s - loss: 0.4420 - accuracy: 0.7978 - val_loss: 0.5431 - val_accuracy: 0.6897\n",
      "Epoch 116/200\n",
      "10/10 - 0s - loss: 0.4414 - accuracy: 0.7978 - val_loss: 0.5390 - val_accuracy: 0.7328\n",
      "Epoch 117/200\n",
      "10/10 - 0s - loss: 0.4407 - accuracy: 0.7978 - val_loss: 0.5469 - val_accuracy: 0.6983\n",
      "Epoch 118/200\n",
      "10/10 - 0s - loss: 0.4398 - accuracy: 0.8065 - val_loss: 0.5426 - val_accuracy: 0.7414\n",
      "Epoch 119/200\n",
      "10/10 - 0s - loss: 0.4418 - accuracy: 0.7913 - val_loss: 0.5363 - val_accuracy: 0.7241\n",
      "Epoch 120/200\n",
      "10/10 - 0s - loss: 0.4396 - accuracy: 0.8000 - val_loss: 0.5446 - val_accuracy: 0.6897\n",
      "Epoch 121/200\n",
      "10/10 - 0s - loss: 0.4380 - accuracy: 0.8043 - val_loss: 0.5413 - val_accuracy: 0.7069\n",
      "Epoch 122/200\n",
      "10/10 - 0s - loss: 0.4379 - accuracy: 0.8043 - val_loss: 0.5423 - val_accuracy: 0.6983\n",
      "Epoch 123/200\n",
      "10/10 - 0s - loss: 0.4386 - accuracy: 0.7978 - val_loss: 0.5482 - val_accuracy: 0.7069\n",
      "Epoch 124/200\n",
      "10/10 - 0s - loss: 0.4368 - accuracy: 0.8022 - val_loss: 0.5361 - val_accuracy: 0.7155\n",
      "Epoch 125/200\n",
      "10/10 - 0s - loss: 0.4377 - accuracy: 0.8043 - val_loss: 0.5425 - val_accuracy: 0.7241\n",
      "Epoch 126/200\n",
      "10/10 - 0s - loss: 0.4359 - accuracy: 0.8043 - val_loss: 0.5545 - val_accuracy: 0.6983\n",
      "Epoch 127/200\n",
      "10/10 - 0s - loss: 0.4344 - accuracy: 0.8022 - val_loss: 0.5411 - val_accuracy: 0.7241\n",
      "Epoch 128/200\n",
      "10/10 - 0s - loss: 0.4364 - accuracy: 0.8043 - val_loss: 0.5379 - val_accuracy: 0.7328\n",
      "Epoch 129/200\n",
      "10/10 - 0s - loss: 0.4365 - accuracy: 0.7935 - val_loss: 0.5412 - val_accuracy: 0.7241\n",
      "Epoch 130/200\n",
      "10/10 - 0s - loss: 0.4343 - accuracy: 0.8087 - val_loss: 0.5590 - val_accuracy: 0.6983\n",
      "Epoch 131/200\n",
      "10/10 - 0s - loss: 0.4369 - accuracy: 0.7978 - val_loss: 0.5507 - val_accuracy: 0.7155\n",
      "Epoch 132/200\n",
      "10/10 - 0s - loss: 0.4351 - accuracy: 0.8043 - val_loss: 0.5562 - val_accuracy: 0.7069\n",
      "Epoch 133/200\n",
      "10/10 - 0s - loss: 0.4346 - accuracy: 0.7978 - val_loss: 0.5422 - val_accuracy: 0.7241\n",
      "Epoch 134/200\n",
      "10/10 - 0s - loss: 0.4320 - accuracy: 0.8043 - val_loss: 0.5533 - val_accuracy: 0.7069\n",
      "Epoch 135/200\n",
      "10/10 - 0s - loss: 0.4339 - accuracy: 0.8087 - val_loss: 0.5604 - val_accuracy: 0.7069\n",
      "Epoch 136/200\n",
      "10/10 - 0s - loss: 0.4326 - accuracy: 0.7957 - val_loss: 0.5404 - val_accuracy: 0.7155\n",
      "Epoch 137/200\n",
      "10/10 - 0s - loss: 0.4318 - accuracy: 0.7957 - val_loss: 0.5458 - val_accuracy: 0.7069\n",
      "Epoch 138/200\n",
      "10/10 - 0s - loss: 0.4326 - accuracy: 0.7957 - val_loss: 0.5415 - val_accuracy: 0.7155\n",
      "Epoch 139/200\n",
      "10/10 - 0s - loss: 0.4314 - accuracy: 0.7957 - val_loss: 0.5438 - val_accuracy: 0.7328\n",
      "Epoch 140/200\n",
      "10/10 - 0s - loss: 0.4333 - accuracy: 0.8043 - val_loss: 0.5532 - val_accuracy: 0.7069\n",
      "Epoch 141/200\n",
      "10/10 - 0s - loss: 0.4303 - accuracy: 0.8065 - val_loss: 0.5451 - val_accuracy: 0.7241\n",
      "Epoch 142/200\n",
      "10/10 - 0s - loss: 0.4296 - accuracy: 0.8000 - val_loss: 0.5454 - val_accuracy: 0.7241\n",
      "Epoch 143/200\n",
      "10/10 - 0s - loss: 0.4291 - accuracy: 0.8109 - val_loss: 0.5575 - val_accuracy: 0.6983\n",
      "Epoch 144/200\n",
      "10/10 - 0s - loss: 0.4318 - accuracy: 0.8022 - val_loss: 0.5417 - val_accuracy: 0.7241\n",
      "Epoch 145/200\n",
      "10/10 - 0s - loss: 0.4287 - accuracy: 0.8043 - val_loss: 0.5614 - val_accuracy: 0.6983\n",
      "Epoch 146/200\n",
      "10/10 - 0s - loss: 0.4280 - accuracy: 0.8000 - val_loss: 0.5424 - val_accuracy: 0.7241\n",
      "Epoch 147/200\n",
      "10/10 - 0s - loss: 0.4282 - accuracy: 0.7978 - val_loss: 0.5433 - val_accuracy: 0.7241\n",
      "Epoch 148/200\n",
      "10/10 - 0s - loss: 0.4289 - accuracy: 0.8043 - val_loss: 0.5426 - val_accuracy: 0.7241\n",
      "Epoch 149/200\n",
      "10/10 - 0s - loss: 0.4278 - accuracy: 0.7978 - val_loss: 0.5553 - val_accuracy: 0.7069\n",
      "Epoch 150/200\n",
      "10/10 - 0s - loss: 0.4269 - accuracy: 0.7978 - val_loss: 0.5512 - val_accuracy: 0.7069\n",
      "Epoch 151/200\n",
      "10/10 - 0s - loss: 0.4278 - accuracy: 0.8022 - val_loss: 0.5481 - val_accuracy: 0.7069\n",
      "Epoch 152/200\n",
      "10/10 - 0s - loss: 0.4260 - accuracy: 0.8000 - val_loss: 0.5471 - val_accuracy: 0.7155\n",
      "Epoch 153/200\n",
      "10/10 - 0s - loss: 0.4291 - accuracy: 0.8043 - val_loss: 0.5400 - val_accuracy: 0.7155\n",
      "Epoch 154/200\n",
      "10/10 - 0s - loss: 0.4243 - accuracy: 0.8000 - val_loss: 0.5568 - val_accuracy: 0.6983\n",
      "Epoch 155/200\n",
      "10/10 - 0s - loss: 0.4246 - accuracy: 0.8043 - val_loss: 0.5493 - val_accuracy: 0.7241\n",
      "Epoch 156/200\n",
      "10/10 - 0s - loss: 0.4245 - accuracy: 0.7978 - val_loss: 0.5411 - val_accuracy: 0.7241\n",
      "Epoch 157/200\n",
      "10/10 - 0s - loss: 0.4272 - accuracy: 0.8000 - val_loss: 0.5430 - val_accuracy: 0.7241\n",
      "Epoch 158/200\n",
      "10/10 - 0s - loss: 0.4245 - accuracy: 0.8043 - val_loss: 0.5538 - val_accuracy: 0.7155\n",
      "Epoch 159/200\n",
      "10/10 - 0s - loss: 0.4232 - accuracy: 0.8065 - val_loss: 0.5637 - val_accuracy: 0.6983\n",
      "Epoch 160/200\n",
      "10/10 - 0s - loss: 0.4248 - accuracy: 0.8022 - val_loss: 0.5593 - val_accuracy: 0.6983\n",
      "Epoch 161/200\n",
      "10/10 - 0s - loss: 0.4234 - accuracy: 0.8000 - val_loss: 0.5572 - val_accuracy: 0.6983\n",
      "Epoch 162/200\n",
      "10/10 - 0s - loss: 0.4229 - accuracy: 0.8043 - val_loss: 0.5600 - val_accuracy: 0.6983\n",
      "Epoch 163/200\n",
      "10/10 - 0s - loss: 0.4222 - accuracy: 0.8022 - val_loss: 0.5447 - val_accuracy: 0.7241\n",
      "Epoch 164/200\n",
      "10/10 - 0s - loss: 0.4219 - accuracy: 0.7978 - val_loss: 0.5498 - val_accuracy: 0.7069\n",
      "Epoch 165/200\n",
      "10/10 - 0s - loss: 0.4220 - accuracy: 0.8043 - val_loss: 0.5525 - val_accuracy: 0.6983\n",
      "Epoch 166/200\n",
      "10/10 - 0s - loss: 0.4219 - accuracy: 0.8022 - val_loss: 0.5478 - val_accuracy: 0.7241\n",
      "Epoch 167/200\n",
      "10/10 - 0s - loss: 0.4209 - accuracy: 0.8043 - val_loss: 0.5544 - val_accuracy: 0.7069\n",
      "Epoch 168/200\n",
      "10/10 - 0s - loss: 0.4210 - accuracy: 0.8065 - val_loss: 0.5482 - val_accuracy: 0.7155\n",
      "Epoch 169/200\n",
      "10/10 - 0s - loss: 0.4204 - accuracy: 0.7978 - val_loss: 0.5500 - val_accuracy: 0.7241\n",
      "Epoch 170/200\n",
      "10/10 - 0s - loss: 0.4200 - accuracy: 0.8022 - val_loss: 0.5524 - val_accuracy: 0.7155\n",
      "Epoch 171/200\n",
      "10/10 - 0s - loss: 0.4211 - accuracy: 0.7957 - val_loss: 0.5484 - val_accuracy: 0.7241\n",
      "Epoch 172/200\n",
      "10/10 - 0s - loss: 0.4206 - accuracy: 0.8000 - val_loss: 0.5555 - val_accuracy: 0.7155\n",
      "Epoch 173/200\n",
      "10/10 - 0s - loss: 0.4196 - accuracy: 0.8043 - val_loss: 0.5595 - val_accuracy: 0.7069\n",
      "Epoch 174/200\n",
      "10/10 - 0s - loss: 0.4192 - accuracy: 0.8065 - val_loss: 0.5530 - val_accuracy: 0.7069\n",
      "Epoch 175/200\n",
      "10/10 - 0s - loss: 0.4193 - accuracy: 0.8065 - val_loss: 0.5604 - val_accuracy: 0.7069\n",
      "Epoch 176/200\n",
      "10/10 - 0s - loss: 0.4204 - accuracy: 0.8109 - val_loss: 0.5399 - val_accuracy: 0.7241\n",
      "Epoch 177/200\n",
      "10/10 - 0s - loss: 0.4194 - accuracy: 0.8000 - val_loss: 0.5543 - val_accuracy: 0.7155\n",
      "Epoch 178/200\n",
      "10/10 - 0s - loss: 0.4178 - accuracy: 0.8043 - val_loss: 0.5533 - val_accuracy: 0.7069\n",
      "Epoch 179/200\n",
      "10/10 - 0s - loss: 0.4180 - accuracy: 0.8043 - val_loss: 0.5493 - val_accuracy: 0.7155\n",
      "Epoch 180/200\n",
      "10/10 - 0s - loss: 0.4202 - accuracy: 0.8022 - val_loss: 0.5583 - val_accuracy: 0.7069\n",
      "Epoch 181/200\n",
      "10/10 - 0s - loss: 0.4170 - accuracy: 0.8043 - val_loss: 0.5476 - val_accuracy: 0.7241\n",
      "Epoch 182/200\n",
      "10/10 - 0s - loss: 0.4173 - accuracy: 0.8087 - val_loss: 0.5596 - val_accuracy: 0.6983\n",
      "Epoch 183/200\n",
      "10/10 - 0s - loss: 0.4187 - accuracy: 0.8087 - val_loss: 0.5538 - val_accuracy: 0.7155\n",
      "Epoch 184/200\n",
      "10/10 - 0s - loss: 0.4169 - accuracy: 0.8087 - val_loss: 0.5588 - val_accuracy: 0.7069\n",
      "Epoch 185/200\n",
      "10/10 - 0s - loss: 0.4168 - accuracy: 0.8043 - val_loss: 0.5561 - val_accuracy: 0.7069\n",
      "Epoch 186/200\n",
      "10/10 - 0s - loss: 0.4154 - accuracy: 0.8065 - val_loss: 0.5496 - val_accuracy: 0.7241\n",
      "Epoch 187/200\n",
      "10/10 - 0s - loss: 0.4173 - accuracy: 0.8043 - val_loss: 0.5487 - val_accuracy: 0.7241\n",
      "Epoch 188/200\n",
      "10/10 - 0s - loss: 0.4159 - accuracy: 0.8065 - val_loss: 0.5562 - val_accuracy: 0.7155\n",
      "Epoch 189/200\n",
      "10/10 - 0s - loss: 0.4174 - accuracy: 0.8109 - val_loss: 0.5696 - val_accuracy: 0.7069\n",
      "Epoch 190/200\n",
      "10/10 - 0s - loss: 0.4161 - accuracy: 0.8174 - val_loss: 0.5637 - val_accuracy: 0.7155\n",
      "Epoch 191/200\n",
      "10/10 - 0s - loss: 0.4145 - accuracy: 0.8065 - val_loss: 0.5572 - val_accuracy: 0.7069\n",
      "Epoch 192/200\n",
      "10/10 - 0s - loss: 0.4165 - accuracy: 0.8043 - val_loss: 0.5574 - val_accuracy: 0.7155\n",
      "Epoch 193/200\n",
      "10/10 - 0s - loss: 0.4155 - accuracy: 0.8109 - val_loss: 0.5754 - val_accuracy: 0.6983\n",
      "Epoch 194/200\n",
      "10/10 - 0s - loss: 0.4136 - accuracy: 0.8065 - val_loss: 0.5594 - val_accuracy: 0.7069\n",
      "Epoch 195/200\n",
      "10/10 - 0s - loss: 0.4147 - accuracy: 0.8152 - val_loss: 0.5592 - val_accuracy: 0.7155\n",
      "Epoch 196/200\n",
      "10/10 - 0s - loss: 0.4139 - accuracy: 0.8130 - val_loss: 0.5658 - val_accuracy: 0.7069\n",
      "Epoch 197/200\n",
      "10/10 - 0s - loss: 0.4149 - accuracy: 0.8130 - val_loss: 0.5743 - val_accuracy: 0.6983\n",
      "Epoch 198/200\n",
      "10/10 - 0s - loss: 0.4149 - accuracy: 0.8087 - val_loss: 0.5589 - val_accuracy: 0.6983\n",
      "Epoch 199/200\n",
      "10/10 - 0s - loss: 0.4131 - accuracy: 0.8130 - val_loss: 0.5584 - val_accuracy: 0.6983\n",
      "Epoch 200/200\n",
      "10/10 - 0s - loss: 0.4125 - accuracy: 0.8152 - val_loss: 0.5685 - val_accuracy: 0.7069\n"
     ]
    }
   ],
   "source": [
    "history4= model4.fit(X_train,y_train,validation_split=0.2,epochs=200,batch_size=50,verbose=2)"
   ]
  },
  {
   "cell_type": "code",
   "execution_count": 27,
   "metadata": {},
   "outputs": [
    {
     "output_type": "stream",
     "name": "stdout",
     "text": [
      "6/6 [==============================] - 0s 997us/step - loss: 0.4875 - accuracy: 0.7604\n"
     ]
    },
    {
     "output_type": "execute_result",
     "data": {
      "text/plain": [
       "[0.4874926507472992, 0.7604166865348816]"
      ]
     },
     "metadata": {},
     "execution_count": 27
    }
   ],
   "source": [
    "model4.evaluate(X_test,y_test)"
   ]
  },
  {
   "source": [
    "* 시각화"
   ],
   "cell_type": "markdown",
   "metadata": {}
  },
  {
   "cell_type": "code",
   "execution_count": 29,
   "metadata": {},
   "outputs": [],
   "source": [
    "y_acc = history4.history['accuracy']\n",
    "y_vloss = history4.history['val_loss']\n",
    "\n",
    "x_len = np.arange(len(y_acc))"
   ]
  },
  {
   "cell_type": "code",
   "execution_count": 32,
   "metadata": {},
   "outputs": [
    {
     "output_type": "display_data",
     "data": {
      "text/plain": "<Figure size 432x288 with 1 Axes>",
      "image/svg+xml": "<?xml version=\"1.0\" encoding=\"utf-8\" standalone=\"no\"?>\r\n<!DOCTYPE svg PUBLIC \"-//W3C//DTD SVG 1.1//EN\"\r\n  \"http://www.w3.org/Graphics/SVG/1.1/DTD/svg11.dtd\">\r\n<!-- Created with matplotlib (https://matplotlib.org/) -->\r\n<svg height=\"248.518125pt\" version=\"1.1\" viewBox=\"0 0 378.465625 248.518125\" width=\"378.465625pt\" xmlns=\"http://www.w3.org/2000/svg\" xmlns:xlink=\"http://www.w3.org/1999/xlink\">\r\n <metadata>\r\n  <rdf:RDF xmlns:cc=\"http://creativecommons.org/ns#\" xmlns:dc=\"http://purl.org/dc/elements/1.1/\" xmlns:rdf=\"http://www.w3.org/1999/02/22-rdf-syntax-ns#\">\r\n   <cc:Work>\r\n    <dc:type rdf:resource=\"http://purl.org/dc/dcmitype/StillImage\"/>\r\n    <dc:date>2021-06-28T14:39:20.810519</dc:date>\r\n    <dc:format>image/svg+xml</dc:format>\r\n    <dc:creator>\r\n     <cc:Agent>\r\n      <dc:title>Matplotlib v3.3.4, https://matplotlib.org/</dc:title>\r\n     </cc:Agent>\r\n    </dc:creator>\r\n   </cc:Work>\r\n  </rdf:RDF>\r\n </metadata>\r\n <defs>\r\n  <style type=\"text/css\">*{stroke-linecap:butt;stroke-linejoin:round;}</style>\r\n </defs>\r\n <g id=\"figure_1\">\r\n  <g id=\"patch_1\">\r\n   <path d=\"M 0 248.518125 \r\nL 378.465625 248.518125 \r\nL 378.465625 0 \r\nL 0 0 \r\nz\r\n\" style=\"fill:none;\"/>\r\n  </g>\r\n  <g id=\"axes_1\">\r\n   <g id=\"patch_2\">\r\n    <path d=\"M 36.465625 224.64 \r\nL 371.265625 224.64 \r\nL 371.265625 7.2 \r\nL 36.465625 7.2 \r\nz\r\n\" style=\"fill:#ffffff;\"/>\r\n   </g>\r\n   <g id=\"matplotlib.axis_1\">\r\n    <g id=\"xtick_1\">\r\n     <g id=\"line2d_1\">\r\n      <defs>\r\n       <path d=\"M 0 0 \r\nL 0 3.5 \r\n\" id=\"mbafb73d27b\" style=\"stroke:#000000;stroke-width:0.8;\"/>\r\n      </defs>\r\n      <g>\r\n       <use style=\"stroke:#000000;stroke-width:0.8;\" x=\"51.683807\" xlink:href=\"#mbafb73d27b\" y=\"224.64\"/>\r\n      </g>\r\n     </g>\r\n     <g id=\"text_1\">\r\n      <!-- 0 -->\r\n      <g transform=\"translate(48.502557 239.238437)scale(0.1 -0.1)\">\r\n       <defs>\r\n        <path d=\"M 31.78125 66.40625 \r\nQ 24.171875 66.40625 20.328125 58.90625 \r\nQ 16.5 51.421875 16.5 36.375 \r\nQ 16.5 21.390625 20.328125 13.890625 \r\nQ 24.171875 6.390625 31.78125 6.390625 \r\nQ 39.453125 6.390625 43.28125 13.890625 \r\nQ 47.125 21.390625 47.125 36.375 \r\nQ 47.125 51.421875 43.28125 58.90625 \r\nQ 39.453125 66.40625 31.78125 66.40625 \r\nz\r\nM 31.78125 74.21875 \r\nQ 44.046875 74.21875 50.515625 64.515625 \r\nQ 56.984375 54.828125 56.984375 36.375 \r\nQ 56.984375 17.96875 50.515625 8.265625 \r\nQ 44.046875 -1.421875 31.78125 -1.421875 \r\nQ 19.53125 -1.421875 13.0625 8.265625 \r\nQ 6.59375 17.96875 6.59375 36.375 \r\nQ 6.59375 54.828125 13.0625 64.515625 \r\nQ 19.53125 74.21875 31.78125 74.21875 \r\nz\r\n\" id=\"DejaVuSans-48\"/>\r\n       </defs>\r\n       <use xlink:href=\"#DejaVuSans-48\"/>\r\n      </g>\r\n     </g>\r\n    </g>\r\n    <g id=\"xtick_2\">\r\n     <g id=\"line2d_2\">\r\n      <g>\r\n       <use style=\"stroke:#000000;stroke-width:0.8;\" x=\"89.920445\" xlink:href=\"#mbafb73d27b\" y=\"224.64\"/>\r\n      </g>\r\n     </g>\r\n     <g id=\"text_2\">\r\n      <!-- 25 -->\r\n      <g transform=\"translate(83.557945 239.238437)scale(0.1 -0.1)\">\r\n       <defs>\r\n        <path d=\"M 19.1875 8.296875 \r\nL 53.609375 8.296875 \r\nL 53.609375 0 \r\nL 7.328125 0 \r\nL 7.328125 8.296875 \r\nQ 12.9375 14.109375 22.625 23.890625 \r\nQ 32.328125 33.6875 34.8125 36.53125 \r\nQ 39.546875 41.84375 41.421875 45.53125 \r\nQ 43.3125 49.21875 43.3125 52.78125 \r\nQ 43.3125 58.59375 39.234375 62.25 \r\nQ 35.15625 65.921875 28.609375 65.921875 \r\nQ 23.96875 65.921875 18.8125 64.3125 \r\nQ 13.671875 62.703125 7.8125 59.421875 \r\nL 7.8125 69.390625 \r\nQ 13.765625 71.78125 18.9375 73 \r\nQ 24.125 74.21875 28.421875 74.21875 \r\nQ 39.75 74.21875 46.484375 68.546875 \r\nQ 53.21875 62.890625 53.21875 53.421875 \r\nQ 53.21875 48.921875 51.53125 44.890625 \r\nQ 49.859375 40.875 45.40625 35.40625 \r\nQ 44.1875 33.984375 37.640625 27.21875 \r\nQ 31.109375 20.453125 19.1875 8.296875 \r\nz\r\n\" id=\"DejaVuSans-50\"/>\r\n        <path d=\"M 10.796875 72.90625 \r\nL 49.515625 72.90625 \r\nL 49.515625 64.59375 \r\nL 19.828125 64.59375 \r\nL 19.828125 46.734375 \r\nQ 21.96875 47.46875 24.109375 47.828125 \r\nQ 26.265625 48.1875 28.421875 48.1875 \r\nQ 40.625 48.1875 47.75 41.5 \r\nQ 54.890625 34.8125 54.890625 23.390625 \r\nQ 54.890625 11.625 47.5625 5.09375 \r\nQ 40.234375 -1.421875 26.90625 -1.421875 \r\nQ 22.3125 -1.421875 17.546875 -0.640625 \r\nQ 12.796875 0.140625 7.71875 1.703125 \r\nL 7.71875 11.625 \r\nQ 12.109375 9.234375 16.796875 8.0625 \r\nQ 21.484375 6.890625 26.703125 6.890625 \r\nQ 35.15625 6.890625 40.078125 11.328125 \r\nQ 45.015625 15.765625 45.015625 23.390625 \r\nQ 45.015625 31 40.078125 35.4375 \r\nQ 35.15625 39.890625 26.703125 39.890625 \r\nQ 22.75 39.890625 18.8125 39.015625 \r\nQ 14.890625 38.140625 10.796875 36.28125 \r\nz\r\n\" id=\"DejaVuSans-53\"/>\r\n       </defs>\r\n       <use xlink:href=\"#DejaVuSans-50\"/>\r\n       <use x=\"63.623047\" xlink:href=\"#DejaVuSans-53\"/>\r\n      </g>\r\n     </g>\r\n    </g>\r\n    <g id=\"xtick_3\">\r\n     <g id=\"line2d_3\">\r\n      <g>\r\n       <use style=\"stroke:#000000;stroke-width:0.8;\" x=\"128.157082\" xlink:href=\"#mbafb73d27b\" y=\"224.64\"/>\r\n      </g>\r\n     </g>\r\n     <g id=\"text_3\">\r\n      <!-- 50 -->\r\n      <g transform=\"translate(121.794582 239.238437)scale(0.1 -0.1)\">\r\n       <use xlink:href=\"#DejaVuSans-53\"/>\r\n       <use x=\"63.623047\" xlink:href=\"#DejaVuSans-48\"/>\r\n      </g>\r\n     </g>\r\n    </g>\r\n    <g id=\"xtick_4\">\r\n     <g id=\"line2d_4\">\r\n      <g>\r\n       <use style=\"stroke:#000000;stroke-width:0.8;\" x=\"166.39372\" xlink:href=\"#mbafb73d27b\" y=\"224.64\"/>\r\n      </g>\r\n     </g>\r\n     <g id=\"text_4\">\r\n      <!-- 75 -->\r\n      <g transform=\"translate(160.03122 239.238437)scale(0.1 -0.1)\">\r\n       <defs>\r\n        <path d=\"M 8.203125 72.90625 \r\nL 55.078125 72.90625 \r\nL 55.078125 68.703125 \r\nL 28.609375 0 \r\nL 18.3125 0 \r\nL 43.21875 64.59375 \r\nL 8.203125 64.59375 \r\nz\r\n\" id=\"DejaVuSans-55\"/>\r\n       </defs>\r\n       <use xlink:href=\"#DejaVuSans-55\"/>\r\n       <use x=\"63.623047\" xlink:href=\"#DejaVuSans-53\"/>\r\n      </g>\r\n     </g>\r\n    </g>\r\n    <g id=\"xtick_5\">\r\n     <g id=\"line2d_5\">\r\n      <g>\r\n       <use style=\"stroke:#000000;stroke-width:0.8;\" x=\"204.630358\" xlink:href=\"#mbafb73d27b\" y=\"224.64\"/>\r\n      </g>\r\n     </g>\r\n     <g id=\"text_5\">\r\n      <!-- 100 -->\r\n      <g transform=\"translate(195.086608 239.238437)scale(0.1 -0.1)\">\r\n       <defs>\r\n        <path d=\"M 12.40625 8.296875 \r\nL 28.515625 8.296875 \r\nL 28.515625 63.921875 \r\nL 10.984375 60.40625 \r\nL 10.984375 69.390625 \r\nL 28.421875 72.90625 \r\nL 38.28125 72.90625 \r\nL 38.28125 8.296875 \r\nL 54.390625 8.296875 \r\nL 54.390625 0 \r\nL 12.40625 0 \r\nz\r\n\" id=\"DejaVuSans-49\"/>\r\n       </defs>\r\n       <use xlink:href=\"#DejaVuSans-49\"/>\r\n       <use x=\"63.623047\" xlink:href=\"#DejaVuSans-48\"/>\r\n       <use x=\"127.246094\" xlink:href=\"#DejaVuSans-48\"/>\r\n      </g>\r\n     </g>\r\n    </g>\r\n    <g id=\"xtick_6\">\r\n     <g id=\"line2d_6\">\r\n      <g>\r\n       <use style=\"stroke:#000000;stroke-width:0.8;\" x=\"242.866995\" xlink:href=\"#mbafb73d27b\" y=\"224.64\"/>\r\n      </g>\r\n     </g>\r\n     <g id=\"text_6\">\r\n      <!-- 125 -->\r\n      <g transform=\"translate(233.323245 239.238437)scale(0.1 -0.1)\">\r\n       <use xlink:href=\"#DejaVuSans-49\"/>\r\n       <use x=\"63.623047\" xlink:href=\"#DejaVuSans-50\"/>\r\n       <use x=\"127.246094\" xlink:href=\"#DejaVuSans-53\"/>\r\n      </g>\r\n     </g>\r\n    </g>\r\n    <g id=\"xtick_7\">\r\n     <g id=\"line2d_7\">\r\n      <g>\r\n       <use style=\"stroke:#000000;stroke-width:0.8;\" x=\"281.103633\" xlink:href=\"#mbafb73d27b\" y=\"224.64\"/>\r\n      </g>\r\n     </g>\r\n     <g id=\"text_7\">\r\n      <!-- 150 -->\r\n      <g transform=\"translate(271.559883 239.238437)scale(0.1 -0.1)\">\r\n       <use xlink:href=\"#DejaVuSans-49\"/>\r\n       <use x=\"63.623047\" xlink:href=\"#DejaVuSans-53\"/>\r\n       <use x=\"127.246094\" xlink:href=\"#DejaVuSans-48\"/>\r\n      </g>\r\n     </g>\r\n    </g>\r\n    <g id=\"xtick_8\">\r\n     <g id=\"line2d_8\">\r\n      <g>\r\n       <use style=\"stroke:#000000;stroke-width:0.8;\" x=\"319.340271\" xlink:href=\"#mbafb73d27b\" y=\"224.64\"/>\r\n      </g>\r\n     </g>\r\n     <g id=\"text_8\">\r\n      <!-- 175 -->\r\n      <g transform=\"translate(309.796521 239.238437)scale(0.1 -0.1)\">\r\n       <use xlink:href=\"#DejaVuSans-49\"/>\r\n       <use x=\"63.623047\" xlink:href=\"#DejaVuSans-55\"/>\r\n       <use x=\"127.246094\" xlink:href=\"#DejaVuSans-53\"/>\r\n      </g>\r\n     </g>\r\n    </g>\r\n    <g id=\"xtick_9\">\r\n     <g id=\"line2d_9\">\r\n      <g>\r\n       <use style=\"stroke:#000000;stroke-width:0.8;\" x=\"357.576909\" xlink:href=\"#mbafb73d27b\" y=\"224.64\"/>\r\n      </g>\r\n     </g>\r\n     <g id=\"text_9\">\r\n      <!-- 200 -->\r\n      <g transform=\"translate(348.033159 239.238437)scale(0.1 -0.1)\">\r\n       <use xlink:href=\"#DejaVuSans-50\"/>\r\n       <use x=\"63.623047\" xlink:href=\"#DejaVuSans-48\"/>\r\n       <use x=\"127.246094\" xlink:href=\"#DejaVuSans-48\"/>\r\n      </g>\r\n     </g>\r\n    </g>\r\n   </g>\r\n   <g id=\"matplotlib.axis_2\">\r\n    <g id=\"ytick_1\">\r\n     <g id=\"line2d_10\">\r\n      <defs>\r\n       <path d=\"M 0 0 \r\nL -3.5 0 \r\n\" id=\"m98f70edbbc\" style=\"stroke:#000000;stroke-width:0.8;\"/>\r\n      </defs>\r\n      <g>\r\n       <use style=\"stroke:#000000;stroke-width:0.8;\" x=\"36.465625\" xlink:href=\"#m98f70edbbc\" y=\"198.067545\"/>\r\n      </g>\r\n     </g>\r\n     <g id=\"text_10\">\r\n      <!-- 0.55 -->\r\n      <g transform=\"translate(7.2 201.866764)scale(0.1 -0.1)\">\r\n       <defs>\r\n        <path d=\"M 10.6875 12.40625 \r\nL 21 12.40625 \r\nL 21 0 \r\nL 10.6875 0 \r\nz\r\n\" id=\"DejaVuSans-46\"/>\r\n       </defs>\r\n       <use xlink:href=\"#DejaVuSans-48\"/>\r\n       <use x=\"63.623047\" xlink:href=\"#DejaVuSans-46\"/>\r\n       <use x=\"95.410156\" xlink:href=\"#DejaVuSans-53\"/>\r\n       <use x=\"159.033203\" xlink:href=\"#DejaVuSans-53\"/>\r\n      </g>\r\n     </g>\r\n    </g>\r\n    <g id=\"ytick_2\">\r\n     <g id=\"line2d_11\">\r\n      <g>\r\n       <use style=\"stroke:#000000;stroke-width:0.8;\" x=\"36.465625\" xlink:href=\"#m98f70edbbc\" y=\"164.225022\"/>\r\n      </g>\r\n     </g>\r\n     <g id=\"text_11\">\r\n      <!-- 0.60 -->\r\n      <g transform=\"translate(7.2 168.024241)scale(0.1 -0.1)\">\r\n       <defs>\r\n        <path d=\"M 33.015625 40.375 \r\nQ 26.375 40.375 22.484375 35.828125 \r\nQ 18.609375 31.296875 18.609375 23.390625 \r\nQ 18.609375 15.53125 22.484375 10.953125 \r\nQ 26.375 6.390625 33.015625 6.390625 \r\nQ 39.65625 6.390625 43.53125 10.953125 \r\nQ 47.40625 15.53125 47.40625 23.390625 \r\nQ 47.40625 31.296875 43.53125 35.828125 \r\nQ 39.65625 40.375 33.015625 40.375 \r\nz\r\nM 52.59375 71.296875 \r\nL 52.59375 62.3125 \r\nQ 48.875 64.0625 45.09375 64.984375 \r\nQ 41.3125 65.921875 37.59375 65.921875 \r\nQ 27.828125 65.921875 22.671875 59.328125 \r\nQ 17.53125 52.734375 16.796875 39.40625 \r\nQ 19.671875 43.65625 24.015625 45.921875 \r\nQ 28.375 48.1875 33.59375 48.1875 \r\nQ 44.578125 48.1875 50.953125 41.515625 \r\nQ 57.328125 34.859375 57.328125 23.390625 \r\nQ 57.328125 12.15625 50.6875 5.359375 \r\nQ 44.046875 -1.421875 33.015625 -1.421875 \r\nQ 20.359375 -1.421875 13.671875 8.265625 \r\nQ 6.984375 17.96875 6.984375 36.375 \r\nQ 6.984375 53.65625 15.1875 63.9375 \r\nQ 23.390625 74.21875 37.203125 74.21875 \r\nQ 40.921875 74.21875 44.703125 73.484375 \r\nQ 48.484375 72.75 52.59375 71.296875 \r\nz\r\n\" id=\"DejaVuSans-54\"/>\r\n       </defs>\r\n       <use xlink:href=\"#DejaVuSans-48\"/>\r\n       <use x=\"63.623047\" xlink:href=\"#DejaVuSans-46\"/>\r\n       <use x=\"95.410156\" xlink:href=\"#DejaVuSans-54\"/>\r\n       <use x=\"159.033203\" xlink:href=\"#DejaVuSans-48\"/>\r\n      </g>\r\n     </g>\r\n    </g>\r\n    <g id=\"ytick_3\">\r\n     <g id=\"line2d_12\">\r\n      <g>\r\n       <use style=\"stroke:#000000;stroke-width:0.8;\" x=\"36.465625\" xlink:href=\"#m98f70edbbc\" y=\"130.382499\"/>\r\n      </g>\r\n     </g>\r\n     <g id=\"text_12\">\r\n      <!-- 0.65 -->\r\n      <g transform=\"translate(7.2 134.181718)scale(0.1 -0.1)\">\r\n       <use xlink:href=\"#DejaVuSans-48\"/>\r\n       <use x=\"63.623047\" xlink:href=\"#DejaVuSans-46\"/>\r\n       <use x=\"95.410156\" xlink:href=\"#DejaVuSans-54\"/>\r\n       <use x=\"159.033203\" xlink:href=\"#DejaVuSans-53\"/>\r\n      </g>\r\n     </g>\r\n    </g>\r\n    <g id=\"ytick_4\">\r\n     <g id=\"line2d_13\">\r\n      <g>\r\n       <use style=\"stroke:#000000;stroke-width:0.8;\" x=\"36.465625\" xlink:href=\"#m98f70edbbc\" y=\"96.539976\"/>\r\n      </g>\r\n     </g>\r\n     <g id=\"text_13\">\r\n      <!-- 0.70 -->\r\n      <g transform=\"translate(7.2 100.339195)scale(0.1 -0.1)\">\r\n       <use xlink:href=\"#DejaVuSans-48\"/>\r\n       <use x=\"63.623047\" xlink:href=\"#DejaVuSans-46\"/>\r\n       <use x=\"95.410156\" xlink:href=\"#DejaVuSans-55\"/>\r\n       <use x=\"159.033203\" xlink:href=\"#DejaVuSans-48\"/>\r\n      </g>\r\n     </g>\r\n    </g>\r\n    <g id=\"ytick_5\">\r\n     <g id=\"line2d_14\">\r\n      <g>\r\n       <use style=\"stroke:#000000;stroke-width:0.8;\" x=\"36.465625\" xlink:href=\"#m98f70edbbc\" y=\"62.697453\"/>\r\n      </g>\r\n     </g>\r\n     <g id=\"text_14\">\r\n      <!-- 0.75 -->\r\n      <g transform=\"translate(7.2 66.496672)scale(0.1 -0.1)\">\r\n       <use xlink:href=\"#DejaVuSans-48\"/>\r\n       <use x=\"63.623047\" xlink:href=\"#DejaVuSans-46\"/>\r\n       <use x=\"95.410156\" xlink:href=\"#DejaVuSans-55\"/>\r\n       <use x=\"159.033203\" xlink:href=\"#DejaVuSans-53\"/>\r\n      </g>\r\n     </g>\r\n    </g>\r\n    <g id=\"ytick_6\">\r\n     <g id=\"line2d_15\">\r\n      <g>\r\n       <use style=\"stroke:#000000;stroke-width:0.8;\" x=\"36.465625\" xlink:href=\"#m98f70edbbc\" y=\"28.85493\"/>\r\n      </g>\r\n     </g>\r\n     <g id=\"text_15\">\r\n      <!-- 0.80 -->\r\n      <g transform=\"translate(7.2 32.654149)scale(0.1 -0.1)\">\r\n       <defs>\r\n        <path d=\"M 31.78125 34.625 \r\nQ 24.75 34.625 20.71875 30.859375 \r\nQ 16.703125 27.09375 16.703125 20.515625 \r\nQ 16.703125 13.921875 20.71875 10.15625 \r\nQ 24.75 6.390625 31.78125 6.390625 \r\nQ 38.8125 6.390625 42.859375 10.171875 \r\nQ 46.921875 13.96875 46.921875 20.515625 \r\nQ 46.921875 27.09375 42.890625 30.859375 \r\nQ 38.875 34.625 31.78125 34.625 \r\nz\r\nM 21.921875 38.8125 \r\nQ 15.578125 40.375 12.03125 44.71875 \r\nQ 8.5 49.078125 8.5 55.328125 \r\nQ 8.5 64.0625 14.71875 69.140625 \r\nQ 20.953125 74.21875 31.78125 74.21875 \r\nQ 42.671875 74.21875 48.875 69.140625 \r\nQ 55.078125 64.0625 55.078125 55.328125 \r\nQ 55.078125 49.078125 51.53125 44.71875 \r\nQ 48 40.375 41.703125 38.8125 \r\nQ 48.828125 37.15625 52.796875 32.3125 \r\nQ 56.78125 27.484375 56.78125 20.515625 \r\nQ 56.78125 9.90625 50.3125 4.234375 \r\nQ 43.84375 -1.421875 31.78125 -1.421875 \r\nQ 19.734375 -1.421875 13.25 4.234375 \r\nQ 6.78125 9.90625 6.78125 20.515625 \r\nQ 6.78125 27.484375 10.78125 32.3125 \r\nQ 14.796875 37.15625 21.921875 38.8125 \r\nz\r\nM 18.3125 54.390625 \r\nQ 18.3125 48.734375 21.84375 45.5625 \r\nQ 25.390625 42.390625 31.78125 42.390625 \r\nQ 38.140625 42.390625 41.71875 45.5625 \r\nQ 45.3125 48.734375 45.3125 54.390625 \r\nQ 45.3125 60.0625 41.71875 63.234375 \r\nQ 38.140625 66.40625 31.78125 66.40625 \r\nQ 25.390625 66.40625 21.84375 63.234375 \r\nQ 18.3125 60.0625 18.3125 54.390625 \r\nz\r\n\" id=\"DejaVuSans-56\"/>\r\n       </defs>\r\n       <use xlink:href=\"#DejaVuSans-48\"/>\r\n       <use x=\"63.623047\" xlink:href=\"#DejaVuSans-46\"/>\r\n       <use x=\"95.410156\" xlink:href=\"#DejaVuSans-56\"/>\r\n       <use x=\"159.033203\" xlink:href=\"#DejaVuSans-48\"/>\r\n      </g>\r\n     </g>\r\n    </g>\r\n   </g>\r\n   <g id=\"line2d_16\">\r\n    <path clip-path=\"url(#p5fe2a8ebee)\" d=\"M 51.683807 139.210989 \r\nL 53.213272 118.611189 \r\nL 103.685634 118.611189 \r\nL 105.2151 117.139784 \r\nL 108.274031 117.139784 \r\nL 109.803496 114.196932 \r\nL 111.332962 114.196932 \r\nL 112.862427 112.725526 \r\nL 114.391893 112.725526 \r\nL 115.921358 109.782715 \r\nL 118.980289 109.782715 \r\nL 120.509755 106.839864 \r\nL 122.03922 105.368458 \r\nL 123.568686 102.425647 \r\nL 125.098151 100.954201 \r\nL 128.157082 92.125727 \r\nL 129.686548 95.068578 \r\nL 131.216013 89.182915 \r\nL 132.745479 87.71151 \r\nL 134.274944 81.825847 \r\nL 135.80441 92.125727 \r\nL 137.333875 86.240064 \r\nL 138.863341 70.054521 \r\nL 140.392806 70.054521 \r\nL 141.922272 65.640264 \r\nL 143.451737 64.168858 \r\nL 144.981203 64.168858 \r\nL 146.510668 62.697453 \r\nL 148.040134 59.754642 \r\nL 149.569599 68.583116 \r\nL 152.62853 53.868979 \r\nL 154.157996 52.397573 \r\nL 155.687461 47.983316 \r\nL 157.216927 42.097653 \r\nL 158.746392 45.040464 \r\nL 160.275858 49.454721 \r\nL 161.805323 40.626247 \r\nL 163.334789 52.397573 \r\nL 164.864255 45.040464 \r\nL 166.39372 43.569059 \r\nL 167.923186 46.51191 \r\nL 169.452651 34.740585 \r\nL 170.982117 49.454721 \r\nL 172.511582 39.154842 \r\nL 174.041048 34.740585 \r\nL 175.570513 47.983316 \r\nL 177.099979 37.683396 \r\nL 178.629444 36.21199 \r\nL 180.15891 42.097653 \r\nL 181.688375 36.21199 \r\nL 183.217841 33.269179 \r\nL 186.276772 36.21199 \r\nL 187.806237 42.097653 \r\nL 189.335703 39.154842 \r\nL 192.394634 30.326327 \r\nL 193.924099 30.326327 \r\nL 195.453565 33.269179 \r\nL 196.98303 33.269179 \r\nL 198.512496 34.740585 \r\nL 200.041961 28.854922 \r\nL 203.100892 28.854922 \r\nL 204.630358 31.797773 \r\nL 206.159823 33.269179 \r\nL 207.689289 30.326327 \r\nL 209.218754 33.269179 \r\nL 210.74822 34.740585 \r\nL 212.277685 27.383516 \r\nL 213.807151 34.740585 \r\nL 215.336616 31.797773 \r\nL 216.866082 30.326327 \r\nL 218.395547 30.326327 \r\nL 219.925013 40.626247 \r\nL 221.454478 33.269179 \r\nL 222.983944 28.854922 \r\nL 224.513409 33.269179 \r\nL 226.042875 30.326327 \r\nL 229.101806 30.326327 \r\nL 230.631271 24.440705 \r\nL 232.160737 34.740585 \r\nL 233.690202 28.854922 \r\nL 235.219668 25.91211 \r\nL 236.749133 25.91211 \r\nL 238.278599 30.326327 \r\nL 239.808064 27.383516 \r\nL 241.33753 25.91211 \r\nL 242.866995 25.91211 \r\nL 244.396461 27.383516 \r\nL 245.925927 25.91211 \r\nL 247.455392 33.269179 \r\nL 248.984858 22.969259 \r\nL 250.514323 30.326327 \r\nL 252.043789 25.91211 \r\nL 253.573254 30.326327 \r\nL 255.10272 25.91211 \r\nL 256.632185 22.969259 \r\nL 258.161651 31.797773 \r\nL 262.750047 31.797773 \r\nL 264.279513 25.91211 \r\nL 265.808978 24.440705 \r\nL 267.338444 28.854922 \r\nL 268.867909 21.497853 \r\nL 270.397375 27.383516 \r\nL 271.92684 25.91211 \r\nL 273.456306 28.854922 \r\nL 274.985771 30.326327 \r\nL 276.515237 25.91211 \r\nL 278.044702 30.326327 \r\nL 279.574168 30.326327 \r\nL 281.103633 27.383516 \r\nL 282.633099 28.854922 \r\nL 284.162564 25.91211 \r\nL 285.69203 28.854922 \r\nL 287.221495 25.91211 \r\nL 288.750961 30.326327 \r\nL 290.280426 28.854922 \r\nL 291.809892 25.91211 \r\nL 293.339357 24.440705 \r\nL 294.868823 27.383516 \r\nL 296.398288 28.854922 \r\nL 297.927754 25.91211 \r\nL 299.457219 27.383516 \r\nL 300.986685 30.326327 \r\nL 302.51615 25.91211 \r\nL 304.045616 27.383516 \r\nL 307.104547 24.440705 \r\nL 308.634012 30.326327 \r\nL 310.163478 27.383516 \r\nL 311.692943 31.797773 \r\nL 314.751874 25.91211 \r\nL 316.28134 24.440705 \r\nL 317.810805 24.440705 \r\nL 319.340271 21.497853 \r\nL 320.869736 28.854922 \r\nL 322.399202 25.91211 \r\nL 323.928667 25.91211 \r\nL 325.458133 27.383516 \r\nL 326.987599 25.91211 \r\nL 328.517064 22.969259 \r\nL 331.575995 22.969259 \r\nL 333.105461 25.91211 \r\nL 334.634926 24.440705 \r\nL 336.164392 25.91211 \r\nL 337.693857 24.440705 \r\nL 339.223323 21.497853 \r\nL 340.752788 17.083636 \r\nL 342.282254 24.440705 \r\nL 343.811719 25.91211 \r\nL 345.341185 21.497853 \r\nL 346.87065 24.440705 \r\nL 348.400116 18.555042 \r\nL 349.929581 20.026448 \r\nL 351.459047 20.026448 \r\nL 352.988512 22.969259 \r\nL 354.517978 20.026448 \r\nL 356.047443 18.555042 \r\nL 356.047443 18.555042 \r\n\" style=\"fill:none;stroke:#0000ff;stroke-linecap:square;stroke-width:1.5;\"/>\r\n   </g>\r\n   <g id=\"line2d_17\">\r\n    <path clip-path=\"url(#p5fe2a8ebee)\" d=\"M 51.683807 99.796546 \r\nL 53.213272 100.738242 \r\nL 54.742738 100.853665 \r\nL 57.801669 99.963608 \r\nL 59.331134 99.656312 \r\nL 60.8606 99.796304 \r\nL 62.390065 99.36354 \r\nL 65.448996 99.461453 \r\nL 66.978462 98.344505 \r\nL 68.507927 97.916865 \r\nL 70.037393 97.69187 \r\nL 71.566858 98.10426 \r\nL 73.096324 97.396354 \r\nL 74.625789 98.156787 \r\nL 76.155255 99.205595 \r\nL 77.68472 100.866938 \r\nL 79.214186 101.509286 \r\nL 80.743651 101.017177 \r\nL 82.273117 101.83873 \r\nL 83.802583 101.559554 \r\nL 85.332048 102.810725 \r\nL 86.861514 102.929698 \r\nL 88.390979 102.320875 \r\nL 89.920445 102.962456 \r\nL 91.44991 104.438542 \r\nL 92.979376 104.658373 \r\nL 94.508841 104.634934 \r\nL 96.038307 105.89139 \r\nL 97.567772 107.449291 \r\nL 99.097238 110.497883 \r\nL 100.626703 114.010787 \r\nL 102.156169 120.027405 \r\nL 103.685634 123.307124 \r\nL 105.2151 123.207395 \r\nL 106.744565 123.945842 \r\nL 108.274031 125.868206 \r\nL 109.803496 132.057251 \r\nL 111.332962 130.594157 \r\nL 112.862427 133.018192 \r\nL 114.391893 136.151666 \r\nL 115.921358 137.161381 \r\nL 117.450824 138.446239 \r\nL 118.980289 139.583803 \r\nL 120.509755 143.354058 \r\nL 122.03922 144.03215 \r\nL 123.568686 147.677421 \r\nL 125.098151 150.804118 \r\nL 126.627617 156.77547 \r\nL 128.157082 164.129472 \r\nL 129.686548 159.351277 \r\nL 131.216013 161.522843 \r\nL 132.745479 169.101558 \r\nL 134.274944 172.068293 \r\nL 135.80441 170.893533 \r\nL 137.333875 174.601175 \r\nL 138.863341 180.667778 \r\nL 140.392806 181.07331 \r\nL 141.922272 181.046845 \r\nL 143.451737 186.303836 \r\nL 144.981203 184.830534 \r\nL 146.510668 187.359059 \r\nL 148.040134 188.565005 \r\nL 149.569599 180.523752 \r\nL 151.099065 192.155005 \r\nL 152.62853 190.13977 \r\nL 154.157996 188.372163 \r\nL 155.687461 193.808803 \r\nL 157.216927 191.751652 \r\nL 158.746392 190.06804 \r\nL 160.275858 189.925466 \r\nL 161.805323 201.404181 \r\nL 163.334789 206.209446 \r\nL 166.39372 189.295907 \r\nL 167.923186 197.560178 \r\nL 169.452651 208.749751 \r\nL 170.982117 199.36357 \r\nL 172.511582 192.84391 \r\nL 174.041048 205.013748 \r\nL 175.570513 208.544161 \r\nL 177.099979 198.625123 \r\nL 178.629444 202.646072 \r\nL 180.15891 208.782631 \r\nL 181.688375 203.20023 \r\nL 183.217841 200.679128 \r\nL 184.747306 205.34767 \r\nL 186.276772 211.002649 \r\nL 187.806237 207.952847 \r\nL 189.335703 199.109406 \r\nL 190.865168 208.468557 \r\nL 192.394634 208.168362 \r\nL 193.924099 201.945912 \r\nL 195.453565 208.460005 \r\nL 196.98303 204.459348 \r\nL 198.512496 206.375056 \r\nL 200.041961 207.369723 \r\nL 201.571427 207.437097 \r\nL 203.100892 206.979885 \r\nL 204.630358 197.581519 \r\nL 206.159823 211.332175 \r\nL 207.689289 208.607662 \r\nL 209.218754 211.401323 \r\nL 210.74822 207.578541 \r\nL 212.277685 204.835874 \r\nL 213.807151 198.104935 \r\nL 215.336616 203.65365 \r\nL 216.866082 214.756364 \r\nL 218.395547 198.937906 \r\nL 219.925013 212.431452 \r\nL 221.454478 190.700261 \r\nL 222.983944 200.86725 \r\nL 224.513409 209.703389 \r\nL 226.042875 202.753789 \r\nL 227.57234 205.544425 \r\nL 229.101806 200.19299 \r\nL 230.631271 203.07686 \r\nL 232.160737 207.315583 \r\nL 233.690202 201.706151 \r\nL 235.219668 203.977365 \r\nL 236.749133 203.266554 \r\nL 238.278599 199.310478 \r\nL 239.808064 207.508626 \r\nL 241.33753 203.131646 \r\nL 242.866995 195.008819 \r\nL 244.396461 204.092627 \r\nL 245.925927 206.275771 \r\nL 247.455392 204.030175 \r\nL 248.984858 191.943 \r\nL 250.514323 197.578897 \r\nL 252.043789 193.887231 \r\nL 253.573254 203.35527 \r\nL 255.10272 195.860993 \r\nL 256.632185 190.996624 \r\nL 258.161651 204.545239 \r\nL 259.691116 200.937246 \r\nL 261.220582 203.816879 \r\nL 262.750047 202.236909 \r\nL 264.279513 195.895608 \r\nL 265.808978 201.415961 \r\nL 267.338444 201.208999 \r\nL 268.867909 192.957355 \r\nL 270.397375 203.703998 \r\nL 271.92684 190.379612 \r\nL 273.456306 203.213947 \r\nL 274.985771 202.594998 \r\nL 276.515237 203.044464 \r\nL 278.044702 194.482498 \r\nL 279.574168 197.235171 \r\nL 281.103633 199.387009 \r\nL 282.633099 200.055056 \r\nL 284.162564 204.836317 \r\nL 285.69203 193.484725 \r\nL 287.221495 198.541209 \r\nL 288.750961 204.070115 \r\nL 290.280426 202.82548 \r\nL 291.809892 195.500121 \r\nL 293.339357 188.796455 \r\nL 294.868823 191.801677 \r\nL 296.398288 193.201433 \r\nL 297.927754 191.268337 \r\nL 299.457219 201.655439 \r\nL 300.986685 198.181184 \r\nL 302.51615 196.353102 \r\nL 304.045616 199.547455 \r\nL 305.575081 195.071553 \r\nL 307.104547 199.293453 \r\nL 308.634012 198.058702 \r\nL 310.163478 196.452145 \r\nL 311.692943 199.151524 \r\nL 313.222409 194.35695 \r\nL 314.751874 191.631791 \r\nL 316.28134 196.054884 \r\nL 317.810805 191.037855 \r\nL 319.340271 204.928381 \r\nL 320.869736 195.145785 \r\nL 322.399202 195.808224 \r\nL 323.928667 198.509257 \r\nL 325.458133 192.445357 \r\nL 326.987599 199.688778 \r\nL 328.517064 191.573374 \r\nL 330.04653 195.493303 \r\nL 331.575995 192.104213 \r\nL 333.105461 193.943793 \r\nL 334.634926 198.367773 \r\nL 336.164392 198.920679 \r\nL 337.693857 193.879526 \r\nL 339.223323 184.814881 \r\nL 340.752788 188.822799 \r\nL 342.282254 193.203894 \r\nL 343.811719 193.044094 \r\nL 345.341185 180.866026 \r\nL 346.87065 191.680284 \r\nL 348.400116 191.831693 \r\nL 349.929581 187.391051 \r\nL 351.459047 181.598461 \r\nL 352.988512 192.028367 \r\nL 354.517978 192.385568 \r\nL 356.047443 185.538884 \r\nL 356.047443 185.538884 \r\n\" style=\"fill:none;stroke:#ff0000;stroke-linecap:square;stroke-width:1.5;\"/>\r\n   </g>\r\n   <g id=\"patch_3\">\r\n    <path d=\"M 36.465625 224.64 \r\nL 36.465625 7.2 \r\n\" style=\"fill:none;stroke:#000000;stroke-linecap:square;stroke-linejoin:miter;stroke-width:0.8;\"/>\r\n   </g>\r\n   <g id=\"patch_4\">\r\n    <path d=\"M 371.265625 224.64 \r\nL 371.265625 7.2 \r\n\" style=\"fill:none;stroke:#000000;stroke-linecap:square;stroke-linejoin:miter;stroke-width:0.8;\"/>\r\n   </g>\r\n   <g id=\"patch_5\">\r\n    <path d=\"M 36.465625 224.64 \r\nL 371.265625 224.64 \r\n\" style=\"fill:none;stroke:#000000;stroke-linecap:square;stroke-linejoin:miter;stroke-width:0.8;\"/>\r\n   </g>\r\n   <g id=\"patch_6\">\r\n    <path d=\"M 36.465625 7.2 \r\nL 371.265625 7.2 \r\n\" style=\"fill:none;stroke:#000000;stroke-linecap:square;stroke-linejoin:miter;stroke-width:0.8;\"/>\r\n   </g>\r\n   <g id=\"legend_1\">\r\n    <g id=\"patch_7\">\r\n     <path d=\"M 43.465625 44.834375 \r\nL 120.584375 44.834375 \r\nQ 122.584375 44.834375 122.584375 42.834375 \r\nL 122.584375 14.2 \r\nQ 122.584375 12.2 120.584375 12.2 \r\nL 43.465625 12.2 \r\nQ 41.465625 12.2 41.465625 14.2 \r\nL 41.465625 42.834375 \r\nQ 41.465625 44.834375 43.465625 44.834375 \r\nz\r\n\" style=\"fill:#ffffff;opacity:0.8;stroke:#cccccc;stroke-linejoin:miter;\"/>\r\n    </g>\r\n    <g id=\"line2d_18\">\r\n     <path d=\"M 45.465625 20.298437 \r\nL 65.465625 20.298437 \r\n\" style=\"fill:none;stroke:#0000ff;stroke-linecap:square;stroke-width:1.5;\"/>\r\n    </g>\r\n    <g id=\"line2d_19\"/>\r\n    <g id=\"text_16\">\r\n     <!-- accuracy -->\r\n     <g transform=\"translate(73.465625 23.798437)scale(0.1 -0.1)\">\r\n      <defs>\r\n       <path d=\"M 34.28125 27.484375 \r\nQ 23.390625 27.484375 19.1875 25 \r\nQ 14.984375 22.515625 14.984375 16.5 \r\nQ 14.984375 11.71875 18.140625 8.90625 \r\nQ 21.296875 6.109375 26.703125 6.109375 \r\nQ 34.1875 6.109375 38.703125 11.40625 \r\nQ 43.21875 16.703125 43.21875 25.484375 \r\nL 43.21875 27.484375 \r\nz\r\nM 52.203125 31.203125 \r\nL 52.203125 0 \r\nL 43.21875 0 \r\nL 43.21875 8.296875 \r\nQ 40.140625 3.328125 35.546875 0.953125 \r\nQ 30.953125 -1.421875 24.3125 -1.421875 \r\nQ 15.921875 -1.421875 10.953125 3.296875 \r\nQ 6 8.015625 6 15.921875 \r\nQ 6 25.140625 12.171875 29.828125 \r\nQ 18.359375 34.515625 30.609375 34.515625 \r\nL 43.21875 34.515625 \r\nL 43.21875 35.40625 \r\nQ 43.21875 41.609375 39.140625 45 \r\nQ 35.0625 48.390625 27.6875 48.390625 \r\nQ 23 48.390625 18.546875 47.265625 \r\nQ 14.109375 46.140625 10.015625 43.890625 \r\nL 10.015625 52.203125 \r\nQ 14.9375 54.109375 19.578125 55.046875 \r\nQ 24.21875 56 28.609375 56 \r\nQ 40.484375 56 46.34375 49.84375 \r\nQ 52.203125 43.703125 52.203125 31.203125 \r\nz\r\n\" id=\"DejaVuSans-97\"/>\r\n       <path d=\"M 48.78125 52.59375 \r\nL 48.78125 44.1875 \r\nQ 44.96875 46.296875 41.140625 47.34375 \r\nQ 37.3125 48.390625 33.40625 48.390625 \r\nQ 24.65625 48.390625 19.8125 42.84375 \r\nQ 14.984375 37.3125 14.984375 27.296875 \r\nQ 14.984375 17.28125 19.8125 11.734375 \r\nQ 24.65625 6.203125 33.40625 6.203125 \r\nQ 37.3125 6.203125 41.140625 7.25 \r\nQ 44.96875 8.296875 48.78125 10.40625 \r\nL 48.78125 2.09375 \r\nQ 45.015625 0.34375 40.984375 -0.53125 \r\nQ 36.96875 -1.421875 32.421875 -1.421875 \r\nQ 20.0625 -1.421875 12.78125 6.34375 \r\nQ 5.515625 14.109375 5.515625 27.296875 \r\nQ 5.515625 40.671875 12.859375 48.328125 \r\nQ 20.21875 56 33.015625 56 \r\nQ 37.15625 56 41.109375 55.140625 \r\nQ 45.0625 54.296875 48.78125 52.59375 \r\nz\r\n\" id=\"DejaVuSans-99\"/>\r\n       <path d=\"M 8.5 21.578125 \r\nL 8.5 54.6875 \r\nL 17.484375 54.6875 \r\nL 17.484375 21.921875 \r\nQ 17.484375 14.15625 20.5 10.265625 \r\nQ 23.53125 6.390625 29.59375 6.390625 \r\nQ 36.859375 6.390625 41.078125 11.03125 \r\nQ 45.3125 15.671875 45.3125 23.6875 \r\nL 45.3125 54.6875 \r\nL 54.296875 54.6875 \r\nL 54.296875 0 \r\nL 45.3125 0 \r\nL 45.3125 8.40625 \r\nQ 42.046875 3.421875 37.71875 1 \r\nQ 33.40625 -1.421875 27.6875 -1.421875 \r\nQ 18.265625 -1.421875 13.375 4.4375 \r\nQ 8.5 10.296875 8.5 21.578125 \r\nz\r\nM 31.109375 56 \r\nz\r\n\" id=\"DejaVuSans-117\"/>\r\n       <path d=\"M 41.109375 46.296875 \r\nQ 39.59375 47.171875 37.8125 47.578125 \r\nQ 36.03125 48 33.890625 48 \r\nQ 26.265625 48 22.1875 43.046875 \r\nQ 18.109375 38.09375 18.109375 28.8125 \r\nL 18.109375 0 \r\nL 9.078125 0 \r\nL 9.078125 54.6875 \r\nL 18.109375 54.6875 \r\nL 18.109375 46.1875 \r\nQ 20.953125 51.171875 25.484375 53.578125 \r\nQ 30.03125 56 36.53125 56 \r\nQ 37.453125 56 38.578125 55.875 \r\nQ 39.703125 55.765625 41.0625 55.515625 \r\nz\r\n\" id=\"DejaVuSans-114\"/>\r\n       <path d=\"M 32.171875 -5.078125 \r\nQ 28.375 -14.84375 24.75 -17.8125 \r\nQ 21.140625 -20.796875 15.09375 -20.796875 \r\nL 7.90625 -20.796875 \r\nL 7.90625 -13.28125 \r\nL 13.1875 -13.28125 \r\nQ 16.890625 -13.28125 18.9375 -11.515625 \r\nQ 21 -9.765625 23.484375 -3.21875 \r\nL 25.09375 0.875 \r\nL 2.984375 54.6875 \r\nL 12.5 54.6875 \r\nL 29.59375 11.921875 \r\nL 46.6875 54.6875 \r\nL 56.203125 54.6875 \r\nz\r\n\" id=\"DejaVuSans-121\"/>\r\n      </defs>\r\n      <use xlink:href=\"#DejaVuSans-97\"/>\r\n      <use x=\"61.279297\" xlink:href=\"#DejaVuSans-99\"/>\r\n      <use x=\"116.259766\" xlink:href=\"#DejaVuSans-99\"/>\r\n      <use x=\"171.240234\" xlink:href=\"#DejaVuSans-117\"/>\r\n      <use x=\"234.619141\" xlink:href=\"#DejaVuSans-114\"/>\r\n      <use x=\"275.732422\" xlink:href=\"#DejaVuSans-97\"/>\r\n      <use x=\"337.011719\" xlink:href=\"#DejaVuSans-99\"/>\r\n      <use x=\"391.992188\" xlink:href=\"#DejaVuSans-121\"/>\r\n     </g>\r\n    </g>\r\n    <g id=\"line2d_20\">\r\n     <path d=\"M 45.465625 34.976562 \r\nL 65.465625 34.976562 \r\n\" style=\"fill:none;stroke:#ff0000;stroke-linecap:square;stroke-width:1.5;\"/>\r\n    </g>\r\n    <g id=\"line2d_21\"/>\r\n    <g id=\"text_17\">\r\n     <!-- val_loss -->\r\n     <g transform=\"translate(73.465625 38.476562)scale(0.1 -0.1)\">\r\n      <defs>\r\n       <path d=\"M 2.984375 54.6875 \r\nL 12.5 54.6875 \r\nL 29.59375 8.796875 \r\nL 46.6875 54.6875 \r\nL 56.203125 54.6875 \r\nL 35.6875 0 \r\nL 23.484375 0 \r\nz\r\n\" id=\"DejaVuSans-118\"/>\r\n       <path d=\"M 9.421875 75.984375 \r\nL 18.40625 75.984375 \r\nL 18.40625 0 \r\nL 9.421875 0 \r\nz\r\n\" id=\"DejaVuSans-108\"/>\r\n       <path d=\"M 50.984375 -16.609375 \r\nL 50.984375 -23.578125 \r\nL -0.984375 -23.578125 \r\nL -0.984375 -16.609375 \r\nz\r\n\" id=\"DejaVuSans-95\"/>\r\n       <path d=\"M 30.609375 48.390625 \r\nQ 23.390625 48.390625 19.1875 42.75 \r\nQ 14.984375 37.109375 14.984375 27.296875 \r\nQ 14.984375 17.484375 19.15625 11.84375 \r\nQ 23.34375 6.203125 30.609375 6.203125 \r\nQ 37.796875 6.203125 41.984375 11.859375 \r\nQ 46.1875 17.53125 46.1875 27.296875 \r\nQ 46.1875 37.015625 41.984375 42.703125 \r\nQ 37.796875 48.390625 30.609375 48.390625 \r\nz\r\nM 30.609375 56 \r\nQ 42.328125 56 49.015625 48.375 \r\nQ 55.71875 40.765625 55.71875 27.296875 \r\nQ 55.71875 13.875 49.015625 6.21875 \r\nQ 42.328125 -1.421875 30.609375 -1.421875 \r\nQ 18.84375 -1.421875 12.171875 6.21875 \r\nQ 5.515625 13.875 5.515625 27.296875 \r\nQ 5.515625 40.765625 12.171875 48.375 \r\nQ 18.84375 56 30.609375 56 \r\nz\r\n\" id=\"DejaVuSans-111\"/>\r\n       <path d=\"M 44.28125 53.078125 \r\nL 44.28125 44.578125 \r\nQ 40.484375 46.53125 36.375 47.5 \r\nQ 32.28125 48.484375 27.875 48.484375 \r\nQ 21.1875 48.484375 17.84375 46.4375 \r\nQ 14.5 44.390625 14.5 40.28125 \r\nQ 14.5 37.15625 16.890625 35.375 \r\nQ 19.28125 33.59375 26.515625 31.984375 \r\nL 29.59375 31.296875 \r\nQ 39.15625 29.25 43.1875 25.515625 \r\nQ 47.21875 21.78125 47.21875 15.09375 \r\nQ 47.21875 7.46875 41.1875 3.015625 \r\nQ 35.15625 -1.421875 24.609375 -1.421875 \r\nQ 20.21875 -1.421875 15.453125 -0.5625 \r\nQ 10.6875 0.296875 5.421875 2 \r\nL 5.421875 11.28125 \r\nQ 10.40625 8.6875 15.234375 7.390625 \r\nQ 20.0625 6.109375 24.8125 6.109375 \r\nQ 31.15625 6.109375 34.5625 8.28125 \r\nQ 37.984375 10.453125 37.984375 14.40625 \r\nQ 37.984375 18.0625 35.515625 20.015625 \r\nQ 33.0625 21.96875 24.703125 23.78125 \r\nL 21.578125 24.515625 \r\nQ 13.234375 26.265625 9.515625 29.90625 \r\nQ 5.8125 33.546875 5.8125 39.890625 \r\nQ 5.8125 47.609375 11.28125 51.796875 \r\nQ 16.75 56 26.8125 56 \r\nQ 31.78125 56 36.171875 55.265625 \r\nQ 40.578125 54.546875 44.28125 53.078125 \r\nz\r\n\" id=\"DejaVuSans-115\"/>\r\n      </defs>\r\n      <use xlink:href=\"#DejaVuSans-118\"/>\r\n      <use x=\"59.179688\" xlink:href=\"#DejaVuSans-97\"/>\r\n      <use x=\"120.458984\" xlink:href=\"#DejaVuSans-108\"/>\r\n      <use x=\"148.242188\" xlink:href=\"#DejaVuSans-95\"/>\r\n      <use x=\"198.242188\" xlink:href=\"#DejaVuSans-108\"/>\r\n      <use x=\"226.025391\" xlink:href=\"#DejaVuSans-111\"/>\r\n      <use x=\"287.207031\" xlink:href=\"#DejaVuSans-115\"/>\r\n      <use x=\"339.306641\" xlink:href=\"#DejaVuSans-115\"/>\r\n     </g>\r\n    </g>\r\n   </g>\r\n  </g>\r\n </g>\r\n <defs>\r\n  <clipPath id=\"p5fe2a8ebee\">\r\n   <rect height=\"217.44\" width=\"334.8\" x=\"36.465625\" y=\"7.2\"/>\r\n  </clipPath>\r\n </defs>\r\n</svg>\r\n",
      "image/png": "[encoded data removed]"
     },
     "metadata": {
      "needs_background": "light"
     }
    }
   ],
   "source": [
    "plt.plot(x_len, y_acc, 'b-',markersize=5, label='accuracy')\n",
    "plt.plot(x_len, y_vloss, 'r-',markersize=5, label='val_loss')\n",
    "plt.legend()\n",
    "plt.show()"
   ]
  }
 ]
}