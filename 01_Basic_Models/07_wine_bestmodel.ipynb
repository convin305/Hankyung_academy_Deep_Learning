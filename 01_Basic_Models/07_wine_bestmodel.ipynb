{
 "metadata": {
  "language_info": {
   "codemirror_mode": {
    "name": "ipython",
    "version": 3
   },
   "file_extension": ".py",
   "mimetype": "text/x-python",
   "name": "python",
   "nbconvert_exporter": "python",
   "pygments_lexer": "ipython3",
   "version": "3.8.5"
  },
  "orig_nbformat": 4,
  "kernelspec": {
   "name": "python3",
   "display_name": "Python 3.8.5 64-bit ('base': conda)"
  },
  "interpreter": {
   "hash": "8c1eae21719a0790335dcb83aad72b63b602cfe5cdb2bda0f60bc11d4f154e4b"
  }
 },
 "nbformat": 4,
 "nbformat_minor": 2,
 "cells": [
  {
   "source": [
    "# Wine - 베스트 모델 찾기, 와인 이진분류"
   ],
   "cell_type": "markdown",
   "metadata": {}
  },
  {
   "cell_type": "code",
   "execution_count": 1,
   "metadata": {},
   "outputs": [],
   "source": [
    "import numpy as np \n",
    "import pandas as pd \n",
    "import tensorflow as tf\n",
    "\n",
    "seed = 2021\n",
    "np.random.seed(seed)\n",
    "tf.random.set_seed(seed)"
   ]
  },
  {
   "source": [
    "wine = pd.read_csv(\"dataset/wine.csv\",header=None)\n",
    "wine.head()"
   ],
   "cell_type": "code",
   "metadata": {},
   "execution_count": 2,
   "outputs": [
    {
     "output_type": "execute_result",
     "data": {
      "text/plain": [
       "     0     1     2    3      4     5     6       7     8     9    10  11  12\n",
       "0   7.4  0.70  0.00  1.9  0.076  11.0  34.0  0.9978  3.51  0.56  9.4   5   1\n",
       "1   7.8  0.88  0.00  2.6  0.098  25.0  67.0  0.9968  3.20  0.68  9.8   5   1\n",
       "2   7.8  0.76  0.04  2.3  0.092  15.0  54.0  0.9970  3.26  0.65  9.8   5   1\n",
       "3  11.2  0.28  0.56  1.9  0.075  17.0  60.0  0.9980  3.16  0.58  9.8   6   1\n",
       "4   7.4  0.70  0.00  1.9  0.076  11.0  34.0  0.9978  3.51  0.56  9.4   5   1"
      ],
      "text/html": "<div>\n<style scoped>\n    .dataframe tbody tr th:only-of-type {\n        vertical-align: middle;\n    }\n\n    .dataframe tbody tr th {\n        vertical-align: top;\n    }\n\n    .dataframe thead th {\n        text-align: right;\n    }\n</style>\n<table border=\"1\" class=\"dataframe\">\n  <thead>\n    <tr style=\"text-align: right;\">\n      <th></th>\n      <th>0</th>\n      <th>1</th>\n      <th>2</th>\n      <th>3</th>\n      <th>4</th>\n      <th>5</th>\n      <th>6</th>\n      <th>7</th>\n      <th>8</th>\n      <th>9</th>\n      <th>10</th>\n      <th>11</th>\n      <th>12</th>\n    </tr>\n  </thead>\n  <tbody>\n    <tr>\n      <th>0</th>\n      <td>7.4</td>\n      <td>0.70</td>\n      <td>0.00</td>\n      <td>1.9</td>\n      <td>0.076</td>\n      <td>11.0</td>\n      <td>34.0</td>\n      <td>0.9978</td>\n      <td>3.51</td>\n      <td>0.56</td>\n      <td>9.4</td>\n      <td>5</td>\n      <td>1</td>\n    </tr>\n    <tr>\n      <th>1</th>\n      <td>7.8</td>\n      <td>0.88</td>\n      <td>0.00</td>\n      <td>2.6</td>\n      <td>0.098</td>\n      <td>25.0</td>\n      <td>67.0</td>\n      <td>0.9968</td>\n      <td>3.20</td>\n      <td>0.68</td>\n      <td>9.8</td>\n      <td>5</td>\n      <td>1</td>\n    </tr>\n    <tr>\n      <th>2</th>\n      <td>7.8</td>\n      <td>0.76</td>\n      <td>0.04</td>\n      <td>2.3</td>\n      <td>0.092</td>\n      <td>15.0</td>\n      <td>54.0</td>\n      <td>0.9970</td>\n      <td>3.26</td>\n      <td>0.65</td>\n      <td>9.8</td>\n      <td>5</td>\n      <td>1</td>\n    </tr>\n    <tr>\n      <th>3</th>\n      <td>11.2</td>\n      <td>0.28</td>\n      <td>0.56</td>\n      <td>1.9</td>\n      <td>0.075</td>\n      <td>17.0</td>\n      <td>60.0</td>\n      <td>0.9980</td>\n      <td>3.16</td>\n      <td>0.58</td>\n      <td>9.8</td>\n      <td>6</td>\n      <td>1</td>\n    </tr>\n    <tr>\n      <th>4</th>\n      <td>7.4</td>\n      <td>0.70</td>\n      <td>0.00</td>\n      <td>1.9</td>\n      <td>0.076</td>\n      <td>11.0</td>\n      <td>34.0</td>\n      <td>0.9978</td>\n      <td>3.51</td>\n      <td>0.56</td>\n      <td>9.4</td>\n      <td>5</td>\n      <td>1</td>\n    </tr>\n  </tbody>\n</table>\n</div>"
     },
     "metadata": {},
     "execution_count": 2
    }
   ]
  },
  {
   "source": [
    "### 데이터 전처리 "
   ],
   "cell_type": "markdown",
   "metadata": {}
  },
  {
   "cell_type": "code",
   "execution_count": 3,
   "metadata": {},
   "outputs": [],
   "source": [
    "from sklearn.preprocessing import LabelEncoder\n",
    "encoder = LabelEncoder()\n",
    "wine_class = encoder.fit_transform(wine.iloc[:,12].values)"
   ]
  },
  {
   "cell_type": "code",
   "execution_count": 4,
   "metadata": {},
   "outputs": [],
   "source": [
    "# 데이터 정규화 \n",
    "from sklearn.preprocessing import MinMaxScaler\n",
    "\n",
    "scaler = MinMaxScaler()\n",
    "X_scaled = scaler.fit_transform(wine.iloc[:,:-1].values)"
   ]
  },
  {
   "source": [
    "### 데이터셋 나누기 "
   ],
   "cell_type": "markdown",
   "metadata": {}
  },
  {
   "cell_type": "code",
   "execution_count": 5,
   "metadata": {},
   "outputs": [
    {
     "output_type": "execute_result",
     "data": {
      "text/plain": [
       "((4872, 12), (1625, 12), (4872,), (1625,))"
      ]
     },
     "metadata": {},
     "execution_count": 5
    }
   ],
   "source": [
    "from sklearn.model_selection import train_test_split\n",
    "\n",
    "X_train, X_test, y_train, y_test = train_test_split(X_scaled, wine_class, stratify=wine_class, random_state=seed)\n",
    "\n",
    "X_train.shape, X_test.shape, y_train.shape, y_test.shape"
   ]
  },
  {
   "source": [
    "### 모델 정의 / 설정"
   ],
   "cell_type": "markdown",
   "metadata": {}
  },
  {
   "cell_type": "code",
   "execution_count": 6,
   "metadata": {},
   "outputs": [],
   "source": [
    "from tensorflow.keras.models import Sequential\n",
    "from tensorflow.keras.layers import Dense"
   ]
  },
  {
   "cell_type": "code",
   "execution_count": 7,
   "metadata": {},
   "outputs": [
    {
     "output_type": "stream",
     "name": "stdout",
     "text": [
      "Model: \"sequential\"\n_________________________________________________________________\nLayer (type)                 Output Shape              Param #   \n=================================================================\ndense (Dense)                (None, 30)                390       \n_________________________________________________________________\ndense_1 (Dense)              (None, 12)                372       \n_________________________________________________________________\ndense_2 (Dense)              (None, 8)                 104       \n_________________________________________________________________\ndense_3 (Dense)              (None, 1)                 9         \n=================================================================\nTotal params: 875\nTrainable params: 875\nNon-trainable params: 0\n_________________________________________________________________\n"
     ]
    }
   ],
   "source": [
    "model = Sequential()\n",
    "model.add(Dense(30,input_dim=12,activation='relu'))\n",
    "model.add(Dense(12,activation='relu'))\n",
    "model.add(Dense(8,activation='relu'))\n",
    "model.add(Dense(1,activation='sigmoid'))\n",
    "model.summary()"
   ]
  },
  {
   "cell_type": "code",
   "execution_count": 8,
   "metadata": {},
   "outputs": [],
   "source": [
    "model.compile(\n",
    "    optimizer='adam',\n",
    "    loss='binary_crossentropy',\n",
    "    metrics=['accuracy']\n",
    ")"
   ]
  },
  {
   "cell_type": "code",
   "execution_count": 9,
   "metadata": {},
   "outputs": [],
   "source": [
    "# 모델 저장 관련 설정\n",
    "model_path = 'model/best_wine_{epoch:03d}_{val_loss:.4f}.h5'\n",
    "# 앞으로는 밑에처럼 하면 바로 베스트모델 하나 나옴\n",
    "# model_path = 'model/best_wine.h5'"
   ]
  },
  {
   "cell_type": "code",
   "execution_count": 10,
   "metadata": {},
   "outputs": [],
   "source": [
    "from tensorflow.keras.callbacks import ModelCheckpoint\n",
    "checkpointer = ModelCheckpoint(\n",
    "    model_path, monitor='val_loss', verbose=1, save_best_only=True\n",
    ")"
   ]
  },
  {
   "source": [
    "### 모델 학습 및 저장 "
   ],
   "cell_type": "markdown",
   "metadata": {}
  },
  {
   "cell_type": "code",
   "execution_count": 12,
   "metadata": {},
   "outputs": [
    {
     "output_type": "stream",
     "name": "stdout",
     "text": [
      "\n",
      "Epoch 00001: val_loss improved from inf to 0.63452, saving model to model\\best_wine_001_0.6345.h5\n",
      "\n",
      "Epoch 00002: val_loss improved from 0.63452 to 0.57737, saving model to model\\best_wine_002_0.5774.h5\n",
      "\n",
      "Epoch 00003: val_loss improved from 0.57737 to 0.51327, saving model to model\\best_wine_003_0.5133.h5\n",
      "\n",
      "Epoch 00004: val_loss improved from 0.51327 to 0.45118, saving model to model\\best_wine_004_0.4512.h5\n",
      "\n",
      "Epoch 00005: val_loss improved from 0.45118 to 0.38812, saving model to model\\best_wine_005_0.3881.h5\n",
      "\n",
      "Epoch 00006: val_loss improved from 0.38812 to 0.32422, saving model to model\\best_wine_006_0.3242.h5\n",
      "\n",
      "Epoch 00007: val_loss improved from 0.32422 to 0.26086, saving model to model\\best_wine_007_0.2609.h5\n",
      "\n",
      "Epoch 00008: val_loss improved from 0.26086 to 0.20673, saving model to model\\best_wine_008_0.2067.h5\n",
      "\n",
      "Epoch 00009: val_loss improved from 0.20673 to 0.15826, saving model to model\\best_wine_009_0.1583.h5\n",
      "\n",
      "Epoch 00010: val_loss improved from 0.15826 to 0.12070, saving model to model\\best_wine_010_0.1207.h5\n",
      "\n",
      "Epoch 00011: val_loss improved from 0.12070 to 0.09141, saving model to model\\best_wine_011_0.0914.h5\n",
      "\n",
      "Epoch 00012: val_loss improved from 0.09141 to 0.07345, saving model to model\\best_wine_012_0.0734.h5\n",
      "\n",
      "Epoch 00013: val_loss improved from 0.07345 to 0.06349, saving model to model\\best_wine_013_0.0635.h5\n",
      "\n",
      "Epoch 00014: val_loss improved from 0.06349 to 0.05796, saving model to model\\best_wine_014_0.0580.h5\n",
      "\n",
      "Epoch 00015: val_loss improved from 0.05796 to 0.05307, saving model to model\\best_wine_015_0.0531.h5\n",
      "\n",
      "Epoch 00016: val_loss improved from 0.05307 to 0.05035, saving model to model\\best_wine_016_0.0504.h5\n",
      "\n",
      "Epoch 00017: val_loss improved from 0.05035 to 0.04710, saving model to model\\best_wine_017_0.0471.h5\n",
      "\n",
      "Epoch 00018: val_loss improved from 0.04710 to 0.04535, saving model to model\\best_wine_018_0.0454.h5\n",
      "\n",
      "Epoch 00019: val_loss improved from 0.04535 to 0.04446, saving model to model\\best_wine_019_0.0445.h5\n",
      "\n",
      "Epoch 00020: val_loss improved from 0.04446 to 0.04275, saving model to model\\best_wine_020_0.0428.h5\n",
      "\n",
      "Epoch 00021: val_loss improved from 0.04275 to 0.04160, saving model to model\\best_wine_021_0.0416.h5\n",
      "\n",
      "Epoch 00022: val_loss improved from 0.04160 to 0.04086, saving model to model\\best_wine_022_0.0409.h5\n",
      "\n",
      "Epoch 00023: val_loss improved from 0.04086 to 0.03952, saving model to model\\best_wine_023_0.0395.h5\n",
      "\n",
      "Epoch 00024: val_loss improved from 0.03952 to 0.03903, saving model to model\\best_wine_024_0.0390.h5\n",
      "\n",
      "Epoch 00025: val_loss improved from 0.03903 to 0.03889, saving model to model\\best_wine_025_0.0389.h5\n",
      "\n",
      "Epoch 00026: val_loss improved from 0.03889 to 0.03798, saving model to model\\best_wine_026_0.0380.h5\n",
      "\n",
      "Epoch 00027: val_loss improved from 0.03798 to 0.03782, saving model to model\\best_wine_027_0.0378.h5\n",
      "\n",
      "Epoch 00028: val_loss improved from 0.03782 to 0.03726, saving model to model\\best_wine_028_0.0373.h5\n",
      "\n",
      "Epoch 00029: val_loss improved from 0.03726 to 0.03620, saving model to model\\best_wine_029_0.0362.h5\n",
      "\n",
      "Epoch 00030: val_loss improved from 0.03620 to 0.03603, saving model to model\\best_wine_030_0.0360.h5\n",
      "\n",
      "Epoch 00031: val_loss did not improve from 0.03603\n",
      "\n",
      "Epoch 00032: val_loss improved from 0.03603 to 0.03568, saving model to model\\best_wine_032_0.0357.h5\n",
      "\n",
      "Epoch 00033: val_loss improved from 0.03568 to 0.03490, saving model to model\\best_wine_033_0.0349.h5\n",
      "\n",
      "Epoch 00034: val_loss did not improve from 0.03490\n",
      "\n",
      "Epoch 00035: val_loss improved from 0.03490 to 0.03427, saving model to model\\best_wine_035_0.0343.h5\n",
      "\n",
      "Epoch 00036: val_loss did not improve from 0.03427\n",
      "\n",
      "Epoch 00037: val_loss improved from 0.03427 to 0.03387, saving model to model\\best_wine_037_0.0339.h5\n",
      "\n",
      "Epoch 00038: val_loss did not improve from 0.03387\n",
      "\n",
      "Epoch 00039: val_loss did not improve from 0.03387\n",
      "\n",
      "Epoch 00040: val_loss improved from 0.03387 to 0.03310, saving model to model\\best_wine_040_0.0331.h5\n",
      "\n",
      "Epoch 00041: val_loss improved from 0.03310 to 0.03301, saving model to model\\best_wine_041_0.0330.h5\n",
      "\n",
      "Epoch 00042: val_loss did not improve from 0.03301\n",
      "\n",
      "Epoch 00043: val_loss improved from 0.03301 to 0.03264, saving model to model\\best_wine_043_0.0326.h5\n",
      "\n",
      "Epoch 00044: val_loss did not improve from 0.03264\n",
      "\n",
      "Epoch 00045: val_loss improved from 0.03264 to 0.03227, saving model to model\\best_wine_045_0.0323.h5\n",
      "\n",
      "Epoch 00046: val_loss did not improve from 0.03227\n",
      "\n",
      "Epoch 00047: val_loss improved from 0.03227 to 0.03193, saving model to model\\best_wine_047_0.0319.h5\n",
      "\n",
      "Epoch 00048: val_loss did not improve from 0.03193\n",
      "\n",
      "Epoch 00049: val_loss did not improve from 0.03193\n",
      "\n",
      "Epoch 00050: val_loss improved from 0.03193 to 0.03168, saving model to model\\best_wine_050_0.0317.h5\n",
      "\n",
      "Epoch 00051: val_loss did not improve from 0.03168\n",
      "\n",
      "Epoch 00052: val_loss improved from 0.03168 to 0.03167, saving model to model\\best_wine_052_0.0317.h5\n",
      "\n",
      "Epoch 00053: val_loss improved from 0.03167 to 0.03100, saving model to model\\best_wine_053_0.0310.h5\n",
      "\n",
      "Epoch 00054: val_loss improved from 0.03100 to 0.03093, saving model to model\\best_wine_054_0.0309.h5\n",
      "\n",
      "Epoch 00055: val_loss improved from 0.03093 to 0.03084, saving model to model\\best_wine_055_0.0308.h5\n",
      "\n",
      "Epoch 00056: val_loss did not improve from 0.03084\n",
      "\n",
      "Epoch 00057: val_loss did not improve from 0.03084\n",
      "\n",
      "Epoch 00058: val_loss improved from 0.03084 to 0.03042, saving model to model\\best_wine_058_0.0304.h5\n",
      "\n",
      "Epoch 00059: val_loss did not improve from 0.03042\n",
      "\n",
      "Epoch 00060: val_loss did not improve from 0.03042\n",
      "\n",
      "Epoch 00061: val_loss improved from 0.03042 to 0.03024, saving model to model\\best_wine_061_0.0302.h5\n",
      "\n",
      "Epoch 00062: val_loss did not improve from 0.03024\n",
      "\n",
      "Epoch 00063: val_loss did not improve from 0.03024\n",
      "\n",
      "Epoch 00064: val_loss did not improve from 0.03024\n",
      "\n",
      "Epoch 00065: val_loss did not improve from 0.03024\n",
      "\n",
      "Epoch 00066: val_loss improved from 0.03024 to 0.03005, saving model to model\\best_wine_066_0.0300.h5\n",
      "\n",
      "Epoch 00067: val_loss did not improve from 0.03005\n",
      "\n",
      "Epoch 00068: val_loss did not improve from 0.03005\n",
      "\n",
      "Epoch 00069: val_loss did not improve from 0.03005\n",
      "\n",
      "Epoch 00070: val_loss did not improve from 0.03005\n",
      "\n",
      "Epoch 00071: val_loss improved from 0.03005 to 0.02967, saving model to model\\best_wine_071_0.0297.h5\n",
      "\n",
      "Epoch 00072: val_loss did not improve from 0.02967\n",
      "\n",
      "Epoch 00073: val_loss did not improve from 0.02967\n",
      "\n",
      "Epoch 00074: val_loss did not improve from 0.02967\n",
      "\n",
      "Epoch 00075: val_loss did not improve from 0.02967\n",
      "\n",
      "Epoch 00076: val_loss improved from 0.02967 to 0.02953, saving model to model\\best_wine_076_0.0295.h5\n",
      "\n",
      "Epoch 00077: val_loss did not improve from 0.02953\n",
      "\n",
      "Epoch 00078: val_loss did not improve from 0.02953\n",
      "\n",
      "Epoch 00079: val_loss did not improve from 0.02953\n",
      "\n",
      "Epoch 00080: val_loss did not improve from 0.02953\n",
      "\n",
      "Epoch 00081: val_loss improved from 0.02953 to 0.02935, saving model to model\\best_wine_081_0.0293.h5\n",
      "\n",
      "Epoch 00082: val_loss did not improve from 0.02935\n",
      "\n",
      "Epoch 00083: val_loss did not improve from 0.02935\n",
      "\n",
      "Epoch 00084: val_loss did not improve from 0.02935\n",
      "\n",
      "Epoch 00085: val_loss did not improve from 0.02935\n",
      "\n",
      "Epoch 00086: val_loss improved from 0.02935 to 0.02927, saving model to model\\best_wine_086_0.0293.h5\n",
      "\n",
      "Epoch 00087: val_loss did not improve from 0.02927\n",
      "\n",
      "Epoch 00088: val_loss did not improve from 0.02927\n",
      "\n",
      "Epoch 00089: val_loss did not improve from 0.02927\n",
      "\n",
      "Epoch 00090: val_loss did not improve from 0.02927\n",
      "\n",
      "Epoch 00091: val_loss did not improve from 0.02927\n",
      "\n",
      "Epoch 00092: val_loss did not improve from 0.02927\n",
      "\n",
      "Epoch 00093: val_loss did not improve from 0.02927\n",
      "\n",
      "Epoch 00094: val_loss improved from 0.02927 to 0.02927, saving model to model\\best_wine_094_0.0293.h5\n",
      "\n",
      "Epoch 00095: val_loss improved from 0.02927 to 0.02922, saving model to model\\best_wine_095_0.0292.h5\n",
      "\n",
      "Epoch 00096: val_loss improved from 0.02922 to 0.02922, saving model to model\\best_wine_096_0.0292.h5\n",
      "\n",
      "Epoch 00097: val_loss improved from 0.02922 to 0.02897, saving model to model\\best_wine_097_0.0290.h5\n",
      "\n",
      "Epoch 00098: val_loss did not improve from 0.02897\n",
      "\n",
      "Epoch 00099: val_loss did not improve from 0.02897\n",
      "\n",
      "Epoch 00100: val_loss did not improve from 0.02897\n",
      "\n",
      "Epoch 00101: val_loss did not improve from 0.02897\n",
      "\n",
      "Epoch 00102: val_loss did not improve from 0.02897\n",
      "\n",
      "Epoch 00103: val_loss did not improve from 0.02897\n",
      "\n",
      "Epoch 00104: val_loss did not improve from 0.02897\n",
      "\n",
      "Epoch 00105: val_loss did not improve from 0.02897\n",
      "\n",
      "Epoch 00106: val_loss did not improve from 0.02897\n",
      "\n",
      "Epoch 00107: val_loss improved from 0.02897 to 0.02857, saving model to model\\best_wine_107_0.0286.h5\n",
      "\n",
      "Epoch 00108: val_loss did not improve from 0.02857\n",
      "\n",
      "Epoch 00109: val_loss did not improve from 0.02857\n",
      "\n",
      "Epoch 00110: val_loss did not improve from 0.02857\n",
      "\n",
      "Epoch 00111: val_loss did not improve from 0.02857\n",
      "\n",
      "Epoch 00112: val_loss did not improve from 0.02857\n",
      "\n",
      "Epoch 00113: val_loss did not improve from 0.02857\n",
      "\n",
      "Epoch 00114: val_loss did not improve from 0.02857\n",
      "\n",
      "Epoch 00115: val_loss did not improve from 0.02857\n",
      "\n",
      "Epoch 00116: val_loss did not improve from 0.02857\n",
      "\n",
      "Epoch 00117: val_loss improved from 0.02857 to 0.02845, saving model to model\\best_wine_117_0.0285.h5\n",
      "\n",
      "Epoch 00118: val_loss did not improve from 0.02845\n",
      "\n",
      "Epoch 00119: val_loss improved from 0.02845 to 0.02815, saving model to model\\best_wine_119_0.0282.h5\n",
      "\n",
      "Epoch 00120: val_loss did not improve from 0.02815\n",
      "\n",
      "Epoch 00121: val_loss did not improve from 0.02815\n",
      "\n",
      "Epoch 00122: val_loss did not improve from 0.02815\n",
      "\n",
      "Epoch 00123: val_loss improved from 0.02815 to 0.02812, saving model to model\\best_wine_123_0.0281.h5\n",
      "\n",
      "Epoch 00124: val_loss did not improve from 0.02812\n",
      "\n",
      "Epoch 00125: val_loss did not improve from 0.02812\n",
      "\n",
      "Epoch 00126: val_loss improved from 0.02812 to 0.02801, saving model to model\\best_wine_126_0.0280.h5\n",
      "\n",
      "Epoch 00127: val_loss did not improve from 0.02801\n",
      "\n",
      "Epoch 00128: val_loss did not improve from 0.02801\n",
      "\n",
      "Epoch 00129: val_loss did not improve from 0.02801\n",
      "\n",
      "Epoch 00130: val_loss did not improve from 0.02801\n",
      "\n",
      "Epoch 00131: val_loss did not improve from 0.02801\n",
      "\n",
      "Epoch 00132: val_loss did not improve from 0.02801\n",
      "\n",
      "Epoch 00133: val_loss did not improve from 0.02801\n",
      "\n",
      "Epoch 00134: val_loss improved from 0.02801 to 0.02799, saving model to model\\best_wine_134_0.0280.h5\n",
      "\n",
      "Epoch 00135: val_loss did not improve from 0.02799\n",
      "\n",
      "Epoch 00136: val_loss did not improve from 0.02799\n",
      "\n",
      "Epoch 00137: val_loss did not improve from 0.02799\n",
      "\n",
      "Epoch 00138: val_loss did not improve from 0.02799\n",
      "\n",
      "Epoch 00139: val_loss did not improve from 0.02799\n",
      "\n",
      "Epoch 00140: val_loss did not improve from 0.02799\n",
      "\n",
      "Epoch 00141: val_loss improved from 0.02799 to 0.02794, saving model to model\\best_wine_141_0.0279.h5\n",
      "\n",
      "Epoch 00142: val_loss did not improve from 0.02794\n",
      "\n",
      "Epoch 00143: val_loss did not improve from 0.02794\n",
      "\n",
      "Epoch 00144: val_loss did not improve from 0.02794\n",
      "\n",
      "Epoch 00145: val_loss did not improve from 0.02794\n",
      "\n",
      "Epoch 00146: val_loss did not improve from 0.02794\n",
      "\n",
      "Epoch 00147: val_loss did not improve from 0.02794\n",
      "\n",
      "Epoch 00148: val_loss did not improve from 0.02794\n",
      "\n",
      "Epoch 00149: val_loss did not improve from 0.02794\n",
      "\n",
      "Epoch 00150: val_loss did not improve from 0.02794\n",
      "\n",
      "Epoch 00151: val_loss did not improve from 0.02794\n",
      "\n",
      "Epoch 00152: val_loss did not improve from 0.02794\n",
      "\n",
      "Epoch 00153: val_loss did not improve from 0.02794\n",
      "\n",
      "Epoch 00154: val_loss did not improve from 0.02794\n",
      "\n",
      "Epoch 00155: val_loss did not improve from 0.02794\n",
      "\n",
      "Epoch 00156: val_loss did not improve from 0.02794\n",
      "\n",
      "Epoch 00157: val_loss did not improve from 0.02794\n",
      "\n",
      "Epoch 00158: val_loss did not improve from 0.02794\n",
      "\n",
      "Epoch 00159: val_loss did not improve from 0.02794\n",
      "\n",
      "Epoch 00160: val_loss did not improve from 0.02794\n",
      "\n",
      "Epoch 00161: val_loss did not improve from 0.02794\n",
      "\n",
      "Epoch 00162: val_loss did not improve from 0.02794\n",
      "\n",
      "Epoch 00163: val_loss did not improve from 0.02794\n",
      "\n",
      "Epoch 00164: val_loss did not improve from 0.02794\n",
      "\n",
      "Epoch 00165: val_loss did not improve from 0.02794\n",
      "\n",
      "Epoch 00166: val_loss did not improve from 0.02794\n",
      "\n",
      "Epoch 00167: val_loss did not improve from 0.02794\n",
      "\n",
      "Epoch 00168: val_loss did not improve from 0.02794\n",
      "\n",
      "Epoch 00169: val_loss did not improve from 0.02794\n",
      "\n",
      "Epoch 00170: val_loss did not improve from 0.02794\n",
      "\n",
      "Epoch 00171: val_loss did not improve from 0.02794\n",
      "\n",
      "Epoch 00172: val_loss did not improve from 0.02794\n",
      "\n",
      "Epoch 00173: val_loss did not improve from 0.02794\n",
      "\n",
      "Epoch 00174: val_loss did not improve from 0.02794\n",
      "\n",
      "Epoch 00175: val_loss did not improve from 0.02794\n",
      "\n",
      "Epoch 00176: val_loss did not improve from 0.02794\n",
      "\n",
      "Epoch 00177: val_loss did not improve from 0.02794\n",
      "\n",
      "Epoch 00178: val_loss did not improve from 0.02794\n",
      "\n",
      "Epoch 00179: val_loss did not improve from 0.02794\n",
      "\n",
      "Epoch 00180: val_loss did not improve from 0.02794\n",
      "\n",
      "Epoch 00181: val_loss did not improve from 0.02794\n",
      "\n",
      "Epoch 00182: val_loss did not improve from 0.02794\n",
      "\n",
      "Epoch 00183: val_loss did not improve from 0.02794\n",
      "\n",
      "Epoch 00184: val_loss did not improve from 0.02794\n",
      "\n",
      "Epoch 00185: val_loss did not improve from 0.02794\n",
      "\n",
      "Epoch 00186: val_loss did not improve from 0.02794\n",
      "\n",
      "Epoch 00187: val_loss did not improve from 0.02794\n",
      "\n",
      "Epoch 00188: val_loss did not improve from 0.02794\n",
      "\n",
      "Epoch 00189: val_loss did not improve from 0.02794\n",
      "\n",
      "Epoch 00190: val_loss did not improve from 0.02794\n",
      "\n",
      "Epoch 00191: val_loss did not improve from 0.02794\n",
      "\n",
      "Epoch 00192: val_loss did not improve from 0.02794\n",
      "\n",
      "Epoch 00193: val_loss did not improve from 0.02794\n",
      "\n",
      "Epoch 00194: val_loss did not improve from 0.02794\n",
      "\n",
      "Epoch 00195: val_loss did not improve from 0.02794\n",
      "\n",
      "Epoch 00196: val_loss did not improve from 0.02794\n",
      "\n",
      "Epoch 00197: val_loss did not improve from 0.02794\n",
      "\n",
      "Epoch 00198: val_loss did not improve from 0.02794\n",
      "\n",
      "Epoch 00199: val_loss did not improve from 0.02794\n",
      "\n",
      "Epoch 00200: val_loss did not improve from 0.02794\n"
     ]
    }
   ],
   "source": [
    "history = model.fit(X_train, y_train, validation_split=0.2, epochs=200, batch_size=200, verbose=0, callbacks=[checkpointer])"
   ]
  },
  {
   "source": [
    "### 평가는 베스트 모델로 해야 함."
   ],
   "cell_type": "markdown",
   "metadata": {}
  },
  {
   "cell_type": "code",
   "execution_count": 13,
   "metadata": {},
   "outputs": [],
   "source": [
    "from tensorflow.keras.models import load_model\n",
    "best_model = load_model('model/best_wine_141_0.0279.h5')"
   ]
  },
  {
   "cell_type": "code",
   "execution_count": 14,
   "metadata": {},
   "outputs": [
    {
     "output_type": "stream",
     "name": "stdout",
     "text": [
      "51/51 [==============================] - 0s 580us/step - loss: 0.0270 - accuracy: 0.9920\n"
     ]
    },
    {
     "output_type": "execute_result",
     "data": {
      "text/plain": [
       "[0.02697831206023693, 0.9919999837875366]"
      ]
     },
     "metadata": {},
     "execution_count": 14
    }
   ],
   "source": [
    "best_model.evaluate(X_test, y_test)"
   ]
  },
  {
   "source": [
    "### 훈련과정 시각화 "
   ],
   "cell_type": "markdown",
   "metadata": {}
  },
  {
   "cell_type": "code",
   "execution_count": 15,
   "metadata": {},
   "outputs": [
    {
     "output_type": "display_data",
     "data": {
      "text/plain": "<Figure size 432x288 with 1 Axes>",
      "image/svg+xml": "<?xml version=\"1.0\" encoding=\"utf-8\" standalone=\"no\"?>\r\n<!DOCTYPE svg PUBLIC \"-//W3C//DTD SVG 1.1//EN\"\r\n  \"http://www.w3.org/Graphics/SVG/1.1/DTD/svg11.dtd\">\r\n<!-- Created with matplotlib (https://matplotlib.org/) -->\r\n<svg height=\"248.518125pt\" version=\"1.1\" viewBox=\"0 0 372.103125 248.518125\" width=\"372.103125pt\" xmlns=\"http://www.w3.org/2000/svg\" xmlns:xlink=\"http://www.w3.org/1999/xlink\">\r\n <metadata>\r\n  <rdf:RDF xmlns:cc=\"http://creativecommons.org/ns#\" xmlns:dc=\"http://purl.org/dc/elements/1.1/\" xmlns:rdf=\"http://www.w3.org/1999/02/22-rdf-syntax-ns#\">\r\n   <cc:Work>\r\n    <dc:type rdf:resource=\"http://purl.org/dc/dcmitype/StillImage\"/>\r\n    <dc:date>2021-06-29T10:48:21.915642</dc:date>\r\n    <dc:format>image/svg+xml</dc:format>\r\n    <dc:creator>\r\n     <cc:Agent>\r\n      <dc:title>Matplotlib v3.3.4, https://matplotlib.org/</dc:title>\r\n     </cc:Agent>\r\n    </dc:creator>\r\n   </cc:Work>\r\n  </rdf:RDF>\r\n </metadata>\r\n <defs>\r\n  <style type=\"text/css\">*{stroke-linecap:butt;stroke-linejoin:round;}</style>\r\n </defs>\r\n <g id=\"figure_1\">\r\n  <g id=\"patch_1\">\r\n   <path d=\"M 0 248.518125 \r\nL 372.103125 248.518125 \r\nL 372.103125 0 \r\nL 0 0 \r\nz\r\n\" style=\"fill:none;\"/>\r\n  </g>\r\n  <g id=\"axes_1\">\r\n   <g id=\"patch_2\">\r\n    <path d=\"M 30.103125 224.64 \r\nL 364.903125 224.64 \r\nL 364.903125 7.2 \r\nL 30.103125 7.2 \r\nz\r\n\" style=\"fill:#ffffff;\"/>\r\n   </g>\r\n   <g id=\"matplotlib.axis_1\">\r\n    <g id=\"xtick_1\">\r\n     <g id=\"line2d_1\">\r\n      <defs>\r\n       <path d=\"M 0 0 \r\nL 0 3.5 \r\n\" id=\"meaca77be8d\" style=\"stroke:#000000;stroke-width:0.8;\"/>\r\n      </defs>\r\n      <g>\r\n       <use style=\"stroke:#000000;stroke-width:0.8;\" x=\"45.321307\" xlink:href=\"#meaca77be8d\" y=\"224.64\"/>\r\n      </g>\r\n     </g>\r\n     <g id=\"text_1\">\r\n      <!-- 0 -->\r\n      <g transform=\"translate(42.140057 239.238437)scale(0.1 -0.1)\">\r\n       <defs>\r\n        <path d=\"M 31.78125 66.40625 \r\nQ 24.171875 66.40625 20.328125 58.90625 \r\nQ 16.5 51.421875 16.5 36.375 \r\nQ 16.5 21.390625 20.328125 13.890625 \r\nQ 24.171875 6.390625 31.78125 6.390625 \r\nQ 39.453125 6.390625 43.28125 13.890625 \r\nQ 47.125 21.390625 47.125 36.375 \r\nQ 47.125 51.421875 43.28125 58.90625 \r\nQ 39.453125 66.40625 31.78125 66.40625 \r\nz\r\nM 31.78125 74.21875 \r\nQ 44.046875 74.21875 50.515625 64.515625 \r\nQ 56.984375 54.828125 56.984375 36.375 \r\nQ 56.984375 17.96875 50.515625 8.265625 \r\nQ 44.046875 -1.421875 31.78125 -1.421875 \r\nQ 19.53125 -1.421875 13.0625 8.265625 \r\nQ 6.59375 17.96875 6.59375 36.375 \r\nQ 6.59375 54.828125 13.0625 64.515625 \r\nQ 19.53125 74.21875 31.78125 74.21875 \r\nz\r\n\" id=\"DejaVuSans-48\"/>\r\n       </defs>\r\n       <use xlink:href=\"#DejaVuSans-48\"/>\r\n      </g>\r\n     </g>\r\n    </g>\r\n    <g id=\"xtick_2\">\r\n     <g id=\"line2d_2\">\r\n      <g>\r\n       <use style=\"stroke:#000000;stroke-width:0.8;\" x=\"83.557945\" xlink:href=\"#meaca77be8d\" y=\"224.64\"/>\r\n      </g>\r\n     </g>\r\n     <g id=\"text_2\">\r\n      <!-- 25 -->\r\n      <g transform=\"translate(77.195445 239.238437)scale(0.1 -0.1)\">\r\n       <defs>\r\n        <path d=\"M 19.1875 8.296875 \r\nL 53.609375 8.296875 \r\nL 53.609375 0 \r\nL 7.328125 0 \r\nL 7.328125 8.296875 \r\nQ 12.9375 14.109375 22.625 23.890625 \r\nQ 32.328125 33.6875 34.8125 36.53125 \r\nQ 39.546875 41.84375 41.421875 45.53125 \r\nQ 43.3125 49.21875 43.3125 52.78125 \r\nQ 43.3125 58.59375 39.234375 62.25 \r\nQ 35.15625 65.921875 28.609375 65.921875 \r\nQ 23.96875 65.921875 18.8125 64.3125 \r\nQ 13.671875 62.703125 7.8125 59.421875 \r\nL 7.8125 69.390625 \r\nQ 13.765625 71.78125 18.9375 73 \r\nQ 24.125 74.21875 28.421875 74.21875 \r\nQ 39.75 74.21875 46.484375 68.546875 \r\nQ 53.21875 62.890625 53.21875 53.421875 \r\nQ 53.21875 48.921875 51.53125 44.890625 \r\nQ 49.859375 40.875 45.40625 35.40625 \r\nQ 44.1875 33.984375 37.640625 27.21875 \r\nQ 31.109375 20.453125 19.1875 8.296875 \r\nz\r\n\" id=\"DejaVuSans-50\"/>\r\n        <path d=\"M 10.796875 72.90625 \r\nL 49.515625 72.90625 \r\nL 49.515625 64.59375 \r\nL 19.828125 64.59375 \r\nL 19.828125 46.734375 \r\nQ 21.96875 47.46875 24.109375 47.828125 \r\nQ 26.265625 48.1875 28.421875 48.1875 \r\nQ 40.625 48.1875 47.75 41.5 \r\nQ 54.890625 34.8125 54.890625 23.390625 \r\nQ 54.890625 11.625 47.5625 5.09375 \r\nQ 40.234375 -1.421875 26.90625 -1.421875 \r\nQ 22.3125 -1.421875 17.546875 -0.640625 \r\nQ 12.796875 0.140625 7.71875 1.703125 \r\nL 7.71875 11.625 \r\nQ 12.109375 9.234375 16.796875 8.0625 \r\nQ 21.484375 6.890625 26.703125 6.890625 \r\nQ 35.15625 6.890625 40.078125 11.328125 \r\nQ 45.015625 15.765625 45.015625 23.390625 \r\nQ 45.015625 31 40.078125 35.4375 \r\nQ 35.15625 39.890625 26.703125 39.890625 \r\nQ 22.75 39.890625 18.8125 39.015625 \r\nQ 14.890625 38.140625 10.796875 36.28125 \r\nz\r\n\" id=\"DejaVuSans-53\"/>\r\n       </defs>\r\n       <use xlink:href=\"#DejaVuSans-50\"/>\r\n       <use x=\"63.623047\" xlink:href=\"#DejaVuSans-53\"/>\r\n      </g>\r\n     </g>\r\n    </g>\r\n    <g id=\"xtick_3\">\r\n     <g id=\"line2d_3\">\r\n      <g>\r\n       <use style=\"stroke:#000000;stroke-width:0.8;\" x=\"121.794582\" xlink:href=\"#meaca77be8d\" y=\"224.64\"/>\r\n      </g>\r\n     </g>\r\n     <g id=\"text_3\">\r\n      <!-- 50 -->\r\n      <g transform=\"translate(115.432082 239.238437)scale(0.1 -0.1)\">\r\n       <use xlink:href=\"#DejaVuSans-53\"/>\r\n       <use x=\"63.623047\" xlink:href=\"#DejaVuSans-48\"/>\r\n      </g>\r\n     </g>\r\n    </g>\r\n    <g id=\"xtick_4\">\r\n     <g id=\"line2d_4\">\r\n      <g>\r\n       <use style=\"stroke:#000000;stroke-width:0.8;\" x=\"160.03122\" xlink:href=\"#meaca77be8d\" y=\"224.64\"/>\r\n      </g>\r\n     </g>\r\n     <g id=\"text_4\">\r\n      <!-- 75 -->\r\n      <g transform=\"translate(153.66872 239.238437)scale(0.1 -0.1)\">\r\n       <defs>\r\n        <path d=\"M 8.203125 72.90625 \r\nL 55.078125 72.90625 \r\nL 55.078125 68.703125 \r\nL 28.609375 0 \r\nL 18.3125 0 \r\nL 43.21875 64.59375 \r\nL 8.203125 64.59375 \r\nz\r\n\" id=\"DejaVuSans-55\"/>\r\n       </defs>\r\n       <use xlink:href=\"#DejaVuSans-55\"/>\r\n       <use x=\"63.623047\" xlink:href=\"#DejaVuSans-53\"/>\r\n      </g>\r\n     </g>\r\n    </g>\r\n    <g id=\"xtick_5\">\r\n     <g id=\"line2d_5\">\r\n      <g>\r\n       <use style=\"stroke:#000000;stroke-width:0.8;\" x=\"198.267858\" xlink:href=\"#meaca77be8d\" y=\"224.64\"/>\r\n      </g>\r\n     </g>\r\n     <g id=\"text_5\">\r\n      <!-- 100 -->\r\n      <g transform=\"translate(188.724108 239.238437)scale(0.1 -0.1)\">\r\n       <defs>\r\n        <path d=\"M 12.40625 8.296875 \r\nL 28.515625 8.296875 \r\nL 28.515625 63.921875 \r\nL 10.984375 60.40625 \r\nL 10.984375 69.390625 \r\nL 28.421875 72.90625 \r\nL 38.28125 72.90625 \r\nL 38.28125 8.296875 \r\nL 54.390625 8.296875 \r\nL 54.390625 0 \r\nL 12.40625 0 \r\nz\r\n\" id=\"DejaVuSans-49\"/>\r\n       </defs>\r\n       <use xlink:href=\"#DejaVuSans-49\"/>\r\n       <use x=\"63.623047\" xlink:href=\"#DejaVuSans-48\"/>\r\n       <use x=\"127.246094\" xlink:href=\"#DejaVuSans-48\"/>\r\n      </g>\r\n     </g>\r\n    </g>\r\n    <g id=\"xtick_6\">\r\n     <g id=\"line2d_6\">\r\n      <g>\r\n       <use style=\"stroke:#000000;stroke-width:0.8;\" x=\"236.504495\" xlink:href=\"#meaca77be8d\" y=\"224.64\"/>\r\n      </g>\r\n     </g>\r\n     <g id=\"text_6\">\r\n      <!-- 125 -->\r\n      <g transform=\"translate(226.960745 239.238437)scale(0.1 -0.1)\">\r\n       <use xlink:href=\"#DejaVuSans-49\"/>\r\n       <use x=\"63.623047\" xlink:href=\"#DejaVuSans-50\"/>\r\n       <use x=\"127.246094\" xlink:href=\"#DejaVuSans-53\"/>\r\n      </g>\r\n     </g>\r\n    </g>\r\n    <g id=\"xtick_7\">\r\n     <g id=\"line2d_7\">\r\n      <g>\r\n       <use style=\"stroke:#000000;stroke-width:0.8;\" x=\"274.741133\" xlink:href=\"#meaca77be8d\" y=\"224.64\"/>\r\n      </g>\r\n     </g>\r\n     <g id=\"text_7\">\r\n      <!-- 150 -->\r\n      <g transform=\"translate(265.197383 239.238437)scale(0.1 -0.1)\">\r\n       <use xlink:href=\"#DejaVuSans-49\"/>\r\n       <use x=\"63.623047\" xlink:href=\"#DejaVuSans-53\"/>\r\n       <use x=\"127.246094\" xlink:href=\"#DejaVuSans-48\"/>\r\n      </g>\r\n     </g>\r\n    </g>\r\n    <g id=\"xtick_8\">\r\n     <g id=\"line2d_8\">\r\n      <g>\r\n       <use style=\"stroke:#000000;stroke-width:0.8;\" x=\"312.977771\" xlink:href=\"#meaca77be8d\" y=\"224.64\"/>\r\n      </g>\r\n     </g>\r\n     <g id=\"text_8\">\r\n      <!-- 175 -->\r\n      <g transform=\"translate(303.434021 239.238437)scale(0.1 -0.1)\">\r\n       <use xlink:href=\"#DejaVuSans-49\"/>\r\n       <use x=\"63.623047\" xlink:href=\"#DejaVuSans-55\"/>\r\n       <use x=\"127.246094\" xlink:href=\"#DejaVuSans-53\"/>\r\n      </g>\r\n     </g>\r\n    </g>\r\n    <g id=\"xtick_9\">\r\n     <g id=\"line2d_9\">\r\n      <g>\r\n       <use style=\"stroke:#000000;stroke-width:0.8;\" x=\"351.214409\" xlink:href=\"#meaca77be8d\" y=\"224.64\"/>\r\n      </g>\r\n     </g>\r\n     <g id=\"text_9\">\r\n      <!-- 200 -->\r\n      <g transform=\"translate(341.670659 239.238437)scale(0.1 -0.1)\">\r\n       <use xlink:href=\"#DejaVuSans-50\"/>\r\n       <use x=\"63.623047\" xlink:href=\"#DejaVuSans-48\"/>\r\n       <use x=\"127.246094\" xlink:href=\"#DejaVuSans-48\"/>\r\n      </g>\r\n     </g>\r\n    </g>\r\n   </g>\r\n   <g id=\"matplotlib.axis_2\">\r\n    <g id=\"ytick_1\">\r\n     <g id=\"line2d_10\">\r\n      <defs>\r\n       <path d=\"M 0 0 \r\nL -3.5 0 \r\n\" id=\"mebd8438b0a\" style=\"stroke:#000000;stroke-width:0.8;\"/>\r\n      </defs>\r\n      <g>\r\n       <use style=\"stroke:#000000;stroke-width:0.8;\" x=\"30.103125\" xlink:href=\"#mebd8438b0a\" y=\"220.452388\"/>\r\n      </g>\r\n     </g>\r\n     <g id=\"text_10\">\r\n      <!-- 0.0 -->\r\n      <g transform=\"translate(7.2 224.251607)scale(0.1 -0.1)\">\r\n       <defs>\r\n        <path d=\"M 10.6875 12.40625 \r\nL 21 12.40625 \r\nL 21 0 \r\nL 10.6875 0 \r\nz\r\n\" id=\"DejaVuSans-46\"/>\r\n       </defs>\r\n       <use xlink:href=\"#DejaVuSans-48\"/>\r\n       <use x=\"63.623047\" xlink:href=\"#DejaVuSans-46\"/>\r\n       <use x=\"95.410156\" xlink:href=\"#DejaVuSans-48\"/>\r\n      </g>\r\n     </g>\r\n    </g>\r\n    <g id=\"ytick_2\">\r\n     <g id=\"line2d_11\">\r\n      <g>\r\n       <use style=\"stroke:#000000;stroke-width:0.8;\" x=\"30.103125\" xlink:href=\"#mebd8438b0a\" y=\"179.684487\"/>\r\n      </g>\r\n     </g>\r\n     <g id=\"text_11\">\r\n      <!-- 0.2 -->\r\n      <g transform=\"translate(7.2 183.483705)scale(0.1 -0.1)\">\r\n       <use xlink:href=\"#DejaVuSans-48\"/>\r\n       <use x=\"63.623047\" xlink:href=\"#DejaVuSans-46\"/>\r\n       <use x=\"95.410156\" xlink:href=\"#DejaVuSans-50\"/>\r\n      </g>\r\n     </g>\r\n    </g>\r\n    <g id=\"ytick_3\">\r\n     <g id=\"line2d_12\">\r\n      <g>\r\n       <use style=\"stroke:#000000;stroke-width:0.8;\" x=\"30.103125\" xlink:href=\"#mebd8438b0a\" y=\"138.916585\"/>\r\n      </g>\r\n     </g>\r\n     <g id=\"text_12\">\r\n      <!-- 0.4 -->\r\n      <g transform=\"translate(7.2 142.715804)scale(0.1 -0.1)\">\r\n       <defs>\r\n        <path d=\"M 37.796875 64.3125 \r\nL 12.890625 25.390625 \r\nL 37.796875 25.390625 \r\nz\r\nM 35.203125 72.90625 \r\nL 47.609375 72.90625 \r\nL 47.609375 25.390625 \r\nL 58.015625 25.390625 \r\nL 58.015625 17.1875 \r\nL 47.609375 17.1875 \r\nL 47.609375 0 \r\nL 37.796875 0 \r\nL 37.796875 17.1875 \r\nL 4.890625 17.1875 \r\nL 4.890625 26.703125 \r\nz\r\n\" id=\"DejaVuSans-52\"/>\r\n       </defs>\r\n       <use xlink:href=\"#DejaVuSans-48\"/>\r\n       <use x=\"63.623047\" xlink:href=\"#DejaVuSans-46\"/>\r\n       <use x=\"95.410156\" xlink:href=\"#DejaVuSans-52\"/>\r\n      </g>\r\n     </g>\r\n    </g>\r\n    <g id=\"ytick_4\">\r\n     <g id=\"line2d_13\">\r\n      <g>\r\n       <use style=\"stroke:#000000;stroke-width:0.8;\" x=\"30.103125\" xlink:href=\"#mebd8438b0a\" y=\"98.148684\"/>\r\n      </g>\r\n     </g>\r\n     <g id=\"text_13\">\r\n      <!-- 0.6 -->\r\n      <g transform=\"translate(7.2 101.947903)scale(0.1 -0.1)\">\r\n       <defs>\r\n        <path d=\"M 33.015625 40.375 \r\nQ 26.375 40.375 22.484375 35.828125 \r\nQ 18.609375 31.296875 18.609375 23.390625 \r\nQ 18.609375 15.53125 22.484375 10.953125 \r\nQ 26.375 6.390625 33.015625 6.390625 \r\nQ 39.65625 6.390625 43.53125 10.953125 \r\nQ 47.40625 15.53125 47.40625 23.390625 \r\nQ 47.40625 31.296875 43.53125 35.828125 \r\nQ 39.65625 40.375 33.015625 40.375 \r\nz\r\nM 52.59375 71.296875 \r\nL 52.59375 62.3125 \r\nQ 48.875 64.0625 45.09375 64.984375 \r\nQ 41.3125 65.921875 37.59375 65.921875 \r\nQ 27.828125 65.921875 22.671875 59.328125 \r\nQ 17.53125 52.734375 16.796875 39.40625 \r\nQ 19.671875 43.65625 24.015625 45.921875 \r\nQ 28.375 48.1875 33.59375 48.1875 \r\nQ 44.578125 48.1875 50.953125 41.515625 \r\nQ 57.328125 34.859375 57.328125 23.390625 \r\nQ 57.328125 12.15625 50.6875 5.359375 \r\nQ 44.046875 -1.421875 33.015625 -1.421875 \r\nQ 20.359375 -1.421875 13.671875 8.265625 \r\nQ 6.984375 17.96875 6.984375 36.375 \r\nQ 6.984375 53.65625 15.1875 63.9375 \r\nQ 23.390625 74.21875 37.203125 74.21875 \r\nQ 40.921875 74.21875 44.703125 73.484375 \r\nQ 48.484375 72.75 52.59375 71.296875 \r\nz\r\n\" id=\"DejaVuSans-54\"/>\r\n       </defs>\r\n       <use xlink:href=\"#DejaVuSans-48\"/>\r\n       <use x=\"63.623047\" xlink:href=\"#DejaVuSans-46\"/>\r\n       <use x=\"95.410156\" xlink:href=\"#DejaVuSans-54\"/>\r\n      </g>\r\n     </g>\r\n    </g>\r\n    <g id=\"ytick_5\">\r\n     <g id=\"line2d_14\">\r\n      <g>\r\n       <use style=\"stroke:#000000;stroke-width:0.8;\" x=\"30.103125\" xlink:href=\"#mebd8438b0a\" y=\"57.380782\"/>\r\n      </g>\r\n     </g>\r\n     <g id=\"text_14\">\r\n      <!-- 0.8 -->\r\n      <g transform=\"translate(7.2 61.180001)scale(0.1 -0.1)\">\r\n       <defs>\r\n        <path d=\"M 31.78125 34.625 \r\nQ 24.75 34.625 20.71875 30.859375 \r\nQ 16.703125 27.09375 16.703125 20.515625 \r\nQ 16.703125 13.921875 20.71875 10.15625 \r\nQ 24.75 6.390625 31.78125 6.390625 \r\nQ 38.8125 6.390625 42.859375 10.171875 \r\nQ 46.921875 13.96875 46.921875 20.515625 \r\nQ 46.921875 27.09375 42.890625 30.859375 \r\nQ 38.875 34.625 31.78125 34.625 \r\nz\r\nM 21.921875 38.8125 \r\nQ 15.578125 40.375 12.03125 44.71875 \r\nQ 8.5 49.078125 8.5 55.328125 \r\nQ 8.5 64.0625 14.71875 69.140625 \r\nQ 20.953125 74.21875 31.78125 74.21875 \r\nQ 42.671875 74.21875 48.875 69.140625 \r\nQ 55.078125 64.0625 55.078125 55.328125 \r\nQ 55.078125 49.078125 51.53125 44.71875 \r\nQ 48 40.375 41.703125 38.8125 \r\nQ 48.828125 37.15625 52.796875 32.3125 \r\nQ 56.78125 27.484375 56.78125 20.515625 \r\nQ 56.78125 9.90625 50.3125 4.234375 \r\nQ 43.84375 -1.421875 31.78125 -1.421875 \r\nQ 19.734375 -1.421875 13.25 4.234375 \r\nQ 6.78125 9.90625 6.78125 20.515625 \r\nQ 6.78125 27.484375 10.78125 32.3125 \r\nQ 14.796875 37.15625 21.921875 38.8125 \r\nz\r\nM 18.3125 54.390625 \r\nQ 18.3125 48.734375 21.84375 45.5625 \r\nQ 25.390625 42.390625 31.78125 42.390625 \r\nQ 38.140625 42.390625 41.71875 45.5625 \r\nQ 45.3125 48.734375 45.3125 54.390625 \r\nQ 45.3125 60.0625 41.71875 63.234375 \r\nQ 38.140625 66.40625 31.78125 66.40625 \r\nQ 25.390625 66.40625 21.84375 63.234375 \r\nQ 18.3125 60.0625 18.3125 54.390625 \r\nz\r\n\" id=\"DejaVuSans-56\"/>\r\n       </defs>\r\n       <use xlink:href=\"#DejaVuSans-48\"/>\r\n       <use x=\"63.623047\" xlink:href=\"#DejaVuSans-46\"/>\r\n       <use x=\"95.410156\" xlink:href=\"#DejaVuSans-56\"/>\r\n      </g>\r\n     </g>\r\n    </g>\r\n    <g id=\"ytick_6\">\r\n     <g id=\"line2d_15\">\r\n      <g>\r\n       <use style=\"stroke:#000000;stroke-width:0.8;\" x=\"30.103125\" xlink:href=\"#mebd8438b0a\" y=\"16.612881\"/>\r\n      </g>\r\n     </g>\r\n     <g id=\"text_15\">\r\n      <!-- 1.0 -->\r\n      <g transform=\"translate(7.2 20.4121)scale(0.1 -0.1)\">\r\n       <use xlink:href=\"#DejaVuSans-49\"/>\r\n       <use x=\"63.623047\" xlink:href=\"#DejaVuSans-46\"/>\r\n       <use x=\"95.410156\" xlink:href=\"#DejaVuSans-48\"/>\r\n      </g>\r\n     </g>\r\n    </g>\r\n   </g>\r\n   <g id=\"line2d_16\">\r\n    <path clip-path=\"url(#p17b32f9348)\" d=\"M 45.321307 65.048957 \r\nL 46.850772 67.402758 \r\nL 48.380238 67.402758 \r\nL 49.909703 67.088917 \r\nL 51.439169 63.584361 \r\nL 54.4981 36.750986 \r\nL 56.027565 28.120376 \r\nL 57.557031 23.517371 \r\nL 59.086496 21.529715 \r\nL 60.615962 20.483583 \r\nL 62.145427 19.908205 \r\nL 66.733824 19.071304 \r\nL 69.792755 18.757463 \r\nL 71.32222 18.757463 \r\nL 72.851686 18.600537 \r\nL 74.381151 18.757463 \r\nL 75.910617 18.548232 \r\nL 77.440083 18.600537 \r\nL 80.499014 18.391317 \r\nL 82.028479 18.443622 \r\nL 83.557945 18.286696 \r\nL 88.146341 18.286696 \r\nL 89.675807 18.443622 \r\nL 91.205272 18.339 \r\nL 97.323134 18.548232 \r\nL 98.8526 18.234391 \r\nL 100.382065 18.339 \r\nL 101.911531 18.182086 \r\nL 103.440996 18.339 \r\nL 108.029393 18.286696 \r\nL 109.558858 18.286696 \r\nL 111.088324 18.129781 \r\nL 115.67672 18.286696 \r\nL 117.206186 18.077476 \r\nL 121.794582 18.129781 \r\nL 130.971375 17.868245 \r\nL 132.500841 17.972855 \r\nL 137.089237 17.763635 \r\nL 138.618703 18.025159 \r\nL 140.148168 17.711318 \r\nL 144.736565 17.868245 \r\nL 146.26603 17.659014 \r\nL 147.795496 17.763635 \r\nL 149.324961 17.659014 \r\nL 150.854427 17.972855 \r\nL 152.383892 17.659014 \r\nL 155.442823 17.711318 \r\nL 156.972289 17.659014 \r\nL 158.501755 17.763635 \r\nL 160.03122 17.659014 \r\nL 161.560686 17.711318 \r\nL 163.090151 17.606709 \r\nL 164.619617 17.659014 \r\nL 166.149082 17.449794 \r\nL 167.678548 17.606709 \r\nL 173.79641 17.502099 \r\nL 175.325875 17.763635 \r\nL 176.855341 17.502099 \r\nL 179.914272 17.502099 \r\nL 199.797323 17.397477 \r\nL 201.326789 17.345173 \r\nL 202.856254 17.449794 \r\nL 204.38572 17.397477 \r\nL 205.915185 17.502099 \r\nL 207.444651 17.292868 \r\nL 210.503582 17.397477 \r\nL 213.562513 17.345173 \r\nL 216.621444 17.449794 \r\nL 221.20984 17.345173 \r\nL 224.268771 17.345173 \r\nL 280.858995 17.240563 \r\nL 283.917926 17.240563 \r\nL 286.976857 17.240563 \r\nL 291.565254 17.188258 \r\nL 349.684943 17.188258 \r\nL 349.684943 17.188258 \r\n\" style=\"fill:none;stroke:#0000ff;stroke-linecap:square;stroke-width:1.5;\"/>\r\n   </g>\r\n   <g id=\"line2d_17\">\r\n    <path clip-path=\"url(#p17b32f9348)\" d=\"M 45.321307 91.112024 \r\nL 46.850772 102.761829 \r\nL 54.4981 167.278621 \r\nL 56.027565 178.313471 \r\nL 57.557031 188.191772 \r\nL 59.086496 195.848355 \r\nL 60.615962 201.819561 \r\nL 62.145427 205.481364 \r\nL 63.674893 207.510051 \r\nL 66.733824 209.63452 \r\nL 71.32222 211.207802 \r\nL 72.851686 211.389081 \r\nL 74.381151 211.738119 \r\nL 78.969548 212.39762 \r\nL 89.675807 213.108293 \r\nL 91.205272 213.029012 \r\nL 94.264203 213.337945 \r\nL 95.793669 213.336708 \r\nL 97.323134 213.46614 \r\nL 98.8526 213.43594 \r\nL 100.382065 213.548434 \r\nL 101.911531 213.345012 \r\nL 103.440996 213.317882 \r\nL 104.970462 213.704608 \r\nL 123.324048 213.996778 \r\nL 124.853513 214.132934 \r\nL 137.089237 214.288975 \r\nL 138.618703 214.105095 \r\nL 144.736565 214.327763 \r\nL 150.854427 214.256044 \r\nL 152.383892 214.403935 \r\nL 153.913358 214.295894 \r\nL 169.208013 214.457055 \r\nL 173.79641 214.338731 \r\nL 175.325875 214.486155 \r\nL 179.914272 214.44681 \r\nL 189.091065 214.495817 \r\nL 192.149996 214.548077 \r\nL 193.679461 214.365726 \r\nL 196.738392 214.508779 \r\nL 205.915185 214.514583 \r\nL 207.444651 214.627746 \r\nL 210.503582 214.561703 \r\nL 216.621444 214.542375 \r\nL 218.150909 214.397641 \r\nL 219.680375 214.569687 \r\nL 225.798237 214.714074 \r\nL 227.327702 214.526076 \r\nL 228.857168 214.471628 \r\nL 230.386633 214.691443 \r\nL 233.445564 214.672979 \r\nL 234.97503 214.588047 \r\nL 236.504495 214.742383 \r\nL 241.092892 214.626648 \r\nL 244.151823 214.642977 \r\nL 250.269685 214.664916 \r\nL 253.328616 214.440167 \r\nL 254.858082 214.642453 \r\nL 257.917013 214.662081 \r\nL 259.446478 214.756364 \r\nL 260.975944 214.583243 \r\nL 268.623271 214.609861 \r\nL 270.152737 214.725632 \r\nL 274.741133 214.67983 \r\nL 277.800064 214.674973 \r\nL 282.388461 214.576552 \r\nL 283.917926 214.655795 \r\nL 285.447392 214.586336 \r\nL 286.976857 214.679655 \r\nL 297.683116 214.607572 \r\nL 299.212581 214.669171 \r\nL 300.742047 214.413766 \r\nL 302.271512 214.623697 \r\nL 308.389374 214.595553 \r\nL 309.91884 214.407845 \r\nL 316.036702 214.539468 \r\nL 317.566167 214.372321 \r\nL 319.095633 214.513363 \r\nL 320.625099 214.305896 \r\nL 322.154564 214.621254 \r\nL 323.68403 214.272836 \r\nL 325.213495 214.217312 \r\nL 326.742961 214.42258 \r\nL 331.331357 214.451864 \r\nL 332.860823 214.241074 \r\nL 334.390288 214.446371 \r\nL 335.919754 214.360792 \r\nL 337.449219 214.163247 \r\nL 338.978685 214.428129 \r\nL 340.50815 214.379023 \r\nL 342.037616 214.458796 \r\nL 343.567081 214.275345 \r\nL 345.096547 214.367758 \r\nL 346.626012 214.078555 \r\nL 348.155478 213.966706 \r\nL 349.684943 213.635825 \r\nL 349.684943 213.635825 \r\n\" style=\"fill:none;stroke:#ff0000;stroke-linecap:square;stroke-width:1.5;\"/>\r\n   </g>\r\n   <g id=\"patch_3\">\r\n    <path d=\"M 30.103125 224.64 \r\nL 30.103125 7.2 \r\n\" style=\"fill:none;stroke:#000000;stroke-linecap:square;stroke-linejoin:miter;stroke-width:0.8;\"/>\r\n   </g>\r\n   <g id=\"patch_4\">\r\n    <path d=\"M 364.903125 224.64 \r\nL 364.903125 7.2 \r\n\" style=\"fill:none;stroke:#000000;stroke-linecap:square;stroke-linejoin:miter;stroke-width:0.8;\"/>\r\n   </g>\r\n   <g id=\"patch_5\">\r\n    <path d=\"M 30.103125 224.64 \r\nL 364.903125 224.64 \r\n\" style=\"fill:none;stroke:#000000;stroke-linecap:square;stroke-linejoin:miter;stroke-width:0.8;\"/>\r\n   </g>\r\n   <g id=\"patch_6\">\r\n    <path d=\"M 30.103125 7.2 \r\nL 364.903125 7.2 \r\n\" style=\"fill:none;stroke:#000000;stroke-linecap:square;stroke-linejoin:miter;stroke-width:0.8;\"/>\r\n   </g>\r\n   <g id=\"legend_1\">\r\n    <g id=\"patch_7\">\r\n     <path d=\"M 280.784375 132.237188 \r\nL 357.903125 132.237188 \r\nQ 359.903125 132.237188 359.903125 130.237188 \r\nL 359.903125 101.602812 \r\nQ 359.903125 99.602812 357.903125 99.602812 \r\nL 280.784375 99.602812 \r\nQ 278.784375 99.602812 278.784375 101.602812 \r\nL 278.784375 130.237188 \r\nQ 278.784375 132.237188 280.784375 132.237188 \r\nz\r\n\" style=\"fill:#ffffff;opacity:0.8;stroke:#cccccc;stroke-linejoin:miter;\"/>\r\n    </g>\r\n    <g id=\"line2d_18\">\r\n     <path d=\"M 282.784375 107.70125 \r\nL 302.784375 107.70125 \r\n\" style=\"fill:none;stroke:#0000ff;stroke-linecap:square;stroke-width:1.5;\"/>\r\n    </g>\r\n    <g id=\"line2d_19\"/>\r\n    <g id=\"text_16\">\r\n     <!-- accuracy -->\r\n     <g transform=\"translate(310.784375 111.20125)scale(0.1 -0.1)\">\r\n      <defs>\r\n       <path d=\"M 34.28125 27.484375 \r\nQ 23.390625 27.484375 19.1875 25 \r\nQ 14.984375 22.515625 14.984375 16.5 \r\nQ 14.984375 11.71875 18.140625 8.90625 \r\nQ 21.296875 6.109375 26.703125 6.109375 \r\nQ 34.1875 6.109375 38.703125 11.40625 \r\nQ 43.21875 16.703125 43.21875 25.484375 \r\nL 43.21875 27.484375 \r\nz\r\nM 52.203125 31.203125 \r\nL 52.203125 0 \r\nL 43.21875 0 \r\nL 43.21875 8.296875 \r\nQ 40.140625 3.328125 35.546875 0.953125 \r\nQ 30.953125 -1.421875 24.3125 -1.421875 \r\nQ 15.921875 -1.421875 10.953125 3.296875 \r\nQ 6 8.015625 6 15.921875 \r\nQ 6 25.140625 12.171875 29.828125 \r\nQ 18.359375 34.515625 30.609375 34.515625 \r\nL 43.21875 34.515625 \r\nL 43.21875 35.40625 \r\nQ 43.21875 41.609375 39.140625 45 \r\nQ 35.0625 48.390625 27.6875 48.390625 \r\nQ 23 48.390625 18.546875 47.265625 \r\nQ 14.109375 46.140625 10.015625 43.890625 \r\nL 10.015625 52.203125 \r\nQ 14.9375 54.109375 19.578125 55.046875 \r\nQ 24.21875 56 28.609375 56 \r\nQ 40.484375 56 46.34375 49.84375 \r\nQ 52.203125 43.703125 52.203125 31.203125 \r\nz\r\n\" id=\"DejaVuSans-97\"/>\r\n       <path d=\"M 48.78125 52.59375 \r\nL 48.78125 44.1875 \r\nQ 44.96875 46.296875 41.140625 47.34375 \r\nQ 37.3125 48.390625 33.40625 48.390625 \r\nQ 24.65625 48.390625 19.8125 42.84375 \r\nQ 14.984375 37.3125 14.984375 27.296875 \r\nQ 14.984375 17.28125 19.8125 11.734375 \r\nQ 24.65625 6.203125 33.40625 6.203125 \r\nQ 37.3125 6.203125 41.140625 7.25 \r\nQ 44.96875 8.296875 48.78125 10.40625 \r\nL 48.78125 2.09375 \r\nQ 45.015625 0.34375 40.984375 -0.53125 \r\nQ 36.96875 -1.421875 32.421875 -1.421875 \r\nQ 20.0625 -1.421875 12.78125 6.34375 \r\nQ 5.515625 14.109375 5.515625 27.296875 \r\nQ 5.515625 40.671875 12.859375 48.328125 \r\nQ 20.21875 56 33.015625 56 \r\nQ 37.15625 56 41.109375 55.140625 \r\nQ 45.0625 54.296875 48.78125 52.59375 \r\nz\r\n\" id=\"DejaVuSans-99\"/>\r\n       <path d=\"M 8.5 21.578125 \r\nL 8.5 54.6875 \r\nL 17.484375 54.6875 \r\nL 17.484375 21.921875 \r\nQ 17.484375 14.15625 20.5 10.265625 \r\nQ 23.53125 6.390625 29.59375 6.390625 \r\nQ 36.859375 6.390625 41.078125 11.03125 \r\nQ 45.3125 15.671875 45.3125 23.6875 \r\nL 45.3125 54.6875 \r\nL 54.296875 54.6875 \r\nL 54.296875 0 \r\nL 45.3125 0 \r\nL 45.3125 8.40625 \r\nQ 42.046875 3.421875 37.71875 1 \r\nQ 33.40625 -1.421875 27.6875 -1.421875 \r\nQ 18.265625 -1.421875 13.375 4.4375 \r\nQ 8.5 10.296875 8.5 21.578125 \r\nz\r\nM 31.109375 56 \r\nz\r\n\" id=\"DejaVuSans-117\"/>\r\n       <path d=\"M 41.109375 46.296875 \r\nQ 39.59375 47.171875 37.8125 47.578125 \r\nQ 36.03125 48 33.890625 48 \r\nQ 26.265625 48 22.1875 43.046875 \r\nQ 18.109375 38.09375 18.109375 28.8125 \r\nL 18.109375 0 \r\nL 9.078125 0 \r\nL 9.078125 54.6875 \r\nL 18.109375 54.6875 \r\nL 18.109375 46.1875 \r\nQ 20.953125 51.171875 25.484375 53.578125 \r\nQ 30.03125 56 36.53125 56 \r\nQ 37.453125 56 38.578125 55.875 \r\nQ 39.703125 55.765625 41.0625 55.515625 \r\nz\r\n\" id=\"DejaVuSans-114\"/>\r\n       <path d=\"M 32.171875 -5.078125 \r\nQ 28.375 -14.84375 24.75 -17.8125 \r\nQ 21.140625 -20.796875 15.09375 -20.796875 \r\nL 7.90625 -20.796875 \r\nL 7.90625 -13.28125 \r\nL 13.1875 -13.28125 \r\nQ 16.890625 -13.28125 18.9375 -11.515625 \r\nQ 21 -9.765625 23.484375 -3.21875 \r\nL 25.09375 0.875 \r\nL 2.984375 54.6875 \r\nL 12.5 54.6875 \r\nL 29.59375 11.921875 \r\nL 46.6875 54.6875 \r\nL 56.203125 54.6875 \r\nz\r\n\" id=\"DejaVuSans-121\"/>\r\n      </defs>\r\n      <use xlink:href=\"#DejaVuSans-97\"/>\r\n      <use x=\"61.279297\" xlink:href=\"#DejaVuSans-99\"/>\r\n      <use x=\"116.259766\" xlink:href=\"#DejaVuSans-99\"/>\r\n      <use x=\"171.240234\" xlink:href=\"#DejaVuSans-117\"/>\r\n      <use x=\"234.619141\" xlink:href=\"#DejaVuSans-114\"/>\r\n      <use x=\"275.732422\" xlink:href=\"#DejaVuSans-97\"/>\r\n      <use x=\"337.011719\" xlink:href=\"#DejaVuSans-99\"/>\r\n      <use x=\"391.992188\" xlink:href=\"#DejaVuSans-121\"/>\r\n     </g>\r\n    </g>\r\n    <g id=\"line2d_20\">\r\n     <path d=\"M 282.784375 122.379375 \r\nL 302.784375 122.379375 \r\n\" style=\"fill:none;stroke:#ff0000;stroke-linecap:square;stroke-width:1.5;\"/>\r\n    </g>\r\n    <g id=\"line2d_21\"/>\r\n    <g id=\"text_17\">\r\n     <!-- val_loss -->\r\n     <g transform=\"translate(310.784375 125.879375)scale(0.1 -0.1)\">\r\n      <defs>\r\n       <path d=\"M 2.984375 54.6875 \r\nL 12.5 54.6875 \r\nL 29.59375 8.796875 \r\nL 46.6875 54.6875 \r\nL 56.203125 54.6875 \r\nL 35.6875 0 \r\nL 23.484375 0 \r\nz\r\n\" id=\"DejaVuSans-118\"/>\r\n       <path d=\"M 9.421875 75.984375 \r\nL 18.40625 75.984375 \r\nL 18.40625 0 \r\nL 9.421875 0 \r\nz\r\n\" id=\"DejaVuSans-108\"/>\r\n       <path d=\"M 50.984375 -16.609375 \r\nL 50.984375 -23.578125 \r\nL -0.984375 -23.578125 \r\nL -0.984375 -16.609375 \r\nz\r\n\" id=\"DejaVuSans-95\"/>\r\n       <path d=\"M 30.609375 48.390625 \r\nQ 23.390625 48.390625 19.1875 42.75 \r\nQ 14.984375 37.109375 14.984375 27.296875 \r\nQ 14.984375 17.484375 19.15625 11.84375 \r\nQ 23.34375 6.203125 30.609375 6.203125 \r\nQ 37.796875 6.203125 41.984375 11.859375 \r\nQ 46.1875 17.53125 46.1875 27.296875 \r\nQ 46.1875 37.015625 41.984375 42.703125 \r\nQ 37.796875 48.390625 30.609375 48.390625 \r\nz\r\nM 30.609375 56 \r\nQ 42.328125 56 49.015625 48.375 \r\nQ 55.71875 40.765625 55.71875 27.296875 \r\nQ 55.71875 13.875 49.015625 6.21875 \r\nQ 42.328125 -1.421875 30.609375 -1.421875 \r\nQ 18.84375 -1.421875 12.171875 6.21875 \r\nQ 5.515625 13.875 5.515625 27.296875 \r\nQ 5.515625 40.765625 12.171875 48.375 \r\nQ 18.84375 56 30.609375 56 \r\nz\r\n\" id=\"DejaVuSans-111\"/>\r\n       <path d=\"M 44.28125 53.078125 \r\nL 44.28125 44.578125 \r\nQ 40.484375 46.53125 36.375 47.5 \r\nQ 32.28125 48.484375 27.875 48.484375 \r\nQ 21.1875 48.484375 17.84375 46.4375 \r\nQ 14.5 44.390625 14.5 40.28125 \r\nQ 14.5 37.15625 16.890625 35.375 \r\nQ 19.28125 33.59375 26.515625 31.984375 \r\nL 29.59375 31.296875 \r\nQ 39.15625 29.25 43.1875 25.515625 \r\nQ 47.21875 21.78125 47.21875 15.09375 \r\nQ 47.21875 7.46875 41.1875 3.015625 \r\nQ 35.15625 -1.421875 24.609375 -1.421875 \r\nQ 20.21875 -1.421875 15.453125 -0.5625 \r\nQ 10.6875 0.296875 5.421875 2 \r\nL 5.421875 11.28125 \r\nQ 10.40625 8.6875 15.234375 7.390625 \r\nQ 20.0625 6.109375 24.8125 6.109375 \r\nQ 31.15625 6.109375 34.5625 8.28125 \r\nQ 37.984375 10.453125 37.984375 14.40625 \r\nQ 37.984375 18.0625 35.515625 20.015625 \r\nQ 33.0625 21.96875 24.703125 23.78125 \r\nL 21.578125 24.515625 \r\nQ 13.234375 26.265625 9.515625 29.90625 \r\nQ 5.8125 33.546875 5.8125 39.890625 \r\nQ 5.8125 47.609375 11.28125 51.796875 \r\nQ 16.75 56 26.8125 56 \r\nQ 31.78125 56 36.171875 55.265625 \r\nQ 40.578125 54.546875 44.28125 53.078125 \r\nz\r\n\" id=\"DejaVuSans-115\"/>\r\n      </defs>\r\n      <use xlink:href=\"#DejaVuSans-118\"/>\r\n      <use x=\"59.179688\" xlink:href=\"#DejaVuSans-97\"/>\r\n      <use x=\"120.458984\" xlink:href=\"#DejaVuSans-108\"/>\r\n      <use x=\"148.242188\" xlink:href=\"#DejaVuSans-95\"/>\r\n      <use x=\"198.242188\" xlink:href=\"#DejaVuSans-108\"/>\r\n      <use x=\"226.025391\" xlink:href=\"#DejaVuSans-111\"/>\r\n      <use x=\"287.207031\" xlink:href=\"#DejaVuSans-115\"/>\r\n      <use x=\"339.306641\" xlink:href=\"#DejaVuSans-115\"/>\r\n     </g>\r\n    </g>\r\n   </g>\r\n  </g>\r\n </g>\r\n <defs>\r\n  <clipPath id=\"p17b32f9348\">\r\n   <rect height=\"217.44\" width=\"334.8\" x=\"30.103125\" y=\"7.2\"/>\r\n  </clipPath>\r\n </defs>\r\n</svg>\r\n",
      "image/png": "[encoded data removed]"
     },
     "metadata": {
      "needs_background": "light"
     }
    }
   ],
   "source": [
    "import matplotlib.pylab as plt\n",
    "%matplotlib inline\n",
    "\n",
    "y_acc = history.history['accuracy']\n",
    "y_vloss = history.history['val_loss']\n",
    "\n",
    "x_len = np.arange(len(y_acc))\n",
    "\n",
    "plt.plot(x_len, y_acc, 'b-',markersize=5, label='accuracy')\n",
    "plt.plot(x_len, y_vloss, 'r-',markersize=5, label='val_loss')\n",
    "plt.legend()\n",
    "plt.show()"
   ]
  }
 ]
}