{
  "nbformat": 4,
  "nbformat_minor": 0,
  "metadata": {
    "colab": {
      "name": "피마인디언_당뇨병예측_Colab",
      "provenance": [],
      "authorship_tag": "ABX9TyPS3pV3vPeVraKs4FSu13Pc",
      "include_colab_link": true
    },
    "kernelspec": {
      "name": "python3",
      "display_name": "Python 3"
    },
    "language_info": {
      "name": "python"
    }
  },
  "cells": [
    {
      "cell_type": "markdown",
      "metadata": {
        "id": "view-in-github",
        "colab_type": "text"
      },
      "source": [
        "<a href=\"https://colab.research.google.com/github/convin305/Hankyung_academy_Deep_Learning/blob/main/%ED%94%BC%EB%A7%88%EC%9D%B8%EB%94%94%EC%96%B8_%EB%8B%B9%EB%87%A8%EB%B3%91%EC%98%88%EC%B8%A1_Colab.ipynb\" target=\"_parent\"><img src=\"https://colab.research.google.com/assets/colab-badge.svg\" alt=\"Open In Colab\"/></a>"
      ]
    },
    {
      "cell_type": "markdown",
      "metadata": {
        "id": "GjCCV3JLJSN9"
      },
      "source": [
        "# 피마인디언 당뇨병 예측"
      ]
    },
    {
      "cell_type": "markdown",
      "metadata": {
        "id": "TsWSsGD7K-fM"
      },
      "source": [
        "## 데이터 인풋 "
      ]
    },
    {
      "cell_type": "code",
      "metadata": {
        "colab": {
          "resources": {
            "http://localhost:8080/nbextensions/google.colab/files.js": {
              "data": "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",
              "ok": true,
              "headers": [
                [
                  "content-type",
                  "application/javascript"
                ]
              ],
              "status": 200,
              "status_text": ""
            }
          },
          "base_uri": "https://localhost:8080/",
          "height": 76
        },
        "id": "onqve5-gJQfC",
        "outputId": "fd51fe53-9a91-49f3-d4f8-da1d6c6c0bdd"
      },
      "source": [
        "from google.colab import files\n",
        "\n",
        "uploaded = files.upload()\n",
        "filename = list(uploaded.keys())[0]\n"
      ],
      "execution_count": 1,
      "outputs": [
        {
          "output_type": "display_data",
          "data": {
            "text/html": [
              "\n",
              "     <input type=\"file\" id=\"files-8b09ab1d-3b2e-4b65-b72f-12a604d03a9c\" name=\"files[]\" multiple disabled\n",
              "        style=\"border:none\" />\n",
              "     <output id=\"result-8b09ab1d-3b2e-4b65-b72f-12a604d03a9c\">\n",
              "      Upload widget is only available when the cell has been executed in the\n",
              "      current browser session. Please rerun this cell to enable.\n",
              "      </output>\n",
              "      <script src=\"/nbextensions/google.colab/files.js\"></script> "
            ],
            "text/plain": [
              "<IPython.core.display.HTML object>"
            ]
          },
          "metadata": {
            "tags": []
          }
        },
        {
          "output_type": "stream",
          "text": [
            "Saving pima-indians-diabetes.csv to pima-indians-diabetes (1).csv\n"
          ],
          "name": "stdout"
        }
      ]
    },
    {
      "cell_type": "code",
      "metadata": {
        "colab": {
          "base_uri": "https://localhost:8080/",
          "height": 35
        },
        "id": "n36kxgqDJcCL",
        "outputId": "992467ce-83f9-45b2-8703-da5c4b32bbc6"
      },
      "source": [
        "filename"
      ],
      "execution_count": 2,
      "outputs": [
        {
          "output_type": "execute_result",
          "data": {
            "application/vnd.google.colaboratory.intrinsic+json": {
              "type": "string"
            },
            "text/plain": [
              "'pima-indians-diabetes.csv'"
            ]
          },
          "metadata": {
            "tags": []
          },
          "execution_count": 2
        }
      ]
    },
    {
      "cell_type": "code",
      "metadata": {
        "colab": {
          "base_uri": "https://localhost:8080/",
          "height": 202
        },
        "id": "2K9oAAaUJ2b1",
        "outputId": "a069538b-4a73-45ea-8d0d-08e26cf330c3"
      },
      "source": [
        "import pandas as pd\n",
        "df = pd.read_csv(\"pima-indians-diabetes.csv\",header=None)\n",
        "df.head()"
      ],
      "execution_count": 3,
      "outputs": [
        {
          "output_type": "execute_result",
          "data": {
            "text/html": [
              "<div>\n",
              "<style scoped>\n",
              "    .dataframe tbody tr th:only-of-type {\n",
              "        vertical-align: middle;\n",
              "    }\n",
              "\n",
              "    .dataframe tbody tr th {\n",
              "        vertical-align: top;\n",
              "    }\n",
              "\n",
              "    .dataframe thead th {\n",
              "        text-align: right;\n",
              "    }\n",
              "</style>\n",
              "<table border=\"1\" class=\"dataframe\">\n",
              "  <thead>\n",
              "    <tr style=\"text-align: right;\">\n",
              "      <th></th>\n",
              "      <th>0</th>\n",
              "      <th>1</th>\n",
              "      <th>2</th>\n",
              "      <th>3</th>\n",
              "      <th>4</th>\n",
              "      <th>5</th>\n",
              "      <th>6</th>\n",
              "      <th>7</th>\n",
              "      <th>8</th>\n",
              "    </tr>\n",
              "  </thead>\n",
              "  <tbody>\n",
              "    <tr>\n",
              "      <th>0</th>\n",
              "      <td>6</td>\n",
              "      <td>148</td>\n",
              "      <td>72</td>\n",
              "      <td>35</td>\n",
              "      <td>0</td>\n",
              "      <td>33.6</td>\n",
              "      <td>0.627</td>\n",
              "      <td>50</td>\n",
              "      <td>1</td>\n",
              "    </tr>\n",
              "    <tr>\n",
              "      <th>1</th>\n",
              "      <td>1</td>\n",
              "      <td>85</td>\n",
              "      <td>66</td>\n",
              "      <td>29</td>\n",
              "      <td>0</td>\n",
              "      <td>26.6</td>\n",
              "      <td>0.351</td>\n",
              "      <td>31</td>\n",
              "      <td>0</td>\n",
              "    </tr>\n",
              "    <tr>\n",
              "      <th>2</th>\n",
              "      <td>8</td>\n",
              "      <td>183</td>\n",
              "      <td>64</td>\n",
              "      <td>0</td>\n",
              "      <td>0</td>\n",
              "      <td>23.3</td>\n",
              "      <td>0.672</td>\n",
              "      <td>32</td>\n",
              "      <td>1</td>\n",
              "    </tr>\n",
              "    <tr>\n",
              "      <th>3</th>\n",
              "      <td>1</td>\n",
              "      <td>89</td>\n",
              "      <td>66</td>\n",
              "      <td>23</td>\n",
              "      <td>94</td>\n",
              "      <td>28.1</td>\n",
              "      <td>0.167</td>\n",
              "      <td>21</td>\n",
              "      <td>0</td>\n",
              "    </tr>\n",
              "    <tr>\n",
              "      <th>4</th>\n",
              "      <td>0</td>\n",
              "      <td>137</td>\n",
              "      <td>40</td>\n",
              "      <td>35</td>\n",
              "      <td>168</td>\n",
              "      <td>43.1</td>\n",
              "      <td>2.288</td>\n",
              "      <td>33</td>\n",
              "      <td>1</td>\n",
              "    </tr>\n",
              "  </tbody>\n",
              "</table>\n",
              "</div>"
            ],
            "text/plain": [
              "   0    1   2   3    4     5      6   7  8\n",
              "0  6  148  72  35    0  33.6  0.627  50  1\n",
              "1  1   85  66  29    0  26.6  0.351  31  0\n",
              "2  8  183  64   0    0  23.3  0.672  32  1\n",
              "3  1   89  66  23   94  28.1  0.167  21  0\n",
              "4  0  137  40  35  168  43.1  2.288  33  1"
            ]
          },
          "metadata": {
            "tags": []
          },
          "execution_count": 3
        }
      ]
    },
    {
      "cell_type": "code",
      "metadata": {
        "colab": {
          "base_uri": "https://localhost:8080/"
        },
        "id": "qP6FzGX9J2T8",
        "outputId": "b706a17b-9bd7-4adc-d7d7-0e60e9698b8e"
      },
      "source": [
        "df.isnull().sum()"
      ],
      "execution_count": 4,
      "outputs": [
        {
          "output_type": "execute_result",
          "data": {
            "text/plain": [
              "0    0\n",
              "1    0\n",
              "2    0\n",
              "3    0\n",
              "4    0\n",
              "5    0\n",
              "6    0\n",
              "7    0\n",
              "8    0\n",
              "dtype: int64"
            ]
          },
          "metadata": {
            "tags": []
          },
          "execution_count": 4
        }
      ]
    },
    {
      "cell_type": "code",
      "metadata": {
        "id": "BEE7GqZdKDDa"
      },
      "source": [
        "import numpy as np\n",
        "import tensorflow as tf\n",
        "seed = 2021\n",
        "np.random.seed(seed)\n",
        "tf.random.set_seed(seed)"
      ],
      "execution_count": 5,
      "outputs": []
    },
    {
      "cell_type": "markdown",
      "metadata": {
        "id": "aUwvvdjaK6y0"
      },
      "source": [
        "## 데이터 전처리 및 트레인 / 테스트 분할"
      ]
    },
    {
      "cell_type": "code",
      "metadata": {
        "id": "qsAr0QVsKWH9"
      },
      "source": [
        "from sklearn.preprocessing import MinMaxScaler\n",
        "\n",
        "scaler = MinMaxScaler()\n",
        "X_scaled = scaler.fit_transform(df.iloc[:,:-1].values)"
      ],
      "execution_count": 6,
      "outputs": []
    },
    {
      "cell_type": "code",
      "metadata": {
        "colab": {
          "base_uri": "https://localhost:8080/"
        },
        "id": "8lATKO2aKv6G",
        "outputId": "00bc20a4-c2d6-440c-a15e-e92446fff53d"
      },
      "source": [
        "from sklearn.model_selection import train_test_split\n",
        "\n",
        "X_train, X_test, y_train, y_test = train_test_split(\n",
        "    X_scaled, df.iloc[:,-1],\n",
        "    stratify = df.iloc[:,-1],random_state=2021)\n",
        "\n",
        "X_train.shape, X_test.shape, y_train.shape, y_test.shape"
      ],
      "execution_count": 7,
      "outputs": [
        {
          "output_type": "execute_result",
          "data": {
            "text/plain": [
              "((576, 8), (192, 8), (576,), (192,))"
            ]
          },
          "metadata": {
            "tags": []
          },
          "execution_count": 7
        }
      ]
    },
    {
      "cell_type": "markdown",
      "metadata": {
        "id": "rguoKxazMA2F"
      },
      "source": [
        "## 모델 정의 / 설정 / 학습 / 평가 "
      ]
    },
    {
      "cell_type": "code",
      "metadata": {
        "id": "_mDCMyCFLIpG"
      },
      "source": [
        "from tensorflow.keras.models import Sequential\n",
        "from tensorflow.keras.layers import Dense"
      ],
      "execution_count": 8,
      "outputs": []
    },
    {
      "cell_type": "code",
      "metadata": {
        "colab": {
          "base_uri": "https://localhost:8080/"
        },
        "id": "O0cxqEtAML4y",
        "outputId": "643b789d-4d6f-4875-8ee4-fa36bef8f141"
      },
      "source": [
        "model = Sequential()\n",
        "model.add(Dense(12,input_dim=8, activation='relu'))\n",
        "model.add(Dense(128, activation='relu'))\n",
        "model.add(Dense(4,activation='relu'))\n",
        "model.add(Dense(1,activation='sigmoid'))\n",
        "\n",
        "model.summary()"
      ],
      "execution_count": 9,
      "outputs": [
        {
          "output_type": "stream",
          "text": [
            "Model: \"sequential\"\n",
            "_________________________________________________________________\n",
            "Layer (type)                 Output Shape              Param #   \n",
            "=================================================================\n",
            "dense (Dense)                (None, 12)                108       \n",
            "_________________________________________________________________\n",
            "dense_1 (Dense)              (None, 128)               1664      \n",
            "_________________________________________________________________\n",
            "dense_2 (Dense)              (None, 4)                 516       \n",
            "_________________________________________________________________\n",
            "dense_3 (Dense)              (None, 1)                 5         \n",
            "=================================================================\n",
            "Total params: 2,293\n",
            "Trainable params: 2,293\n",
            "Non-trainable params: 0\n",
            "_________________________________________________________________\n"
          ],
          "name": "stdout"
        }
      ]
    },
    {
      "cell_type": "code",
      "metadata": {
        "id": "uESO2_EsPsNq"
      },
      "source": [
        "model.compile(\n",
        "    loss = 'binary_crossentropy',\n",
        "    optimizer='adam',\n",
        "    metrics=['accuracy']\n",
        ")"
      ],
      "execution_count": 10,
      "outputs": []
    },
    {
      "cell_type": "code",
      "metadata": {
        "colab": {
          "base_uri": "https://localhost:8080/"
        },
        "id": "WjbhR6pfPuAL",
        "outputId": "ecd03b52-d00c-411c-88f3-e9ecfec160a4"
      },
      "source": [
        "history= model.fit(X_train,y_train,validation_split=0.2,epochs=200,batch_size=50,verbose=2)"
      ],
      "execution_count": 11,
      "outputs": [
        {
          "output_type": "stream",
          "text": [
            "Epoch 1/200\n",
            "10/10 - 1s - loss: 0.6926 - accuracy: 0.6304 - val_loss: 0.6923 - val_accuracy: 0.5862\n",
            "Epoch 2/200\n",
            "10/10 - 0s - loss: 0.6909 - accuracy: 0.6674 - val_loss: 0.6915 - val_accuracy: 0.5862\n",
            "Epoch 3/200\n",
            "10/10 - 0s - loss: 0.6893 - accuracy: 0.6674 - val_loss: 0.6908 - val_accuracy: 0.5862\n",
            "Epoch 4/200\n",
            "10/10 - 0s - loss: 0.6879 - accuracy: 0.6674 - val_loss: 0.6900 - val_accuracy: 0.5862\n",
            "Epoch 5/200\n",
            "10/10 - 0s - loss: 0.6863 - accuracy: 0.6674 - val_loss: 0.6894 - val_accuracy: 0.5862\n",
            "Epoch 6/200\n",
            "10/10 - 0s - loss: 0.6850 - accuracy: 0.6674 - val_loss: 0.6887 - val_accuracy: 0.5862\n",
            "Epoch 7/200\n",
            "10/10 - 0s - loss: 0.6837 - accuracy: 0.6674 - val_loss: 0.6882 - val_accuracy: 0.5862\n",
            "Epoch 8/200\n",
            "10/10 - 0s - loss: 0.6826 - accuracy: 0.6674 - val_loss: 0.6876 - val_accuracy: 0.5862\n",
            "Epoch 9/200\n",
            "10/10 - 0s - loss: 0.6813 - accuracy: 0.6674 - val_loss: 0.6870 - val_accuracy: 0.5862\n",
            "Epoch 10/200\n",
            "10/10 - 0s - loss: 0.6800 - accuracy: 0.6674 - val_loss: 0.6865 - val_accuracy: 0.5862\n",
            "Epoch 11/200\n",
            "10/10 - 0s - loss: 0.6789 - accuracy: 0.6674 - val_loss: 0.6859 - val_accuracy: 0.5862\n",
            "Epoch 12/200\n",
            "10/10 - 0s - loss: 0.6776 - accuracy: 0.6674 - val_loss: 0.6854 - val_accuracy: 0.5862\n",
            "Epoch 13/200\n",
            "10/10 - 0s - loss: 0.6763 - accuracy: 0.6674 - val_loss: 0.6849 - val_accuracy: 0.5862\n",
            "Epoch 14/200\n",
            "10/10 - 0s - loss: 0.6751 - accuracy: 0.6674 - val_loss: 0.6845 - val_accuracy: 0.5862\n",
            "Epoch 15/200\n",
            "10/10 - 0s - loss: 0.6740 - accuracy: 0.6674 - val_loss: 0.6840 - val_accuracy: 0.5862\n",
            "Epoch 16/200\n",
            "10/10 - 0s - loss: 0.6729 - accuracy: 0.6674 - val_loss: 0.6836 - val_accuracy: 0.5862\n",
            "Epoch 17/200\n",
            "10/10 - 0s - loss: 0.6719 - accuracy: 0.6674 - val_loss: 0.6832 - val_accuracy: 0.5862\n",
            "Epoch 18/200\n",
            "10/10 - 0s - loss: 0.6709 - accuracy: 0.6674 - val_loss: 0.6828 - val_accuracy: 0.5862\n",
            "Epoch 19/200\n",
            "10/10 - 0s - loss: 0.6700 - accuracy: 0.6674 - val_loss: 0.6825 - val_accuracy: 0.5862\n",
            "Epoch 20/200\n",
            "10/10 - 0s - loss: 0.6691 - accuracy: 0.6674 - val_loss: 0.6821 - val_accuracy: 0.5862\n",
            "Epoch 21/200\n",
            "10/10 - 0s - loss: 0.6680 - accuracy: 0.6674 - val_loss: 0.6818 - val_accuracy: 0.5862\n",
            "Epoch 22/200\n",
            "10/10 - 0s - loss: 0.6671 - accuracy: 0.6674 - val_loss: 0.6815 - val_accuracy: 0.5862\n",
            "Epoch 23/200\n",
            "10/10 - 0s - loss: 0.6661 - accuracy: 0.6674 - val_loss: 0.6812 - val_accuracy: 0.5862\n",
            "Epoch 24/200\n",
            "10/10 - 0s - loss: 0.6651 - accuracy: 0.6674 - val_loss: 0.6809 - val_accuracy: 0.5862\n",
            "Epoch 25/200\n",
            "10/10 - 0s - loss: 0.6643 - accuracy: 0.6674 - val_loss: 0.6806 - val_accuracy: 0.5862\n",
            "Epoch 26/200\n",
            "10/10 - 0s - loss: 0.6634 - accuracy: 0.6674 - val_loss: 0.6804 - val_accuracy: 0.5862\n",
            "Epoch 27/200\n",
            "10/10 - 0s - loss: 0.6625 - accuracy: 0.6674 - val_loss: 0.6801 - val_accuracy: 0.5862\n",
            "Epoch 28/200\n",
            "10/10 - 0s - loss: 0.6617 - accuracy: 0.6674 - val_loss: 0.6799 - val_accuracy: 0.5862\n",
            "Epoch 29/200\n",
            "10/10 - 0s - loss: 0.6609 - accuracy: 0.6674 - val_loss: 0.6797 - val_accuracy: 0.5862\n",
            "Epoch 30/200\n",
            "10/10 - 0s - loss: 0.6600 - accuracy: 0.6674 - val_loss: 0.6795 - val_accuracy: 0.5862\n",
            "Epoch 31/200\n",
            "10/10 - 0s - loss: 0.6593 - accuracy: 0.6674 - val_loss: 0.6793 - val_accuracy: 0.5862\n",
            "Epoch 32/200\n",
            "10/10 - 0s - loss: 0.6586 - accuracy: 0.6674 - val_loss: 0.6792 - val_accuracy: 0.5862\n",
            "Epoch 33/200\n",
            "10/10 - 0s - loss: 0.6580 - accuracy: 0.6674 - val_loss: 0.6791 - val_accuracy: 0.5862\n",
            "Epoch 34/200\n",
            "10/10 - 0s - loss: 0.6573 - accuracy: 0.6674 - val_loss: 0.6789 - val_accuracy: 0.5862\n",
            "Epoch 35/200\n",
            "10/10 - 0s - loss: 0.6567 - accuracy: 0.6674 - val_loss: 0.6788 - val_accuracy: 0.5862\n",
            "Epoch 36/200\n",
            "10/10 - 0s - loss: 0.6560 - accuracy: 0.6674 - val_loss: 0.6787 - val_accuracy: 0.5862\n",
            "Epoch 37/200\n",
            "10/10 - 0s - loss: 0.6554 - accuracy: 0.6674 - val_loss: 0.6786 - val_accuracy: 0.5862\n",
            "Epoch 38/200\n",
            "10/10 - 0s - loss: 0.6549 - accuracy: 0.6674 - val_loss: 0.6785 - val_accuracy: 0.5862\n",
            "Epoch 39/200\n",
            "10/10 - 0s - loss: 0.6542 - accuracy: 0.6674 - val_loss: 0.6785 - val_accuracy: 0.5862\n",
            "Epoch 40/200\n",
            "10/10 - 0s - loss: 0.6536 - accuracy: 0.6674 - val_loss: 0.6784 - val_accuracy: 0.5862\n",
            "Epoch 41/200\n",
            "10/10 - 0s - loss: 0.6530 - accuracy: 0.6674 - val_loss: 0.6783 - val_accuracy: 0.5862\n",
            "Epoch 42/200\n",
            "10/10 - 0s - loss: 0.6525 - accuracy: 0.6674 - val_loss: 0.6783 - val_accuracy: 0.5862\n",
            "Epoch 43/200\n",
            "10/10 - 0s - loss: 0.6519 - accuracy: 0.6674 - val_loss: 0.6783 - val_accuracy: 0.5862\n",
            "Epoch 44/200\n",
            "10/10 - 0s - loss: 0.6514 - accuracy: 0.6674 - val_loss: 0.6782 - val_accuracy: 0.5862\n",
            "Epoch 45/200\n",
            "10/10 - 0s - loss: 0.6508 - accuracy: 0.6674 - val_loss: 0.6782 - val_accuracy: 0.5862\n",
            "Epoch 46/200\n",
            "10/10 - 0s - loss: 0.6503 - accuracy: 0.6674 - val_loss: 0.6782 - val_accuracy: 0.5862\n",
            "Epoch 47/200\n",
            "10/10 - 0s - loss: 0.6498 - accuracy: 0.6674 - val_loss: 0.6782 - val_accuracy: 0.5862\n",
            "Epoch 48/200\n",
            "10/10 - 0s - loss: 0.6493 - accuracy: 0.6674 - val_loss: 0.6782 - val_accuracy: 0.5862\n",
            "Epoch 49/200\n",
            "10/10 - 0s - loss: 0.6488 - accuracy: 0.6674 - val_loss: 0.6783 - val_accuracy: 0.5862\n",
            "Epoch 50/200\n",
            "10/10 - 0s - loss: 0.6483 - accuracy: 0.6674 - val_loss: 0.6783 - val_accuracy: 0.5862\n",
            "Epoch 51/200\n",
            "10/10 - 0s - loss: 0.6479 - accuracy: 0.6674 - val_loss: 0.6783 - val_accuracy: 0.5862\n",
            "Epoch 52/200\n",
            "10/10 - 0s - loss: 0.6476 - accuracy: 0.6674 - val_loss: 0.6784 - val_accuracy: 0.5862\n",
            "Epoch 53/200\n",
            "10/10 - 0s - loss: 0.6471 - accuracy: 0.6674 - val_loss: 0.6784 - val_accuracy: 0.5862\n",
            "Epoch 54/200\n",
            "10/10 - 0s - loss: 0.6467 - accuracy: 0.6674 - val_loss: 0.6785 - val_accuracy: 0.5862\n",
            "Epoch 55/200\n",
            "10/10 - 0s - loss: 0.6464 - accuracy: 0.6674 - val_loss: 0.6785 - val_accuracy: 0.5862\n",
            "Epoch 56/200\n",
            "10/10 - 0s - loss: 0.6461 - accuracy: 0.6674 - val_loss: 0.6786 - val_accuracy: 0.5862\n",
            "Epoch 57/200\n",
            "10/10 - 0s - loss: 0.6457 - accuracy: 0.6674 - val_loss: 0.6786 - val_accuracy: 0.5862\n",
            "Epoch 58/200\n",
            "10/10 - 0s - loss: 0.6454 - accuracy: 0.6674 - val_loss: 0.6787 - val_accuracy: 0.5862\n",
            "Epoch 59/200\n",
            "10/10 - 0s - loss: 0.6451 - accuracy: 0.6674 - val_loss: 0.6788 - val_accuracy: 0.5862\n",
            "Epoch 60/200\n",
            "10/10 - 0s - loss: 0.6448 - accuracy: 0.6674 - val_loss: 0.6789 - val_accuracy: 0.5862\n",
            "Epoch 61/200\n",
            "10/10 - 0s - loss: 0.6445 - accuracy: 0.6674 - val_loss: 0.6789 - val_accuracy: 0.5862\n",
            "Epoch 62/200\n",
            "10/10 - 0s - loss: 0.6443 - accuracy: 0.6674 - val_loss: 0.6790 - val_accuracy: 0.5862\n",
            "Epoch 63/200\n",
            "10/10 - 0s - loss: 0.6441 - accuracy: 0.6674 - val_loss: 0.6791 - val_accuracy: 0.5862\n",
            "Epoch 64/200\n",
            "10/10 - 0s - loss: 0.6438 - accuracy: 0.6674 - val_loss: 0.6792 - val_accuracy: 0.5862\n",
            "Epoch 65/200\n",
            "10/10 - 0s - loss: 0.6436 - accuracy: 0.6674 - val_loss: 0.6793 - val_accuracy: 0.5862\n",
            "Epoch 66/200\n",
            "10/10 - 0s - loss: 0.6432 - accuracy: 0.6674 - val_loss: 0.6794 - val_accuracy: 0.5862\n",
            "Epoch 67/200\n",
            "10/10 - 0s - loss: 0.6430 - accuracy: 0.6674 - val_loss: 0.6795 - val_accuracy: 0.5862\n",
            "Epoch 68/200\n",
            "10/10 - 0s - loss: 0.6427 - accuracy: 0.6674 - val_loss: 0.6796 - val_accuracy: 0.5862\n",
            "Epoch 69/200\n",
            "10/10 - 0s - loss: 0.6424 - accuracy: 0.6674 - val_loss: 0.6797 - val_accuracy: 0.5862\n",
            "Epoch 70/200\n",
            "10/10 - 0s - loss: 0.6422 - accuracy: 0.6674 - val_loss: 0.6799 - val_accuracy: 0.5862\n",
            "Epoch 71/200\n",
            "10/10 - 0s - loss: 0.6419 - accuracy: 0.6674 - val_loss: 0.6800 - val_accuracy: 0.5862\n",
            "Epoch 72/200\n",
            "10/10 - 0s - loss: 0.6416 - accuracy: 0.6674 - val_loss: 0.6802 - val_accuracy: 0.5862\n",
            "Epoch 73/200\n",
            "10/10 - 0s - loss: 0.6414 - accuracy: 0.6674 - val_loss: 0.6804 - val_accuracy: 0.5862\n",
            "Epoch 74/200\n",
            "10/10 - 0s - loss: 0.6412 - accuracy: 0.6674 - val_loss: 0.6804 - val_accuracy: 0.5862\n",
            "Epoch 75/200\n",
            "10/10 - 0s - loss: 0.6411 - accuracy: 0.6674 - val_loss: 0.6805 - val_accuracy: 0.5862\n",
            "Epoch 76/200\n",
            "10/10 - 0s - loss: 0.6409 - accuracy: 0.6674 - val_loss: 0.6807 - val_accuracy: 0.5862\n",
            "Epoch 77/200\n",
            "10/10 - 0s - loss: 0.6407 - accuracy: 0.6674 - val_loss: 0.6808 - val_accuracy: 0.5862\n",
            "Epoch 78/200\n",
            "10/10 - 0s - loss: 0.6405 - accuracy: 0.6674 - val_loss: 0.6809 - val_accuracy: 0.5862\n",
            "Epoch 79/200\n",
            "10/10 - 0s - loss: 0.6404 - accuracy: 0.6674 - val_loss: 0.6810 - val_accuracy: 0.5862\n",
            "Epoch 80/200\n",
            "10/10 - 0s - loss: 0.6402 - accuracy: 0.6674 - val_loss: 0.6812 - val_accuracy: 0.5862\n",
            "Epoch 81/200\n",
            "10/10 - 0s - loss: 0.6401 - accuracy: 0.6674 - val_loss: 0.6813 - val_accuracy: 0.5862\n",
            "Epoch 82/200\n",
            "10/10 - 0s - loss: 0.6399 - accuracy: 0.6674 - val_loss: 0.6814 - val_accuracy: 0.5862\n",
            "Epoch 83/200\n",
            "10/10 - 0s - loss: 0.6398 - accuracy: 0.6674 - val_loss: 0.6815 - val_accuracy: 0.5862\n",
            "Epoch 84/200\n",
            "10/10 - 0s - loss: 0.6397 - accuracy: 0.6674 - val_loss: 0.6817 - val_accuracy: 0.5862\n",
            "Epoch 85/200\n",
            "10/10 - 0s - loss: 0.6396 - accuracy: 0.6674 - val_loss: 0.6818 - val_accuracy: 0.5862\n",
            "Epoch 86/200\n",
            "10/10 - 0s - loss: 0.6394 - accuracy: 0.6674 - val_loss: 0.6819 - val_accuracy: 0.5862\n",
            "Epoch 87/200\n",
            "10/10 - 0s - loss: 0.6393 - accuracy: 0.6674 - val_loss: 0.6821 - val_accuracy: 0.5862\n",
            "Epoch 88/200\n",
            "10/10 - 0s - loss: 0.6392 - accuracy: 0.6674 - val_loss: 0.6822 - val_accuracy: 0.5862\n",
            "Epoch 89/200\n",
            "10/10 - 0s - loss: 0.6390 - accuracy: 0.6674 - val_loss: 0.6824 - val_accuracy: 0.5862\n",
            "Epoch 90/200\n",
            "10/10 - 0s - loss: 0.6389 - accuracy: 0.6674 - val_loss: 0.6825 - val_accuracy: 0.5862\n",
            "Epoch 91/200\n",
            "10/10 - 0s - loss: 0.6388 - accuracy: 0.6674 - val_loss: 0.6826 - val_accuracy: 0.5862\n",
            "Epoch 92/200\n",
            "10/10 - 0s - loss: 0.6387 - accuracy: 0.6674 - val_loss: 0.6827 - val_accuracy: 0.5862\n",
            "Epoch 93/200\n",
            "10/10 - 0s - loss: 0.6386 - accuracy: 0.6674 - val_loss: 0.6828 - val_accuracy: 0.5862\n",
            "Epoch 94/200\n",
            "10/10 - 0s - loss: 0.6386 - accuracy: 0.6674 - val_loss: 0.6830 - val_accuracy: 0.5862\n",
            "Epoch 95/200\n",
            "10/10 - 0s - loss: 0.6384 - accuracy: 0.6674 - val_loss: 0.6831 - val_accuracy: 0.5862\n",
            "Epoch 96/200\n",
            "10/10 - 0s - loss: 0.6384 - accuracy: 0.6674 - val_loss: 0.6833 - val_accuracy: 0.5862\n",
            "Epoch 97/200\n",
            "10/10 - 0s - loss: 0.6383 - accuracy: 0.6674 - val_loss: 0.6834 - val_accuracy: 0.5862\n",
            "Epoch 98/200\n",
            "10/10 - 0s - loss: 0.6382 - accuracy: 0.6674 - val_loss: 0.6836 - val_accuracy: 0.5862\n",
            "Epoch 99/200\n",
            "10/10 - 0s - loss: 0.6381 - accuracy: 0.6674 - val_loss: 0.6837 - val_accuracy: 0.5862\n",
            "Epoch 100/200\n",
            "10/10 - 0s - loss: 0.6380 - accuracy: 0.6674 - val_loss: 0.6838 - val_accuracy: 0.5862\n",
            "Epoch 101/200\n",
            "10/10 - 0s - loss: 0.6379 - accuracy: 0.6674 - val_loss: 0.6840 - val_accuracy: 0.5862\n",
            "Epoch 102/200\n",
            "10/10 - 0s - loss: 0.6378 - accuracy: 0.6674 - val_loss: 0.6841 - val_accuracy: 0.5862\n",
            "Epoch 103/200\n",
            "10/10 - 0s - loss: 0.6378 - accuracy: 0.6674 - val_loss: 0.6842 - val_accuracy: 0.5862\n",
            "Epoch 104/200\n",
            "10/10 - 0s - loss: 0.6377 - accuracy: 0.6674 - val_loss: 0.6843 - val_accuracy: 0.5862\n",
            "Epoch 105/200\n",
            "10/10 - 0s - loss: 0.6377 - accuracy: 0.6674 - val_loss: 0.6844 - val_accuracy: 0.5862\n",
            "Epoch 106/200\n",
            "10/10 - 0s - loss: 0.6376 - accuracy: 0.6674 - val_loss: 0.6845 - val_accuracy: 0.5862\n",
            "Epoch 107/200\n",
            "10/10 - 0s - loss: 0.6376 - accuracy: 0.6674 - val_loss: 0.6847 - val_accuracy: 0.5862\n",
            "Epoch 108/200\n",
            "10/10 - 0s - loss: 0.6375 - accuracy: 0.6674 - val_loss: 0.6849 - val_accuracy: 0.5862\n",
            "Epoch 109/200\n",
            "10/10 - 0s - loss: 0.6374 - accuracy: 0.6674 - val_loss: 0.6850 - val_accuracy: 0.5862\n",
            "Epoch 110/200\n",
            "10/10 - 0s - loss: 0.6374 - accuracy: 0.6674 - val_loss: 0.6851 - val_accuracy: 0.5862\n",
            "Epoch 111/200\n",
            "10/10 - 0s - loss: 0.6373 - accuracy: 0.6674 - val_loss: 0.6851 - val_accuracy: 0.5862\n",
            "Epoch 112/200\n",
            "10/10 - 0s - loss: 0.6373 - accuracy: 0.6674 - val_loss: 0.6852 - val_accuracy: 0.5862\n",
            "Epoch 113/200\n",
            "10/10 - 0s - loss: 0.6373 - accuracy: 0.6674 - val_loss: 0.6853 - val_accuracy: 0.5862\n",
            "Epoch 114/200\n",
            "10/10 - 0s - loss: 0.6372 - accuracy: 0.6674 - val_loss: 0.6855 - val_accuracy: 0.5862\n",
            "Epoch 115/200\n",
            "10/10 - 0s - loss: 0.6371 - accuracy: 0.6674 - val_loss: 0.6856 - val_accuracy: 0.5862\n",
            "Epoch 116/200\n",
            "10/10 - 0s - loss: 0.6371 - accuracy: 0.6674 - val_loss: 0.6857 - val_accuracy: 0.5862\n",
            "Epoch 117/200\n",
            "10/10 - 0s - loss: 0.6371 - accuracy: 0.6674 - val_loss: 0.6858 - val_accuracy: 0.5862\n",
            "Epoch 118/200\n",
            "10/10 - 0s - loss: 0.6370 - accuracy: 0.6674 - val_loss: 0.6860 - val_accuracy: 0.5862\n",
            "Epoch 119/200\n",
            "10/10 - 0s - loss: 0.6370 - accuracy: 0.6674 - val_loss: 0.6860 - val_accuracy: 0.5862\n",
            "Epoch 120/200\n",
            "10/10 - 0s - loss: 0.6370 - accuracy: 0.6674 - val_loss: 0.6861 - val_accuracy: 0.5862\n",
            "Epoch 121/200\n",
            "10/10 - 0s - loss: 0.6369 - accuracy: 0.6674 - val_loss: 0.6862 - val_accuracy: 0.5862\n",
            "Epoch 122/200\n",
            "10/10 - 0s - loss: 0.6369 - accuracy: 0.6674 - val_loss: 0.6863 - val_accuracy: 0.5862\n",
            "Epoch 123/200\n",
            "10/10 - 0s - loss: 0.6369 - accuracy: 0.6674 - val_loss: 0.6865 - val_accuracy: 0.5862\n",
            "Epoch 124/200\n",
            "10/10 - 0s - loss: 0.6368 - accuracy: 0.6674 - val_loss: 0.6865 - val_accuracy: 0.5862\n",
            "Epoch 125/200\n",
            "10/10 - 0s - loss: 0.6368 - accuracy: 0.6674 - val_loss: 0.6864 - val_accuracy: 0.5862\n",
            "Epoch 126/200\n",
            "10/10 - 0s - loss: 0.6368 - accuracy: 0.6674 - val_loss: 0.6865 - val_accuracy: 0.5862\n",
            "Epoch 127/200\n",
            "10/10 - 0s - loss: 0.6368 - accuracy: 0.6674 - val_loss: 0.6866 - val_accuracy: 0.5862\n",
            "Epoch 128/200\n",
            "10/10 - 0s - loss: 0.6368 - accuracy: 0.6674 - val_loss: 0.6866 - val_accuracy: 0.5862\n",
            "Epoch 129/200\n",
            "10/10 - 0s - loss: 0.6368 - accuracy: 0.6674 - val_loss: 0.6867 - val_accuracy: 0.5862\n",
            "Epoch 130/200\n",
            "10/10 - 0s - loss: 0.6367 - accuracy: 0.6674 - val_loss: 0.6868 - val_accuracy: 0.5862\n",
            "Epoch 131/200\n",
            "10/10 - 0s - loss: 0.6367 - accuracy: 0.6674 - val_loss: 0.6870 - val_accuracy: 0.5862\n",
            "Epoch 132/200\n",
            "10/10 - 0s - loss: 0.6366 - accuracy: 0.6674 - val_loss: 0.6872 - val_accuracy: 0.5862\n",
            "Epoch 133/200\n",
            "10/10 - 0s - loss: 0.6366 - accuracy: 0.6674 - val_loss: 0.6874 - val_accuracy: 0.5862\n",
            "Epoch 134/200\n",
            "10/10 - 0s - loss: 0.6365 - accuracy: 0.6674 - val_loss: 0.6875 - val_accuracy: 0.5862\n",
            "Epoch 135/200\n",
            "10/10 - 0s - loss: 0.6365 - accuracy: 0.6674 - val_loss: 0.6877 - val_accuracy: 0.5862\n",
            "Epoch 136/200\n",
            "10/10 - 0s - loss: 0.6365 - accuracy: 0.6674 - val_loss: 0.6878 - val_accuracy: 0.5862\n",
            "Epoch 137/200\n",
            "10/10 - 0s - loss: 0.6365 - accuracy: 0.6674 - val_loss: 0.6878 - val_accuracy: 0.5862\n",
            "Epoch 138/200\n",
            "10/10 - 0s - loss: 0.6365 - accuracy: 0.6674 - val_loss: 0.6878 - val_accuracy: 0.5862\n",
            "Epoch 139/200\n",
            "10/10 - 0s - loss: 0.6365 - accuracy: 0.6674 - val_loss: 0.6879 - val_accuracy: 0.5862\n",
            "Epoch 140/200\n",
            "10/10 - 0s - loss: 0.6365 - accuracy: 0.6674 - val_loss: 0.6880 - val_accuracy: 0.5862\n",
            "Epoch 141/200\n",
            "10/10 - 0s - loss: 0.6364 - accuracy: 0.6674 - val_loss: 0.6881 - val_accuracy: 0.5862\n",
            "Epoch 142/200\n",
            "10/10 - 0s - loss: 0.6364 - accuracy: 0.6674 - val_loss: 0.6883 - val_accuracy: 0.5862\n",
            "Epoch 143/200\n",
            "10/10 - 0s - loss: 0.6364 - accuracy: 0.6674 - val_loss: 0.6885 - val_accuracy: 0.5862\n",
            "Epoch 144/200\n",
            "10/10 - 0s - loss: 0.6363 - accuracy: 0.6674 - val_loss: 0.6886 - val_accuracy: 0.5862\n",
            "Epoch 145/200\n",
            "10/10 - 0s - loss: 0.6363 - accuracy: 0.6674 - val_loss: 0.6888 - val_accuracy: 0.5862\n",
            "Epoch 146/200\n",
            "10/10 - 0s - loss: 0.6363 - accuracy: 0.6674 - val_loss: 0.6888 - val_accuracy: 0.5862\n",
            "Epoch 147/200\n",
            "10/10 - 0s - loss: 0.6363 - accuracy: 0.6674 - val_loss: 0.6888 - val_accuracy: 0.5862\n",
            "Epoch 148/200\n",
            "10/10 - 0s - loss: 0.6363 - accuracy: 0.6674 - val_loss: 0.6888 - val_accuracy: 0.5862\n",
            "Epoch 149/200\n",
            "10/10 - 0s - loss: 0.6363 - accuracy: 0.6674 - val_loss: 0.6888 - val_accuracy: 0.5862\n",
            "Epoch 150/200\n",
            "10/10 - 0s - loss: 0.6363 - accuracy: 0.6674 - val_loss: 0.6889 - val_accuracy: 0.5862\n",
            "Epoch 151/200\n",
            "10/10 - 0s - loss: 0.6363 - accuracy: 0.6674 - val_loss: 0.6890 - val_accuracy: 0.5862\n",
            "Epoch 152/200\n",
            "10/10 - 0s - loss: 0.6363 - accuracy: 0.6674 - val_loss: 0.6890 - val_accuracy: 0.5862\n",
            "Epoch 153/200\n",
            "10/10 - 0s - loss: 0.6363 - accuracy: 0.6674 - val_loss: 0.6890 - val_accuracy: 0.5862\n",
            "Epoch 154/200\n",
            "10/10 - 0s - loss: 0.6363 - accuracy: 0.6674 - val_loss: 0.6890 - val_accuracy: 0.5862\n",
            "Epoch 155/200\n",
            "10/10 - 0s - loss: 0.6363 - accuracy: 0.6674 - val_loss: 0.6891 - val_accuracy: 0.5862\n",
            "Epoch 156/200\n",
            "10/10 - 0s - loss: 0.6362 - accuracy: 0.6674 - val_loss: 0.6891 - val_accuracy: 0.5862\n",
            "Epoch 157/200\n",
            "10/10 - 0s - loss: 0.6362 - accuracy: 0.6674 - val_loss: 0.6891 - val_accuracy: 0.5862\n",
            "Epoch 158/200\n",
            "10/10 - 0s - loss: 0.6363 - accuracy: 0.6674 - val_loss: 0.6890 - val_accuracy: 0.5862\n",
            "Epoch 159/200\n",
            "10/10 - 0s - loss: 0.6363 - accuracy: 0.6674 - val_loss: 0.6891 - val_accuracy: 0.5862\n",
            "Epoch 160/200\n",
            "10/10 - 0s - loss: 0.6362 - accuracy: 0.6674 - val_loss: 0.6892 - val_accuracy: 0.5862\n",
            "Epoch 161/200\n",
            "10/10 - 0s - loss: 0.6362 - accuracy: 0.6674 - val_loss: 0.6894 - val_accuracy: 0.5862\n",
            "Epoch 162/200\n",
            "10/10 - 0s - loss: 0.6362 - accuracy: 0.6674 - val_loss: 0.6896 - val_accuracy: 0.5862\n",
            "Epoch 163/200\n",
            "10/10 - 0s - loss: 0.6362 - accuracy: 0.6674 - val_loss: 0.6897 - val_accuracy: 0.5862\n",
            "Epoch 164/200\n",
            "10/10 - 0s - loss: 0.6362 - accuracy: 0.6674 - val_loss: 0.6898 - val_accuracy: 0.5862\n",
            "Epoch 165/200\n",
            "10/10 - 0s - loss: 0.6362 - accuracy: 0.6674 - val_loss: 0.6900 - val_accuracy: 0.5862\n",
            "Epoch 166/200\n",
            "10/10 - 0s - loss: 0.6361 - accuracy: 0.6674 - val_loss: 0.6900 - val_accuracy: 0.5862\n",
            "Epoch 167/200\n",
            "10/10 - 0s - loss: 0.6361 - accuracy: 0.6674 - val_loss: 0.6901 - val_accuracy: 0.5862\n",
            "Epoch 168/200\n",
            "10/10 - 0s - loss: 0.6361 - accuracy: 0.6674 - val_loss: 0.6902 - val_accuracy: 0.5862\n",
            "Epoch 169/200\n",
            "10/10 - 0s - loss: 0.6361 - accuracy: 0.6674 - val_loss: 0.6902 - val_accuracy: 0.5862\n",
            "Epoch 170/200\n",
            "10/10 - 0s - loss: 0.6361 - accuracy: 0.6674 - val_loss: 0.6903 - val_accuracy: 0.5862\n",
            "Epoch 171/200\n",
            "10/10 - 0s - loss: 0.6361 - accuracy: 0.6674 - val_loss: 0.6903 - val_accuracy: 0.5862\n",
            "Epoch 172/200\n",
            "10/10 - 0s - loss: 0.6361 - accuracy: 0.6674 - val_loss: 0.6903 - val_accuracy: 0.5862\n",
            "Epoch 173/200\n",
            "10/10 - 0s - loss: 0.6361 - accuracy: 0.6674 - val_loss: 0.6904 - val_accuracy: 0.5862\n",
            "Epoch 174/200\n",
            "10/10 - 0s - loss: 0.6361 - accuracy: 0.6674 - val_loss: 0.6905 - val_accuracy: 0.5862\n",
            "Epoch 175/200\n",
            "10/10 - 0s - loss: 0.6361 - accuracy: 0.6674 - val_loss: 0.6907 - val_accuracy: 0.5862\n",
            "Epoch 176/200\n",
            "10/10 - 0s - loss: 0.6361 - accuracy: 0.6674 - val_loss: 0.6907 - val_accuracy: 0.5862\n",
            "Epoch 177/200\n",
            "10/10 - 0s - loss: 0.6361 - accuracy: 0.6674 - val_loss: 0.6907 - val_accuracy: 0.5862\n",
            "Epoch 178/200\n",
            "10/10 - 0s - loss: 0.6361 - accuracy: 0.6674 - val_loss: 0.6907 - val_accuracy: 0.5862\n",
            "Epoch 179/200\n",
            "10/10 - 0s - loss: 0.6361 - accuracy: 0.6674 - val_loss: 0.6907 - val_accuracy: 0.5862\n",
            "Epoch 180/200\n",
            "10/10 - 0s - loss: 0.6361 - accuracy: 0.6674 - val_loss: 0.6907 - val_accuracy: 0.5862\n",
            "Epoch 181/200\n",
            "10/10 - 0s - loss: 0.6361 - accuracy: 0.6674 - val_loss: 0.6907 - val_accuracy: 0.5862\n",
            "Epoch 182/200\n",
            "10/10 - 0s - loss: 0.6361 - accuracy: 0.6674 - val_loss: 0.6907 - val_accuracy: 0.5862\n",
            "Epoch 183/200\n",
            "10/10 - 0s - loss: 0.6361 - accuracy: 0.6674 - val_loss: 0.6908 - val_accuracy: 0.5862\n",
            "Epoch 184/200\n",
            "10/10 - 0s - loss: 0.6361 - accuracy: 0.6674 - val_loss: 0.6908 - val_accuracy: 0.5862\n",
            "Epoch 185/200\n",
            "10/10 - 0s - loss: 0.6361 - accuracy: 0.6674 - val_loss: 0.6910 - val_accuracy: 0.5862\n",
            "Epoch 186/200\n",
            "10/10 - 0s - loss: 0.6361 - accuracy: 0.6674 - val_loss: 0.6910 - val_accuracy: 0.5862\n",
            "Epoch 187/200\n",
            "10/10 - 0s - loss: 0.6361 - accuracy: 0.6674 - val_loss: 0.6910 - val_accuracy: 0.5862\n",
            "Epoch 188/200\n",
            "10/10 - 0s - loss: 0.6361 - accuracy: 0.6674 - val_loss: 0.6911 - val_accuracy: 0.5862\n",
            "Epoch 189/200\n",
            "10/10 - 0s - loss: 0.6361 - accuracy: 0.6674 - val_loss: 0.6911 - val_accuracy: 0.5862\n",
            "Epoch 190/200\n",
            "10/10 - 0s - loss: 0.6361 - accuracy: 0.6674 - val_loss: 0.6913 - val_accuracy: 0.5862\n",
            "Epoch 191/200\n",
            "10/10 - 0s - loss: 0.6360 - accuracy: 0.6674 - val_loss: 0.6913 - val_accuracy: 0.5862\n",
            "Epoch 192/200\n",
            "10/10 - 0s - loss: 0.6360 - accuracy: 0.6674 - val_loss: 0.6913 - val_accuracy: 0.5862\n",
            "Epoch 193/200\n",
            "10/10 - 0s - loss: 0.6360 - accuracy: 0.6674 - val_loss: 0.6913 - val_accuracy: 0.5862\n",
            "Epoch 194/200\n",
            "10/10 - 0s - loss: 0.6361 - accuracy: 0.6674 - val_loss: 0.6913 - val_accuracy: 0.5862\n",
            "Epoch 195/200\n",
            "10/10 - 0s - loss: 0.6360 - accuracy: 0.6674 - val_loss: 0.6912 - val_accuracy: 0.5862\n",
            "Epoch 196/200\n",
            "10/10 - 0s - loss: 0.6360 - accuracy: 0.6674 - val_loss: 0.6913 - val_accuracy: 0.5862\n",
            "Epoch 197/200\n",
            "10/10 - 0s - loss: 0.6360 - accuracy: 0.6674 - val_loss: 0.6914 - val_accuracy: 0.5862\n",
            "Epoch 198/200\n",
            "10/10 - 0s - loss: 0.6360 - accuracy: 0.6674 - val_loss: 0.6915 - val_accuracy: 0.5862\n",
            "Epoch 199/200\n",
            "10/10 - 0s - loss: 0.6360 - accuracy: 0.6674 - val_loss: 0.6916 - val_accuracy: 0.5862\n",
            "Epoch 200/200\n",
            "10/10 - 0s - loss: 0.6360 - accuracy: 0.6674 - val_loss: 0.6917 - val_accuracy: 0.5862\n"
          ],
          "name": "stdout"
        }
      ]
    },
    {
      "cell_type": "code",
      "metadata": {
        "colab": {
          "base_uri": "https://localhost:8080/"
        },
        "id": "7P-ZgzfsQfH6",
        "outputId": "b6c4d001-fea6-40cb-85ad-0cd4e4486897"
      },
      "source": [
        "model.evaluate(X_test,y_test)"
      ],
      "execution_count": 12,
      "outputs": [
        {
          "output_type": "stream",
          "text": [
            "6/6 [==============================] - 0s 2ms/step - loss: 0.6472 - accuracy: 0.6510\n"
          ],
          "name": "stdout"
        },
        {
          "output_type": "execute_result",
          "data": {
            "text/plain": [
              "[0.6472340226173401, 0.6510416865348816]"
            ]
          },
          "metadata": {
            "tags": []
          },
          "execution_count": 12
        }
      ]
    },
    {
      "cell_type": "markdown",
      "metadata": {
        "id": "n07mDvo7QlhL"
      },
      "source": [
        "## 결과 시각화"
      ]
    },
    {
      "cell_type": "code",
      "metadata": {
        "id": "cBVHR01fQmki"
      },
      "source": [
        "import matplotlib.pyplot as plt"
      ],
      "execution_count": 13,
      "outputs": []
    },
    {
      "cell_type": "code",
      "metadata": {
        "colab": {
          "base_uri": "https://localhost:8080/",
          "height": 268
        },
        "id": "KTdqgJgjQf2f",
        "outputId": "6dba8345-a2e9-47a7-8899-e1c7883c7d3e"
      },
      "source": [
        "y_acc = history.history['accuracy']\n",
        "y_vloss = history.history['val_loss']\n",
        "\n",
        "x_len = np.arange(len(y_acc))\n",
        "\n",
        "plt.plot(x_len, y_acc, 'b-',markersize=5, label='accuracy')\n",
        "plt.plot(x_len, y_vloss, 'r-',markersize=5, label='val_loss')\n",
        "plt.yticks([0.65,0.7,0.75])\n",
        "plt.legend()\n",
        "plt.show()"
      ],
      "execution_count": 14,
      "outputs": [
        {
          "output_type": "display_data",
          "data": {
            "image/png": "[encoded data removed]",
            "text/plain": [
              "<Figure size 432x288 with 1 Axes>"
            ]
          },
          "metadata": {
            "tags": [],
            "needs_background": "light"
          }
        }
      ]
    },
    {
      "cell_type": "code",
      "metadata": {
        "colab": {
          "base_uri": "https://localhost:8080/"
        },
        "id": "Sw-VSk1ESD5J",
        "outputId": "496b5af8-9548-4d40-cd5c-0aad5a85fb49"
      },
      "source": [
        "!python --version"
      ],
      "execution_count": 15,
      "outputs": [
        {
          "output_type": "stream",
          "text": [
            "Python 3.7.10\n"
          ],
          "name": "stdout"
        }
      ]
    },
    {
      "cell_type": "code",
      "metadata": {
        "colab": {
          "base_uri": "https://localhost:8080/",
          "height": 35
        },
        "id": "uNI30TYKSF03",
        "outputId": "4b40a4b8-20a3-430d-a90d-8363d323f483"
      },
      "source": [
        "tf.__version__"
      ],
      "execution_count": 16,
      "outputs": [
        {
          "output_type": "execute_result",
          "data": {
            "application/vnd.google.colaboratory.intrinsic+json": {
              "type": "string"
            },
            "text/plain": [
              "'2.5.0'"
            ]
          },
          "metadata": {
            "tags": []
          },
          "execution_count": 16
        }
      ]
    }
  ]
}