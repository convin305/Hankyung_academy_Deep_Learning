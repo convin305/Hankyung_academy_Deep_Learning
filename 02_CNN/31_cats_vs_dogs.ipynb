{
  "nbformat": 4,
  "nbformat_minor": 0,
  "metadata": {
    "colab": {
      "name": "31_cats-vs-dogs.ipynb",
      "provenance": [],
      "collapsed_sections": [],
      "mount_file_id": "16GQODBZ0HU7GU2v_WxOOs-0t_NANArI4",
      "authorship_tag": "ABX9TyPYZp3a3s0z6cG4rCHIsz8q"
    },
    "kernelspec": {
      "name": "python3",
      "display_name": "Python 3"
    },
    "language_info": {
      "name": "python"
    },
    "accelerator": "GPU"
  },
  "cells": [
    {
      "cell_type": "markdown",
      "metadata": {
        "id": "bUnV3gQsv2s-"
      },
      "source": [
        "# Dogs vs Cats\n",
        "\n",
        "kaggle 데이터셋을 이용한 개, 고양이 구분하기  \n",
        "캐글 링크 : [Distinguish images of dogs from cats](https://www.kaggle.com/c/dogs-vs-cats-redux-kernels-edition)"
      ]
    },
    {
      "cell_type": "code",
      "metadata": {
        "colab": {
          "base_uri": "https://localhost:8080/"
        },
        "id": "Pd9ZSeSCvlVy",
        "outputId": "6253c5ef-8478-439d-b34a-95c2c6e54d0c"
      },
      "source": [
        "from google.colab import drive\n",
        "drive.mount('/content/drive')"
      ],
      "execution_count": 1,
      "outputs": [
        {
          "output_type": "stream",
          "text": [
            "Drive already mounted at /content/drive; to attempt to forcibly remount, call drive.mount(\"/content/drive\", force_remount=True).\n"
          ],
          "name": "stdout"
        }
      ]
    },
    {
      "cell_type": "code",
      "metadata": {
        "id": "OCvpuwc42lrc"
      },
      "source": [
        "from google.colab import output"
      ],
      "execution_count": 2,
      "outputs": []
    },
    {
      "cell_type": "code",
      "metadata": {
        "id": "LRpenKgG2H0E"
      },
      "source": [
        "!mkdir \"./trainset\"\n",
        "!unzip \"/content/drive/MyDrive/Data/catsdogs/train.zip\" -d \"./trainset/\"\n",
        "output.clear()"
      ],
      "execution_count": 3,
      "outputs": []
    },
    {
      "cell_type": "code",
      "metadata": {
        "id": "my6F8Foq2irV"
      },
      "source": [
        "import numpy as np\n",
        "import tensorflow as tf\n",
        "import matplotlib.pyplot as plt\n",
        "from glob import glob \n",
        "import os,cv2,random\n",
        "\n",
        "seed = 2021\n",
        "np.random.seed(seed)\n",
        "tf.random.set_seed(seed)"
      ],
      "execution_count": 4,
      "outputs": []
    },
    {
      "cell_type": "code",
      "metadata": {
        "id": "v0FMeTjJ6_cs"
      },
      "source": [
        "import tensorflow as tf\n",
        "from tensorflow.keras.preprocessing import image\n",
        "from tensorflow.keras.models import Sequential\n",
        "from tensorflow.keras.layers import Conv2D, MaxPooling2D\n",
        "from tensorflow.keras.layers import Dense, Flatten, Dropout\n",
        "from tensorflow.keras.optimizers import Adam\n",
        "from tensorflow.keras.callbacks import ModelCheckpoint, EarlyStopping"
      ],
      "execution_count": 5,
      "outputs": []
    },
    {
      "cell_type": "code",
      "metadata": {
        "id": "2Fg5P30U4FYc"
      },
      "source": [
        "path = './trainset/train/'\n",
        "classes = ['dog', 'cat']"
      ],
      "execution_count": 6,
      "outputs": []
    },
    {
      "cell_type": "code",
      "metadata": {
        "id": "jXlesh3v37hH"
      },
      "source": [
        "# Used for resize\n",
        "ROW, COL = 96,96\n",
        "\n",
        "dogs, cats = [],[]\n",
        "y_dogs, y_cats = [],[]"
      ],
      "execution_count": 7,
      "outputs": []
    },
    {
      "cell_type": "code",
      "metadata": {
        "id": "bM8Gu7J15215"
      },
      "source": [
        "# Definition to load all cats / dogs images\n",
        "\n",
        "def load_dogs():\n",
        "    print('Loading all dog images\\n')\n",
        "    dog_path = os.path.join(path, 'dog*')\n",
        "    for dog_img in glob(dog_path):\n",
        "        dog = cv2.imread(dog_img)\n",
        "        dog = cv2.cvtColor(dog, cv2.COLOR_BGR2GRAY)\n",
        "        dog = cv2.resize(dog, (ROW, COL))\n",
        "        dog = image.img_to_array(dog)\n",
        "        dogs.append(dog)\n",
        "    print('All dog images loaded')\n",
        "\n",
        "def load_cats():\n",
        "    print('Loading all cat images\\n')\n",
        "    cat_path = os.path.join(path, 'cat*')\n",
        "    for cat_img in glob(cat_path):\n",
        "        cat = cv2.imread(cat_img)\n",
        "        cat = cv2.cvtColor(cat, cv2.COLOR_BGR2GRAY)\n",
        "        cat = cv2.resize(cat, (ROW, COL))\n",
        "        cat = image.img_to_array(cat)\n",
        "        cats.append(cat)\n",
        "    print('All cat images loaded')"
      ],
      "execution_count": 8,
      "outputs": []
    },
    {
      "cell_type": "code",
      "metadata": {
        "colab": {
          "base_uri": "https://localhost:8080/"
        },
        "id": "8Dwskbjx6vmi",
        "outputId": "3fa2028a-f640-4cab-a157-e37d20349e0e"
      },
      "source": [
        "load_dogs()"
      ],
      "execution_count": 9,
      "outputs": [
        {
          "output_type": "stream",
          "text": [
            "Loading all dog images\n",
            "\n",
            "All dog images loaded\n"
          ],
          "name": "stdout"
        }
      ]
    },
    {
      "cell_type": "code",
      "metadata": {
        "colab": {
          "base_uri": "https://localhost:8080/"
        },
        "id": "mzHiMZ5o6za9",
        "outputId": "3fec50cf-2a90-4a73-daf6-05ecd39e4f97"
      },
      "source": [
        "load_cats()"
      ],
      "execution_count": 10,
      "outputs": [
        {
          "output_type": "stream",
          "text": [
            "Loading all cat images\n",
            "\n",
            "All cat images loaded\n"
          ],
          "name": "stdout"
        }
      ]
    },
    {
      "cell_type": "code",
      "metadata": {
        "id": "vz1KQh8E7GFl"
      },
      "source": [
        "y_dogs = [1 for item in enumerate(dogs)]\n",
        "y_cats = [0 for item in enumerate(cats)]"
      ],
      "execution_count": 11,
      "outputs": []
    },
    {
      "cell_type": "code",
      "metadata": {
        "id": "MPU0WiZ57QSF"
      },
      "source": [
        "# Converting everything to numpy to fit in our model\n",
        "# Creating a X and target file like we used to see in ML, DL models\n",
        "\n",
        "dogs = np.asarray(dogs).astype('float32') / 255 # 정규화\n",
        "cats = np.asarray(cats).astype('float32') / 255\n",
        "\n",
        "y_dogs = np.asarray(y_dogs).astype('int32')\n",
        "y_cats = np.asarray(y_cats).astype('int32')"
      ],
      "execution_count": 12,
      "outputs": []
    },
    {
      "cell_type": "code",
      "metadata": {
        "id": "sdwih6Xg7yT3"
      },
      "source": [
        "X = np.concatenate((dogs, cats),axis=0)\n",
        "y = np.concatenate((y_dogs,y_cats),axis=0)"
      ],
      "execution_count": 13,
      "outputs": []
    },
    {
      "cell_type": "markdown",
      "metadata": {
        "id": "daZEOQIJ8B2C"
      },
      "source": [
        "하이퍼 파라미터 설정"
      ]
    },
    {
      "cell_type": "code",
      "metadata": {
        "id": "rlnlGrwx8BNl"
      },
      "source": [
        "IMG_CHANNEL = 1\n",
        "BATCH_SIZE = 128\n",
        "N_EPOCH = 30\n",
        "VERBOSE = 2\n",
        "VALIDAION_SPLIT = 0.2\n",
        "OPTIM = Adam()\n",
        "N_CLASSES = len(classes)"
      ],
      "execution_count": 14,
      "outputs": []
    },
    {
      "cell_type": "markdown",
      "metadata": {
        "id": "EspU9Jir8OrK"
      },
      "source": [
        "데이터 분할"
      ]
    },
    {
      "cell_type": "code",
      "metadata": {
        "id": "UWnXOvsD8EbP"
      },
      "source": [
        "from sklearn.model_selection import train_test_split\n",
        "X_train, X_test, y_train, y_test = train_test_split(\n",
        "    X, y, stratify=y, test_size=0.2, random_state=seed\n",
        ")"
      ],
      "execution_count": 15,
      "outputs": []
    },
    {
      "cell_type": "markdown",
      "metadata": {
        "id": "QB-Bge668X9z"
      },
      "source": [
        "원핫 인코딩"
      ]
    },
    {
      "cell_type": "code",
      "metadata": {
        "id": "52NeS5xz8Wgt"
      },
      "source": [
        "from tensorflow.keras.utils import to_categorical\n",
        "Y_train = to_categorical(y_train,N_CLASSES )\n",
        "Y_test = to_categorical(y_test,N_CLASSES )"
      ],
      "execution_count": 16,
      "outputs": []
    },
    {
      "cell_type": "markdown",
      "metadata": {
        "id": "NuVwL4S68sl6"
      },
      "source": [
        "모델 생성"
      ]
    },
    {
      "cell_type": "code",
      "metadata": {
        "colab": {
          "base_uri": "https://localhost:8080/"
        },
        "id": "XZISe8gM8p-D",
        "outputId": "4430bf7e-deae-4b25-b78b-a68c68a38ef9"
      },
      "source": [
        "model = Sequential([\n",
        "    Conv2D(32, (3,3), padding='same', input_shape=(ROW, COL, IMG_CHANNEL), activation='relu'),\n",
        "    Conv2D(32, (3,3), padding='same', activation='relu'),\n",
        "    MaxPooling2D(pool_size=(2,2)),\n",
        "    Dropout(.25),\n",
        "    Conv2D(64, (3,3), padding='same', activation='relu'),\n",
        "    Conv2D(64, (3,3), padding='same', activation='relu'),\n",
        "    MaxPooling2D(pool_size=(2,2)),\n",
        "    Dropout(.25),\n",
        "    Flatten(),\n",
        "    Dense(512, activation='relu'),\n",
        "    Dropout(.5),\n",
        "    Dense(N_CLASSES, activation='softmax')\n",
        "])\n",
        "model.summary()"
      ],
      "execution_count": 17,
      "outputs": [
        {
          "output_type": "stream",
          "text": [
            "Model: \"sequential\"\n",
            "_________________________________________________________________\n",
            "Layer (type)                 Output Shape              Param #   \n",
            "=================================================================\n",
            "conv2d (Conv2D)              (None, 96, 96, 32)        320       \n",
            "_________________________________________________________________\n",
            "conv2d_1 (Conv2D)            (None, 96, 96, 32)        9248      \n",
            "_________________________________________________________________\n",
            "max_pooling2d (MaxPooling2D) (None, 48, 48, 32)        0         \n",
            "_________________________________________________________________\n",
            "dropout (Dropout)            (None, 48, 48, 32)        0         \n",
            "_________________________________________________________________\n",
            "conv2d_2 (Conv2D)            (None, 48, 48, 64)        18496     \n",
            "_________________________________________________________________\n",
            "conv2d_3 (Conv2D)            (None, 48, 48, 64)        36928     \n",
            "_________________________________________________________________\n",
            "max_pooling2d_1 (MaxPooling2 (None, 24, 24, 64)        0         \n",
            "_________________________________________________________________\n",
            "dropout_1 (Dropout)          (None, 24, 24, 64)        0         \n",
            "_________________________________________________________________\n",
            "flatten (Flatten)            (None, 36864)             0         \n",
            "_________________________________________________________________\n",
            "dense (Dense)                (None, 512)               18874880  \n",
            "_________________________________________________________________\n",
            "dropout_2 (Dropout)          (None, 512)               0         \n",
            "_________________________________________________________________\n",
            "dense_1 (Dense)              (None, 2)                 1026      \n",
            "=================================================================\n",
            "Total params: 18,940,898\n",
            "Trainable params: 18,940,898\n",
            "Non-trainable params: 0\n",
            "_________________________________________________________________\n"
          ],
          "name": "stdout"
        }
      ]
    },
    {
      "cell_type": "code",
      "metadata": {
        "id": "gpQy74Dx8xxv"
      },
      "source": [
        "# 모델 컴파일\n",
        "model.compile(loss='categorical_crossentropy', \n",
        "              optimizer=OPTIM, metrics=['accuracy'])"
      ],
      "execution_count": 18,
      "outputs": []
    },
    {
      "cell_type": "code",
      "metadata": {
        "id": "E_mdMV2j81CE"
      },
      "source": [
        "# to save checkpoint to use latter\n",
        "modelpath = 'model/dogs_vs_cats_redux_checkpoint.h5'\n",
        "checkpoint = ModelCheckpoint(filepath=modelpath, save_best_only=True, verbose=1)"
      ],
      "execution_count": 19,
      "outputs": []
    },
    {
      "cell_type": "markdown",
      "metadata": {
        "id": "jnow2UvJ88Dk"
      },
      "source": [
        " 모델 학습"
      ]
    },
    {
      "cell_type": "code",
      "metadata": {
        "colab": {
          "base_uri": "https://localhost:8080/"
        },
        "id": "zVYFsTgS846s",
        "outputId": "00f12eac-882e-4ed3-e574-0518db3a19b1"
      },
      "source": [
        "history = model.fit(X_train, Y_train, \n",
        "                    batch_size=BATCH_SIZE, epochs=N_EPOCH, \n",
        "                    validation_split=VALIDAION_SPLIT,\n",
        "                    verbose=VERBOSE, callbacks=[checkpoint])"
      ],
      "execution_count": 20,
      "outputs": [
        {
          "output_type": "stream",
          "text": [
            "Epoch 1/30\n",
            "125/125 - 24s - loss: 0.6863 - accuracy: 0.5627 - val_loss: 0.6450 - val_accuracy: 0.6022\n",
            "\n",
            "Epoch 00001: val_loss improved from inf to 0.64501, saving model to model/dogs_vs_cats_redux_checkpoint.h5\n",
            "Epoch 2/30\n",
            "125/125 - 21s - loss: 0.5845 - accuracy: 0.6911 - val_loss: 0.5572 - val_accuracy: 0.7210\n",
            "\n",
            "Epoch 00002: val_loss improved from 0.64501 to 0.55723, saving model to model/dogs_vs_cats_redux_checkpoint.h5\n",
            "Epoch 3/30\n",
            "125/125 - 21s - loss: 0.5313 - accuracy: 0.7318 - val_loss: 0.5259 - val_accuracy: 0.7320\n",
            "\n",
            "Epoch 00003: val_loss improved from 0.55723 to 0.52594, saving model to model/dogs_vs_cats_redux_checkpoint.h5\n",
            "Epoch 4/30\n",
            "125/125 - 21s - loss: 0.4938 - accuracy: 0.7626 - val_loss: 0.4699 - val_accuracy: 0.7753\n",
            "\n",
            "Epoch 00004: val_loss improved from 0.52594 to 0.46994, saving model to model/dogs_vs_cats_redux_checkpoint.h5\n",
            "Epoch 5/30\n",
            "125/125 - 21s - loss: 0.4510 - accuracy: 0.7885 - val_loss: 0.4466 - val_accuracy: 0.7933\n",
            "\n",
            "Epoch 00005: val_loss improved from 0.46994 to 0.44656, saving model to model/dogs_vs_cats_redux_checkpoint.h5\n",
            "Epoch 6/30\n",
            "125/125 - 21s - loss: 0.4105 - accuracy: 0.8117 - val_loss: 0.4410 - val_accuracy: 0.7995\n",
            "\n",
            "Epoch 00006: val_loss improved from 0.44656 to 0.44099, saving model to model/dogs_vs_cats_redux_checkpoint.h5\n",
            "Epoch 7/30\n",
            "125/125 - 21s - loss: 0.3710 - accuracy: 0.8347 - val_loss: 0.4123 - val_accuracy: 0.8148\n",
            "\n",
            "Epoch 00007: val_loss improved from 0.44099 to 0.41233, saving model to model/dogs_vs_cats_redux_checkpoint.h5\n",
            "Epoch 8/30\n",
            "125/125 - 21s - loss: 0.3344 - accuracy: 0.8525 - val_loss: 0.3967 - val_accuracy: 0.8250\n",
            "\n",
            "Epoch 00008: val_loss improved from 0.41233 to 0.39667, saving model to model/dogs_vs_cats_redux_checkpoint.h5\n",
            "Epoch 9/30\n",
            "125/125 - 21s - loss: 0.2854 - accuracy: 0.8786 - val_loss: 0.4257 - val_accuracy: 0.8185\n",
            "\n",
            "Epoch 00009: val_loss did not improve from 0.39667\n",
            "Epoch 10/30\n",
            "125/125 - 21s - loss: 0.2439 - accuracy: 0.8992 - val_loss: 0.4218 - val_accuracy: 0.8273\n",
            "\n",
            "Epoch 00010: val_loss did not improve from 0.39667\n",
            "Epoch 11/30\n",
            "125/125 - 21s - loss: 0.2014 - accuracy: 0.9162 - val_loss: 0.4642 - val_accuracy: 0.8192\n",
            "\n",
            "Epoch 00011: val_loss did not improve from 0.39667\n",
            "Epoch 12/30\n",
            "125/125 - 21s - loss: 0.1662 - accuracy: 0.9339 - val_loss: 0.4770 - val_accuracy: 0.8225\n",
            "\n",
            "Epoch 00012: val_loss did not improve from 0.39667\n",
            "Epoch 13/30\n",
            "125/125 - 21s - loss: 0.1353 - accuracy: 0.9475 - val_loss: 0.4888 - val_accuracy: 0.8205\n",
            "\n",
            "Epoch 00013: val_loss did not improve from 0.39667\n",
            "Epoch 14/30\n",
            "125/125 - 21s - loss: 0.1155 - accuracy: 0.9581 - val_loss: 0.5425 - val_accuracy: 0.8230\n",
            "\n",
            "Epoch 00014: val_loss did not improve from 0.39667\n",
            "Epoch 15/30\n",
            "125/125 - 21s - loss: 0.0919 - accuracy: 0.9673 - val_loss: 0.5972 - val_accuracy: 0.8192\n",
            "\n",
            "Epoch 00015: val_loss did not improve from 0.39667\n",
            "Epoch 16/30\n",
            "125/125 - 21s - loss: 0.0796 - accuracy: 0.9722 - val_loss: 0.6564 - val_accuracy: 0.8217\n",
            "\n",
            "Epoch 00016: val_loss did not improve from 0.39667\n",
            "Epoch 17/30\n",
            "125/125 - 21s - loss: 0.0640 - accuracy: 0.9772 - val_loss: 0.6505 - val_accuracy: 0.8242\n",
            "\n",
            "Epoch 00017: val_loss did not improve from 0.39667\n",
            "Epoch 18/30\n",
            "125/125 - 21s - loss: 0.0654 - accuracy: 0.9781 - val_loss: 0.6463 - val_accuracy: 0.8255\n",
            "\n",
            "Epoch 00018: val_loss did not improve from 0.39667\n",
            "Epoch 19/30\n",
            "125/125 - 21s - loss: 0.0522 - accuracy: 0.9819 - val_loss: 0.6489 - val_accuracy: 0.8198\n",
            "\n",
            "Epoch 00019: val_loss did not improve from 0.39667\n",
            "Epoch 20/30\n",
            "125/125 - 21s - loss: 0.0498 - accuracy: 0.9849 - val_loss: 0.7149 - val_accuracy: 0.8210\n",
            "\n",
            "Epoch 00020: val_loss did not improve from 0.39667\n",
            "Epoch 21/30\n",
            "125/125 - 21s - loss: 0.0486 - accuracy: 0.9835 - val_loss: 0.7126 - val_accuracy: 0.8248\n",
            "\n",
            "Epoch 00021: val_loss did not improve from 0.39667\n",
            "Epoch 22/30\n",
            "125/125 - 21s - loss: 0.0396 - accuracy: 0.9875 - val_loss: 0.7472 - val_accuracy: 0.8223\n",
            "\n",
            "Epoch 00022: val_loss did not improve from 0.39667\n",
            "Epoch 23/30\n",
            "125/125 - 21s - loss: 0.0451 - accuracy: 0.9843 - val_loss: 0.7557 - val_accuracy: 0.8175\n",
            "\n",
            "Epoch 00023: val_loss did not improve from 0.39667\n",
            "Epoch 24/30\n",
            "125/125 - 21s - loss: 0.0414 - accuracy: 0.9868 - val_loss: 0.7837 - val_accuracy: 0.8185\n",
            "\n",
            "Epoch 00024: val_loss did not improve from 0.39667\n",
            "Epoch 25/30\n",
            "125/125 - 21s - loss: 0.0336 - accuracy: 0.9889 - val_loss: 0.7504 - val_accuracy: 0.8217\n",
            "\n",
            "Epoch 00025: val_loss did not improve from 0.39667\n",
            "Epoch 26/30\n",
            "125/125 - 21s - loss: 0.0395 - accuracy: 0.9873 - val_loss: 0.8433 - val_accuracy: 0.8140\n",
            "\n",
            "Epoch 00026: val_loss did not improve from 0.39667\n",
            "Epoch 27/30\n",
            "125/125 - 21s - loss: 0.0342 - accuracy: 0.9881 - val_loss: 0.7578 - val_accuracy: 0.8232\n",
            "\n",
            "Epoch 00027: val_loss did not improve from 0.39667\n",
            "Epoch 28/30\n",
            "125/125 - 21s - loss: 0.0322 - accuracy: 0.9894 - val_loss: 0.7848 - val_accuracy: 0.8205\n",
            "\n",
            "Epoch 00028: val_loss did not improve from 0.39667\n",
            "Epoch 29/30\n",
            "125/125 - 21s - loss: 0.0342 - accuracy: 0.9893 - val_loss: 0.7720 - val_accuracy: 0.8235\n",
            "\n",
            "Epoch 00029: val_loss did not improve from 0.39667\n",
            "Epoch 30/30\n",
            "125/125 - 21s - loss: 0.0280 - accuracy: 0.9909 - val_loss: 0.7264 - val_accuracy: 0.8265\n",
            "\n",
            "Epoch 00030: val_loss did not improve from 0.39667\n"
          ],
          "name": "stdout"
        }
      ]
    },
    {
      "cell_type": "code",
      "metadata": {
        "colab": {
          "base_uri": "https://localhost:8080/"
        },
        "id": "C-BQmUoL88x3",
        "outputId": "f4cfdfaf-af4f-40d5-da48-764915a866b1"
      },
      "source": [
        "acc = model.evaluate(X_test, Y_test, verbose=2)[1]\n",
        "print('MODEL ACCURACY: %.5f' % acc)"
      ],
      "execution_count": 23,
      "outputs": [
        {
          "output_type": "stream",
          "text": [
            "157/157 - 3s - loss: 0.7442 - accuracy: 0.8268\n",
            "MODEL ACCURACY: 0.82680\n"
          ],
          "name": "stdout"
        }
      ]
    },
    {
      "cell_type": "code",
      "metadata": {
        "colab": {
          "base_uri": "https://localhost:8080/"
        },
        "id": "l3RUJo309DNR",
        "outputId": "8c9b8aba-e2d8-4bc4-ccec-3aec0ee68b12"
      },
      "source": [
        "from tensorflow.keras.models import load_model\n",
        "best_model = load_model(modelpath)\n",
        "acc = best_model.evaluate(X_test, Y_test, verbose=2)[1]\n",
        "print('Best model accuracy: %.5f' % acc)"
      ],
      "execution_count": 25,
      "outputs": [
        {
          "output_type": "stream",
          "text": [
            "157/157 - 3s - loss: 0.4083 - accuracy: 0.8198\n",
            "Best model accuracy: 0.81980\n"
          ],
          "name": "stdout"
        }
      ]
    },
    {
      "cell_type": "code",
      "metadata": {
        "id": "gt9FUHrt9D5b"
      },
      "source": [
        "# 검증셋\n",
        "y_vloss = history.history['val_loss']\n",
        "y_vacc = history.history['val_accuracy']\n",
        "\n",
        "# 학습셋\n",
        "y_loss = history.history['loss']\n",
        "y_acc = history.history['accuracy']"
      ],
      "execution_count": 26,
      "outputs": []
    },
    {
      "cell_type": "code",
      "metadata": {
        "colab": {
          "base_uri": "https://localhost:8080/",
          "height": 496
        },
        "id": "4xLPbNpd9Du7",
        "outputId": "a199588e-3585-474a-f20d-00dd863cf78c"
      },
      "source": [
        "x_len = np.arange(1, len(y_loss)+1)\n",
        "fig, ax0 = plt.subplots(figsize=(10,8))\n",
        "ax1 = ax0.twinx()\n",
        "ax0.plot(x_len, y_loss, c=\"blue\", label='train set loss')\n",
        "ax0.plot(x_len, y_vloss, c=\"red\", label='valid set loss')\n",
        "ax0.set_ylabel('loss')\n",
        "ax1.plot(x_len, y_acc, c=\"darkgreen\", label='train set acc')\n",
        "ax1.plot(x_len, y_vacc, c=\"magenta\", label='valid set acc')\n",
        "ax1.set_ylabel('accuracy')\n",
        "ax0.set_xlabel('epoch')\n",
        "ax0.legend(loc='lower center')\n",
        "ax1.legend(loc='upper center')\n",
        "plt.grid()\n",
        "plt.show()"
      ],
      "execution_count": 28,
      "outputs": [
        {
          "output_type": "display_data",
          "data": {
            "image/png": "[encoded data removed]",
            "text/plain": [
              "<Figure size 720x576 with 2 Axes>"
            ]
          },
          "metadata": {
            "tags": [],
            "needs_background": "light"
          }
        }
      ]
    }
  ]
}