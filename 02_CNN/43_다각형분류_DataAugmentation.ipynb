{
 "cells": [
  {
   "cell_type": "markdown",
   "metadata": {},
   "source": [
    "# 원, 삼각형, 사각형 구분하기 "
   ]
  },
  {
   "cell_type": "code",
   "execution_count": 1,
   "metadata": {},
   "outputs": [],
   "source": [
    "import numpy as np \r\n",
    "import pandas as pd\r\n",
    "import tensorflow as tf\r\n",
    "\r\n",
    "seed = 2021\r\n",
    "np.random.seed(seed)\r\n",
    "tf.random.set_seed(seed)"
   ]
  },
  {
   "cell_type": "markdown",
   "metadata": {},
   "source": [
    "### 데이터 셋 부풀리기  \r\n",
    "- 어떻게 진행이 되는지 보기 : preview 폴더에 저장됨\r\n"
   ]
  },
  {
   "cell_type": "code",
   "execution_count": 2,
   "metadata": {},
   "outputs": [],
   "source": [
    "from tensorflow.keras.preprocessing import image\r\n",
    "\r\n",
    "train_datagen = image.ImageDataGenerator(\r\n",
    "    rescale = 1/255.,\r\n",
    "    rotation_range=15,\r\n",
    "    width_shift_range=0.1,\r\n",
    "    height_shift_range=0.1,\r\n",
    "    shear_range=0.5,\r\n",
    "    zoom_range=[0.8,2.0],\r\n",
    "    horizontal_flip=True,\r\n",
    "    vertical_flip=True,\r\n",
    "    fill_mode='nearest'\r\n",
    "    )"
   ]
  },
  {
   "cell_type": "code",
   "execution_count": 3,
   "metadata": {},
   "outputs": [],
   "source": [
    "from tensorflow.keras.preprocessing.image import array_to_img, img_to_array, load_img\r\n",
    "img = load_img('hard_handwriting_shape/train/triangle/triangle001.png')\r\n",
    "x = img_to_array(img)\r\n",
    "x = x.reshape((1,) + x.shape)"
   ]
  },
  {
   "cell_type": "code",
   "execution_count": 4,
   "metadata": {},
   "outputs": [],
   "source": [
    "i = 0\r\n",
    "for batch in train_datagen.flow(x,batch_size=1, save_to_dir='preview',save_prefix='tri',save_format='png'):\r\n",
    "    i += 1\r\n",
    "    if i > 30:\r\n",
    "        break\r\n"
   ]
  },
  {
   "cell_type": "markdown",
   "metadata": {},
   "source": [
    "- train의 경우 "
   ]
  },
  {
   "cell_type": "code",
   "execution_count": 5,
   "metadata": {},
   "outputs": [
    {
     "name": "stdout",
     "output_type": "stream",
     "text": [
      "Found 45 images belonging to 3 classes.\n"
     ]
    }
   ],
   "source": [
    "# 서브 디렉토리별로 데이터를 가져와서 \r\n",
    "train_generator = train_datagen.flow_from_directory(\r\n",
    "    'hard_handwriting_shape/train', \r\n",
    "    target_size=(24,24),                    # 이미지의 속성 - 자세히 가서 픽셀 사이즈 확인\r\n",
    "    batch_size=3,\r\n",
    "    class_mode='categorical'\r\n",
    ")"
   ]
  },
  {
   "cell_type": "markdown",
   "metadata": {},
   "source": [
    "- test의 경우 "
   ]
  },
  {
   "cell_type": "code",
   "execution_count": 6,
   "metadata": {},
   "outputs": [
    {
     "name": "stdout",
     "output_type": "stream",
     "text": [
      "Found 15 images belonging to 3 classes.\n"
     ]
    }
   ],
   "source": [
    "test_datagen = image.ImageDataGenerator(rescale = 1/255.)           # 데이터 셋을 0과 1사이로 만들어주는 것\r\n",
    "\r\n",
    "# 서브 디렉토리별로 데이터를 가져와서 \r\n",
    "test_generator = test_datagen.flow_from_directory(\r\n",
    "    'hard_handwriting_shape/test', \r\n",
    "    target_size=(24,24),\r\n",
    "    batch_size=3,\r\n",
    "    class_mode='categorical'\r\n",
    ")"
   ]
  },
  {
   "cell_type": "code",
   "execution_count": 7,
   "metadata": {},
   "outputs": [
    {
     "data": {
      "text/plain": [
       "array([0, 0, 0, 0, 0, 0, 0, 0, 0, 0, 0, 0, 0, 0, 0, 1, 1, 1, 1, 1, 1, 1,\n",
       "       1, 1, 1, 1, 1, 1, 1, 1, 2, 2, 2, 2, 2, 2, 2, 2, 2, 2, 2, 2, 2, 2,\n",
       "       2])"
      ]
     },
     "execution_count": 7,
     "metadata": {},
     "output_type": "execute_result"
    }
   ],
   "source": [
    "train_generator.labels"
   ]
  },
  {
   "cell_type": "code",
   "execution_count": 8,
   "metadata": {},
   "outputs": [
    {
     "data": {
      "text/plain": [
       "'circle\\\\circle001.png'"
      ]
     },
     "execution_count": 8,
     "metadata": {},
     "output_type": "execute_result"
    }
   ],
   "source": [
    "train_generator.filenames[0]"
   ]
  },
  {
   "cell_type": "markdown",
   "metadata": {},
   "source": [
    "### 모델 정의 / 설정 / 학습"
   ]
  },
  {
   "cell_type": "code",
   "execution_count": 9,
   "metadata": {},
   "outputs": [],
   "source": [
    "from tensorflow.keras.models import Sequential\r\n",
    "from tensorflow.keras.layers import Conv2D, MaxPooling2D, Flatten, Dense"
   ]
  },
  {
   "cell_type": "code",
   "execution_count": 10,
   "metadata": {},
   "outputs": [
    {
     "name": "stdout",
     "output_type": "stream",
     "text": [
      "Model: \"sequential\"\n",
      "_________________________________________________________________\n",
      "Layer (type)                 Output Shape              Param #   \n",
      "=================================================================\n",
      "conv2d (Conv2D)              (None, 22, 22, 32)        896       \n",
      "_________________________________________________________________\n",
      "conv2d_1 (Conv2D)            (None, 20, 20, 64)        18496     \n",
      "_________________________________________________________________\n",
      "max_pooling2d (MaxPooling2D) (None, 10, 10, 64)        0         \n",
      "_________________________________________________________________\n",
      "flatten (Flatten)            (None, 6400)              0         \n",
      "_________________________________________________________________\n",
      "dense (Dense)                (None, 128)               819328    \n",
      "_________________________________________________________________\n",
      "dense_1 (Dense)              (None, 3)                 387       \n",
      "=================================================================\n",
      "Total params: 839,107\n",
      "Trainable params: 839,107\n",
      "Non-trainable params: 0\n",
      "_________________________________________________________________\n"
     ]
    }
   ],
   "source": [
    "model = Sequential([\r\n",
    "    Conv2D(32,(3,3), input_shape=(24,24,3),activation = 'relu'),\r\n",
    "    Conv2D(64,(3,3),activation='relu'),\r\n",
    "\r\n",
    "    MaxPooling2D(),\r\n",
    "    Flatten(),\r\n",
    "    \r\n",
    "    Dense(128,activation='relu'),\r\n",
    "    Dense(3, activation='softmax')\r\n",
    "])\r\n",
    "\r\n",
    "model.summary()"
   ]
  },
  {
   "cell_type": "code",
   "execution_count": 11,
   "metadata": {},
   "outputs": [],
   "source": [
    "model.compile(\r\n",
    "    optimizer='adam',\r\n",
    "    loss = 'categorical_crossentropy',\r\n",
    "    metrics=['accuracy']\r\n",
    ")"
   ]
  },
  {
   "cell_type": "markdown",
   "metadata": {},
   "source": [
    "### 모델 학습  \r\n",
    "\r\n",
    "steps_per_epoch증가시킴 - 이미지 부풀리기를 통해 100개"
   ]
  },
  {
   "cell_type": "code",
   "execution_count": 15,
   "metadata": {},
   "outputs": [
    {
     "name": "stdout",
     "output_type": "stream",
     "text": [
      "Epoch 1/200\n",
      "15/15 - 0s - loss: 0.9904 - accuracy: 0.5556 - val_loss: 0.9933 - val_accuracy: 0.5333\n",
      "Epoch 2/200\n",
      "15/15 - 0s - loss: 0.8634 - accuracy: 0.5556 - val_loss: 1.0053 - val_accuracy: 0.6000\n",
      "Epoch 3/200\n",
      "15/15 - 0s - loss: 0.7485 - accuracy: 0.7111 - val_loss: 1.2401 - val_accuracy: 0.4000\n",
      "Epoch 4/200\n",
      "15/15 - 0s - loss: 0.5775 - accuracy: 0.7333 - val_loss: 1.3203 - val_accuracy: 0.5333\n",
      "Epoch 5/200\n",
      "15/15 - 0s - loss: 0.4757 - accuracy: 0.7778 - val_loss: 1.8508 - val_accuracy: 0.5333\n",
      "Epoch 6/200\n",
      "15/15 - 0s - loss: 0.4455 - accuracy: 0.7778 - val_loss: 1.6244 - val_accuracy: 0.4667\n",
      "Epoch 7/200\n",
      "15/15 - 0s - loss: 0.3125 - accuracy: 0.8889 - val_loss: 2.0896 - val_accuracy: 0.5333\n",
      "Epoch 8/200\n",
      "15/15 - 0s - loss: 0.5478 - accuracy: 0.7778 - val_loss: 2.0889 - val_accuracy: 0.5333\n",
      "Epoch 9/200\n",
      "15/15 - 0s - loss: 0.2652 - accuracy: 0.8889 - val_loss: 1.8153 - val_accuracy: 0.4667\n",
      "Epoch 10/200\n",
      "15/15 - 0s - loss: 0.2643 - accuracy: 0.9111 - val_loss: 1.6146 - val_accuracy: 0.6000\n",
      "Epoch 11/200\n",
      "15/15 - 0s - loss: 0.1720 - accuracy: 0.9333 - val_loss: 3.3776 - val_accuracy: 0.5333\n",
      "Epoch 12/200\n",
      "15/15 - 0s - loss: 0.1695 - accuracy: 0.9333 - val_loss: 1.6571 - val_accuracy: 0.6000\n",
      "Epoch 13/200\n",
      "15/15 - 0s - loss: 0.2226 - accuracy: 0.9111 - val_loss: 2.8263 - val_accuracy: 0.5333\n",
      "Epoch 14/200\n",
      "15/15 - 0s - loss: 0.2617 - accuracy: 0.9111 - val_loss: 2.2019 - val_accuracy: 0.6667\n",
      "Epoch 15/200\n",
      "15/15 - 0s - loss: 0.3991 - accuracy: 0.8889 - val_loss: 1.6016 - val_accuracy: 0.6667\n",
      "Epoch 16/200\n",
      "15/15 - 0s - loss: 0.1383 - accuracy: 0.9778 - val_loss: 1.4861 - val_accuracy: 0.6667\n",
      "Epoch 17/200\n",
      "15/15 - 0s - loss: 0.2035 - accuracy: 0.9333 - val_loss: 1.6812 - val_accuracy: 0.6667\n",
      "Epoch 18/200\n",
      "15/15 - 0s - loss: 0.0981 - accuracy: 0.9556 - val_loss: 1.8439 - val_accuracy: 0.6667\n",
      "Epoch 19/200\n",
      "15/15 - 0s - loss: 0.1658 - accuracy: 0.9333 - val_loss: 1.0792 - val_accuracy: 0.7333\n",
      "Epoch 20/200\n",
      "15/15 - 0s - loss: 0.1388 - accuracy: 0.9111 - val_loss: 1.7116 - val_accuracy: 0.6667\n",
      "Epoch 21/200\n",
      "15/15 - 0s - loss: 0.0766 - accuracy: 1.0000 - val_loss: 2.0931 - val_accuracy: 0.7333\n",
      "Epoch 22/200\n",
      "15/15 - 0s - loss: 0.0301 - accuracy: 1.0000 - val_loss: 2.7386 - val_accuracy: 0.6000\n",
      "Epoch 23/200\n",
      "15/15 - 0s - loss: 0.0740 - accuracy: 0.9556 - val_loss: 2.8494 - val_accuracy: 0.5333\n",
      "Epoch 24/200\n",
      "15/15 - 0s - loss: 0.1918 - accuracy: 0.9333 - val_loss: 2.1684 - val_accuracy: 0.7333\n",
      "Epoch 25/200\n",
      "15/15 - 0s - loss: 0.1771 - accuracy: 0.9333 - val_loss: 3.0852 - val_accuracy: 0.6667\n",
      "Epoch 26/200\n",
      "15/15 - 0s - loss: 0.0340 - accuracy: 1.0000 - val_loss: 2.5299 - val_accuracy: 0.6667\n",
      "Epoch 27/200\n",
      "15/15 - 0s - loss: 0.0900 - accuracy: 0.9333 - val_loss: 1.4731 - val_accuracy: 0.7333\n",
      "Epoch 28/200\n",
      "15/15 - 0s - loss: 0.3538 - accuracy: 0.8889 - val_loss: 4.2769 - val_accuracy: 0.5333\n",
      "Epoch 29/200\n",
      "15/15 - 0s - loss: 0.2718 - accuracy: 0.9333 - val_loss: 2.3222 - val_accuracy: 0.6667\n",
      "Epoch 30/200\n",
      "15/15 - 0s - loss: 0.1029 - accuracy: 0.9778 - val_loss: 2.5073 - val_accuracy: 0.6667\n",
      "Epoch 31/200\n",
      "15/15 - 0s - loss: 0.2341 - accuracy: 0.9333 - val_loss: 2.4172 - val_accuracy: 0.6667\n",
      "Epoch 32/200\n",
      "15/15 - 0s - loss: 0.0989 - accuracy: 0.9778 - val_loss: 2.2024 - val_accuracy: 0.6000\n",
      "Epoch 33/200\n",
      "15/15 - 0s - loss: 0.0553 - accuracy: 0.9778 - val_loss: 1.6985 - val_accuracy: 0.6667\n",
      "Epoch 34/200\n",
      "15/15 - 0s - loss: 0.4447 - accuracy: 0.8667 - val_loss: 1.7337 - val_accuracy: 0.6667\n",
      "Epoch 35/200\n",
      "15/15 - 0s - loss: 0.0894 - accuracy: 0.9778 - val_loss: 1.1188 - val_accuracy: 0.8000\n",
      "Epoch 36/200\n",
      "15/15 - 0s - loss: 0.0500 - accuracy: 1.0000 - val_loss: 1.5372 - val_accuracy: 0.7333\n",
      "Epoch 37/200\n",
      "15/15 - 0s - loss: 0.0395 - accuracy: 1.0000 - val_loss: 2.6303 - val_accuracy: 0.6667\n",
      "Epoch 38/200\n",
      "15/15 - 0s - loss: 0.0847 - accuracy: 0.9556 - val_loss: 2.1362 - val_accuracy: 0.6000\n",
      "Epoch 39/200\n",
      "15/15 - 0s - loss: 0.1176 - accuracy: 0.9556 - val_loss: 2.1706 - val_accuracy: 0.6667\n",
      "Epoch 40/200\n",
      "15/15 - 0s - loss: 0.0138 - accuracy: 1.0000 - val_loss: 2.2541 - val_accuracy: 0.6667\n",
      "Epoch 41/200\n",
      "15/15 - 0s - loss: 0.0540 - accuracy: 0.9778 - val_loss: 2.2191 - val_accuracy: 0.6667\n",
      "Epoch 42/200\n",
      "15/15 - 0s - loss: 0.0182 - accuracy: 1.0000 - val_loss: 2.0964 - val_accuracy: 0.6667\n",
      "Epoch 43/200\n",
      "15/15 - 0s - loss: 0.0511 - accuracy: 1.0000 - val_loss: 1.7810 - val_accuracy: 0.7333\n",
      "Epoch 44/200\n",
      "15/15 - 0s - loss: 0.1431 - accuracy: 0.9333 - val_loss: 1.9342 - val_accuracy: 0.7333\n",
      "Epoch 45/200\n",
      "15/15 - 0s - loss: 0.2491 - accuracy: 0.9556 - val_loss: 2.2883 - val_accuracy: 0.6667\n",
      "Epoch 46/200\n",
      "15/15 - 0s - loss: 0.0876 - accuracy: 0.9778 - val_loss: 2.8100 - val_accuracy: 0.5333\n",
      "Epoch 47/200\n",
      "15/15 - 0s - loss: 0.0272 - accuracy: 1.0000 - val_loss: 2.0765 - val_accuracy: 0.6667\n",
      "Epoch 48/200\n",
      "15/15 - 0s - loss: 0.2390 - accuracy: 0.9556 - val_loss: 0.7287 - val_accuracy: 0.8000\n",
      "Epoch 49/200\n",
      "15/15 - 0s - loss: 0.0279 - accuracy: 1.0000 - val_loss: 1.3259 - val_accuracy: 0.6667\n",
      "Epoch 50/200\n",
      "15/15 - 0s - loss: 0.0254 - accuracy: 1.0000 - val_loss: 1.9113 - val_accuracy: 0.6667\n",
      "Epoch 51/200\n",
      "15/15 - 0s - loss: 0.0092 - accuracy: 1.0000 - val_loss: 1.7160 - val_accuracy: 0.7333\n",
      "Epoch 52/200\n",
      "15/15 - 0s - loss: 0.0098 - accuracy: 1.0000 - val_loss: 1.5703 - val_accuracy: 0.7333\n",
      "Epoch 53/200\n",
      "15/15 - 0s - loss: 0.0201 - accuracy: 1.0000 - val_loss: 1.2359 - val_accuracy: 0.8000\n",
      "Epoch 54/200\n",
      "15/15 - 0s - loss: 0.1320 - accuracy: 0.9556 - val_loss: 2.2542 - val_accuracy: 0.7333\n",
      "Epoch 55/200\n",
      "15/15 - 0s - loss: 0.1221 - accuracy: 0.9556 - val_loss: 1.8762 - val_accuracy: 0.6667\n",
      "Epoch 56/200\n",
      "15/15 - 0s - loss: 0.0676 - accuracy: 0.9556 - val_loss: 1.8847 - val_accuracy: 0.8000\n",
      "Epoch 57/200\n",
      "15/15 - 0s - loss: 0.0767 - accuracy: 0.9778 - val_loss: 2.1073 - val_accuracy: 0.6000\n",
      "Epoch 58/200\n",
      "15/15 - 0s - loss: 0.0535 - accuracy: 0.9778 - val_loss: 2.1040 - val_accuracy: 0.6000\n",
      "Epoch 59/200\n",
      "15/15 - 0s - loss: 0.0749 - accuracy: 0.9556 - val_loss: 1.5610 - val_accuracy: 0.7333\n",
      "Epoch 60/200\n",
      "15/15 - 0s - loss: 0.0926 - accuracy: 0.9556 - val_loss: 1.6181 - val_accuracy: 0.7333\n",
      "Epoch 61/200\n",
      "15/15 - 0s - loss: 0.1095 - accuracy: 0.9556 - val_loss: 1.7977 - val_accuracy: 0.7333\n",
      "Epoch 62/200\n",
      "15/15 - 0s - loss: 0.0225 - accuracy: 1.0000 - val_loss: 1.9453 - val_accuracy: 0.6667\n",
      "Epoch 63/200\n",
      "15/15 - 0s - loss: 0.0353 - accuracy: 1.0000 - val_loss: 2.2709 - val_accuracy: 0.7333\n",
      "Epoch 64/200\n",
      "15/15 - 0s - loss: 0.0066 - accuracy: 1.0000 - val_loss: 2.5182 - val_accuracy: 0.6667\n",
      "Epoch 65/200\n",
      "15/15 - 0s - loss: 0.1350 - accuracy: 0.9778 - val_loss: 2.2123 - val_accuracy: 0.7333\n",
      "Epoch 66/200\n",
      "15/15 - 0s - loss: 0.0605 - accuracy: 0.9556 - val_loss: 1.9958 - val_accuracy: 0.7333\n",
      "Epoch 67/200\n",
      "15/15 - 0s - loss: 0.0227 - accuracy: 0.9778 - val_loss: 1.9721 - val_accuracy: 0.7333\n",
      "Epoch 68/200\n",
      "15/15 - 0s - loss: 0.0329 - accuracy: 1.0000 - val_loss: 2.2575 - val_accuracy: 0.7333\n",
      "Epoch 69/200\n",
      "15/15 - 0s - loss: 0.0505 - accuracy: 0.9778 - val_loss: 2.9345 - val_accuracy: 0.6667\n",
      "Epoch 70/200\n",
      "15/15 - 0s - loss: 0.0863 - accuracy: 0.9778 - val_loss: 2.4615 - val_accuracy: 0.7333\n",
      "Epoch 71/200\n",
      "15/15 - 0s - loss: 0.1172 - accuracy: 0.9333 - val_loss: 3.6795 - val_accuracy: 0.6000\n",
      "Epoch 72/200\n",
      "15/15 - 0s - loss: 0.1258 - accuracy: 0.9556 - val_loss: 5.7806 - val_accuracy: 0.5333\n",
      "Epoch 73/200\n",
      "15/15 - 0s - loss: 0.0500 - accuracy: 0.9778 - val_loss: 3.0759 - val_accuracy: 0.6000\n",
      "Epoch 74/200\n",
      "15/15 - 0s - loss: 0.0120 - accuracy: 1.0000 - val_loss: 2.5139 - val_accuracy: 0.7333\n",
      "Epoch 75/200\n",
      "15/15 - 0s - loss: 0.0231 - accuracy: 1.0000 - val_loss: 2.3858 - val_accuracy: 0.7333\n",
      "Epoch 76/200\n",
      "15/15 - 0s - loss: 0.0595 - accuracy: 0.9778 - val_loss: 2.2018 - val_accuracy: 0.8000\n",
      "Epoch 77/200\n",
      "15/15 - 0s - loss: 0.0300 - accuracy: 0.9778 - val_loss: 2.1051 - val_accuracy: 0.8000\n",
      "Epoch 78/200\n",
      "15/15 - 0s - loss: 0.0300 - accuracy: 0.9778 - val_loss: 2.1872 - val_accuracy: 0.8000\n",
      "Epoch 79/200\n",
      "15/15 - 0s - loss: 0.0050 - accuracy: 1.0000 - val_loss: 2.2661 - val_accuracy: 0.8000\n",
      "Epoch 80/200\n",
      "15/15 - 0s - loss: 0.0067 - accuracy: 1.0000 - val_loss: 2.5273 - val_accuracy: 0.7333\n",
      "Epoch 81/200\n",
      "15/15 - 0s - loss: 0.0875 - accuracy: 0.9778 - val_loss: 2.3134 - val_accuracy: 0.8000\n",
      "Epoch 82/200\n",
      "15/15 - 0s - loss: 0.0089 - accuracy: 1.0000 - val_loss: 2.0153 - val_accuracy: 0.8000\n",
      "Epoch 83/200\n",
      "15/15 - 0s - loss: 0.0079 - accuracy: 1.0000 - val_loss: 2.1510 - val_accuracy: 0.8000\n",
      "Epoch 84/200\n",
      "15/15 - 0s - loss: 0.0715 - accuracy: 0.9778 - val_loss: 2.3442 - val_accuracy: 0.7333\n",
      "Epoch 85/200\n",
      "15/15 - 0s - loss: 0.0259 - accuracy: 1.0000 - val_loss: 2.8264 - val_accuracy: 0.6667\n",
      "Epoch 86/200\n",
      "15/15 - 0s - loss: 0.1162 - accuracy: 0.9333 - val_loss: 2.1350 - val_accuracy: 0.8000\n",
      "Epoch 87/200\n",
      "15/15 - 0s - loss: 0.0140 - accuracy: 1.0000 - val_loss: 2.2841 - val_accuracy: 0.8000\n",
      "Epoch 88/200\n",
      "15/15 - 0s - loss: 0.0280 - accuracy: 0.9778 - val_loss: 2.0691 - val_accuracy: 0.8667\n",
      "Epoch 89/200\n",
      "15/15 - 0s - loss: 0.0098 - accuracy: 1.0000 - val_loss: 2.0618 - val_accuracy: 0.8000\n",
      "Epoch 90/200\n",
      "15/15 - 0s - loss: 0.0117 - accuracy: 1.0000 - val_loss: 2.0729 - val_accuracy: 0.8667\n",
      "Epoch 91/200\n",
      "15/15 - 0s - loss: 0.0037 - accuracy: 1.0000 - val_loss: 2.1690 - val_accuracy: 0.8667\n",
      "Epoch 92/200\n",
      "15/15 - 0s - loss: 0.0178 - accuracy: 1.0000 - val_loss: 2.1622 - val_accuracy: 0.8000\n",
      "Epoch 93/200\n",
      "15/15 - 0s - loss: 0.0280 - accuracy: 0.9778 - val_loss: 2.1692 - val_accuracy: 0.8667\n",
      "Epoch 94/200\n",
      "15/15 - 0s - loss: 0.0627 - accuracy: 0.9778 - val_loss: 2.0431 - val_accuracy: 0.8667\n",
      "Epoch 95/200\n",
      "15/15 - 0s - loss: 0.1345 - accuracy: 0.9778 - val_loss: 2.0071 - val_accuracy: 0.8667\n",
      "Epoch 96/200\n",
      "15/15 - 0s - loss: 0.0172 - accuracy: 1.0000 - val_loss: 2.0766 - val_accuracy: 0.8000\n",
      "Epoch 97/200\n",
      "15/15 - 0s - loss: 0.0061 - accuracy: 1.0000 - val_loss: 2.0587 - val_accuracy: 0.8000\n",
      "Epoch 98/200\n",
      "15/15 - 0s - loss: 0.0648 - accuracy: 0.9556 - val_loss: 2.0044 - val_accuracy: 0.8000\n",
      "Epoch 99/200\n",
      "15/15 - 0s - loss: 0.0083 - accuracy: 1.0000 - val_loss: 1.9728 - val_accuracy: 0.8000\n",
      "Epoch 100/200\n",
      "15/15 - 0s - loss: 0.0207 - accuracy: 1.0000 - val_loss: 2.0776 - val_accuracy: 0.8000\n",
      "Epoch 101/200\n",
      "15/15 - 0s - loss: 0.0027 - accuracy: 1.0000 - val_loss: 2.1342 - val_accuracy: 0.8000\n",
      "Epoch 102/200\n",
      "15/15 - 0s - loss: 0.0065 - accuracy: 1.0000 - val_loss: 2.0575 - val_accuracy: 0.8000\n",
      "Epoch 103/200\n",
      "15/15 - 0s - loss: 0.0055 - accuracy: 1.0000 - val_loss: 1.8984 - val_accuracy: 0.8667\n",
      "Epoch 104/200\n",
      "15/15 - 0s - loss: 0.0264 - accuracy: 0.9778 - val_loss: 1.8654 - val_accuracy: 0.8667\n",
      "Epoch 105/200\n",
      "15/15 - 0s - loss: 0.3277 - accuracy: 0.9111 - val_loss: 2.6694 - val_accuracy: 0.7333\n",
      "Epoch 106/200\n",
      "15/15 - 0s - loss: 0.1083 - accuracy: 0.9778 - val_loss: 3.2620 - val_accuracy: 0.6000\n",
      "Epoch 107/200\n",
      "15/15 - 0s - loss: 0.0108 - accuracy: 1.0000 - val_loss: 2.7233 - val_accuracy: 0.6667\n",
      "Epoch 108/200\n",
      "15/15 - 0s - loss: 0.0091 - accuracy: 1.0000 - val_loss: 2.5328 - val_accuracy: 0.6667\n",
      "Epoch 109/200\n",
      "15/15 - 0s - loss: 0.1562 - accuracy: 0.9111 - val_loss: 3.1490 - val_accuracy: 0.6000\n",
      "Epoch 110/200\n",
      "15/15 - 0s - loss: 0.2532 - accuracy: 0.9333 - val_loss: 2.3133 - val_accuracy: 0.6667\n",
      "Epoch 111/200\n",
      "15/15 - 0s - loss: 0.1540 - accuracy: 0.9556 - val_loss: 1.6246 - val_accuracy: 0.7333\n",
      "Epoch 112/200\n",
      "15/15 - 0s - loss: 0.0518 - accuracy: 1.0000 - val_loss: 1.5178 - val_accuracy: 0.8000\n",
      "Epoch 113/200\n",
      "15/15 - 0s - loss: 0.0266 - accuracy: 1.0000 - val_loss: 1.4813 - val_accuracy: 0.8667\n",
      "Epoch 114/200\n",
      "15/15 - 0s - loss: 0.0238 - accuracy: 0.9778 - val_loss: 1.6200 - val_accuracy: 0.8667\n",
      "Epoch 115/200\n",
      "15/15 - 0s - loss: 0.0243 - accuracy: 0.9778 - val_loss: 1.3129 - val_accuracy: 0.8667\n",
      "Epoch 116/200\n",
      "15/15 - 0s - loss: 0.0181 - accuracy: 1.0000 - val_loss: 1.3254 - val_accuracy: 0.8667\n",
      "Epoch 117/200\n",
      "15/15 - 0s - loss: 0.0259 - accuracy: 0.9778 - val_loss: 1.7122 - val_accuracy: 0.8667\n",
      "Epoch 118/200\n",
      "15/15 - 0s - loss: 0.0066 - accuracy: 1.0000 - val_loss: 1.9353 - val_accuracy: 0.8000\n",
      "Epoch 119/200\n",
      "15/15 - 0s - loss: 0.0047 - accuracy: 1.0000 - val_loss: 1.9967 - val_accuracy: 0.8000\n",
      "Epoch 120/200\n",
      "15/15 - 0s - loss: 0.0035 - accuracy: 1.0000 - val_loss: 2.0783 - val_accuracy: 0.8000\n",
      "Epoch 121/200\n",
      "15/15 - 0s - loss: 0.0026 - accuracy: 1.0000 - val_loss: 2.0779 - val_accuracy: 0.8000\n",
      "Epoch 122/200\n",
      "15/15 - 0s - loss: 0.0141 - accuracy: 1.0000 - val_loss: 2.1254 - val_accuracy: 0.8000\n",
      "Epoch 123/200\n",
      "15/15 - 0s - loss: 0.0273 - accuracy: 1.0000 - val_loss: 1.8958 - val_accuracy: 0.8000\n",
      "Epoch 124/200\n",
      "15/15 - 0s - loss: 0.0043 - accuracy: 1.0000 - val_loss: 1.7426 - val_accuracy: 0.8000\n",
      "Epoch 125/200\n",
      "15/15 - 0s - loss: 0.0021 - accuracy: 1.0000 - val_loss: 1.7688 - val_accuracy: 0.8000\n",
      "Epoch 126/200\n",
      "15/15 - 0s - loss: 0.0016 - accuracy: 1.0000 - val_loss: 1.8027 - val_accuracy: 0.8000\n",
      "Epoch 127/200\n",
      "15/15 - 0s - loss: 0.0189 - accuracy: 0.9778 - val_loss: 1.8326 - val_accuracy: 0.8667\n",
      "Epoch 128/200\n",
      "15/15 - 0s - loss: 0.0083 - accuracy: 1.0000 - val_loss: 1.9059 - val_accuracy: 0.8667\n",
      "Epoch 129/200\n",
      "15/15 - 0s - loss: 0.0557 - accuracy: 0.9778 - val_loss: 1.7868 - val_accuracy: 0.8667\n",
      "Epoch 130/200\n",
      "15/15 - 0s - loss: 0.0623 - accuracy: 0.9778 - val_loss: 1.3629 - val_accuracy: 0.8000\n",
      "Epoch 131/200\n",
      "15/15 - 0s - loss: 0.0051 - accuracy: 1.0000 - val_loss: 3.2110 - val_accuracy: 0.6667\n",
      "Epoch 132/200\n",
      "15/15 - 0s - loss: 0.2679 - accuracy: 0.9111 - val_loss: 1.4842 - val_accuracy: 0.8000\n",
      "Epoch 133/200\n",
      "15/15 - 0s - loss: 0.1613 - accuracy: 0.9333 - val_loss: 1.6282 - val_accuracy: 0.8000\n",
      "Epoch 134/200\n",
      "15/15 - 0s - loss: 0.0524 - accuracy: 0.9778 - val_loss: 2.3462 - val_accuracy: 0.6667\n",
      "Epoch 135/200\n",
      "15/15 - 0s - loss: 0.2108 - accuracy: 0.9111 - val_loss: 1.6881 - val_accuracy: 0.7333\n",
      "Epoch 136/200\n",
      "15/15 - 0s - loss: 0.0151 - accuracy: 1.0000 - val_loss: 2.0959 - val_accuracy: 0.7333\n",
      "Epoch 137/200\n",
      "15/15 - 0s - loss: 0.0065 - accuracy: 1.0000 - val_loss: 2.0974 - val_accuracy: 0.7333\n",
      "Epoch 138/200\n",
      "15/15 - 0s - loss: 0.0530 - accuracy: 0.9778 - val_loss: 1.5713 - val_accuracy: 0.8000\n",
      "Epoch 139/200\n",
      "15/15 - 0s - loss: 0.0160 - accuracy: 1.0000 - val_loss: 1.5455 - val_accuracy: 0.8000\n",
      "Epoch 140/200\n",
      "15/15 - 0s - loss: 0.0185 - accuracy: 1.0000 - val_loss: 1.5780 - val_accuracy: 0.8000\n",
      "Epoch 141/200\n",
      "15/15 - 0s - loss: 0.1129 - accuracy: 0.9778 - val_loss: 2.1000 - val_accuracy: 0.8000\n",
      "Epoch 142/200\n",
      "15/15 - 0s - loss: 0.0057 - accuracy: 1.0000 - val_loss: 2.4661 - val_accuracy: 0.7333\n",
      "Epoch 143/200\n",
      "15/15 - 0s - loss: 0.0205 - accuracy: 1.0000 - val_loss: 2.5393 - val_accuracy: 0.7333\n",
      "Epoch 144/200\n",
      "15/15 - 0s - loss: 0.0116 - accuracy: 1.0000 - val_loss: 2.3934 - val_accuracy: 0.7333\n",
      "Epoch 145/200\n",
      "15/15 - 0s - loss: 0.0015 - accuracy: 1.0000 - val_loss: 2.0277 - val_accuracy: 0.8000\n",
      "Epoch 146/200\n",
      "15/15 - 0s - loss: 0.0984 - accuracy: 0.9778 - val_loss: 2.2179 - val_accuracy: 0.8000\n",
      "Epoch 147/200\n",
      "15/15 - 0s - loss: 0.0043 - accuracy: 1.0000 - val_loss: 3.4204 - val_accuracy: 0.6000\n",
      "Epoch 148/200\n",
      "15/15 - 0s - loss: 0.0310 - accuracy: 0.9778 - val_loss: 2.6968 - val_accuracy: 0.6667\n",
      "Epoch 149/200\n",
      "15/15 - 0s - loss: 0.0378 - accuracy: 0.9778 - val_loss: 2.6456 - val_accuracy: 0.6667\n",
      "Epoch 150/200\n",
      "15/15 - 0s - loss: 0.0068 - accuracy: 1.0000 - val_loss: 3.0030 - val_accuracy: 0.6000\n",
      "Epoch 151/200\n",
      "15/15 - 0s - loss: 0.0495 - accuracy: 0.9778 - val_loss: 1.6600 - val_accuracy: 0.8000\n",
      "Epoch 152/200\n",
      "15/15 - 0s - loss: 0.0392 - accuracy: 0.9778 - val_loss: 1.6470 - val_accuracy: 0.8000\n",
      "Epoch 153/200\n",
      "15/15 - 0s - loss: 0.0080 - accuracy: 1.0000 - val_loss: 1.8320 - val_accuracy: 0.8000\n",
      "Epoch 154/200\n",
      "15/15 - 0s - loss: 0.0112 - accuracy: 1.0000 - val_loss: 1.6479 - val_accuracy: 0.8000\n",
      "Epoch 155/200\n",
      "15/15 - 0s - loss: 0.0491 - accuracy: 0.9778 - val_loss: 1.4511 - val_accuracy: 0.8000\n",
      "Epoch 156/200\n",
      "15/15 - 0s - loss: 0.0279 - accuracy: 0.9778 - val_loss: 1.6924 - val_accuracy: 0.8000\n",
      "Epoch 157/200\n",
      "15/15 - 0s - loss: 0.3677 - accuracy: 0.9333 - val_loss: 1.3584 - val_accuracy: 0.8000\n",
      "Epoch 158/200\n",
      "15/15 - 0s - loss: 0.0740 - accuracy: 0.9556 - val_loss: 1.6100 - val_accuracy: 0.8000\n",
      "Epoch 159/200\n",
      "15/15 - 0s - loss: 0.0043 - accuracy: 1.0000 - val_loss: 1.6348 - val_accuracy: 0.8000\n",
      "Epoch 160/200\n",
      "15/15 - 0s - loss: 0.0433 - accuracy: 0.9778 - val_loss: 1.4310 - val_accuracy: 0.8000\n",
      "Epoch 161/200\n",
      "15/15 - 0s - loss: 0.0425 - accuracy: 0.9778 - val_loss: 1.4655 - val_accuracy: 0.8000\n",
      "Epoch 162/200\n",
      "15/15 - 0s - loss: 0.0031 - accuracy: 1.0000 - val_loss: 1.7853 - val_accuracy: 0.8000\n",
      "Epoch 163/200\n",
      "15/15 - 0s - loss: 0.0021 - accuracy: 1.0000 - val_loss: 1.8904 - val_accuracy: 0.8000\n",
      "Epoch 164/200\n",
      "15/15 - 0s - loss: 0.0237 - accuracy: 0.9778 - val_loss: 1.9827 - val_accuracy: 0.8000\n",
      "Epoch 165/200\n",
      "15/15 - 0s - loss: 0.0038 - accuracy: 1.0000 - val_loss: 1.9151 - val_accuracy: 0.8000\n",
      "Epoch 166/200\n",
      "15/15 - 0s - loss: 0.0531 - accuracy: 0.9778 - val_loss: 1.9401 - val_accuracy: 0.8000\n",
      "Epoch 167/200\n",
      "15/15 - 0s - loss: 0.1027 - accuracy: 0.9778 - val_loss: 2.1898 - val_accuracy: 0.8000\n",
      "Epoch 168/200\n",
      "15/15 - 0s - loss: 0.0941 - accuracy: 0.9556 - val_loss: 1.5602 - val_accuracy: 0.8000\n",
      "Epoch 169/200\n",
      "15/15 - 0s - loss: 0.0117 - accuracy: 1.0000 - val_loss: 0.9919 - val_accuracy: 0.8000\n",
      "Epoch 170/200\n",
      "15/15 - 0s - loss: 0.1156 - accuracy: 0.9556 - val_loss: 1.1774 - val_accuracy: 0.8000\n",
      "Epoch 171/200\n",
      "15/15 - 0s - loss: 0.0120 - accuracy: 1.0000 - val_loss: 1.4237 - val_accuracy: 0.7333\n",
      "Epoch 172/200\n",
      "15/15 - 0s - loss: 0.0186 - accuracy: 1.0000 - val_loss: 1.4884 - val_accuracy: 0.7333\n",
      "Epoch 173/200\n",
      "15/15 - 0s - loss: 0.0112 - accuracy: 1.0000 - val_loss: 1.3173 - val_accuracy: 0.7333\n",
      "Epoch 174/200\n",
      "15/15 - 0s - loss: 0.0139 - accuracy: 1.0000 - val_loss: 1.3114 - val_accuracy: 0.8000\n",
      "Epoch 175/200\n",
      "15/15 - 0s - loss: 0.0108 - accuracy: 1.0000 - val_loss: 1.3471 - val_accuracy: 0.7333\n",
      "Epoch 176/200\n",
      "15/15 - 0s - loss: 8.5049e-04 - accuracy: 1.0000 - val_loss: 1.3731 - val_accuracy: 0.8000\n",
      "Epoch 177/200\n",
      "15/15 - 0s - loss: 0.0497 - accuracy: 0.9778 - val_loss: 1.4159 - val_accuracy: 0.8000\n",
      "Epoch 178/200\n",
      "15/15 - 0s - loss: 0.0029 - accuracy: 1.0000 - val_loss: 1.4260 - val_accuracy: 0.8000\n",
      "Epoch 179/200\n",
      "15/15 - 0s - loss: 0.0104 - accuracy: 1.0000 - val_loss: 1.5791 - val_accuracy: 0.8000\n",
      "Epoch 180/200\n",
      "15/15 - 0s - loss: 0.0066 - accuracy: 1.0000 - val_loss: 1.5578 - val_accuracy: 0.8000\n",
      "Epoch 181/200\n",
      "15/15 - 0s - loss: 0.0016 - accuracy: 1.0000 - val_loss: 1.5627 - val_accuracy: 0.8000\n",
      "Epoch 182/200\n",
      "15/15 - 0s - loss: 0.0029 - accuracy: 1.0000 - val_loss: 1.5340 - val_accuracy: 0.8000\n",
      "Epoch 183/200\n",
      "15/15 - 0s - loss: 0.0441 - accuracy: 0.9778 - val_loss: 2.0867 - val_accuracy: 0.8000\n",
      "Epoch 184/200\n",
      "15/15 - 0s - loss: 0.0028 - accuracy: 1.0000 - val_loss: 2.2158 - val_accuracy: 0.8000\n",
      "Epoch 185/200\n",
      "15/15 - 0s - loss: 0.0028 - accuracy: 1.0000 - val_loss: 2.2621 - val_accuracy: 0.7333\n",
      "Epoch 186/200\n",
      "15/15 - 0s - loss: 0.0020 - accuracy: 1.0000 - val_loss: 2.2604 - val_accuracy: 0.7333\n",
      "Epoch 187/200\n",
      "15/15 - 0s - loss: 0.0567 - accuracy: 0.9778 - val_loss: 2.2242 - val_accuracy: 0.7333\n",
      "Epoch 188/200\n",
      "15/15 - 0s - loss: 0.0091 - accuracy: 1.0000 - val_loss: 2.3141 - val_accuracy: 0.7333\n",
      "Epoch 189/200\n",
      "15/15 - 0s - loss: 0.0017 - accuracy: 1.0000 - val_loss: 2.3691 - val_accuracy: 0.7333\n",
      "Epoch 190/200\n",
      "15/15 - 0s - loss: 0.0192 - accuracy: 0.9778 - val_loss: 2.2977 - val_accuracy: 0.7333\n",
      "Epoch 191/200\n",
      "15/15 - 0s - loss: 0.0839 - accuracy: 0.9556 - val_loss: 2.0409 - val_accuracy: 0.7333\n",
      "Epoch 192/200\n",
      "15/15 - 0s - loss: 2.9793e-04 - accuracy: 1.0000 - val_loss: 2.2006 - val_accuracy: 0.7333\n",
      "Epoch 193/200\n",
      "15/15 - 0s - loss: 0.0593 - accuracy: 0.9778 - val_loss: 2.4399 - val_accuracy: 0.7333\n",
      "Epoch 194/200\n",
      "15/15 - 0s - loss: 0.0934 - accuracy: 0.9778 - val_loss: 2.0487 - val_accuracy: 0.7333\n",
      "Epoch 195/200\n",
      "15/15 - 0s - loss: 0.0156 - accuracy: 1.0000 - val_loss: 2.4991 - val_accuracy: 0.7333\n",
      "Epoch 196/200\n",
      "15/15 - 0s - loss: 0.0023 - accuracy: 1.0000 - val_loss: 2.6812 - val_accuracy: 0.6667\n",
      "Epoch 197/200\n",
      "15/15 - 0s - loss: 0.0064 - accuracy: 1.0000 - val_loss: 2.3995 - val_accuracy: 0.7333\n",
      "Epoch 198/200\n",
      "15/15 - 0s - loss: 0.0541 - accuracy: 0.9778 - val_loss: 2.6801 - val_accuracy: 0.7333\n",
      "Epoch 199/200\n",
      "15/15 - 0s - loss: 0.0108 - accuracy: 1.0000 - val_loss: 2.0739 - val_accuracy: 0.7333\n",
      "Epoch 200/200\n",
      "15/15 - 0s - loss: 0.0082 - accuracy: 1.0000 - val_loss: 2.7955 - val_accuracy: 0.7333\n"
     ]
    },
    {
     "data": {
      "text/plain": [
       "<tensorflow.python.keras.callbacks.History at 0x1b70b1d2ca0>"
      ]
     },
     "execution_count": 15,
     "metadata": {},
     "output_type": "execute_result"
    }
   ],
   "source": [
    "model.fit(\r\n",
    "        train_generator,\r\n",
    "        steps_per_epoch=15,                   \r\n",
    "        epochs=200,\r\n",
    "        verbose=2,\r\n",
    "        validation_data=test_generator,\r\n",
    "        validation_steps=5)"
   ]
  },
  {
   "cell_type": "markdown",
   "metadata": {},
   "source": [
    "### 모델 평가"
   ]
  },
  {
   "cell_type": "code",
   "execution_count": 16,
   "metadata": {},
   "outputs": [
    {
     "name": "stdout",
     "output_type": "stream",
     "text": [
      "5/5 [==============================] - 0s 2ms/step - loss: 2.7955 - accuracy: 0.7333\n"
     ]
    },
    {
     "data": {
      "text/plain": [
       "[2.7954771518707275, 0.7333333492279053]"
      ]
     },
     "execution_count": 16,
     "metadata": {},
     "output_type": "execute_result"
    }
   ],
   "source": [
    "model.evaluate(test_generator, steps=5)"
   ]
  }
 ],
 "metadata": {
  "interpreter": {
   "hash": "8c1eae21719a0790335dcb83aad72b63b602cfe5cdb2bda0f60bc11d4f154e4b"
  },
  "kernelspec": {
   "display_name": "Python 3.8.5 64-bit ('base': conda)",
   "name": "python3"
  },
  "language_info": {
   "name": "python",
   "version": ""
  },
  "orig_nbformat": 4
 },
 "nbformat": 4,
 "nbformat_minor": 2
}