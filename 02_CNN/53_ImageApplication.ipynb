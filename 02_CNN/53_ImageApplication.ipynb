{
 "cells": [
  {
   "cell_type": "markdown",
   "metadata": {},
   "source": [
    "# Keras Application 응용"
   ]
  },
  {
   "cell_type": "code",
   "execution_count": 1,
   "metadata": {},
   "outputs": [],
   "source": [
    "import numpy as np\r\n",
    "import pandas as pd\r\n",
    "from PIL import Image\r\n",
    "import matplotlib.pyplot as plt\r\n",
    "%matplotlib inline "
   ]
  },
  {
   "cell_type": "markdown",
   "metadata": {},
   "source": [
    "### 데이터 정답 리스트 만들기"
   ]
  },
  {
   "cell_type": "code",
   "execution_count": 2,
   "metadata": {},
   "outputs": [
    {
     "data": {
      "text/plain": [
       "['alligator',\n",
       " 'eagle',\n",
       " 'elephant',\n",
       " 'lion',\n",
       " 'panda',\n",
       " 'parrot',\n",
       " 'rabbit',\n",
       " 'rat',\n",
       " 'sparrow',\n",
       " 'tiger',\n",
       " 'zebra']"
      ]
     },
     "execution_count": 2,
     "metadata": {},
     "output_type": "execute_result"
    }
   ],
   "source": [
    "from glob import glob\r\n",
    "\r\n",
    "name_list = []\r\n",
    "\r\n",
    "for names in glob('animals/*'):\r\n",
    "    name = names.split('\\\\')[1].split(\".\")[0]\r\n",
    "    name_list.append(name)\r\n",
    "\r\n",
    "name_list"
   ]
  },
  {
   "cell_type": "markdown",
   "metadata": {},
   "source": [
    "### 사용할 모델들 불러오기 \r\n",
    "\r\n"
   ]
  },
  {
   "cell_type": "markdown",
   "metadata": {},
   "source": [
    "### VGG 16"
   ]
  },
  {
   "cell_type": "code",
   "execution_count": 3,
   "metadata": {},
   "outputs": [],
   "source": [
    "from tensorflow.keras.applications.vgg16 import VGG16, decode_predictions\r\n",
    "vgg16 = VGG16()"
   ]
  },
  {
   "cell_type": "code",
   "execution_count": 4,
   "metadata": {},
   "outputs": [
    {
     "name": "stdout",
     "output_type": "stream",
     "text": [
      "['frilled_lizard', 'kite', 'African_elephant', 'lion', 'giant_panda', 'macaw', 'hare', 'hamster', 'water_ouzel', 'zebra', 'zebra']\n"
     ]
    }
   ],
   "source": [
    "vgg16_list = []\r\n",
    "\r\n",
    "for file in glob('animals/*'):\r\n",
    "    img = np.array(Image.open(file).resize((224,224)))\r\n",
    "    yhat = vgg16.predict(img.reshape(-1,224,224,3))\r\n",
    "    label = decode_predictions(yhat)\r\n",
    "    vgg16_list.append(label[0][0][1])\r\n",
    "\r\n",
    "print(vgg16_list)"
   ]
  },
  {
   "cell_type": "markdown",
   "metadata": {},
   "source": [
    "### VGG19"
   ]
  },
  {
   "cell_type": "code",
   "execution_count": 5,
   "metadata": {},
   "outputs": [],
   "source": [
    "from tensorflow.keras.applications.vgg19 import VGG19, decode_predictions\r\n",
    "vgg19 = VGG19()"
   ]
  },
  {
   "cell_type": "code",
   "execution_count": 6,
   "metadata": {},
   "outputs": [
    {
     "name": "stdout",
     "output_type": "stream",
     "text": [
      "['frilled_lizard', 'kite', 'African_elephant', 'lion', 'giant_panda', 'macaw', 'hare', 'hamster', 'water_ouzel', 'tiger', 'zebra']\n"
     ]
    }
   ],
   "source": [
    "vgg19_list = []\r\n",
    "\r\n",
    "for file in glob('animals/*'):\r\n",
    "    img = np.array(Image.open(file).resize((224,224)))\r\n",
    "    yhat = vgg19.predict(img.reshape(-1,224,224,3))\r\n",
    "    label = decode_predictions(yhat)\r\n",
    "    vgg19_list.append(label[0][0][1])\r\n",
    "\r\n",
    "print(vgg19_list)"
   ]
  },
  {
   "cell_type": "markdown",
   "metadata": {},
   "source": [
    "### ResNet 50"
   ]
  },
  {
   "cell_type": "code",
   "execution_count": 7,
   "metadata": {},
   "outputs": [],
   "source": [
    "from tensorflow.keras.applications.resnet50 import ResNet50, decode_predictions\r\n",
    "resnet50 = ResNet50()"
   ]
  },
  {
   "cell_type": "code",
   "execution_count": 8,
   "metadata": {},
   "outputs": [
    {
     "name": "stdout",
     "output_type": "stream",
     "text": [
      "['scorpion', 'kite', 'African_elephant', 'lion', 'giant_panda', 'macaw', 'wood_rabbit', 'hare', 'brambling', 'tiger', 'zebra']\n"
     ]
    }
   ],
   "source": [
    "resnet50_list = []\r\n",
    "\r\n",
    "for file in glob('animals/*'):\r\n",
    "    img = np.array(Image.open(file).resize((224,224)))\r\n",
    "    yhat = resnet50.predict(img.reshape(-1,224,224,3))\r\n",
    "    label = decode_predictions(yhat)\r\n",
    "    resnet50_list.append(label[0][0][1])\r\n",
    "\r\n",
    "print(resnet50_list)"
   ]
  },
  {
   "cell_type": "markdown",
   "metadata": {},
   "source": [
    "### ResNet101"
   ]
  },
  {
   "cell_type": "code",
   "execution_count": 9,
   "metadata": {},
   "outputs": [],
   "source": [
    "from tensorflow.keras.applications.resnet import ResNet101, decode_predictions\r\n",
    "resnet101 = ResNet101()"
   ]
  },
  {
   "cell_type": "code",
   "execution_count": 10,
   "metadata": {},
   "outputs": [
    {
     "name": "stdout",
     "output_type": "stream",
     "text": [
      "['frilled_lizard', 'kite', 'African_elephant', 'tiger', 'giant_panda', 'lorikeet', 'wood_rabbit', 'hamster', 'water_ouzel', 'tiger', 'zebra']\n"
     ]
    }
   ],
   "source": [
    "resnet101_list = []\r\n",
    "\r\n",
    "for file in glob('animals/*'):\r\n",
    "    img = np.array(Image.open(file).resize((224,224)))\r\n",
    "    yhat = resnet101.predict(img.reshape(-1,224,224,3))\r\n",
    "    label = decode_predictions(yhat)\r\n",
    "    resnet101_list.append(label[0][0][1])\r\n",
    "\r\n",
    "print(resnet101_list)"
   ]
  },
  {
   "cell_type": "markdown",
   "metadata": {},
   "source": [
    "### 데이터 프레임으로 합치기"
   ]
  },
  {
   "cell_type": "code",
   "execution_count": 11,
   "metadata": {},
   "outputs": [
    {
     "data": {
      "text/html": [
       "<div>\n",
       "<style scoped>\n",
       "    .dataframe tbody tr th:only-of-type {\n",
       "        vertical-align: middle;\n",
       "    }\n",
       "\n",
       "    .dataframe tbody tr th {\n",
       "        vertical-align: top;\n",
       "    }\n",
       "\n",
       "    .dataframe thead th {\n",
       "        text-align: right;\n",
       "    }\n",
       "</style>\n",
       "<table border=\"1\" class=\"dataframe\">\n",
       "  <thead>\n",
       "    <tr style=\"text-align: right;\">\n",
       "      <th></th>\n",
       "      <th>Original</th>\n",
       "      <th>VGG16</th>\n",
       "      <th>VGG19</th>\n",
       "      <th>ResNet50</th>\n",
       "      <th>ResNet101</th>\n",
       "    </tr>\n",
       "  </thead>\n",
       "  <tbody>\n",
       "    <tr>\n",
       "      <th>0</th>\n",
       "      <td>alligator</td>\n",
       "      <td>frilled_lizard</td>\n",
       "      <td>frilled_lizard</td>\n",
       "      <td>scorpion</td>\n",
       "      <td>frilled_lizard</td>\n",
       "    </tr>\n",
       "    <tr>\n",
       "      <th>1</th>\n",
       "      <td>eagle</td>\n",
       "      <td>kite</td>\n",
       "      <td>kite</td>\n",
       "      <td>kite</td>\n",
       "      <td>kite</td>\n",
       "    </tr>\n",
       "    <tr>\n",
       "      <th>2</th>\n",
       "      <td>elephant</td>\n",
       "      <td>African_elephant</td>\n",
       "      <td>African_elephant</td>\n",
       "      <td>African_elephant</td>\n",
       "      <td>African_elephant</td>\n",
       "    </tr>\n",
       "    <tr>\n",
       "      <th>3</th>\n",
       "      <td>lion</td>\n",
       "      <td>lion</td>\n",
       "      <td>lion</td>\n",
       "      <td>lion</td>\n",
       "      <td>tiger</td>\n",
       "    </tr>\n",
       "    <tr>\n",
       "      <th>4</th>\n",
       "      <td>panda</td>\n",
       "      <td>giant_panda</td>\n",
       "      <td>giant_panda</td>\n",
       "      <td>giant_panda</td>\n",
       "      <td>giant_panda</td>\n",
       "    </tr>\n",
       "    <tr>\n",
       "      <th>5</th>\n",
       "      <td>parrot</td>\n",
       "      <td>macaw</td>\n",
       "      <td>macaw</td>\n",
       "      <td>macaw</td>\n",
       "      <td>lorikeet</td>\n",
       "    </tr>\n",
       "    <tr>\n",
       "      <th>6</th>\n",
       "      <td>rabbit</td>\n",
       "      <td>hare</td>\n",
       "      <td>hare</td>\n",
       "      <td>wood_rabbit</td>\n",
       "      <td>wood_rabbit</td>\n",
       "    </tr>\n",
       "    <tr>\n",
       "      <th>7</th>\n",
       "      <td>rat</td>\n",
       "      <td>hamster</td>\n",
       "      <td>hamster</td>\n",
       "      <td>hare</td>\n",
       "      <td>hamster</td>\n",
       "    </tr>\n",
       "    <tr>\n",
       "      <th>8</th>\n",
       "      <td>sparrow</td>\n",
       "      <td>water_ouzel</td>\n",
       "      <td>water_ouzel</td>\n",
       "      <td>brambling</td>\n",
       "      <td>water_ouzel</td>\n",
       "    </tr>\n",
       "    <tr>\n",
       "      <th>9</th>\n",
       "      <td>tiger</td>\n",
       "      <td>zebra</td>\n",
       "      <td>tiger</td>\n",
       "      <td>tiger</td>\n",
       "      <td>tiger</td>\n",
       "    </tr>\n",
       "    <tr>\n",
       "      <th>10</th>\n",
       "      <td>zebra</td>\n",
       "      <td>zebra</td>\n",
       "      <td>zebra</td>\n",
       "      <td>zebra</td>\n",
       "      <td>zebra</td>\n",
       "    </tr>\n",
       "  </tbody>\n",
       "</table>\n",
       "</div>"
      ],
      "text/plain": [
       "     Original             VGG16             VGG19          ResNet50  \\\n",
       "0   alligator    frilled_lizard    frilled_lizard          scorpion   \n",
       "1       eagle              kite              kite              kite   \n",
       "2    elephant  African_elephant  African_elephant  African_elephant   \n",
       "3        lion              lion              lion              lion   \n",
       "4       panda       giant_panda       giant_panda       giant_panda   \n",
       "5      parrot             macaw             macaw             macaw   \n",
       "6      rabbit              hare              hare       wood_rabbit   \n",
       "7         rat           hamster           hamster              hare   \n",
       "8     sparrow       water_ouzel       water_ouzel         brambling   \n",
       "9       tiger             zebra             tiger             tiger   \n",
       "10      zebra             zebra             zebra             zebra   \n",
       "\n",
       "           ResNet101  \n",
       "0     frilled_lizard  \n",
       "1               kite  \n",
       "2   African_elephant  \n",
       "3              tiger  \n",
       "4        giant_panda  \n",
       "5           lorikeet  \n",
       "6        wood_rabbit  \n",
       "7            hamster  \n",
       "8        water_ouzel  \n",
       "9              tiger  \n",
       "10             zebra  "
      ]
     },
     "execution_count": 11,
     "metadata": {},
     "output_type": "execute_result"
    }
   ],
   "source": [
    "result = pd.DataFrame({\r\n",
    "    'Original' : name_list,\r\n",
    "    'VGG16' : vgg16_list,\r\n",
    "    'VGG19' : vgg19_list,\r\n",
    "    'ResNet50' : resnet50_list,\r\n",
    "    'ResNet101' : resnet101_list\r\n",
    "})\r\n",
    "\r\n",
    "result"
   ]
  },
  {
   "cell_type": "markdown",
   "metadata": {},
   "source": []
  }
 ],
 "metadata": {
  "interpreter": {
   "hash": "8c1eae21719a0790335dcb83aad72b63b602cfe5cdb2bda0f60bc11d4f154e4b"
  },
  "kernelspec": {
   "display_name": "Python 3.8.5 64-bit ('base': conda)",
   "name": "python3"
  },
  "language_info": {
   "codemirror_mode": {
    "name": "ipython",
    "version": 3
   },
   "file_extension": ".py",
   "mimetype": "text/x-python",
   "name": "python",
   "nbconvert_exporter": "python",
   "pygments_lexer": "ipython3",
   "version": "3.8.5"
  },
  "orig_nbformat": 4
 },
 "nbformat": 4,
 "nbformat_minor": 2
}