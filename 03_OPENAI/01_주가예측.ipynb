{
  "nbformat": 4,
  "nbformat_minor": 0,
  "metadata": {
    "interpreter": {
      "hash": "8c1eae21719a0790335dcb83aad72b63b602cfe5cdb2bda0f60bc11d4f154e4b"
    },
    "kernelspec": {
      "display_name": "Python 3.8.5 64-bit ('base': conda)",
      "name": "python3"
    },
    "language_info": {
      "codemirror_mode": {
        "name": "ipython",
        "version": 3
      },
      "file_extension": ".py",
      "mimetype": "text/x-python",
      "name": "python",
      "nbconvert_exporter": "python",
      "pygments_lexer": "ipython3",
      "version": "3.8.5"
    },
    "orig_nbformat": 4,
    "colab": {
      "name": "01_주가예측.ipynb",
      "provenance": [],
      "collapsed_sections": []
    }
  },
  "cells": [
    {
      "cell_type": "markdown",
      "metadata": {
        "id": "Qxxh-cYVguvN"
      },
      "source": [
        "# 시계열 데이터 예측 - 주식데이터를 가지고\n",
        "\n",
        "프로그램 설치  \n",
        "- conda install pandas-datareader  \n",
        "- conda install -c conda-forge\n",
        "- conda install plotly  \n",
        "- conda install -c conda-forge fbprophet"
      ]
    },
    {
      "cell_type": "code",
      "metadata": {
        "id": "yfj6ryCYguvU"
      },
      "source": [
        "import numpy as np\n",
        "import pandas as pd\n",
        "import matplotlib.pyplot as plt\n",
        "import matplotlib as mpl\n",
        "\n",
        "mpl.rcParams['axes.unicode_minus'] = False \n",
        "plt.rcParams[\"font.family\"] = 'Malgun Gothic'\n",
        "\n",
        "%matplotlib inline"
      ],
      "execution_count": null,
      "outputs": []
    },
    {
      "cell_type": "code",
      "metadata": {
        "id": "jsXQbUILguvU"
      },
      "source": [
        "import warnings\n",
        "warnings.filterwarnings('ignore')"
      ],
      "execution_count": null,
      "outputs": []
    },
    {
      "cell_type": "code",
      "metadata": {
        "colab": {
          "base_uri": "https://localhost:8080/"
        },
        "id": "23HxMJhGg3Lv",
        "outputId": "c6821de3-2a8c-45c6-e3db-b58719dd611b"
      },
      "source": [
        "! pip install yfinance"
      ],
      "execution_count": null,
      "outputs": [
        {
          "output_type": "stream",
          "text": [
            "Collecting yfinance\n",
            "  Downloading https://files.pythonhosted.org/packages/a7/ee/315752b9ef281ba83c62aa7ec2e2074f85223da6e7e74efb4d3e11c0f510/yfinance-0.1.59.tar.gz\n",
            "Requirement already satisfied: pandas>=0.24 in /usr/local/lib/python3.7/dist-packages (from yfinance) (1.1.5)\n",
            "Requirement already satisfied: numpy>=1.15 in /usr/local/lib/python3.7/dist-packages (from yfinance) (1.19.5)\n",
            "Requirement already satisfied: requests>=2.20 in /usr/local/lib/python3.7/dist-packages (from yfinance) (2.23.0)\n",
            "Requirement already satisfied: multitasking>=0.0.7 in /usr/local/lib/python3.7/dist-packages (from yfinance) (0.0.9)\n",
            "Collecting lxml>=4.5.1\n",
            "\u001b[?25l  Downloading https://files.pythonhosted.org/packages/30/c0/d0526314971fc661b083ab135747dc68446a3022686da8c16d25fcf6ef07/lxml-4.6.3-cp37-cp37m-manylinux2014_x86_64.whl (6.3MB)\n",
            "\u001b[K     |████████████████████████████████| 6.3MB 6.8MB/s \n",
            "\u001b[?25hRequirement already satisfied: python-dateutil>=2.7.3 in /usr/local/lib/python3.7/dist-packages (from pandas>=0.24->yfinance) (2.8.1)\n",
            "Requirement already satisfied: pytz>=2017.2 in /usr/local/lib/python3.7/dist-packages (from pandas>=0.24->yfinance) (2018.9)\n",
            "Requirement already satisfied: urllib3!=1.25.0,!=1.25.1,<1.26,>=1.21.1 in /usr/local/lib/python3.7/dist-packages (from requests>=2.20->yfinance) (1.24.3)\n",
            "Requirement already satisfied: chardet<4,>=3.0.2 in /usr/local/lib/python3.7/dist-packages (from requests>=2.20->yfinance) (3.0.4)\n",
            "Requirement already satisfied: idna<3,>=2.5 in /usr/local/lib/python3.7/dist-packages (from requests>=2.20->yfinance) (2.10)\n",
            "Requirement already satisfied: certifi>=2017.4.17 in /usr/local/lib/python3.7/dist-packages (from requests>=2.20->yfinance) (2021.5.30)\n",
            "Requirement already satisfied: six>=1.5 in /usr/local/lib/python3.7/dist-packages (from python-dateutil>=2.7.3->pandas>=0.24->yfinance) (1.15.0)\n",
            "Building wheels for collected packages: yfinance\n",
            "  Building wheel for yfinance (setup.py) ... \u001b[?25l\u001b[?25hdone\n",
            "  Created wheel for yfinance: filename=yfinance-0.1.59-py2.py3-none-any.whl size=23455 sha256=32f4743a12e2e98c7702f643870e281a2220e6a251319eb1f0cf04433ede97b4\n",
            "  Stored in directory: /root/.cache/pip/wheels/f8/2a/0f/4b5a86e1d52e451757eb6bc17fd899629f0925c777741b6d04\n",
            "Successfully built yfinance\n",
            "Installing collected packages: lxml, yfinance\n",
            "  Found existing installation: lxml 4.2.6\n",
            "    Uninstalling lxml-4.2.6:\n",
            "      Successfully uninstalled lxml-4.2.6\n",
            "Successfully installed lxml-4.6.3 yfinance-0.1.59\n"
          ],
          "name": "stdout"
        }
      ]
    },
    {
      "cell_type": "code",
      "metadata": {
        "id": "zDb9voliguvV"
      },
      "source": [
        "from datetime import datetime\n",
        "from fbprophet import Prophet\n",
        "import pandas_datareader as pdr\n",
        "import yfinance as yf"
      ],
      "execution_count": null,
      "outputs": []
    },
    {
      "cell_type": "markdown",
      "metadata": {
        "id": "9dyxZAYJguvV"
      },
      "source": [
        "## 주가 데이터 가져오기  \n",
        "- 나스닥 QQQ"
      ]
    },
    {
      "cell_type": "code",
      "metadata": {
        "id": "f8wm2aIYguvV"
      },
      "source": [
        "start = datetime(2015,1,1)      # 2015년 1월 1일부터 \n",
        "end = datetime(2021,6,30)        # 2021년 6월 30일까지"
      ],
      "execution_count": null,
      "outputs": []
    },
    {
      "cell_type": "code",
      "metadata": {
        "colab": {
          "base_uri": "https://localhost:8080/",
          "height": 251
        },
        "id": "5Quc08vZguvW",
        "outputId": "199688da-efa7-473e-8352-13305e4217b2"
      },
      "source": [
        "# 지금 안됨\n",
        "# qqq = pdr.get_data_yahoo('QQQ',start=start,end=end)\n",
        "# qqq = pdr.DataReader('QQQ',data_source='yahoo',start = '2015-01-01',end = '2021-06-30') \n",
        "qqq = yf.download('QQQ',start=start)\n",
        "qqq.tail()"
      ],
      "execution_count": null,
      "outputs": [
        {
          "output_type": "stream",
          "text": [
            "\r[*********************100%***********************]  1 of 1 completed\n"
          ],
          "name": "stdout"
        },
        {
          "output_type": "execute_result",
          "data": {
            "text/html": [
              "<div>\n",
              "<style scoped>\n",
              "    .dataframe tbody tr th:only-of-type {\n",
              "        vertical-align: middle;\n",
              "    }\n",
              "\n",
              "    .dataframe tbody tr th {\n",
              "        vertical-align: top;\n",
              "    }\n",
              "\n",
              "    .dataframe thead th {\n",
              "        text-align: right;\n",
              "    }\n",
              "</style>\n",
              "<table border=\"1\" class=\"dataframe\">\n",
              "  <thead>\n",
              "    <tr style=\"text-align: right;\">\n",
              "      <th></th>\n",
              "      <th>Open</th>\n",
              "      <th>High</th>\n",
              "      <th>Low</th>\n",
              "      <th>Close</th>\n",
              "      <th>Adj Close</th>\n",
              "      <th>Volume</th>\n",
              "    </tr>\n",
              "    <tr>\n",
              "      <th>Date</th>\n",
              "      <th></th>\n",
              "      <th></th>\n",
              "      <th></th>\n",
              "      <th></th>\n",
              "      <th></th>\n",
              "      <th></th>\n",
              "    </tr>\n",
              "  </thead>\n",
              "  <tbody>\n",
              "    <tr>\n",
              "      <th>2021-06-25</th>\n",
              "      <td>350.470001</td>\n",
              "      <td>350.720001</td>\n",
              "      <td>348.839996</td>\n",
              "      <td>349.459991</td>\n",
              "      <td>349.459991</td>\n",
              "      <td>28682800</td>\n",
              "    </tr>\n",
              "    <tr>\n",
              "      <th>2021-06-28</th>\n",
              "      <td>350.779999</td>\n",
              "      <td>353.850006</td>\n",
              "      <td>350.720001</td>\n",
              "      <td>353.709991</td>\n",
              "      <td>353.709991</td>\n",
              "      <td>39130300</td>\n",
              "    </tr>\n",
              "    <tr>\n",
              "      <th>2021-06-29</th>\n",
              "      <td>353.529999</td>\n",
              "      <td>355.019989</td>\n",
              "      <td>352.670013</td>\n",
              "      <td>354.989990</td>\n",
              "      <td>354.989990</td>\n",
              "      <td>29426000</td>\n",
              "    </tr>\n",
              "    <tr>\n",
              "      <th>2021-06-30</th>\n",
              "      <td>354.829987</td>\n",
              "      <td>355.230011</td>\n",
              "      <td>353.829987</td>\n",
              "      <td>354.429993</td>\n",
              "      <td>354.429993</td>\n",
              "      <td>32724000</td>\n",
              "    </tr>\n",
              "    <tr>\n",
              "      <th>2021-07-01</th>\n",
              "      <td>354.070007</td>\n",
              "      <td>355.089996</td>\n",
              "      <td>352.679993</td>\n",
              "      <td>354.570007</td>\n",
              "      <td>354.570007</td>\n",
              "      <td>29262900</td>\n",
              "    </tr>\n",
              "  </tbody>\n",
              "</table>\n",
              "</div>"
            ],
            "text/plain": [
              "                  Open        High  ...   Adj Close    Volume\n",
              "Date                                ...                      \n",
              "2021-06-25  350.470001  350.720001  ...  349.459991  28682800\n",
              "2021-06-28  350.779999  353.850006  ...  353.709991  39130300\n",
              "2021-06-29  353.529999  355.019989  ...  354.989990  29426000\n",
              "2021-06-30  354.829987  355.230011  ...  354.429993  32724000\n",
              "2021-07-01  354.070007  355.089996  ...  354.570007  29262900\n",
              "\n",
              "[5 rows x 6 columns]"
            ]
          },
          "metadata": {
            "tags": []
          },
          "execution_count": 7
        }
      ]
    },
    {
      "cell_type": "code",
      "metadata": {
        "colab": {
          "base_uri": "https://localhost:8080/",
          "height": 251
        },
        "id": "TrVw8lURguvX",
        "outputId": "4228a296-1bf3-47de-9d77-5ce1b7106077"
      },
      "source": [
        "# 삼성전자의 경우 - 코드 + .KS(한국종목이라서)\n",
        "sse = yf.download('005930.KS',start=start)\n",
        "sse.tail()"
      ],
      "execution_count": null,
      "outputs": [
        {
          "output_type": "stream",
          "text": [
            "\r[*********************100%***********************]  1 of 1 completed\n"
          ],
          "name": "stdout"
        },
        {
          "output_type": "execute_result",
          "data": {
            "text/html": [
              "<div>\n",
              "<style scoped>\n",
              "    .dataframe tbody tr th:only-of-type {\n",
              "        vertical-align: middle;\n",
              "    }\n",
              "\n",
              "    .dataframe tbody tr th {\n",
              "        vertical-align: top;\n",
              "    }\n",
              "\n",
              "    .dataframe thead th {\n",
              "        text-align: right;\n",
              "    }\n",
              "</style>\n",
              "<table border=\"1\" class=\"dataframe\">\n",
              "  <thead>\n",
              "    <tr style=\"text-align: right;\">\n",
              "      <th></th>\n",
              "      <th>Open</th>\n",
              "      <th>High</th>\n",
              "      <th>Low</th>\n",
              "      <th>Close</th>\n",
              "      <th>Adj Close</th>\n",
              "      <th>Volume</th>\n",
              "    </tr>\n",
              "    <tr>\n",
              "      <th>Date</th>\n",
              "      <th></th>\n",
              "      <th></th>\n",
              "      <th></th>\n",
              "      <th></th>\n",
              "      <th></th>\n",
              "      <th></th>\n",
              "    </tr>\n",
              "  </thead>\n",
              "  <tbody>\n",
              "    <tr>\n",
              "      <th>2021-06-28</th>\n",
              "      <td>81700.0</td>\n",
              "      <td>82000.0</td>\n",
              "      <td>81600.0</td>\n",
              "      <td>81900.0</td>\n",
              "      <td>81900.0</td>\n",
              "      <td>11578529</td>\n",
              "    </tr>\n",
              "    <tr>\n",
              "      <th>2021-06-29</th>\n",
              "      <td>81900.0</td>\n",
              "      <td>82100.0</td>\n",
              "      <td>80800.0</td>\n",
              "      <td>81000.0</td>\n",
              "      <td>81000.0</td>\n",
              "      <td>15744317</td>\n",
              "    </tr>\n",
              "    <tr>\n",
              "      <th>2021-06-30</th>\n",
              "      <td>81100.0</td>\n",
              "      <td>81400.0</td>\n",
              "      <td>80700.0</td>\n",
              "      <td>80700.0</td>\n",
              "      <td>80700.0</td>\n",
              "      <td>13288643</td>\n",
              "    </tr>\n",
              "    <tr>\n",
              "      <th>2021-07-01</th>\n",
              "      <td>80500.0</td>\n",
              "      <td>80600.0</td>\n",
              "      <td>80000.0</td>\n",
              "      <td>80100.0</td>\n",
              "      <td>80100.0</td>\n",
              "      <td>13382882</td>\n",
              "    </tr>\n",
              "    <tr>\n",
              "      <th>2021-07-02</th>\n",
              "      <td>80000.0</td>\n",
              "      <td>80400.0</td>\n",
              "      <td>79900.0</td>\n",
              "      <td>80100.0</td>\n",
              "      <td>80100.0</td>\n",
              "      <td>4209709</td>\n",
              "    </tr>\n",
              "  </tbody>\n",
              "</table>\n",
              "</div>"
            ],
            "text/plain": [
              "               Open     High      Low    Close  Adj Close    Volume\n",
              "Date                                                               \n",
              "2021-06-28  81700.0  82000.0  81600.0  81900.0    81900.0  11578529\n",
              "2021-06-29  81900.0  82100.0  80800.0  81000.0    81000.0  15744317\n",
              "2021-06-30  81100.0  81400.0  80700.0  80700.0    80700.0  13288643\n",
              "2021-07-01  80500.0  80600.0  80000.0  80100.0    80100.0  13382882\n",
              "2021-07-02  80000.0  80400.0  79900.0  80100.0    80100.0   4209709"
            ]
          },
          "metadata": {
            "tags": []
          },
          "execution_count": 8
        }
      ]
    },
    {
      "cell_type": "code",
      "metadata": {
        "colab": {
          "base_uri": "https://localhost:8080/",
          "height": 232
        },
        "id": "z5anGrtnguvY",
        "outputId": "b6d772db-2caa-4ca1-ba5d-fa3a77977ad7"
      },
      "source": [
        "df = pd.DataFrame({\n",
        "    'ds' : qqq.index, 'y' : qqq.Close\n",
        "})\n",
        "df.head()"
      ],
      "execution_count": null,
      "outputs": [
        {
          "output_type": "execute_result",
          "data": {
            "text/html": [
              "<div>\n",
              "<style scoped>\n",
              "    .dataframe tbody tr th:only-of-type {\n",
              "        vertical-align: middle;\n",
              "    }\n",
              "\n",
              "    .dataframe tbody tr th {\n",
              "        vertical-align: top;\n",
              "    }\n",
              "\n",
              "    .dataframe thead th {\n",
              "        text-align: right;\n",
              "    }\n",
              "</style>\n",
              "<table border=\"1\" class=\"dataframe\">\n",
              "  <thead>\n",
              "    <tr style=\"text-align: right;\">\n",
              "      <th></th>\n",
              "      <th>ds</th>\n",
              "      <th>y</th>\n",
              "    </tr>\n",
              "    <tr>\n",
              "      <th>Date</th>\n",
              "      <th></th>\n",
              "      <th></th>\n",
              "    </tr>\n",
              "  </thead>\n",
              "  <tbody>\n",
              "    <tr>\n",
              "      <th>2015-01-02</th>\n",
              "      <td>2015-01-02</td>\n",
              "      <td>102.940002</td>\n",
              "    </tr>\n",
              "    <tr>\n",
              "      <th>2015-01-05</th>\n",
              "      <td>2015-01-05</td>\n",
              "      <td>101.430000</td>\n",
              "    </tr>\n",
              "    <tr>\n",
              "      <th>2015-01-06</th>\n",
              "      <td>2015-01-06</td>\n",
              "      <td>100.070000</td>\n",
              "    </tr>\n",
              "    <tr>\n",
              "      <th>2015-01-07</th>\n",
              "      <td>2015-01-07</td>\n",
              "      <td>101.360001</td>\n",
              "    </tr>\n",
              "    <tr>\n",
              "      <th>2015-01-08</th>\n",
              "      <td>2015-01-08</td>\n",
              "      <td>103.300003</td>\n",
              "    </tr>\n",
              "  </tbody>\n",
              "</table>\n",
              "</div>"
            ],
            "text/plain": [
              "                   ds           y\n",
              "Date                             \n",
              "2015-01-02 2015-01-02  102.940002\n",
              "2015-01-05 2015-01-05  101.430000\n",
              "2015-01-06 2015-01-06  100.070000\n",
              "2015-01-07 2015-01-07  101.360001\n",
              "2015-01-08 2015-01-08  103.300003"
            ]
          },
          "metadata": {
            "tags": []
          },
          "execution_count": 9
        }
      ]
    },
    {
      "cell_type": "code",
      "metadata": {
        "colab": {
          "base_uri": "https://localhost:8080/",
          "height": 202
        },
        "id": "4w_cRVmdguvY",
        "outputId": "80788efb-d13f-485b-b33e-4fce68bae14d"
      },
      "source": [
        "df.reset_index(inplace=True)\n",
        "del df['Date']\n",
        "df.tail()"
      ],
      "execution_count": null,
      "outputs": [
        {
          "output_type": "execute_result",
          "data": {
            "text/html": [
              "<div>\n",
              "<style scoped>\n",
              "    .dataframe tbody tr th:only-of-type {\n",
              "        vertical-align: middle;\n",
              "    }\n",
              "\n",
              "    .dataframe tbody tr th {\n",
              "        vertical-align: top;\n",
              "    }\n",
              "\n",
              "    .dataframe thead th {\n",
              "        text-align: right;\n",
              "    }\n",
              "</style>\n",
              "<table border=\"1\" class=\"dataframe\">\n",
              "  <thead>\n",
              "    <tr style=\"text-align: right;\">\n",
              "      <th></th>\n",
              "      <th>ds</th>\n",
              "      <th>y</th>\n",
              "    </tr>\n",
              "  </thead>\n",
              "  <tbody>\n",
              "    <tr>\n",
              "      <th>1631</th>\n",
              "      <td>2021-06-25</td>\n",
              "      <td>349.459991</td>\n",
              "    </tr>\n",
              "    <tr>\n",
              "      <th>1632</th>\n",
              "      <td>2021-06-28</td>\n",
              "      <td>353.709991</td>\n",
              "    </tr>\n",
              "    <tr>\n",
              "      <th>1633</th>\n",
              "      <td>2021-06-29</td>\n",
              "      <td>354.989990</td>\n",
              "    </tr>\n",
              "    <tr>\n",
              "      <th>1634</th>\n",
              "      <td>2021-06-30</td>\n",
              "      <td>354.429993</td>\n",
              "    </tr>\n",
              "    <tr>\n",
              "      <th>1635</th>\n",
              "      <td>2021-07-01</td>\n",
              "      <td>354.570007</td>\n",
              "    </tr>\n",
              "  </tbody>\n",
              "</table>\n",
              "</div>"
            ],
            "text/plain": [
              "             ds           y\n",
              "1631 2021-06-25  349.459991\n",
              "1632 2021-06-28  353.709991\n",
              "1633 2021-06-29  354.989990\n",
              "1634 2021-06-30  354.429993\n",
              "1635 2021-07-01  354.570007"
            ]
          },
          "metadata": {
            "tags": []
          },
          "execution_count": 10
        }
      ]
    },
    {
      "cell_type": "markdown",
      "metadata": {
        "id": "avzHx2zWhYHH"
      },
      "source": [
        "종가 시각화 "
      ]
    },
    {
      "cell_type": "code",
      "metadata": {
        "colab": {
          "base_uri": "https://localhost:8080/",
          "height": 385
        },
        "id": "ILi8GG8kguvY",
        "outputId": "aa2b4e8b-4ed5-48c8-8f09-8e1e07a2280b"
      },
      "source": [
        "qqq.Close.plot(figsize=(12,6), grid=True)\n",
        "plt.show()"
      ],
      "execution_count": null,
      "outputs": [
        {
          "output_type": "stream",
          "text": [
            "WARNING:matplotlib.font_manager:findfont: Font family ['Malgun Gothic'] not found. Falling back to DejaVu Sans.\n"
          ],
          "name": "stderr"
        },
        {
          "output_type": "display_data",
          "data": {
            "image/png": "[encoded data removed]",
            "text/plain": [
              "<Figure size 864x432 with 1 Axes>"
            ]
          },
          "metadata": {
            "tags": [],
            "needs_background": "light"
          }
        }
      ]
    },
    {
      "cell_type": "markdown",
      "metadata": {
        "id": "su_tu4t8iM1d"
      },
      "source": [
        "## Prophet사용"
      ]
    },
    {
      "cell_type": "code",
      "metadata": {
        "colab": {
          "base_uri": "https://localhost:8080/"
        },
        "id": "Qtv7y2IrguvZ",
        "outputId": "0b5ba70a-3671-47de-9cb3-7018a92b79e7"
      },
      "source": [
        "model = Prophet(daily_seasonality=True)\n",
        "model.fit(df)"
      ],
      "execution_count": null,
      "outputs": [
        {
          "output_type": "execute_result",
          "data": {
            "text/plain": [
              "<fbprophet.forecaster.Prophet at 0x7fbb47125d50>"
            ]
          },
          "metadata": {
            "tags": []
          },
          "execution_count": 13
        }
      ]
    },
    {
      "cell_type": "code",
      "metadata": {
        "colab": {
          "base_uri": "https://localhost:8080/",
          "height": 202
        },
        "id": "M-SjIe2riQe3",
        "outputId": "79d9c920-101d-4700-9550-6119e98f5568"
      },
      "source": [
        "# 미래 값 예측하기\n",
        "future = model.make_future_dataframe(184)\n",
        "future.tail()"
      ],
      "execution_count": null,
      "outputs": [
        {
          "output_type": "execute_result",
          "data": {
            "text/html": [
              "<div>\n",
              "<style scoped>\n",
              "    .dataframe tbody tr th:only-of-type {\n",
              "        vertical-align: middle;\n",
              "    }\n",
              "\n",
              "    .dataframe tbody tr th {\n",
              "        vertical-align: top;\n",
              "    }\n",
              "\n",
              "    .dataframe thead th {\n",
              "        text-align: right;\n",
              "    }\n",
              "</style>\n",
              "<table border=\"1\" class=\"dataframe\">\n",
              "  <thead>\n",
              "    <tr style=\"text-align: right;\">\n",
              "      <th></th>\n",
              "      <th>ds</th>\n",
              "    </tr>\n",
              "  </thead>\n",
              "  <tbody>\n",
              "    <tr>\n",
              "      <th>1815</th>\n",
              "      <td>2021-12-28</td>\n",
              "    </tr>\n",
              "    <tr>\n",
              "      <th>1816</th>\n",
              "      <td>2021-12-29</td>\n",
              "    </tr>\n",
              "    <tr>\n",
              "      <th>1817</th>\n",
              "      <td>2021-12-30</td>\n",
              "    </tr>\n",
              "    <tr>\n",
              "      <th>1818</th>\n",
              "      <td>2021-12-31</td>\n",
              "    </tr>\n",
              "    <tr>\n",
              "      <th>1819</th>\n",
              "      <td>2022-01-01</td>\n",
              "    </tr>\n",
              "  </tbody>\n",
              "</table>\n",
              "</div>"
            ],
            "text/plain": [
              "             ds\n",
              "1815 2021-12-28\n",
              "1816 2021-12-29\n",
              "1817 2021-12-30\n",
              "1818 2021-12-31\n",
              "1819 2022-01-01"
            ]
          },
          "metadata": {
            "tags": []
          },
          "execution_count": 15
        }
      ]
    },
    {
      "cell_type": "markdown",
      "metadata": {
        "id": "RrT274--ia9e"
      },
      "source": [
        "시각화 "
      ]
    },
    {
      "cell_type": "code",
      "metadata": {
        "colab": {
          "base_uri": "https://localhost:8080/",
          "height": 441
        },
        "id": "xuDMG2tBiVXM",
        "outputId": "f5e7434e-9b42-4b49-f838-d4be937cb3c3"
      },
      "source": [
        "forecast = model.predict(future)\n",
        "model.plot(forecast);"
      ],
      "execution_count": null,
      "outputs": [
        {
          "output_type": "display_data",
          "data": {
            "image/png": "[encoded data removed]",
            "text/plain": [
              "<Figure size 720x432 with 1 Axes>"
            ]
          },
          "metadata": {
            "tags": []
          }
        }
      ]
    },
    {
      "cell_type": "code",
      "metadata": {
        "colab": {
          "base_uri": "https://localhost:8080/",
          "height": 305
        },
        "id": "d31uLTy2iYs3",
        "outputId": "edb44c44-5726-401e-81fa-d33c2414eacb"
      },
      "source": [
        "forecast.head()"
      ],
      "execution_count": null,
      "outputs": [
        {
          "output_type": "execute_result",
          "data": {
            "text/html": [
              "<div>\n",
              "<style scoped>\n",
              "    .dataframe tbody tr th:only-of-type {\n",
              "        vertical-align: middle;\n",
              "    }\n",
              "\n",
              "    .dataframe tbody tr th {\n",
              "        vertical-align: top;\n",
              "    }\n",
              "\n",
              "    .dataframe thead th {\n",
              "        text-align: right;\n",
              "    }\n",
              "</style>\n",
              "<table border=\"1\" class=\"dataframe\">\n",
              "  <thead>\n",
              "    <tr style=\"text-align: right;\">\n",
              "      <th></th>\n",
              "      <th>ds</th>\n",
              "      <th>trend</th>\n",
              "      <th>yhat_lower</th>\n",
              "      <th>yhat_upper</th>\n",
              "      <th>trend_lower</th>\n",
              "      <th>trend_upper</th>\n",
              "      <th>additive_terms</th>\n",
              "      <th>additive_terms_lower</th>\n",
              "      <th>additive_terms_upper</th>\n",
              "      <th>daily</th>\n",
              "      <th>daily_lower</th>\n",
              "      <th>daily_upper</th>\n",
              "      <th>weekly</th>\n",
              "      <th>weekly_lower</th>\n",
              "      <th>weekly_upper</th>\n",
              "      <th>yearly</th>\n",
              "      <th>yearly_lower</th>\n",
              "      <th>yearly_upper</th>\n",
              "      <th>multiplicative_terms</th>\n",
              "      <th>multiplicative_terms_lower</th>\n",
              "      <th>multiplicative_terms_upper</th>\n",
              "      <th>yhat</th>\n",
              "    </tr>\n",
              "  </thead>\n",
              "  <tbody>\n",
              "    <tr>\n",
              "      <th>0</th>\n",
              "      <td>2015-01-02</td>\n",
              "      <td>102.720378</td>\n",
              "      <td>94.924545</td>\n",
              "      <td>113.150603</td>\n",
              "      <td>102.720378</td>\n",
              "      <td>102.720378</td>\n",
              "      <td>1.462552</td>\n",
              "      <td>1.462552</td>\n",
              "      <td>1.462552</td>\n",
              "      <td>0.764308</td>\n",
              "      <td>0.764308</td>\n",
              "      <td>0.764308</td>\n",
              "      <td>-0.074462</td>\n",
              "      <td>-0.074462</td>\n",
              "      <td>-0.074462</td>\n",
              "      <td>0.772707</td>\n",
              "      <td>0.772707</td>\n",
              "      <td>0.772707</td>\n",
              "      <td>0.0</td>\n",
              "      <td>0.0</td>\n",
              "      <td>0.0</td>\n",
              "      <td>104.182930</td>\n",
              "    </tr>\n",
              "    <tr>\n",
              "      <th>1</th>\n",
              "      <td>2015-01-05</td>\n",
              "      <td>102.895333</td>\n",
              "      <td>95.084691</td>\n",
              "      <td>113.392512</td>\n",
              "      <td>102.895333</td>\n",
              "      <td>102.895333</td>\n",
              "      <td>1.545694</td>\n",
              "      <td>1.545694</td>\n",
              "      <td>1.545694</td>\n",
              "      <td>0.764308</td>\n",
              "      <td>0.764308</td>\n",
              "      <td>0.764308</td>\n",
              "      <td>-0.088224</td>\n",
              "      <td>-0.088224</td>\n",
              "      <td>-0.088224</td>\n",
              "      <td>0.869610</td>\n",
              "      <td>0.869610</td>\n",
              "      <td>0.869610</td>\n",
              "      <td>0.0</td>\n",
              "      <td>0.0</td>\n",
              "      <td>0.0</td>\n",
              "      <td>104.441026</td>\n",
              "    </tr>\n",
              "    <tr>\n",
              "      <th>2</th>\n",
              "      <td>2015-01-06</td>\n",
              "      <td>102.953651</td>\n",
              "      <td>96.426981</td>\n",
              "      <td>113.893179</td>\n",
              "      <td>102.953651</td>\n",
              "      <td>102.953651</td>\n",
              "      <td>1.836938</td>\n",
              "      <td>1.836938</td>\n",
              "      <td>1.836938</td>\n",
              "      <td>0.764308</td>\n",
              "      <td>0.764308</td>\n",
              "      <td>0.764308</td>\n",
              "      <td>0.148595</td>\n",
              "      <td>0.148595</td>\n",
              "      <td>0.148595</td>\n",
              "      <td>0.924034</td>\n",
              "      <td>0.924034</td>\n",
              "      <td>0.924034</td>\n",
              "      <td>0.0</td>\n",
              "      <td>0.0</td>\n",
              "      <td>0.0</td>\n",
              "      <td>104.790589</td>\n",
              "    </tr>\n",
              "    <tr>\n",
              "      <th>3</th>\n",
              "      <td>2015-01-07</td>\n",
              "      <td>103.011969</td>\n",
              "      <td>95.323590</td>\n",
              "      <td>114.702786</td>\n",
              "      <td>103.011969</td>\n",
              "      <td>103.011969</td>\n",
              "      <td>1.857879</td>\n",
              "      <td>1.857879</td>\n",
              "      <td>1.857879</td>\n",
              "      <td>0.764308</td>\n",
              "      <td>0.764308</td>\n",
              "      <td>0.764308</td>\n",
              "      <td>0.105049</td>\n",
              "      <td>0.105049</td>\n",
              "      <td>0.105049</td>\n",
              "      <td>0.988521</td>\n",
              "      <td>0.988521</td>\n",
              "      <td>0.988521</td>\n",
              "      <td>0.0</td>\n",
              "      <td>0.0</td>\n",
              "      <td>0.0</td>\n",
              "      <td>104.869848</td>\n",
              "    </tr>\n",
              "    <tr>\n",
              "      <th>4</th>\n",
              "      <td>2015-01-08</td>\n",
              "      <td>103.070287</td>\n",
              "      <td>95.092909</td>\n",
              "      <td>114.734995</td>\n",
              "      <td>103.070287</td>\n",
              "      <td>103.070287</td>\n",
              "      <td>1.926663</td>\n",
              "      <td>1.926663</td>\n",
              "      <td>1.926663</td>\n",
              "      <td>0.764308</td>\n",
              "      <td>0.764308</td>\n",
              "      <td>0.764308</td>\n",
              "      <td>0.100118</td>\n",
              "      <td>0.100118</td>\n",
              "      <td>0.100118</td>\n",
              "      <td>1.062236</td>\n",
              "      <td>1.062236</td>\n",
              "      <td>1.062236</td>\n",
              "      <td>0.0</td>\n",
              "      <td>0.0</td>\n",
              "      <td>0.0</td>\n",
              "      <td>104.996950</td>\n",
              "    </tr>\n",
              "  </tbody>\n",
              "</table>\n",
              "</div>"
            ],
            "text/plain": [
              "          ds       trend  ...  multiplicative_terms_upper        yhat\n",
              "0 2015-01-02  102.720378  ...                         0.0  104.182930\n",
              "1 2015-01-05  102.895333  ...                         0.0  104.441026\n",
              "2 2015-01-06  102.953651  ...                         0.0  104.790589\n",
              "3 2015-01-07  103.011969  ...                         0.0  104.869848\n",
              "4 2015-01-08  103.070287  ...                         0.0  104.996950\n",
              "\n",
              "[5 rows x 22 columns]"
            ]
          },
          "metadata": {
            "tags": []
          },
          "execution_count": 18
        }
      ]
    },
    {
      "cell_type": "code",
      "metadata": {
        "colab": {
          "base_uri": "https://localhost:8080/",
          "height": 483
        },
        "id": "P1WB3kjOieGL",
        "outputId": "79f4a122-4523-4769-879c-7abc1a15eca2"
      },
      "source": [
        "plt.figure(figsize=(16,8))\n",
        "plt.plot(qqq.index, qqq.Close, label='QQQ real')\n",
        "plt.plot(forecast.ds, forecast.yhat, label='forecast')\n",
        "plt.grid()\n",
        "plt.legend()\n",
        "plt.show()"
      ],
      "execution_count": null,
      "outputs": [
        {
          "output_type": "display_data",
          "data": {
            "image/png": "[encoded data removed]",
            "text/plain": [
              "<Figure size 1152x576 with 1 Axes>"
            ]
          },
          "metadata": {
            "tags": [],
            "needs_background": "light"
          }
        }
      ]
    },
    {
      "cell_type": "code",
      "metadata": {
        "id": "vRXI2Z9pijDZ"
      },
      "source": [
        ""
      ],
      "execution_count": null,
      "outputs": []
    }
  ]
}