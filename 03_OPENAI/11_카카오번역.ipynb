{
 "cells": [
  {
   "cell_type": "markdown",
   "metadata": {},
   "source": [
    "# 카카오 번역기"
   ]
  },
  {
   "cell_type": "code",
   "execution_count": 1,
   "metadata": {},
   "outputs": [],
   "source": [
    "import requests\r\n",
    "from urllib.parse import urlparse, quote\r\n",
    "import pandas as pd"
   ]
  },
  {
   "cell_type": "code",
   "execution_count": 2,
   "metadata": {},
   "outputs": [],
   "source": [
    "with open('kakaoapikey.txt',mode='r') as key_file:\r\n",
    "    kakao_key = key_file.read()"
   ]
  },
  {
   "cell_type": "markdown",
   "metadata": {},
   "source": [
    "- 한글 -> 영어"
   ]
  },
  {
   "cell_type": "code",
   "execution_count": 3,
   "metadata": {},
   "outputs": [],
   "source": [
    "# 번역하고자 하는 문장 \r\n",
    "text = \"문장 번역요청한 문장을 다양한 언어로 번역하는 API로써 입력된 텍스트를 기반으로 번역 텍스트 결과를 전달합니다.\""
   ]
  },
  {
   "cell_type": "code",
   "execution_count": 4,
   "metadata": {},
   "outputs": [
    {
     "data": {
      "text/plain": [
       "'https://dapi.kakao.com/v2/translation/translate?src_lang=kr&target_lang=en&query=%EB%AC%B8%EC%9E%A5%20%EB%B2%88%EC%97%AD%EC%9A%94%EC%B2%AD%ED%95%9C%20%EB%AC%B8%EC%9E%A5%EC%9D%84%20%EB%8B%A4%EC%96%91%ED%95%9C%20%EC%96%B8%EC%96%B4%EB%A1%9C%20%EB%B2%88%EC%97%AD%ED%95%98%EB%8A%94%20API%EB%A1%9C%EC%8D%A8%20%EC%9E%85%EB%A0%A5%EB%90%9C%20%ED%85%8D%EC%8A%A4%ED%8A%B8%EB%A5%BC%20%EA%B8%B0%EB%B0%98%EC%9C%BC%EB%A1%9C%20%EB%B2%88%EC%97%AD%20%ED%85%8D%EC%8A%A4%ED%8A%B8%20%EA%B2%B0%EA%B3%BC%EB%A5%BC%20%EC%A0%84%EB%8B%AC%ED%95%A9%EB%8B%88%EB%8B%A4.'"
      ]
     },
     "execution_count": 4,
     "metadata": {},
     "output_type": "execute_result"
    }
   ],
   "source": [
    "# 번역 링크만들기\r\n",
    "trans_url = \"https://dapi.kakao.com/v2/translation/translate\"\r\n",
    "\r\n",
    "# 링크 합치기 - 개발가이드 참고, 처음으로 그다음 연결시는 ?, 나머지 연결할 떄는 &\r\n",
    "# 번역하고자 하는 텍스트는 quote로 해서 인코딩해서 보내줘야 함.\r\n",
    "url = f'{trans_url}?src_lang=kr&target_lang=en&query={quote(text)}'\r\n",
    "url"
   ]
  },
  {
   "cell_type": "code",
   "execution_count": 5,
   "metadata": {},
   "outputs": [
    {
     "data": {
      "text/plain": [
       "{'translated_text': [['Translation of sentences Requests to translate sentences into various languages, delivering translation text results based on the text entered.']]}"
      ]
     },
     "execution_count": 5,
     "metadata": {},
     "output_type": "execute_result"
    }
   ],
   "source": [
    "# 카카오는 apikey를 headers로 줘야 한다.\r\n",
    "# \"Authorization\": f\"KakaoAK {kakao_key}\" 형식 주의 - 딕셔너리 형태로 줘야 함.\r\n",
    "result = requests.get(url, headers = {\"Authorization\": f\"KakaoAK {kakao_key}\"}).json()\r\n",
    "result"
   ]
  },
  {
   "cell_type": "code",
   "execution_count": 10,
   "metadata": {},
   "outputs": [
    {
     "name": "stdout",
     "output_type": "stream",
     "text": [
      "문장 번역요청한 문장을 다양한 언어로 번역하는 API로써 입력된 텍스트를 기반으로 번역 텍스트 결과를 전달합니다.\n",
      "Translation of sentences Requests to translate sentences into various languages, delivering translation text results based on the text entered.\n"
     ]
    }
   ],
   "source": [
    "eng_text = result['translated_text'][0][0]\r\n",
    "print(text)\r\n",
    "print(eng_text)"
   ]
  },
  {
   "cell_type": "markdown",
   "metadata": {},
   "source": [
    "## URL을 만드는 함수"
   ]
  },
  {
   "cell_type": "code",
   "execution_count": 11,
   "metadata": {},
   "outputs": [],
   "source": [
    "def generate_url(text,src,dst):\r\n",
    "    trans_url = \"https://dapi.kakao.com/v2/translation/translate\"\r\n",
    "    url = f'{trans_url}?src_lang={src}&target_lang={dst}&query={quote(text)}'\r\n",
    "    return url"
   ]
  },
  {
   "cell_type": "markdown",
   "metadata": {},
   "source": [
    "- 영어 -> 한글"
   ]
  },
  {
   "cell_type": "code",
   "execution_count": 35,
   "metadata": {},
   "outputs": [
    {
     "data": {
      "text/plain": [
       "'문장 번역은 문장을 다양한 언어로 번역하여 입력한 텍스트를 기반으로 번역 텍스트 결과를 전달하도록 요청합니다.'"
      ]
     },
     "execution_count": 35,
     "metadata": {},
     "output_type": "execute_result"
    }
   ],
   "source": [
    "result = requests.get(generate_url(eng_text,'en','kr'), headers = {\"Authorization\": f\"KakaoAK {kakao_key}\"}).json()\r\n",
    "result['translated_text'][0][0]"
   ]
  },
  {
   "cell_type": "code",
   "execution_count": 39,
   "metadata": {},
   "outputs": [
    {
     "data": {
      "text/plain": [
       "'문장 번역은 문장을 다양한 언어로 번역하여 입력한 텍스트를 기반으로 번역 텍스트 결과를 전달하도록 요청합니다.'"
      ]
     },
     "execution_count": 39,
     "metadata": {},
     "output_type": "execute_result"
    }
   ],
   "source": [
    "result['translated_text'][0][0]"
   ]
  },
  {
   "cell_type": "markdown",
   "metadata": {},
   "source": [
    "- 한글 여러문장 -> 영어, 프랑스어, 독일어"
   ]
  },
  {
   "cell_type": "code",
   "execution_count": 25,
   "metadata": {},
   "outputs": [],
   "source": [
    "multi_text = '''\r\n",
    "1876년 자동차도 없고 라디오나 TV,영화 다 없던 때였죠\r\n",
    "또 지금은 없는 병들도 많은 때였는데 그 때 누가 쓴 이야기를 우린 아직까지 읽어요\r\n",
    "1876년 화장실도 없었고 또 지금과는 엄청나게 달랐었대요\r\n",
    "매일매일 새로운 과학 기술이 나와도 그 옛날에 쓰여진 글이 살아있어요'''"
   ]
  },
  {
   "cell_type": "code",
   "execution_count": 40,
   "metadata": {},
   "outputs": [
    {
     "data": {
      "text/plain": [
       "[['1876, when there were no cars, no radio, no TV, no movies'],\n",
       " ['And now there are many illnesses that we do not have, and we still read the story that someone wrote at that time'],\n",
       " ['There was no toilet in 1876 and it was very different from now'],\n",
       " ['Every day, new science technology comes out, but the old writings are alive']]"
      ]
     },
     "execution_count": 40,
     "metadata": {},
     "output_type": "execute_result"
    }
   ],
   "source": [
    "# 영어\r\n",
    "result = requests.get(generate_url(multi_text,'kr','en'), headers = {\"Authorization\": f\"KakaoAK {kakao_key}\"}).json()\r\n",
    "result['translated_text']"
   ]
  },
  {
   "cell_type": "code",
   "execution_count": 27,
   "metadata": {},
   "outputs": [
    {
     "data": {
      "text/plain": [
       "[[\"1876, quand il n'y avait pas de voiture, pas de radio, pas de télévision, pas de films.\"],\n",
       " [\"Et il y avait beaucoup de maladies qui n'étaient pas là, et nous lisons toujours l'histoire de quelqu'un.\"],\n",
       " [\"Il n'y avait pas de toilettes en 1876 et c'était incroyablement différent maintenant.\"],\n",
       " ['Chaque jour, même avec la nouvelle science et la technologie, il y a des écrits vivants dans le passé.']]"
      ]
     },
     "execution_count": 27,
     "metadata": {},
     "output_type": "execute_result"
    }
   ],
   "source": [
    "# 프랑스어\r\n",
    "result = requests.get(generate_url(multi_text,'kr','fr'), headers = {\"Authorization\": f\"KakaoAK {kakao_key}\"}).json()\r\n",
    "result['translated_text']"
   ]
  },
  {
   "cell_type": "code",
   "execution_count": 28,
   "metadata": {},
   "outputs": [
    {
     "data": {
      "text/plain": [
       "[['Es war 1876, als es kein Auto gab, kein Radio, kein Fernsehen, kein Film.'],\n",
       " ['Und es gab viele Krankheiten, die jetzt nicht da waren, und wir lesen immer noch die Geschichte, die jemand geschrieben hat.'],\n",
       " ['1876 gab es keine Toilette, und es war nicht so, wie es jetzt war.'],\n",
       " ['Jeden Tag, wenn ich neue Wissenschaftstechnologien habe, lebe ich die alten Schriften.']]"
      ]
     },
     "execution_count": 28,
     "metadata": {},
     "output_type": "execute_result"
    }
   ],
   "source": [
    "# 독일어\r\n",
    "result = requests.get(generate_url(multi_text,'kr','de'), headers = {\"Authorization\": f\"KakaoAK {kakao_key}\"}).json()\r\n",
    "result['translated_text']"
   ]
  },
  {
   "cell_type": "markdown",
   "metadata": {},
   "source": [
    "결과 한 줄 씩 읽어오기"
   ]
  },
  {
   "cell_type": "code",
   "execution_count": 29,
   "metadata": {},
   "outputs": [
    {
     "name": "stdout",
     "output_type": "stream",
     "text": [
      "Es war 1876, als es kein Auto gab, kein Radio, kein Fernsehen, kein Film.\n",
      "Und es gab viele Krankheiten, die jetzt nicht da waren, und wir lesen immer noch die Geschichte, die jemand geschrieben hat.\n",
      "1876 gab es keine Toilette, und es war nicht so, wie es jetzt war.\n",
      "Jeden Tag, wenn ich neue Wissenschaftstechnologien habe, lebe ich die alten Schriften.\n"
     ]
    }
   ],
   "source": [
    "for line in result['translated_text']:\r\n",
    "    print(line[0])"
   ]
  },
  {
   "cell_type": "markdown",
   "metadata": {},
   "source": [
    "결과를 하나의 변수로 합치기"
   ]
  },
  {
   "cell_type": "code",
   "execution_count": 33,
   "metadata": {},
   "outputs": [
    {
     "name": "stdout",
     "output_type": "stream",
     "text": [
      "Es war 1876, als es kein Auto gab, kein Radio, kein Fernsehen, kein Film.\n",
      "Und es gab viele Krankheiten, die jetzt nicht da waren, und wir lesen immer noch die Geschichte, die jemand geschrieben hat.\n",
      "1876 gab es keine Toilette, und es war nicht so, wie es jetzt war.\n",
      "Jeden Tag, wenn ich neue Wissenschaftstechnologien habe, lebe ich die alten Schriften.\n"
     ]
    }
   ],
   "source": [
    "tr_text = \"\\n\".join([line[0] for line in result['translated_text']])\r\n",
    "print(tr_text)"
   ]
  },
  {
   "cell_type": "markdown",
   "metadata": {},
   "source": [
    "결과를 한 단락으로 가져오기"
   ]
  },
  {
   "cell_type": "code",
   "execution_count": 46,
   "metadata": {},
   "outputs": [
    {
     "name": "stdout",
     "output_type": "stream",
     "text": [
      "1876, when there were no cars, no radio, no TV, no movies And now there are many illnesses that we do not have, and we still read the story that someone wrote at that time There was no toilet in 1876 and it was very different from now Every day, new science technology comes out, but the old writings are alive\n"
     ]
    }
   ],
   "source": [
    "tr_text = \" \".join([line[0] for line in result['translated_text']])\r\n",
    "print(tr_text)"
   ]
  }
 ],
 "metadata": {
  "interpreter": {
   "hash": "8c1eae21719a0790335dcb83aad72b63b602cfe5cdb2bda0f60bc11d4f154e4b"
  },
  "kernelspec": {
   "display_name": "Python 3.8.5 64-bit ('base': conda)",
   "name": "python3"
  },
  "language_info": {
   "codemirror_mode": {
    "name": "ipython",
    "version": 3
   },
   "file_extension": ".py",
   "mimetype": "text/x-python",
   "name": "python",
   "nbconvert_exporter": "python",
   "pygments_lexer": "ipython3",
   "version": "3.8.5"
  },
  "orig_nbformat": 4
 },
 "nbformat": 4,
 "nbformat_minor": 2
}