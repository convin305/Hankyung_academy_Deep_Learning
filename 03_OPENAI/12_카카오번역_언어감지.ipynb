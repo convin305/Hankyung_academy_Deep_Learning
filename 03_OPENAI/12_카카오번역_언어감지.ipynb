{
 "cells": [
  {
   "cell_type": "markdown",
   "metadata": {},
   "source": [
    "# 카카오 번역기 - 언어감지"
   ]
  },
  {
   "cell_type": "code",
   "execution_count": 1,
   "metadata": {},
   "outputs": [],
   "source": [
    "import requests\r\n",
    "from urllib.parse import urlparse, quote\r\n",
    "import pandas as pd "
   ]
  },
  {
   "cell_type": "markdown",
   "metadata": {},
   "source": [
    "카카오 api키 가져오기"
   ]
  },
  {
   "cell_type": "code",
   "execution_count": 2,
   "metadata": {},
   "outputs": [],
   "source": [
    "with open('kakaoapikey.txt',mode='r') as key_file:\r\n",
    "    kakao_key = key_file.read()"
   ]
  },
  {
   "cell_type": "markdown",
   "metadata": {},
   "source": [
    "- 어떤 언어인지 감지하게 하기"
   ]
  },
  {
   "cell_type": "code",
   "execution_count": 3,
   "metadata": {},
   "outputs": [],
   "source": [
    "text = \"문장\""
   ]
  },
  {
   "cell_type": "code",
   "execution_count": 4,
   "metadata": {},
   "outputs": [],
   "source": [
    "# 번역 링크만들기\r\n",
    "detect_url = \"https://dapi.kakao.com/v3/translation/language/detect\"\r\n",
    "url = f'{detect_url}?query={quote(text)}'\r\n",
    "result = requests.get(url, headers = {\"Authorization\": f\"KakaoAK {kakao_key}\"}).json()"
   ]
  },
  {
   "cell_type": "code",
   "execution_count": 5,
   "metadata": {},
   "outputs": [
    {
     "data": {
      "text/plain": [
       "'kr'"
      ]
     },
     "execution_count": 5,
     "metadata": {},
     "output_type": "execute_result"
    }
   ],
   "source": [
    "result['language_info'][0]['code']"
   ]
  },
  {
   "cell_type": "markdown",
   "metadata": {},
   "source": [
    "함수로 만들기"
   ]
  },
  {
   "cell_type": "code",
   "execution_count": 6,
   "metadata": {},
   "outputs": [],
   "source": [
    "def lan_detect(text):\r\n",
    "    detect_url = \"https://dapi.kakao.com/v3/translation/language/detect\"\r\n",
    "    url = f'{detect_url}?query={quote(text)}'\r\n",
    "    result = requests.get(url, headers = {\"Authorization\": f\"KakaoAK {kakao_key}\"}).json()\r\n",
    "    return result['language_info'][0]['code']"
   ]
  },
  {
   "cell_type": "markdown",
   "metadata": {},
   "source": [
    "- 언어 감지해서 원하는 언어로 번역하게 하기"
   ]
  },
  {
   "cell_type": "code",
   "execution_count": 7,
   "metadata": {},
   "outputs": [],
   "source": [
    "def generate_url(text,src,dst):\r\n",
    "    trans_url = \"https://dapi.kakao.com/v2/translation/translate\"\r\n",
    "    url = f'{trans_url}?src_lang={src}&target_lang={dst}&query={quote(text)}'\r\n",
    "    return url"
   ]
  },
  {
   "cell_type": "code",
   "execution_count": 8,
   "metadata": {},
   "outputs": [
    {
     "data": {
      "text/plain": [
       "'그거 알아?'"
      ]
     },
     "execution_count": 8,
     "metadata": {},
     "output_type": "execute_result"
    }
   ],
   "source": [
    "text = 'Guess what?'\r\n",
    "\r\n",
    "result = requests.get(generate_url(text,lan_detect(text),'kr'), headers = {\"Authorization\": f\"KakaoAK {kakao_key}\"}).json()\r\n",
    "result['translated_text'][0][0]"
   ]
  },
  {
   "cell_type": "code",
   "execution_count": 42,
   "metadata": {},
   "outputs": [],
   "source": [
    "def for2kor(text):\r\n",
    "    country = lan_detect(text)\r\n",
    "    result = requests.get(generate_url(text,lan_detect(text),'kr'), headers = {\"Authorization\": f\"KakaoAK {kakao_key}\"}).json()\r\n",
    "    result_text = \" \".join([line[0] for line in result['translated_text']])\r\n",
    "    return  result_text"
   ]
  },
  {
   "cell_type": "code",
   "execution_count": 43,
   "metadata": {},
   "outputs": [],
   "source": [
    "multi_text = '''\r\n",
    "Es war 1876, als es kein Auto gab, kein Radio, kein Fernsehen, kein Film.\r\n",
    "Und es gab viele Krankheiten, die jetzt nicht da waren, und wir lesen immer noch die Geschichte, die jemand geschrieben hat.\r\n",
    "1876 gab es keine Toilette, und es war nicht so, wie es jetzt war.\r\n",
    "Jeden Tag, wenn ich neue Wissenschaftstechnologien habe, lebe ich die alten Schriften.'''"
   ]
  },
  {
   "cell_type": "code",
   "execution_count": 44,
   "metadata": {},
   "outputs": [
    {
     "data": {
      "text/plain": [
       "'1876년은 자동차도 라디오도 텔레비전도 영화도 없었다. 그리고 지금은 거기에 없는 많은 질병들이 있었고, 우리는 여전히 누군가가 쓴 이야기를 읽고 있습니다. 1876년에 화장실이 없었고 지금과는 달라졌다. 매일 새로운 과학 기술을 가지고 있을 때, 나는 오래된 저서를 살고 있다.'"
      ]
     },
     "execution_count": 44,
     "metadata": {},
     "output_type": "execute_result"
    }
   ],
   "source": [
    "for2kor(multi_text)"
   ]
  },
  {
   "cell_type": "code",
   "execution_count": 46,
   "metadata": {},
   "outputs": [
    {
     "data": {
      "text/plain": [
       "'그거 아세요?'"
      ]
     },
     "execution_count": 46,
     "metadata": {},
     "output_type": "execute_result"
    }
   ],
   "source": [
    "for2kor(\"You know what\")"
   ]
  },
  {
   "cell_type": "code",
   "execution_count": null,
   "metadata": {},
   "outputs": [],
   "source": []
  }
 ],
 "metadata": {
  "interpreter": {
   "hash": "8c1eae21719a0790335dcb83aad72b63b602cfe5cdb2bda0f60bc11d4f154e4b"
  },
  "kernelspec": {
   "display_name": "Python 3.8.5 64-bit ('base': conda)",
   "name": "python3"
  },
  "language_info": {
   "codemirror_mode": {
    "name": "ipython",
    "version": 3
   },
   "file_extension": ".py",
   "mimetype": "text/x-python",
   "name": "python",
   "nbconvert_exporter": "python",
   "pygments_lexer": "ipython3",
   "version": "3.8.5"
  },
  "orig_nbformat": 4
 },
 "nbformat": 4,
 "nbformat_minor": 2
}