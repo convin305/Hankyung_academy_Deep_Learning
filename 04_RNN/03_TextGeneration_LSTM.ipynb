{
 "cells": [
  {
   "cell_type": "markdown",
   "metadata": {},
   "source": [
    "# LSTM을 이용한 텍스트 생성\r\n",
    "\r\n",
    "- 데이터 다운로드 : 캐글 New York Times Comments"
   ]
  },
  {
   "cell_type": "code",
   "execution_count": 1,
   "metadata": {},
   "outputs": [],
   "source": [
    "import numpy as np\r\n",
    "import pandas as pd\r\n",
    "import tensorflow as tf\r\n",
    "\r\n",
    "seed = 2021\r\n",
    "np.random.seed(seed)\r\n",
    "tf.random.set_seed(seed)"
   ]
  },
  {
   "cell_type": "code",
   "execution_count": 2,
   "metadata": {},
   "outputs": [],
   "source": [
    "from tensorflow.keras.preprocessing.text import Tokenizer\r\n",
    "from tensorflow.keras.preprocessing.sequence import pad_sequences\r\n",
    "from tensorflow.keras.utils import to_categorical"
   ]
  },
  {
   "cell_type": "markdown",
   "metadata": {},
   "source": [
    "데이터 읽어오기"
   ]
  },
  {
   "cell_type": "code",
   "execution_count": 3,
   "metadata": {},
   "outputs": [
    {
     "data": {
      "text/html": [
       "<div>\n",
       "<style scoped>\n",
       "    .dataframe tbody tr th:only-of-type {\n",
       "        vertical-align: middle;\n",
       "    }\n",
       "\n",
       "    .dataframe tbody tr th {\n",
       "        vertical-align: top;\n",
       "    }\n",
       "\n",
       "    .dataframe thead th {\n",
       "        text-align: right;\n",
       "    }\n",
       "</style>\n",
       "<table border=\"1\" class=\"dataframe\">\n",
       "  <thead>\n",
       "    <tr style=\"text-align: right;\">\n",
       "      <th></th>\n",
       "      <th>abstract</th>\n",
       "      <th>articleID</th>\n",
       "      <th>articleWordCount</th>\n",
       "      <th>byline</th>\n",
       "      <th>documentType</th>\n",
       "      <th>headline</th>\n",
       "      <th>keywords</th>\n",
       "      <th>multimedia</th>\n",
       "      <th>newDesk</th>\n",
       "      <th>printPage</th>\n",
       "      <th>pubDate</th>\n",
       "      <th>sectionName</th>\n",
       "      <th>snippet</th>\n",
       "      <th>source</th>\n",
       "      <th>typeOfMaterial</th>\n",
       "      <th>webURL</th>\n",
       "    </tr>\n",
       "  </thead>\n",
       "  <tbody>\n",
       "    <tr>\n",
       "      <th>0</th>\n",
       "      <td>NaN</td>\n",
       "      <td>58def1347c459f24986d7c80</td>\n",
       "      <td>716</td>\n",
       "      <td>By STEPHEN HILTNER and SUSAN LEHMAN</td>\n",
       "      <td>article</td>\n",
       "      <td>Finding an Expansive View  of a Forgotten Peop...</td>\n",
       "      <td>['Photography', 'New York Times', 'Niger', 'Fe...</td>\n",
       "      <td>3</td>\n",
       "      <td>Insider</td>\n",
       "      <td>2</td>\n",
       "      <td>2017-04-01 00:15:41</td>\n",
       "      <td>Unknown</td>\n",
       "      <td>One of the largest photo displays in Times his...</td>\n",
       "      <td>The New York Times</td>\n",
       "      <td>News</td>\n",
       "      <td>https://www.nytimes.com/2017/03/31/insider/nig...</td>\n",
       "    </tr>\n",
       "    <tr>\n",
       "      <th>1</th>\n",
       "      <td>NaN</td>\n",
       "      <td>58def3237c459f24986d7c84</td>\n",
       "      <td>823</td>\n",
       "      <td>By GAIL COLLINS</td>\n",
       "      <td>article</td>\n",
       "      <td>And Now,  the Dreaded Trump Curse</td>\n",
       "      <td>['United States Politics and Government', 'Tru...</td>\n",
       "      <td>3</td>\n",
       "      <td>OpEd</td>\n",
       "      <td>23</td>\n",
       "      <td>2017-04-01 00:23:58</td>\n",
       "      <td>Unknown</td>\n",
       "      <td>Meet the gang from under the bus.</td>\n",
       "      <td>The New York Times</td>\n",
       "      <td>Op-Ed</td>\n",
       "      <td>https://www.nytimes.com/2017/03/31/opinion/and...</td>\n",
       "    </tr>\n",
       "    <tr>\n",
       "      <th>2</th>\n",
       "      <td>NaN</td>\n",
       "      <td>58def9f57c459f24986d7c90</td>\n",
       "      <td>575</td>\n",
       "      <td>By THE EDITORIAL BOARD</td>\n",
       "      <td>article</td>\n",
       "      <td>Venezuelaâs Descent Into Dictatorship</td>\n",
       "      <td>['Venezuela', 'Politics and Government', 'Madu...</td>\n",
       "      <td>3</td>\n",
       "      <td>Editorial</td>\n",
       "      <td>22</td>\n",
       "      <td>2017-04-01 00:53:06</td>\n",
       "      <td>Unknown</td>\n",
       "      <td>A court ruling annulling the legislatureâs a...</td>\n",
       "      <td>The New York Times</td>\n",
       "      <td>Editorial</td>\n",
       "      <td>https://www.nytimes.com/2017/03/31/opinion/ven...</td>\n",
       "    </tr>\n",
       "    <tr>\n",
       "      <th>3</th>\n",
       "      <td>NaN</td>\n",
       "      <td>58defd317c459f24986d7c95</td>\n",
       "      <td>1374</td>\n",
       "      <td>By MICHAEL POWELL</td>\n",
       "      <td>article</td>\n",
       "      <td>Stain Permeates Basketball Blue Blood</td>\n",
       "      <td>['Basketball (College)', 'University of North ...</td>\n",
       "      <td>3</td>\n",
       "      <td>Sports</td>\n",
       "      <td>1</td>\n",
       "      <td>2017-04-01 01:06:52</td>\n",
       "      <td>College Basketball</td>\n",
       "      <td>For two decades, until 2013, North Carolina en...</td>\n",
       "      <td>The New York Times</td>\n",
       "      <td>News</td>\n",
       "      <td>https://www.nytimes.com/2017/03/31/sports/ncaa...</td>\n",
       "    </tr>\n",
       "    <tr>\n",
       "      <th>4</th>\n",
       "      <td>NaN</td>\n",
       "      <td>58df09b77c459f24986d7ca7</td>\n",
       "      <td>708</td>\n",
       "      <td>By DEB AMLEN</td>\n",
       "      <td>article</td>\n",
       "      <td>Taking Things for Granted</td>\n",
       "      <td>['Crossword Puzzles']</td>\n",
       "      <td>3</td>\n",
       "      <td>Games</td>\n",
       "      <td>0</td>\n",
       "      <td>2017-04-01 02:00:14</td>\n",
       "      <td>Unknown</td>\n",
       "      <td>In which Howard Barkin and Will Shortz teach u...</td>\n",
       "      <td>The New York Times</td>\n",
       "      <td>News</td>\n",
       "      <td>https://www.nytimes.com/2017/03/31/crosswords/...</td>\n",
       "    </tr>\n",
       "  </tbody>\n",
       "</table>\n",
       "</div>"
      ],
      "text/plain": [
       "  abstract                 articleID  articleWordCount  \\\n",
       "0      NaN  58def1347c459f24986d7c80               716   \n",
       "1      NaN  58def3237c459f24986d7c84               823   \n",
       "2      NaN  58def9f57c459f24986d7c90               575   \n",
       "3      NaN  58defd317c459f24986d7c95              1374   \n",
       "4      NaN  58df09b77c459f24986d7ca7               708   \n",
       "\n",
       "                                byline documentType  \\\n",
       "0  By STEPHEN HILTNER and SUSAN LEHMAN      article   \n",
       "1                      By GAIL COLLINS      article   \n",
       "2               By THE EDITORIAL BOARD      article   \n",
       "3                    By MICHAEL POWELL      article   \n",
       "4                         By DEB AMLEN      article   \n",
       "\n",
       "                                            headline  \\\n",
       "0  Finding an Expansive View  of a Forgotten Peop...   \n",
       "1                  And Now,  the Dreaded Trump Curse   \n",
       "2            Venezuelaâs Descent Into Dictatorship   \n",
       "3              Stain Permeates Basketball Blue Blood   \n",
       "4                          Taking Things for Granted   \n",
       "\n",
       "                                            keywords  multimedia    newDesk  \\\n",
       "0  ['Photography', 'New York Times', 'Niger', 'Fe...           3    Insider   \n",
       "1  ['United States Politics and Government', 'Tru...           3       OpEd   \n",
       "2  ['Venezuela', 'Politics and Government', 'Madu...           3  Editorial   \n",
       "3  ['Basketball (College)', 'University of North ...           3     Sports   \n",
       "4                              ['Crossword Puzzles']           3      Games   \n",
       "\n",
       "   printPage              pubDate         sectionName  \\\n",
       "0          2  2017-04-01 00:15:41             Unknown   \n",
       "1         23  2017-04-01 00:23:58             Unknown   \n",
       "2         22  2017-04-01 00:53:06             Unknown   \n",
       "3          1  2017-04-01 01:06:52  College Basketball   \n",
       "4          0  2017-04-01 02:00:14             Unknown   \n",
       "\n",
       "                                             snippet              source  \\\n",
       "0  One of the largest photo displays in Times his...  The New York Times   \n",
       "1                  Meet the gang from under the bus.  The New York Times   \n",
       "2  A court ruling annulling the legislatureâs a...  The New York Times   \n",
       "3  For two decades, until 2013, North Carolina en...  The New York Times   \n",
       "4  In which Howard Barkin and Will Shortz teach u...  The New York Times   \n",
       "\n",
       "  typeOfMaterial                                             webURL  \n",
       "0           News  https://www.nytimes.com/2017/03/31/insider/nig...  \n",
       "1          Op-Ed  https://www.nytimes.com/2017/03/31/opinion/and...  \n",
       "2      Editorial  https://www.nytimes.com/2017/03/31/opinion/ven...  \n",
       "3           News  https://www.nytimes.com/2017/03/31/sports/ncaa...  \n",
       "4           News  https://www.nytimes.com/2017/03/31/crosswords/...  "
      ]
     },
     "execution_count": 3,
     "metadata": {},
     "output_type": "execute_result"
    }
   ],
   "source": [
    "df = pd.read_csv('ArticlesApril2017.csv',encoding='latin1')\r\n",
    "df.head()"
   ]
  },
  {
   "cell_type": "markdown",
   "metadata": {},
   "source": [
    "우리 관심 : 헤드라인"
   ]
  },
  {
   "cell_type": "code",
   "execution_count": 4,
   "metadata": {},
   "outputs": [
    {
     "data": {
      "text/plain": [
       "Index(['abstract', 'articleID', 'articleWordCount', 'byline', 'documentType',\n",
       "       'headline', 'keywords', 'multimedia', 'newDesk', 'printPage', 'pubDate',\n",
       "       'sectionName', 'snippet', 'source', 'typeOfMaterial', 'webURL'],\n",
       "      dtype='object')"
      ]
     },
     "execution_count": 4,
     "metadata": {},
     "output_type": "execute_result"
    }
   ],
   "source": [
    "df.columns"
   ]
  },
  {
   "cell_type": "markdown",
   "metadata": {},
   "source": [
    "### 데이터 전처리"
   ]
  },
  {
   "cell_type": "code",
   "execution_count": 5,
   "metadata": {},
   "outputs": [
    {
     "data": {
      "text/plain": [
       "0"
      ]
     },
     "execution_count": 5,
     "metadata": {},
     "output_type": "execute_result"
    }
   ],
   "source": [
    "# headline열 데이터만 사용할 예정. Null값 검사\r\n",
    "df.headline.isnull().sum()          # 널값 없다"
   ]
  },
  {
   "cell_type": "code",
   "execution_count": 6,
   "metadata": {},
   "outputs": [
    {
     "data": {
      "text/plain": [
       "886"
      ]
     },
     "execution_count": 6,
     "metadata": {},
     "output_type": "execute_result"
    }
   ],
   "source": [
    "headlines = [text for text in df.headline.values]\r\n",
    "len(headlines)"
   ]
  },
  {
   "cell_type": "code",
   "execution_count": 7,
   "metadata": {},
   "outputs": [
    {
     "data": {
      "text/plain": [
       "['Finding an Expansive View  of a Forgotten People in Niger',\n",
       " 'And Now,  the Dreaded Trump Curse',\n",
       " 'Venezuelaâ\\x80\\x99s Descent Into Dictatorship',\n",
       " 'Stain Permeates Basketball Blue Blood',\n",
       " 'Taking Things for Granted']"
      ]
     },
     "execution_count": 7,
     "metadata": {},
     "output_type": "execute_result"
    }
   ],
   "source": [
    "headlines[:5]"
   ]
  },
  {
   "cell_type": "code",
   "execution_count": 8,
   "metadata": {},
   "outputs": [
    {
     "data": {
      "text/plain": [
       "831"
      ]
     },
     "execution_count": 8,
     "metadata": {},
     "output_type": "execute_result"
    }
   ],
   "source": [
    "# 노이즈 데이터 제거 - Unknown의 경우 \r\n",
    "headlines = [text for text in headlines if text != \"Unknown\"]\r\n",
    "len(headlines)"
   ]
  },
  {
   "cell_type": "code",
   "execution_count": 9,
   "metadata": {},
   "outputs": [
    {
     "data": {
      "text/plain": [
       "'!\"#$%&\\'()*+,-./:;<=>?@[\\\\]^_`{|}~'"
      ]
     },
     "execution_count": 9,
     "metadata": {},
     "output_type": "execute_result"
    }
   ],
   "source": [
    "# 구둣점 제거, 소문자로 변환\r\n",
    "from string import punctuation\r\n",
    "punctuation"
   ]
  },
  {
   "cell_type": "code",
   "execution_count": 10,
   "metadata": {},
   "outputs": [],
   "source": [
    "def preprocessing(s):\r\n",
    "    s = s.encode('utf8').decode('ascii','ignore')\r\n",
    "    return ''.join(c for c in s if c not in punctuation).lower()"
   ]
  },
  {
   "cell_type": "code",
   "execution_count": 11,
   "metadata": {},
   "outputs": [
    {
     "data": {
      "text/plain": [
       "['finding an expansive view  of a forgotten people in niger',\n",
       " 'and now  the dreaded trump curse',\n",
       " 'venezuelas descent into dictatorship']"
      ]
     },
     "execution_count": 11,
     "metadata": {},
     "output_type": "execute_result"
    }
   ],
   "source": [
    "headlines = [preprocessing(s) for s in headlines]\r\n",
    "headlines[:3]"
   ]
  },
  {
   "cell_type": "markdown",
   "metadata": {},
   "source": [
    "토큰화하고 제일 긴 것 찾아서 그걸 기준으로 패딩해주고, y값 찾아서 학습하기 "
   ]
  },
  {
   "cell_type": "code",
   "execution_count": 12,
   "metadata": {},
   "outputs": [
    {
     "data": {
      "text/plain": [
       "2422"
      ]
     },
     "execution_count": 12,
     "metadata": {},
     "output_type": "execute_result"
    }
   ],
   "source": [
    "# 단어 집합을 만들고, 그 크기를 확인\r\n",
    "t = Tokenizer()\r\n",
    "t.fit_on_texts(headlines)\r\n",
    "vocab_size = len(t.word_index) + 1\r\n",
    "vocab_size"
   ]
  },
  {
   "cell_type": "code",
   "execution_count": 13,
   "metadata": {},
   "outputs": [
    {
     "data": {
      "text/plain": [
       "[[169],\n",
       " [169, 17],\n",
       " [169, 17, 665],\n",
       " [169, 17, 665, 367],\n",
       " [169, 17, 665, 367, 4],\n",
       " [169, 17, 665, 367, 4, 2],\n",
       " [169, 17, 665, 367, 4, 2, 666],\n",
       " [169, 17, 665, 367, 4, 2, 666, 170],\n",
       " [169, 17, 665, 367, 4, 2, 666, 170, 5],\n",
       " [169, 17, 665, 367, 4, 2, 666, 170, 5, 667],\n",
       " [6]]"
      ]
     },
     "execution_count": 13,
     "metadata": {},
     "output_type": "execute_result"
    }
   ],
   "source": [
    "# 학습에 사용될 샘플 시퀀스\r\n",
    "sequences = []\r\n",
    "for line in headlines:\r\n",
    "    encoded = t.texts_to_sequences([line])[0]\r\n",
    "    for i in range(len(encoded)):\r\n",
    "        sequence = encoded[:i+1]\r\n",
    "        sequences.append(sequence)\r\n",
    "\r\n",
    "sequences[:11]"
   ]
  },
  {
   "cell_type": "code",
   "execution_count": 14,
   "metadata": {},
   "outputs": [
    {
     "data": {
      "text/plain": [
       "19"
      ]
     },
     "execution_count": 14,
     "metadata": {},
     "output_type": "execute_result"
    }
   ],
   "source": [
    "max_len = max(len(s) for s in sequences)\r\n",
    "max_len"
   ]
  },
  {
   "cell_type": "code",
   "execution_count": 15,
   "metadata": {},
   "outputs": [
    {
     "data": {
      "text/plain": [
       "array([[   0,    0,    0, ...,    0,    0,  169],\n",
       "       [   0,    0,    0, ...,    0,  169,   17],\n",
       "       [   0,    0,    0, ...,  169,   17,  665],\n",
       "       ...,\n",
       "       [   0,    0,    0, ..., 2420,   57,  365],\n",
       "       [   0,    0,    0, ...,   57,  365,   94],\n",
       "       [   0,    0,    0, ...,  365,   94, 2421]])"
      ]
     },
     "execution_count": 15,
     "metadata": {},
     "output_type": "execute_result"
    }
   ],
   "source": [
    "sequences = pad_sequences(sequences,maxlen=max_len, padding='pre')          # pre가 디폴트값\r\n",
    "sequences"
   ]
  },
  {
   "cell_type": "code",
   "execution_count": 16,
   "metadata": {},
   "outputs": [
    {
     "data": {
      "text/plain": [
       "((5637, 18), (5637, 2422))"
      ]
     },
     "execution_count": 16,
     "metadata": {},
     "output_type": "execute_result"
    }
   ],
   "source": [
    "X = sequences[:,:-1]\r\n",
    "y = sequences[:, -1]\r\n",
    "Y = to_categorical(y)           # Y가 원핫 인코딩을 해서 엑스보다 더 sparse한 행렬이 되었다. \r\n",
    "\r\n",
    "X.shape, Y.shape"
   ]
  },
  {
   "cell_type": "markdown",
   "metadata": {},
   "source": [
    "### 모델 정의 / 설정 / 학습\r\n",
    "- Embedding\r\n",
    "- LSTM"
   ]
  },
  {
   "cell_type": "code",
   "execution_count": 17,
   "metadata": {},
   "outputs": [],
   "source": [
    "from tensorflow.keras.models import Sequential\r\n",
    "from tensorflow.keras.layers import Embedding, LSTM, Dense"
   ]
  },
  {
   "cell_type": "code",
   "execution_count": 18,
   "metadata": {},
   "outputs": [
    {
     "name": "stdout",
     "output_type": "stream",
     "text": [
      "Model: \"sequential\"\n",
      "_________________________________________________________________\n",
      "Layer (type)                 Output Shape              Param #   \n",
      "=================================================================\n",
      "embedding (Embedding)        (None, 18, 10)            24220     \n",
      "_________________________________________________________________\n",
      "lstm (LSTM)                  (None, 128)               71168     \n",
      "_________________________________________________________________\n",
      "dense (Dense)                (None, 2422)              312438    \n",
      "=================================================================\n",
      "Total params: 407,826\n",
      "Trainable params: 407,826\n",
      "Non-trainable params: 0\n",
      "_________________________________________________________________\n"
     ]
    }
   ],
   "source": [
    "# 임베딩 벡터 10차원, LSTM 노드 크기 128\r\n",
    "model = Sequential([\r\n",
    "    Embedding(vocab_size,10, input_length=max_len-1),\r\n",
    "    LSTM(128),\r\n",
    "    Dense(vocab_size,activation='softmax')\r\n",
    "])\r\n",
    "model.summary()"
   ]
  },
  {
   "cell_type": "code",
   "execution_count": 19,
   "metadata": {},
   "outputs": [],
   "source": [
    "model.compile(\r\n",
    "    optimizer='adam', loss = 'categorical_crossentropy', metrics=['accuracy']\r\n",
    ")"
   ]
  },
  {
   "cell_type": "code",
   "execution_count": 20,
   "metadata": {},
   "outputs": [
    {
     "name": "stdout",
     "output_type": "stream",
     "text": [
      "Epoch 1/200\n",
      "177/177 - 2s - loss: 7.3878 - accuracy: 0.0424\n",
      "Epoch 2/200\n",
      "177/177 - 2s - loss: 6.9248 - accuracy: 0.0422\n",
      "Epoch 3/200\n",
      "177/177 - 2s - loss: 6.8136 - accuracy: 0.0429\n",
      "Epoch 4/200\n",
      "177/177 - 2s - loss: 6.7238 - accuracy: 0.0459\n",
      "Epoch 5/200\n",
      "177/177 - 2s - loss: 6.6176 - accuracy: 0.0557\n",
      "Epoch 6/200\n",
      "177/177 - 2s - loss: 6.4953 - accuracy: 0.0564\n",
      "Epoch 7/200\n",
      "177/177 - 2s - loss: 6.3554 - accuracy: 0.0591\n",
      "Epoch 8/200\n",
      "177/177 - 2s - loss: 6.2047 - accuracy: 0.0642\n",
      "Epoch 9/200\n",
      "177/177 - 2s - loss: 6.0485 - accuracy: 0.0669\n",
      "Epoch 10/200\n",
      "177/177 - 2s - loss: 5.8974 - accuracy: 0.0681\n",
      "Epoch 11/200\n",
      "177/177 - 2s - loss: 5.7551 - accuracy: 0.0703\n",
      "Epoch 12/200\n",
      "177/177 - 2s - loss: 5.6176 - accuracy: 0.0743\n",
      "Epoch 13/200\n",
      "177/177 - 2s - loss: 5.4834 - accuracy: 0.0772\n",
      "Epoch 14/200\n",
      "177/177 - 2s - loss: 5.3558 - accuracy: 0.0850\n",
      "Epoch 15/200\n",
      "177/177 - 2s - loss: 5.2292 - accuracy: 0.0912\n",
      "Epoch 16/200\n",
      "177/177 - 2s - loss: 5.1075 - accuracy: 0.0965\n",
      "Epoch 17/200\n",
      "177/177 - 2s - loss: 4.9882 - accuracy: 0.1050\n",
      "Epoch 18/200\n",
      "177/177 - 2s - loss: 4.8700 - accuracy: 0.1116\n",
      "Epoch 19/200\n",
      "177/177 - 2s - loss: 4.7623 - accuracy: 0.1276\n",
      "Epoch 20/200\n",
      "177/177 - 2s - loss: 4.6497 - accuracy: 0.1389\n",
      "Epoch 21/200\n",
      "177/177 - 2s - loss: 4.5439 - accuracy: 0.1536\n",
      "Epoch 22/200\n",
      "177/177 - 2s - loss: 4.4389 - accuracy: 0.1703\n",
      "Epoch 23/200\n",
      "177/177 - 2s - loss: 4.3412 - accuracy: 0.1863\n",
      "Epoch 24/200\n",
      "177/177 - 2s - loss: 4.2415 - accuracy: 0.2029\n",
      "Epoch 25/200\n",
      "177/177 - 2s - loss: 4.1525 - accuracy: 0.2147\n",
      "Epoch 26/200\n",
      "177/177 - 2s - loss: 4.0618 - accuracy: 0.2313\n",
      "Epoch 27/200\n",
      "177/177 - 2s - loss: 3.9735 - accuracy: 0.2489\n",
      "Epoch 28/200\n",
      "177/177 - 2s - loss: 3.8863 - accuracy: 0.2613\n",
      "Epoch 29/200\n",
      "177/177 - 2s - loss: 3.8028 - accuracy: 0.2775\n",
      "Epoch 30/200\n",
      "177/177 - 2s - loss: 3.7233 - accuracy: 0.2870\n",
      "Epoch 31/200\n",
      "177/177 - 2s - loss: 3.6461 - accuracy: 0.3053\n",
      "Epoch 32/200\n",
      "177/177 - 2s - loss: 3.5726 - accuracy: 0.3140\n",
      "Epoch 33/200\n",
      "177/177 - 2s - loss: 3.5005 - accuracy: 0.3305\n",
      "Epoch 34/200\n",
      "177/177 - 2s - loss: 3.4327 - accuracy: 0.3344\n",
      "Epoch 35/200\n",
      "177/177 - 2s - loss: 3.3662 - accuracy: 0.3488\n",
      "Epoch 36/200\n",
      "177/177 - 2s - loss: 3.3023 - accuracy: 0.3571\n",
      "Epoch 37/200\n",
      "177/177 - 2s - loss: 3.2438 - accuracy: 0.3697\n",
      "Epoch 38/200\n",
      "177/177 - 2s - loss: 3.1824 - accuracy: 0.3793\n",
      "Epoch 39/200\n",
      "177/177 - 2s - loss: 3.1279 - accuracy: 0.3913\n",
      "Epoch 40/200\n",
      "177/177 - 2s - loss: 3.0730 - accuracy: 0.4027\n",
      "Epoch 41/200\n",
      "177/177 - 2s - loss: 3.0223 - accuracy: 0.4093\n",
      "Epoch 42/200\n",
      "177/177 - 2s - loss: 2.9714 - accuracy: 0.4144\n",
      "Epoch 43/200\n",
      "177/177 - 2s - loss: 2.9231 - accuracy: 0.4266\n",
      "Epoch 44/200\n",
      "177/177 - 2s - loss: 2.8778 - accuracy: 0.4300\n",
      "Epoch 45/200\n",
      "177/177 - 2s - loss: 2.8309 - accuracy: 0.4423\n",
      "Epoch 46/200\n",
      "177/177 - 2s - loss: 2.7890 - accuracy: 0.4554\n",
      "Epoch 47/200\n",
      "177/177 - 2s - loss: 2.7462 - accuracy: 0.4596\n",
      "Epoch 48/200\n",
      "177/177 - 2s - loss: 2.7081 - accuracy: 0.4703\n",
      "Epoch 49/200\n",
      "177/177 - 2s - loss: 2.6672 - accuracy: 0.4761\n",
      "Epoch 50/200\n",
      "177/177 - 2s - loss: 2.6280 - accuracy: 0.4878\n",
      "Epoch 51/200\n",
      "177/177 - 2s - loss: 2.5913 - accuracy: 0.4964\n",
      "Epoch 52/200\n",
      "177/177 - 2s - loss: 2.5546 - accuracy: 0.4990\n",
      "Epoch 53/200\n",
      "177/177 - 2s - loss: 2.5217 - accuracy: 0.5111\n",
      "Epoch 54/200\n",
      "177/177 - 2s - loss: 2.4870 - accuracy: 0.5178\n",
      "Epoch 55/200\n",
      "177/177 - 2s - loss: 2.4562 - accuracy: 0.5260\n",
      "Epoch 56/200\n",
      "177/177 - 2s - loss: 2.4215 - accuracy: 0.5354\n",
      "Epoch 57/200\n",
      "177/177 - 2s - loss: 2.3922 - accuracy: 0.5377\n",
      "Epoch 58/200\n",
      "177/177 - 2s - loss: 2.3600 - accuracy: 0.5443\n",
      "Epoch 59/200\n",
      "177/177 - 2s - loss: 2.3307 - accuracy: 0.5469\n",
      "Epoch 60/200\n",
      "177/177 - 2s - loss: 2.3004 - accuracy: 0.5542\n",
      "Epoch 61/200\n",
      "177/177 - 2s - loss: 2.2733 - accuracy: 0.5647\n",
      "Epoch 62/200\n",
      "177/177 - 2s - loss: 2.2440 - accuracy: 0.5664\n",
      "Epoch 63/200\n",
      "177/177 - 2s - loss: 2.2187 - accuracy: 0.5719\n",
      "Epoch 64/200\n",
      "177/177 - 2s - loss: 2.1915 - accuracy: 0.5824\n",
      "Epoch 65/200\n",
      "177/177 - 2s - loss: 2.1674 - accuracy: 0.5805\n",
      "Epoch 66/200\n",
      "177/177 - 2s - loss: 2.1420 - accuracy: 0.5863\n",
      "Epoch 67/200\n",
      "177/177 - 2s - loss: 2.1158 - accuracy: 0.5945\n",
      "Epoch 68/200\n",
      "177/177 - 2s - loss: 2.0930 - accuracy: 0.5993\n",
      "Epoch 69/200\n",
      "177/177 - 2s - loss: 2.0709 - accuracy: 0.6017\n",
      "Epoch 70/200\n",
      "177/177 - 2s - loss: 2.0478 - accuracy: 0.6076\n",
      "Epoch 71/200\n",
      "177/177 - 2s - loss: 2.0253 - accuracy: 0.6106\n",
      "Epoch 72/200\n",
      "177/177 - 2s - loss: 2.0031 - accuracy: 0.6166\n",
      "Epoch 73/200\n",
      "177/177 - 2s - loss: 1.9817 - accuracy: 0.6225\n",
      "Epoch 74/200\n",
      "177/177 - 2s - loss: 1.9620 - accuracy: 0.6246\n",
      "Epoch 75/200\n",
      "177/177 - 2s - loss: 1.9395 - accuracy: 0.6323\n",
      "Epoch 76/200\n",
      "177/177 - 2s - loss: 1.9208 - accuracy: 0.6360\n",
      "Epoch 77/200\n",
      "177/177 - 2s - loss: 1.8993 - accuracy: 0.6395\n",
      "Epoch 78/200\n",
      "177/177 - 2s - loss: 1.8817 - accuracy: 0.6399\n",
      "Epoch 79/200\n",
      "177/177 - 2s - loss: 1.8650 - accuracy: 0.6463\n",
      "Epoch 80/200\n",
      "177/177 - 2s - loss: 1.8443 - accuracy: 0.6472\n",
      "Epoch 81/200\n",
      "177/177 - 2s - loss: 1.8264 - accuracy: 0.6535\n",
      "Epoch 82/200\n",
      "177/177 - 2s - loss: 1.8092 - accuracy: 0.6574\n",
      "Epoch 83/200\n",
      "177/177 - 2s - loss: 1.7906 - accuracy: 0.6612\n",
      "Epoch 84/200\n",
      "177/177 - 2s - loss: 1.7760 - accuracy: 0.6645\n",
      "Epoch 85/200\n",
      "177/177 - 2s - loss: 1.7593 - accuracy: 0.6690\n",
      "Epoch 86/200\n",
      "177/177 - 2s - loss: 1.7432 - accuracy: 0.6706\n",
      "Epoch 87/200\n",
      "177/177 - 2s - loss: 1.7254 - accuracy: 0.6759\n",
      "Epoch 88/200\n",
      "177/177 - 2s - loss: 1.7096 - accuracy: 0.6771\n",
      "Epoch 89/200\n",
      "177/177 - 2s - loss: 1.6940 - accuracy: 0.6819\n",
      "Epoch 90/200\n",
      "177/177 - 2s - loss: 1.6796 - accuracy: 0.6810\n",
      "Epoch 91/200\n",
      "177/177 - 2s - loss: 1.6650 - accuracy: 0.6853\n",
      "Epoch 92/200\n",
      "177/177 - 2s - loss: 1.6510 - accuracy: 0.6880\n",
      "Epoch 93/200\n",
      "177/177 - 2s - loss: 1.6355 - accuracy: 0.6926\n",
      "Epoch 94/200\n",
      "177/177 - 2s - loss: 1.6207 - accuracy: 0.6952\n",
      "Epoch 95/200\n",
      "177/177 - 2s - loss: 1.6067 - accuracy: 0.7013\n",
      "Epoch 96/200\n",
      "177/177 - 2s - loss: 1.5932 - accuracy: 0.7027\n",
      "Epoch 97/200\n",
      "177/177 - 2s - loss: 1.5799 - accuracy: 0.7027\n",
      "Epoch 98/200\n",
      "177/177 - 2s - loss: 1.5701 - accuracy: 0.7039\n",
      "Epoch 99/200\n",
      "177/177 - 2s - loss: 1.5566 - accuracy: 0.7091\n",
      "Epoch 100/200\n",
      "177/177 - 2s - loss: 1.5450 - accuracy: 0.7100\n",
      "Epoch 101/200\n",
      "177/177 - 2s - loss: 1.5304 - accuracy: 0.7144\n",
      "Epoch 102/200\n",
      "177/177 - 2s - loss: 1.5214 - accuracy: 0.7117\n",
      "Epoch 103/200\n",
      "177/177 - 2s - loss: 1.5077 - accuracy: 0.7178\n",
      "Epoch 104/200\n",
      "177/177 - 2s - loss: 1.4958 - accuracy: 0.7192\n",
      "Epoch 105/200\n",
      "177/177 - 2s - loss: 1.4849 - accuracy: 0.7213\n",
      "Epoch 106/200\n",
      "177/177 - 2s - loss: 1.4736 - accuracy: 0.7229\n",
      "Epoch 107/200\n",
      "177/177 - 2s - loss: 1.4645 - accuracy: 0.7231\n",
      "Epoch 108/200\n",
      "177/177 - 2s - loss: 1.4539 - accuracy: 0.7249\n",
      "Epoch 109/200\n",
      "177/177 - 2s - loss: 1.4417 - accuracy: 0.7282\n",
      "Epoch 110/200\n",
      "177/177 - 2s - loss: 1.4325 - accuracy: 0.7288\n",
      "Epoch 111/200\n",
      "177/177 - 2s - loss: 1.4225 - accuracy: 0.7327\n",
      "Epoch 112/200\n",
      "177/177 - 2s - loss: 1.4139 - accuracy: 0.7335\n",
      "Epoch 113/200\n",
      "177/177 - 2s - loss: 1.4050 - accuracy: 0.7359\n",
      "Epoch 114/200\n",
      "177/177 - 2s - loss: 1.3961 - accuracy: 0.7380\n",
      "Epoch 115/200\n",
      "177/177 - 2s - loss: 1.3854 - accuracy: 0.7383\n",
      "Epoch 116/200\n",
      "177/177 - 2s - loss: 1.3768 - accuracy: 0.7394\n",
      "Epoch 117/200\n",
      "177/177 - 2s - loss: 1.3675 - accuracy: 0.7426\n",
      "Epoch 118/200\n",
      "177/177 - 2s - loss: 1.3577 - accuracy: 0.7449\n",
      "Epoch 119/200\n",
      "177/177 - 2s - loss: 1.3500 - accuracy: 0.7467\n",
      "Epoch 120/200\n",
      "177/177 - 2s - loss: 1.3403 - accuracy: 0.7495\n",
      "Epoch 121/200\n",
      "177/177 - 2s - loss: 1.3336 - accuracy: 0.7532\n",
      "Epoch 122/200\n",
      "177/177 - 2s - loss: 1.3251 - accuracy: 0.7532\n",
      "Epoch 123/200\n",
      "177/177 - 2s - loss: 1.3159 - accuracy: 0.7541\n",
      "Epoch 124/200\n",
      "177/177 - 2s - loss: 1.3095 - accuracy: 0.7534\n",
      "Epoch 125/200\n",
      "177/177 - 2s - loss: 1.2996 - accuracy: 0.7603\n",
      "Epoch 126/200\n",
      "177/177 - 2s - loss: 1.2934 - accuracy: 0.7589\n",
      "Epoch 127/200\n",
      "177/177 - 2s - loss: 1.2850 - accuracy: 0.7625\n",
      "Epoch 128/200\n",
      "177/177 - 2s - loss: 1.2795 - accuracy: 0.7651\n",
      "Epoch 129/200\n",
      "177/177 - 2s - loss: 1.2716 - accuracy: 0.7653\n",
      "Epoch 130/200\n",
      "177/177 - 2s - loss: 1.2648 - accuracy: 0.7662\n",
      "Epoch 131/200\n",
      "177/177 - 2s - loss: 1.2578 - accuracy: 0.7678\n",
      "Epoch 132/200\n",
      "177/177 - 2s - loss: 1.2497 - accuracy: 0.7681\n",
      "Epoch 133/200\n",
      "177/177 - 2s - loss: 1.2431 - accuracy: 0.7731\n",
      "Epoch 134/200\n",
      "177/177 - 2s - loss: 1.2379 - accuracy: 0.7719\n",
      "Epoch 135/200\n",
      "177/177 - 2s - loss: 1.2476 - accuracy: 0.7699\n",
      "Epoch 136/200\n",
      "177/177 - 2s - loss: 1.2314 - accuracy: 0.7728\n",
      "Epoch 137/200\n",
      "177/177 - 2s - loss: 1.2231 - accuracy: 0.7758\n",
      "Epoch 138/200\n",
      "177/177 - 2s - loss: 1.2142 - accuracy: 0.7772\n",
      "Epoch 139/200\n",
      "177/177 - 2s - loss: 1.2077 - accuracy: 0.7754\n",
      "Epoch 140/200\n",
      "177/177 - 2s - loss: 1.2029 - accuracy: 0.7779\n",
      "Epoch 141/200\n",
      "177/177 - 2s - loss: 1.1980 - accuracy: 0.7786\n",
      "Epoch 142/200\n",
      "177/177 - 2s - loss: 1.1926 - accuracy: 0.7783\n",
      "Epoch 143/200\n",
      "177/177 - 2s - loss: 1.1870 - accuracy: 0.7811\n",
      "Epoch 144/200\n",
      "177/177 - 2s - loss: 1.1818 - accuracy: 0.7823\n",
      "Epoch 145/200\n",
      "177/177 - 2s - loss: 1.1783 - accuracy: 0.7804\n",
      "Epoch 146/200\n",
      "177/177 - 2s - loss: 1.1720 - accuracy: 0.7827\n",
      "Epoch 147/200\n",
      "177/177 - 2s - loss: 1.1676 - accuracy: 0.7836\n",
      "Epoch 148/200\n",
      "177/177 - 2s - loss: 1.1633 - accuracy: 0.7845\n",
      "Epoch 149/200\n",
      "177/177 - 3s - loss: 1.1591 - accuracy: 0.7839\n",
      "Epoch 150/200\n",
      "177/177 - 2s - loss: 1.1552 - accuracy: 0.7846\n",
      "Epoch 151/200\n",
      "177/177 - 2s - loss: 1.1514 - accuracy: 0.7834\n",
      "Epoch 152/200\n",
      "177/177 - 2s - loss: 1.1456 - accuracy: 0.7852\n",
      "Epoch 153/200\n",
      "177/177 - 2s - loss: 1.1421 - accuracy: 0.7884\n",
      "Epoch 154/200\n",
      "177/177 - 2s - loss: 1.1408 - accuracy: 0.7848\n",
      "Epoch 155/200\n",
      "177/177 - 2s - loss: 1.1359 - accuracy: 0.7862\n",
      "Epoch 156/200\n",
      "177/177 - 2s - loss: 1.1317 - accuracy: 0.7871\n",
      "Epoch 157/200\n",
      "177/177 - 2s - loss: 1.1275 - accuracy: 0.7884\n",
      "Epoch 158/200\n",
      "177/177 - 2s - loss: 1.1260 - accuracy: 0.7880\n",
      "Epoch 159/200\n",
      "177/177 - 2s - loss: 1.1206 - accuracy: 0.7869\n",
      "Epoch 160/200\n",
      "177/177 - 2s - loss: 1.1187 - accuracy: 0.7871\n",
      "Epoch 161/200\n",
      "177/177 - 2s - loss: 1.1141 - accuracy: 0.7892\n",
      "Epoch 162/200\n",
      "177/177 - 2s - loss: 1.1133 - accuracy: 0.7882\n",
      "Epoch 163/200\n",
      "177/177 - 2s - loss: 1.1097 - accuracy: 0.7868\n",
      "Epoch 164/200\n",
      "177/177 - 2s - loss: 1.1077 - accuracy: 0.7843\n",
      "Epoch 165/200\n",
      "177/177 - 2s - loss: 1.1041 - accuracy: 0.7889\n",
      "Epoch 166/200\n",
      "177/177 - 2s - loss: 1.1013 - accuracy: 0.7878\n",
      "Epoch 167/200\n",
      "177/177 - 2s - loss: 1.0992 - accuracy: 0.7882\n",
      "Epoch 168/200\n",
      "177/177 - 2s - loss: 1.0979 - accuracy: 0.7871\n",
      "Epoch 169/200\n",
      "177/177 - 2s - loss: 1.0947 - accuracy: 0.7859\n",
      "Epoch 170/200\n",
      "177/177 - 2s - loss: 1.0927 - accuracy: 0.7871\n",
      "Epoch 171/200\n",
      "177/177 - 3s - loss: 1.0903 - accuracy: 0.7887\n",
      "Epoch 172/200\n",
      "177/177 - 2s - loss: 1.0891 - accuracy: 0.7889\n",
      "Epoch 173/200\n",
      "177/177 - 2s - loss: 1.0880 - accuracy: 0.7885\n",
      "Epoch 174/200\n",
      "177/177 - 2s - loss: 1.0899 - accuracy: 0.7889\n",
      "Epoch 175/200\n",
      "177/177 - 2s - loss: 1.0930 - accuracy: 0.7868\n",
      "Epoch 176/200\n",
      "177/177 - 2s - loss: 1.0855 - accuracy: 0.7873\n",
      "Epoch 177/200\n",
      "177/177 - 2s - loss: 1.0799 - accuracy: 0.7901\n",
      "Epoch 178/200\n",
      "177/177 - 2s - loss: 1.0792 - accuracy: 0.7887\n",
      "Epoch 179/200\n",
      "177/177 - 2s - loss: 1.0771 - accuracy: 0.7901\n",
      "Epoch 180/200\n",
      "177/177 - 2s - loss: 1.0760 - accuracy: 0.7880\n",
      "Epoch 181/200\n",
      "177/177 - 2s - loss: 1.0733 - accuracy: 0.7896\n",
      "Epoch 182/200\n",
      "177/177 - 2s - loss: 1.0719 - accuracy: 0.7892\n",
      "Epoch 183/200\n",
      "177/177 - 2s - loss: 1.0729 - accuracy: 0.7878\n",
      "Epoch 184/200\n",
      "177/177 - 2s - loss: 1.0695 - accuracy: 0.7873\n",
      "Epoch 185/200\n",
      "177/177 - 3s - loss: 1.0682 - accuracy: 0.7901\n",
      "Epoch 186/200\n",
      "177/177 - 2s - loss: 1.0672 - accuracy: 0.7884\n",
      "Epoch 187/200\n",
      "177/177 - 2s - loss: 1.0668 - accuracy: 0.7891\n",
      "Epoch 188/200\n",
      "177/177 - 2s - loss: 1.0689 - accuracy: 0.7871\n",
      "Epoch 189/200\n",
      "177/177 - 2s - loss: 1.0658 - accuracy: 0.7887\n",
      "Epoch 190/200\n",
      "177/177 - 2s - loss: 1.0637 - accuracy: 0.7885\n",
      "Epoch 191/200\n"
     ]
    }
   ],
   "source": [
    "history = model.fit(X,Y,epochs=200,verbose=2)"
   ]
  },
  {
   "cell_type": "markdown",
   "metadata": {},
   "source": [
    "### 모델 검증"
   ]
  },
  {
   "cell_type": "code",
   "execution_count": null,
   "metadata": {},
   "outputs": [],
   "source": [
    "from my_util import sentence_generation"
   ]
  },
  {
   "cell_type": "code",
   "execution_count": 1,
   "metadata": {},
   "outputs": [
    {
     "ename": "NameError",
     "evalue": "name 'sentence_generation' is not defined",
     "output_type": "error",
     "traceback": [
      "\u001b[1;31m---------------------------------------------------------------------------\u001b[0m",
      "\u001b[1;31mNameError\u001b[0m                                 Traceback (most recent call last)",
      "\u001b[1;32m<ipython-input-1-4cb0d17fc019>\u001b[0m in \u001b[0;36m<module>\u001b[1;34m\u001b[0m\n\u001b[1;32m----> 1\u001b[1;33m \u001b[0mprint\u001b[0m\u001b[1;33m(\u001b[0m\u001b[0msentence_generation\u001b[0m\u001b[1;33m(\u001b[0m\u001b[0mmodel\u001b[0m\u001b[1;33m,\u001b[0m \u001b[0mt\u001b[0m\u001b[1;33m,\u001b[0m \u001b[0mmax_len\u001b[0m\u001b[1;33m,\u001b[0m \u001b[1;34m'i'\u001b[0m\u001b[1;33m,\u001b[0m\u001b[1;36m10\u001b[0m\u001b[1;33m)\u001b[0m\u001b[1;33m)\u001b[0m\u001b[1;33m\u001b[0m\u001b[1;33m\u001b[0m\u001b[0m\n\u001b[0m\u001b[0;32m      2\u001b[0m \u001b[0mprint\u001b[0m\u001b[1;33m(\u001b[0m\u001b[0msentence_generation\u001b[0m\u001b[1;33m(\u001b[0m\u001b[0mmodel\u001b[0m\u001b[1;33m,\u001b[0m \u001b[0mt\u001b[0m\u001b[1;33m,\u001b[0m \u001b[0mmax_len\u001b[0m\u001b[1;33m,\u001b[0m\u001b[1;34m'epa'\u001b[0m\u001b[1;33m,\u001b[0m\u001b[1;36m10\u001b[0m\u001b[1;33m)\u001b[0m\u001b[1;33m)\u001b[0m\u001b[1;33m\u001b[0m\u001b[1;33m\u001b[0m\u001b[0m\n\u001b[0;32m      3\u001b[0m \u001b[0mprint\u001b[0m\u001b[1;33m(\u001b[0m\u001b[0msentence_generation\u001b[0m\u001b[1;33m(\u001b[0m\u001b[0mmodel\u001b[0m\u001b[1;33m,\u001b[0m \u001b[0mt\u001b[0m\u001b[1;33m,\u001b[0m \u001b[0mmax_len\u001b[0m\u001b[1;33m,\u001b[0m \u001b[1;34m'niger'\u001b[0m\u001b[1;33m,\u001b[0m\u001b[1;36m10\u001b[0m\u001b[1;33m)\u001b[0m\u001b[1;33m)\u001b[0m\u001b[1;33m\u001b[0m\u001b[1;33m\u001b[0m\u001b[0m\n",
      "\u001b[1;31mNameError\u001b[0m: name 'sentence_generation' is not defined"
     ]
    }
   ],
   "source": [
    "print(sentence_generation(model, t, max_len, 'i',10))\r\n",
    "print(sentence_generation(model, t, max_len,'epa',10))\r\n",
    "print(sentence_generation(model, t, max_len, 'niger',10))"
   ]
  },
  {
   "cell_type": "code",
   "execution_count": null,
   "metadata": {},
   "outputs": [],
   "source": []
  }
 ],
 "metadata": {
  "interpreter": {
   "hash": "8c1eae21719a0790335dcb83aad72b63b602cfe5cdb2bda0f60bc11d4f154e4b"
  },
  "kernelspec": {
   "display_name": "Python 3.8.5 64-bit ('base': conda)",
   "name": "python3"
  },
  "language_info": {
   "codemirror_mode": {
    "name": "ipython",
    "version": 3
   },
   "file_extension": ".py",
   "mimetype": "text/x-python",
   "name": "python",
   "nbconvert_exporter": "python",
   "pygments_lexer": "ipython3",
   "version": "3.8.5"
  },
  "orig_nbformat": 4
 },
 "nbformat": 4,
 "nbformat_minor": 2
}