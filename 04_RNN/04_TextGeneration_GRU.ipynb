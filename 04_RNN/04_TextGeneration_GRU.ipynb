{
 "cells": [
  {
   "cell_type": "markdown",
   "metadata": {},
   "source": [
    "# LSTM을 이용한 텍스트 생성\r\n",
    "\r\n",
    "- 데이터 다운로드 : 캐글 New York Times Comments"
   ]
  },
  {
   "cell_type": "code",
   "execution_count": 1,
   "metadata": {},
   "outputs": [],
   "source": [
    "import numpy as np\r\n",
    "import pandas as pd\r\n",
    "import tensorflow as tf\r\n",
    "\r\n",
    "seed = 2021\r\n",
    "np.random.seed(seed)\r\n",
    "tf.random.set_seed(seed)"
   ]
  },
  {
   "cell_type": "code",
   "execution_count": 2,
   "metadata": {},
   "outputs": [],
   "source": [
    "from tensorflow.keras.preprocessing.text import Tokenizer\r\n",
    "from tensorflow.keras.preprocessing.sequence import pad_sequences\r\n",
    "from tensorflow.keras.utils import to_categorical"
   ]
  },
  {
   "cell_type": "markdown",
   "metadata": {},
   "source": [
    "데이터 읽어오기"
   ]
  },
  {
   "cell_type": "code",
   "execution_count": 3,
   "metadata": {},
   "outputs": [
    {
     "data": {
      "text/html": [
       "<div>\n",
       "<style scoped>\n",
       "    .dataframe tbody tr th:only-of-type {\n",
       "        vertical-align: middle;\n",
       "    }\n",
       "\n",
       "    .dataframe tbody tr th {\n",
       "        vertical-align: top;\n",
       "    }\n",
       "\n",
       "    .dataframe thead th {\n",
       "        text-align: right;\n",
       "    }\n",
       "</style>\n",
       "<table border=\"1\" class=\"dataframe\">\n",
       "  <thead>\n",
       "    <tr style=\"text-align: right;\">\n",
       "      <th></th>\n",
       "      <th>abstract</th>\n",
       "      <th>articleID</th>\n",
       "      <th>articleWordCount</th>\n",
       "      <th>byline</th>\n",
       "      <th>documentType</th>\n",
       "      <th>headline</th>\n",
       "      <th>keywords</th>\n",
       "      <th>multimedia</th>\n",
       "      <th>newDesk</th>\n",
       "      <th>printPage</th>\n",
       "      <th>pubDate</th>\n",
       "      <th>sectionName</th>\n",
       "      <th>snippet</th>\n",
       "      <th>source</th>\n",
       "      <th>typeOfMaterial</th>\n",
       "      <th>webURL</th>\n",
       "    </tr>\n",
       "  </thead>\n",
       "  <tbody>\n",
       "    <tr>\n",
       "      <th>0</th>\n",
       "      <td>NaN</td>\n",
       "      <td>58def1347c459f24986d7c80</td>\n",
       "      <td>716</td>\n",
       "      <td>By STEPHEN HILTNER and SUSAN LEHMAN</td>\n",
       "      <td>article</td>\n",
       "      <td>Finding an Expansive View  of a Forgotten Peop...</td>\n",
       "      <td>['Photography', 'New York Times', 'Niger', 'Fe...</td>\n",
       "      <td>3</td>\n",
       "      <td>Insider</td>\n",
       "      <td>2</td>\n",
       "      <td>2017-04-01 00:15:41</td>\n",
       "      <td>Unknown</td>\n",
       "      <td>One of the largest photo displays in Times his...</td>\n",
       "      <td>The New York Times</td>\n",
       "      <td>News</td>\n",
       "      <td>https://www.nytimes.com/2017/03/31/insider/nig...</td>\n",
       "    </tr>\n",
       "    <tr>\n",
       "      <th>1</th>\n",
       "      <td>NaN</td>\n",
       "      <td>58def3237c459f24986d7c84</td>\n",
       "      <td>823</td>\n",
       "      <td>By GAIL COLLINS</td>\n",
       "      <td>article</td>\n",
       "      <td>And Now,  the Dreaded Trump Curse</td>\n",
       "      <td>['United States Politics and Government', 'Tru...</td>\n",
       "      <td>3</td>\n",
       "      <td>OpEd</td>\n",
       "      <td>23</td>\n",
       "      <td>2017-04-01 00:23:58</td>\n",
       "      <td>Unknown</td>\n",
       "      <td>Meet the gang from under the bus.</td>\n",
       "      <td>The New York Times</td>\n",
       "      <td>Op-Ed</td>\n",
       "      <td>https://www.nytimes.com/2017/03/31/opinion/and...</td>\n",
       "    </tr>\n",
       "    <tr>\n",
       "      <th>2</th>\n",
       "      <td>NaN</td>\n",
       "      <td>58def9f57c459f24986d7c90</td>\n",
       "      <td>575</td>\n",
       "      <td>By THE EDITORIAL BOARD</td>\n",
       "      <td>article</td>\n",
       "      <td>Venezuelaâs Descent Into Dictatorship</td>\n",
       "      <td>['Venezuela', 'Politics and Government', 'Madu...</td>\n",
       "      <td>3</td>\n",
       "      <td>Editorial</td>\n",
       "      <td>22</td>\n",
       "      <td>2017-04-01 00:53:06</td>\n",
       "      <td>Unknown</td>\n",
       "      <td>A court ruling annulling the legislatureâs a...</td>\n",
       "      <td>The New York Times</td>\n",
       "      <td>Editorial</td>\n",
       "      <td>https://www.nytimes.com/2017/03/31/opinion/ven...</td>\n",
       "    </tr>\n",
       "    <tr>\n",
       "      <th>3</th>\n",
       "      <td>NaN</td>\n",
       "      <td>58defd317c459f24986d7c95</td>\n",
       "      <td>1374</td>\n",
       "      <td>By MICHAEL POWELL</td>\n",
       "      <td>article</td>\n",
       "      <td>Stain Permeates Basketball Blue Blood</td>\n",
       "      <td>['Basketball (College)', 'University of North ...</td>\n",
       "      <td>3</td>\n",
       "      <td>Sports</td>\n",
       "      <td>1</td>\n",
       "      <td>2017-04-01 01:06:52</td>\n",
       "      <td>College Basketball</td>\n",
       "      <td>For two decades, until 2013, North Carolina en...</td>\n",
       "      <td>The New York Times</td>\n",
       "      <td>News</td>\n",
       "      <td>https://www.nytimes.com/2017/03/31/sports/ncaa...</td>\n",
       "    </tr>\n",
       "    <tr>\n",
       "      <th>4</th>\n",
       "      <td>NaN</td>\n",
       "      <td>58df09b77c459f24986d7ca7</td>\n",
       "      <td>708</td>\n",
       "      <td>By DEB AMLEN</td>\n",
       "      <td>article</td>\n",
       "      <td>Taking Things for Granted</td>\n",
       "      <td>['Crossword Puzzles']</td>\n",
       "      <td>3</td>\n",
       "      <td>Games</td>\n",
       "      <td>0</td>\n",
       "      <td>2017-04-01 02:00:14</td>\n",
       "      <td>Unknown</td>\n",
       "      <td>In which Howard Barkin and Will Shortz teach u...</td>\n",
       "      <td>The New York Times</td>\n",
       "      <td>News</td>\n",
       "      <td>https://www.nytimes.com/2017/03/31/crosswords/...</td>\n",
       "    </tr>\n",
       "  </tbody>\n",
       "</table>\n",
       "</div>"
      ],
      "text/plain": [
       "  abstract                 articleID  articleWordCount  \\\n",
       "0      NaN  58def1347c459f24986d7c80               716   \n",
       "1      NaN  58def3237c459f24986d7c84               823   \n",
       "2      NaN  58def9f57c459f24986d7c90               575   \n",
       "3      NaN  58defd317c459f24986d7c95              1374   \n",
       "4      NaN  58df09b77c459f24986d7ca7               708   \n",
       "\n",
       "                                byline documentType  \\\n",
       "0  By STEPHEN HILTNER and SUSAN LEHMAN      article   \n",
       "1                      By GAIL COLLINS      article   \n",
       "2               By THE EDITORIAL BOARD      article   \n",
       "3                    By MICHAEL POWELL      article   \n",
       "4                         By DEB AMLEN      article   \n",
       "\n",
       "                                            headline  \\\n",
       "0  Finding an Expansive View  of a Forgotten Peop...   \n",
       "1                  And Now,  the Dreaded Trump Curse   \n",
       "2            Venezuelaâs Descent Into Dictatorship   \n",
       "3              Stain Permeates Basketball Blue Blood   \n",
       "4                          Taking Things for Granted   \n",
       "\n",
       "                                            keywords  multimedia    newDesk  \\\n",
       "0  ['Photography', 'New York Times', 'Niger', 'Fe...           3    Insider   \n",
       "1  ['United States Politics and Government', 'Tru...           3       OpEd   \n",
       "2  ['Venezuela', 'Politics and Government', 'Madu...           3  Editorial   \n",
       "3  ['Basketball (College)', 'University of North ...           3     Sports   \n",
       "4                              ['Crossword Puzzles']           3      Games   \n",
       "\n",
       "   printPage              pubDate         sectionName  \\\n",
       "0          2  2017-04-01 00:15:41             Unknown   \n",
       "1         23  2017-04-01 00:23:58             Unknown   \n",
       "2         22  2017-04-01 00:53:06             Unknown   \n",
       "3          1  2017-04-01 01:06:52  College Basketball   \n",
       "4          0  2017-04-01 02:00:14             Unknown   \n",
       "\n",
       "                                             snippet              source  \\\n",
       "0  One of the largest photo displays in Times his...  The New York Times   \n",
       "1                  Meet the gang from under the bus.  The New York Times   \n",
       "2  A court ruling annulling the legislatureâs a...  The New York Times   \n",
       "3  For two decades, until 2013, North Carolina en...  The New York Times   \n",
       "4  In which Howard Barkin and Will Shortz teach u...  The New York Times   \n",
       "\n",
       "  typeOfMaterial                                             webURL  \n",
       "0           News  https://www.nytimes.com/2017/03/31/insider/nig...  \n",
       "1          Op-Ed  https://www.nytimes.com/2017/03/31/opinion/and...  \n",
       "2      Editorial  https://www.nytimes.com/2017/03/31/opinion/ven...  \n",
       "3           News  https://www.nytimes.com/2017/03/31/sports/ncaa...  \n",
       "4           News  https://www.nytimes.com/2017/03/31/crosswords/...  "
      ]
     },
     "execution_count": 3,
     "metadata": {},
     "output_type": "execute_result"
    }
   ],
   "source": [
    "df = pd.read_csv('ArticlesApril2017.csv',encoding='latin1')\r\n",
    "df.head()"
   ]
  },
  {
   "cell_type": "markdown",
   "metadata": {},
   "source": [
    "우리 관심 : 헤드라인"
   ]
  },
  {
   "cell_type": "code",
   "execution_count": 4,
   "metadata": {},
   "outputs": [
    {
     "data": {
      "text/plain": [
       "Index(['abstract', 'articleID', 'articleWordCount', 'byline', 'documentType',\n",
       "       'headline', 'keywords', 'multimedia', 'newDesk', 'printPage', 'pubDate',\n",
       "       'sectionName', 'snippet', 'source', 'typeOfMaterial', 'webURL'],\n",
       "      dtype='object')"
      ]
     },
     "execution_count": 4,
     "metadata": {},
     "output_type": "execute_result"
    }
   ],
   "source": [
    "df.columns"
   ]
  },
  {
   "cell_type": "markdown",
   "metadata": {},
   "source": [
    "### 데이터 전처리"
   ]
  },
  {
   "cell_type": "code",
   "execution_count": 5,
   "metadata": {},
   "outputs": [
    {
     "data": {
      "text/plain": [
       "0"
      ]
     },
     "execution_count": 5,
     "metadata": {},
     "output_type": "execute_result"
    }
   ],
   "source": [
    "# headline열 데이터만 사용할 예정. Null값 검사\r\n",
    "df.headline.isnull().sum()          # 널값 없다"
   ]
  },
  {
   "cell_type": "code",
   "execution_count": 6,
   "metadata": {},
   "outputs": [
    {
     "data": {
      "text/plain": [
       "886"
      ]
     },
     "execution_count": 6,
     "metadata": {},
     "output_type": "execute_result"
    }
   ],
   "source": [
    "headlines = [text for text in df.headline.values]\r\n",
    "len(headlines)"
   ]
  },
  {
   "cell_type": "code",
   "execution_count": 7,
   "metadata": {},
   "outputs": [
    {
     "data": {
      "text/plain": [
       "['Finding an Expansive View  of a Forgotten People in Niger',\n",
       " 'And Now,  the Dreaded Trump Curse',\n",
       " 'Venezuelaâ\\x80\\x99s Descent Into Dictatorship',\n",
       " 'Stain Permeates Basketball Blue Blood',\n",
       " 'Taking Things for Granted']"
      ]
     },
     "execution_count": 7,
     "metadata": {},
     "output_type": "execute_result"
    }
   ],
   "source": [
    "headlines[:5]"
   ]
  },
  {
   "cell_type": "code",
   "execution_count": 8,
   "metadata": {},
   "outputs": [
    {
     "data": {
      "text/plain": [
       "831"
      ]
     },
     "execution_count": 8,
     "metadata": {},
     "output_type": "execute_result"
    }
   ],
   "source": [
    "# 노이즈 데이터 제거 - Unknown의 경우 \r\n",
    "headlines = [text for text in headlines if text != \"Unknown\"]\r\n",
    "len(headlines)"
   ]
  },
  {
   "cell_type": "code",
   "execution_count": 9,
   "metadata": {},
   "outputs": [
    {
     "data": {
      "text/plain": [
       "'!\"#$%&\\'()*+,-./:;<=>?@[\\\\]^_`{|}~'"
      ]
     },
     "execution_count": 9,
     "metadata": {},
     "output_type": "execute_result"
    }
   ],
   "source": [
    "# 구둣점 제거, 소문자로 변환\r\n",
    "from string import punctuation\r\n",
    "punctuation"
   ]
  },
  {
   "cell_type": "code",
   "execution_count": 10,
   "metadata": {},
   "outputs": [],
   "source": [
    "def preprocessing(s):\r\n",
    "    s = s.encode('utf8').decode('ascii','ignore')\r\n",
    "    return ''.join(c for c in s if c not in punctuation).lower()"
   ]
  },
  {
   "cell_type": "code",
   "execution_count": 11,
   "metadata": {},
   "outputs": [
    {
     "data": {
      "text/plain": [
       "['finding an expansive view  of a forgotten people in niger',\n",
       " 'and now  the dreaded trump curse',\n",
       " 'venezuelas descent into dictatorship']"
      ]
     },
     "execution_count": 11,
     "metadata": {},
     "output_type": "execute_result"
    }
   ],
   "source": [
    "headlines = [preprocessing(s) for s in headlines]\r\n",
    "headlines[:3]"
   ]
  },
  {
   "cell_type": "markdown",
   "metadata": {},
   "source": [
    "토큰화하고 제일 긴 것 찾아서 그걸 기준으로 패딩해주고, y값 찾아서 학습하기 "
   ]
  },
  {
   "cell_type": "code",
   "execution_count": 12,
   "metadata": {},
   "outputs": [
    {
     "data": {
      "text/plain": [
       "2422"
      ]
     },
     "execution_count": 12,
     "metadata": {},
     "output_type": "execute_result"
    }
   ],
   "source": [
    "# 단어 집합을 만들고, 그 크기를 확인\r\n",
    "t = Tokenizer()\r\n",
    "t.fit_on_texts(headlines)\r\n",
    "vocab_size = len(t.word_index) + 1\r\n",
    "vocab_size"
   ]
  },
  {
   "cell_type": "code",
   "execution_count": 13,
   "metadata": {},
   "outputs": [
    {
     "data": {
      "text/plain": [
       "[[169],\n",
       " [169, 17],\n",
       " [169, 17, 665],\n",
       " [169, 17, 665, 367],\n",
       " [169, 17, 665, 367, 4],\n",
       " [169, 17, 665, 367, 4, 2],\n",
       " [169, 17, 665, 367, 4, 2, 666],\n",
       " [169, 17, 665, 367, 4, 2, 666, 170],\n",
       " [169, 17, 665, 367, 4, 2, 666, 170, 5],\n",
       " [169, 17, 665, 367, 4, 2, 666, 170, 5, 667],\n",
       " [6]]"
      ]
     },
     "execution_count": 13,
     "metadata": {},
     "output_type": "execute_result"
    }
   ],
   "source": [
    "# 학습에 사용될 샘플 시퀀스\r\n",
    "sequences = []\r\n",
    "for line in headlines:\r\n",
    "    encoded = t.texts_to_sequences([line])[0]\r\n",
    "    for i in range(len(encoded)):\r\n",
    "        sequence = encoded[:i+1]\r\n",
    "        sequences.append(sequence)\r\n",
    "\r\n",
    "sequences[:11]"
   ]
  },
  {
   "cell_type": "code",
   "execution_count": 14,
   "metadata": {},
   "outputs": [
    {
     "data": {
      "text/plain": [
       "19"
      ]
     },
     "execution_count": 14,
     "metadata": {},
     "output_type": "execute_result"
    }
   ],
   "source": [
    "max_len = max(len(s) for s in sequences)\r\n",
    "max_len"
   ]
  },
  {
   "cell_type": "code",
   "execution_count": 15,
   "metadata": {},
   "outputs": [
    {
     "data": {
      "text/plain": [
       "array([[   0,    0,    0, ...,    0,    0,  169],\n",
       "       [   0,    0,    0, ...,    0,  169,   17],\n",
       "       [   0,    0,    0, ...,  169,   17,  665],\n",
       "       ...,\n",
       "       [   0,    0,    0, ..., 2420,   57,  365],\n",
       "       [   0,    0,    0, ...,   57,  365,   94],\n",
       "       [   0,    0,    0, ...,  365,   94, 2421]])"
      ]
     },
     "execution_count": 15,
     "metadata": {},
     "output_type": "execute_result"
    }
   ],
   "source": [
    "sequences = pad_sequences(sequences,maxlen=max_len, padding='pre')          # pre가 디폴트값\r\n",
    "sequences"
   ]
  },
  {
   "cell_type": "code",
   "execution_count": 16,
   "metadata": {},
   "outputs": [
    {
     "data": {
      "text/plain": [
       "((5637, 18), (5637, 2422))"
      ]
     },
     "execution_count": 16,
     "metadata": {},
     "output_type": "execute_result"
    }
   ],
   "source": [
    "X = sequences[:,:-1]\r\n",
    "y = sequences[:, -1]\r\n",
    "Y = to_categorical(y)           # Y가 원핫 인코딩을 해서 엑스보다 더 sparse한 행렬이 되었다. \r\n",
    "\r\n",
    "X.shape, Y.shape"
   ]
  },
  {
   "cell_type": "markdown",
   "metadata": {},
   "source": [
    "### 모델 정의 / 설정 / 학습\r\n",
    "- Embedding\r\n",
    "- GRU"
   ]
  },
  {
   "cell_type": "code",
   "execution_count": 17,
   "metadata": {},
   "outputs": [],
   "source": [
    "from tensorflow.keras.models import Sequential\r\n",
    "from tensorflow.keras.layers import Embedding, GRU, Dense"
   ]
  },
  {
   "cell_type": "code",
   "execution_count": 18,
   "metadata": {},
   "outputs": [
    {
     "name": "stdout",
     "output_type": "stream",
     "text": [
      "Model: \"sequential\"\n",
      "_________________________________________________________________\n",
      "Layer (type)                 Output Shape              Param #   \n",
      "=================================================================\n",
      "embedding (Embedding)        (None, 18, 10)            24220     \n",
      "_________________________________________________________________\n",
      "gru (GRU)                    (None, 128)               53760     \n",
      "_________________________________________________________________\n",
      "dense (Dense)                (None, 2422)              312438    \n",
      "=================================================================\n",
      "Total params: 390,418\n",
      "Trainable params: 390,418\n",
      "Non-trainable params: 0\n",
      "_________________________________________________________________\n"
     ]
    }
   ],
   "source": [
    "# 임베딩 벡터 10차원, LSTM 노드 크기 128\r\n",
    "model = Sequential([\r\n",
    "    Embedding(vocab_size,10, input_length=max_len-1),\r\n",
    "    GRU(128),\r\n",
    "    Dense(vocab_size,activation='softmax')\r\n",
    "])\r\n",
    "model.summary()"
   ]
  },
  {
   "cell_type": "code",
   "execution_count": 19,
   "metadata": {},
   "outputs": [],
   "source": [
    "model.compile(\r\n",
    "    optimizer='adam', loss = 'categorical_crossentropy', metrics=['accuracy']\r\n",
    ")"
   ]
  },
  {
   "cell_type": "code",
   "execution_count": 20,
   "metadata": {},
   "outputs": [
    {
     "name": "stdout",
     "output_type": "stream",
     "text": [
      "Epoch 1/200\n",
      "177/177 - 2s - loss: 7.4269 - accuracy: 0.0424\n",
      "Epoch 2/200\n",
      "177/177 - 2s - loss: 6.9644 - accuracy: 0.0424\n",
      "Epoch 3/200\n",
      "177/177 - 2s - loss: 6.8487 - accuracy: 0.0429\n",
      "Epoch 4/200\n",
      "177/177 - 2s - loss: 6.7071 - accuracy: 0.0495\n",
      "Epoch 5/200\n",
      "177/177 - 2s - loss: 6.5110 - accuracy: 0.0593\n",
      "Epoch 6/200\n",
      "177/177 - 2s - loss: 6.2918 - accuracy: 0.0623\n",
      "Epoch 7/200\n",
      "177/177 - 2s - loss: 6.0583 - accuracy: 0.0656\n",
      "Epoch 8/200\n",
      "177/177 - 2s - loss: 5.8204 - accuracy: 0.0715\n",
      "Epoch 9/200\n",
      "177/177 - 2s - loss: 5.5702 - accuracy: 0.0797\n",
      "Epoch 10/200\n",
      "177/177 - 2s - loss: 5.3106 - accuracy: 0.0915\n",
      "Epoch 11/200\n",
      "177/177 - 2s - loss: 5.0554 - accuracy: 0.1043\n",
      "Epoch 12/200\n",
      "177/177 - 2s - loss: 4.8115 - accuracy: 0.1252\n",
      "Epoch 13/200\n",
      "177/177 - 2s - loss: 4.5687 - accuracy: 0.1517\n",
      "Epoch 14/200\n",
      "177/177 - 2s - loss: 4.3480 - accuracy: 0.1872\n",
      "Epoch 15/200\n",
      "177/177 - 2s - loss: 4.1354 - accuracy: 0.2233\n",
      "Epoch 16/200\n",
      "177/177 - 2s - loss: 3.9385 - accuracy: 0.2583\n",
      "Epoch 17/200\n",
      "177/177 - 2s - loss: 3.7587 - accuracy: 0.2877\n",
      "Epoch 18/200\n",
      "177/177 - 2s - loss: 3.5938 - accuracy: 0.3206\n",
      "Epoch 19/200\n",
      "177/177 - 2s - loss: 3.4406 - accuracy: 0.3433\n",
      "Epoch 20/200\n",
      "177/177 - 2s - loss: 3.2968 - accuracy: 0.3718\n",
      "Epoch 21/200\n",
      "177/177 - 2s - loss: 3.1689 - accuracy: 0.3940\n",
      "Epoch 22/200\n",
      "177/177 - 2s - loss: 3.0465 - accuracy: 0.4210\n",
      "Epoch 23/200\n",
      "177/177 - 2s - loss: 2.9398 - accuracy: 0.4417\n",
      "Epoch 24/200\n",
      "177/177 - 2s - loss: 2.8381 - accuracy: 0.4621\n",
      "Epoch 25/200\n",
      "177/177 - 2s - loss: 2.7429 - accuracy: 0.4799\n",
      "Epoch 26/200\n",
      "177/177 - 2s - loss: 2.6622 - accuracy: 0.4953\n",
      "Epoch 27/200\n",
      "177/177 - 2s - loss: 2.5817 - accuracy: 0.5148\n",
      "Epoch 28/200\n",
      "177/177 - 2s - loss: 2.5044 - accuracy: 0.5297\n",
      "Epoch 29/200\n",
      "177/177 - 2s - loss: 2.4368 - accuracy: 0.5396\n",
      "Epoch 30/200\n",
      "177/177 - 2s - loss: 2.3702 - accuracy: 0.5611\n",
      "Epoch 31/200\n",
      "177/177 - 2s - loss: 2.3094 - accuracy: 0.5707\n",
      "Epoch 32/200\n",
      "177/177 - 2s - loss: 2.2486 - accuracy: 0.5822\n",
      "Epoch 33/200\n",
      "177/177 - 2s - loss: 2.1940 - accuracy: 0.5884\n",
      "Epoch 34/200\n",
      "177/177 - 2s - loss: 2.1429 - accuracy: 0.6016\n",
      "Epoch 35/200\n",
      "177/177 - 2s - loss: 2.0930 - accuracy: 0.6097\n",
      "Epoch 36/200\n",
      "177/177 - 2s - loss: 2.0477 - accuracy: 0.6193\n",
      "Epoch 37/200\n",
      "177/177 - 2s - loss: 2.0063 - accuracy: 0.6260\n",
      "Epoch 38/200\n",
      "177/177 - 2s - loss: 1.9619 - accuracy: 0.6367\n",
      "Epoch 39/200\n",
      "177/177 - 2s - loss: 1.9218 - accuracy: 0.6408\n",
      "Epoch 40/200\n",
      "177/177 - 2s - loss: 1.8876 - accuracy: 0.6530\n",
      "Epoch 41/200\n",
      "177/177 - 2s - loss: 1.8500 - accuracy: 0.6560\n",
      "Epoch 42/200\n",
      "177/177 - 2s - loss: 1.8169 - accuracy: 0.6668\n",
      "Epoch 43/200\n",
      "177/177 - 2s - loss: 1.7842 - accuracy: 0.6697\n",
      "Epoch 44/200\n",
      "177/177 - 2s - loss: 1.7527 - accuracy: 0.6725\n",
      "Epoch 45/200\n",
      "177/177 - 2s - loss: 1.7218 - accuracy: 0.6826\n",
      "Epoch 46/200\n",
      "177/177 - 2s - loss: 1.6943 - accuracy: 0.6890\n",
      "Epoch 47/200\n",
      "177/177 - 2s - loss: 1.6685 - accuracy: 0.6931\n",
      "Epoch 48/200\n",
      "177/177 - 2s - loss: 1.6407 - accuracy: 0.6959\n",
      "Epoch 49/200\n",
      "177/177 - 2s - loss: 1.6180 - accuracy: 0.6986\n",
      "Epoch 50/200\n",
      "177/177 - 2s - loss: 1.5958 - accuracy: 0.7030\n",
      "Epoch 51/200\n",
      "177/177 - 2s - loss: 1.5708 - accuracy: 0.7076\n",
      "Epoch 52/200\n",
      "177/177 - 2s - loss: 1.5480 - accuracy: 0.7117\n",
      "Epoch 53/200\n",
      "177/177 - 2s - loss: 1.5267 - accuracy: 0.7147\n",
      "Epoch 54/200\n",
      "177/177 - 2s - loss: 1.5042 - accuracy: 0.7178\n",
      "Epoch 55/200\n",
      "177/177 - 2s - loss: 1.4882 - accuracy: 0.7247\n",
      "Epoch 56/200\n",
      "177/177 - 2s - loss: 1.4645 - accuracy: 0.7291\n",
      "Epoch 57/200\n",
      "177/177 - 2s - loss: 1.4478 - accuracy: 0.7332\n",
      "Epoch 58/200\n",
      "177/177 - 2s - loss: 1.4310 - accuracy: 0.7374\n",
      "Epoch 59/200\n",
      "177/177 - 2s - loss: 1.4120 - accuracy: 0.7394\n",
      "Epoch 60/200\n",
      "177/177 - 2s - loss: 1.3963 - accuracy: 0.7431\n",
      "Epoch 61/200\n",
      "177/177 - 2s - loss: 1.3793 - accuracy: 0.7453\n",
      "Epoch 62/200\n",
      "177/177 - 2s - loss: 1.3645 - accuracy: 0.7486\n",
      "Epoch 63/200\n",
      "177/177 - 2s - loss: 1.3511 - accuracy: 0.7500\n",
      "Epoch 64/200\n",
      "177/177 - 2s - loss: 1.3356 - accuracy: 0.7557\n",
      "Epoch 65/200\n",
      "177/177 - 2s - loss: 1.3206 - accuracy: 0.7598\n",
      "Epoch 66/200\n",
      "177/177 - 2s - loss: 1.3082 - accuracy: 0.7605\n",
      "Epoch 67/200\n",
      "177/177 - 2s - loss: 1.2957 - accuracy: 0.7653\n",
      "Epoch 68/200\n",
      "177/177 - 2s - loss: 1.2847 - accuracy: 0.7669\n",
      "Epoch 69/200\n",
      "177/177 - 2s - loss: 1.2714 - accuracy: 0.7678\n",
      "Epoch 70/200\n",
      "177/177 - 2s - loss: 1.2615 - accuracy: 0.7713\n",
      "Epoch 71/200\n",
      "177/177 - 2s - loss: 1.2529 - accuracy: 0.7699\n",
      "Epoch 72/200\n",
      "177/177 - 2s - loss: 1.2415 - accuracy: 0.7735\n",
      "Epoch 73/200\n",
      "177/177 - 2s - loss: 1.2293 - accuracy: 0.7752\n",
      "Epoch 74/200\n",
      "177/177 - 2s - loss: 1.2301 - accuracy: 0.7772\n",
      "Epoch 75/200\n",
      "177/177 - 2s - loss: 1.2137 - accuracy: 0.7800\n",
      "Epoch 76/200\n",
      "177/177 - 2s - loss: 1.2047 - accuracy: 0.7800\n",
      "Epoch 77/200\n",
      "177/177 - 2s - loss: 1.1962 - accuracy: 0.7791\n",
      "Epoch 78/200\n",
      "177/177 - 2s - loss: 1.1882 - accuracy: 0.7827\n",
      "Epoch 79/200\n",
      "177/177 - 2s - loss: 1.1843 - accuracy: 0.7846\n",
      "Epoch 80/200\n",
      "177/177 - 2s - loss: 1.1751 - accuracy: 0.7850\n",
      "Epoch 81/200\n",
      "177/177 - 2s - loss: 1.1693 - accuracy: 0.7845\n",
      "Epoch 82/200\n",
      "177/177 - 2s - loss: 1.1616 - accuracy: 0.7823\n",
      "Epoch 83/200\n",
      "177/177 - 2s - loss: 1.1547 - accuracy: 0.7845\n",
      "Epoch 84/200\n",
      "177/177 - 2s - loss: 1.1492 - accuracy: 0.7873\n",
      "Epoch 85/200\n",
      "177/177 - 2s - loss: 1.1478 - accuracy: 0.7846\n",
      "Epoch 86/200\n",
      "177/177 - 2s - loss: 1.1426 - accuracy: 0.7871\n",
      "Epoch 87/200\n",
      "177/177 - 2s - loss: 1.1349 - accuracy: 0.7868\n",
      "Epoch 88/200\n",
      "177/177 - 2s - loss: 1.1329 - accuracy: 0.7853\n",
      "Epoch 89/200\n",
      "177/177 - 2s - loss: 1.1343 - accuracy: 0.7841\n",
      "Epoch 90/200\n",
      "177/177 - 2s - loss: 1.1285 - accuracy: 0.7864\n",
      "Epoch 91/200\n",
      "177/177 - 2s - loss: 1.1337 - accuracy: 0.7861\n",
      "Epoch 92/200\n",
      "177/177 - 2s - loss: 1.1363 - accuracy: 0.7848\n",
      "Epoch 93/200\n",
      "177/177 - 2s - loss: 1.1222 - accuracy: 0.7885\n",
      "Epoch 94/200\n",
      "177/177 - 2s - loss: 1.1154 - accuracy: 0.7873\n",
      "Epoch 95/200\n",
      "177/177 - 2s - loss: 1.1094 - accuracy: 0.7868\n",
      "Epoch 96/200\n",
      "177/177 - 2s - loss: 1.1057 - accuracy: 0.7900\n",
      "Epoch 97/200\n",
      "177/177 - 2s - loss: 1.1036 - accuracy: 0.7884\n",
      "Epoch 98/200\n",
      "177/177 - 2s - loss: 1.1036 - accuracy: 0.7877\n",
      "Epoch 99/200\n",
      "177/177 - 2s - loss: 1.0999 - accuracy: 0.7873\n",
      "Epoch 100/200\n",
      "177/177 - 2s - loss: 1.0968 - accuracy: 0.7857\n",
      "Epoch 101/200\n",
      "177/177 - 2s - loss: 1.0960 - accuracy: 0.7857\n",
      "Epoch 102/200\n",
      "177/177 - 2s - loss: 1.0987 - accuracy: 0.7859\n",
      "Epoch 103/200\n",
      "177/177 - 2s - loss: 1.0931 - accuracy: 0.7884\n",
      "Epoch 104/200\n",
      "177/177 - 2s - loss: 1.0916 - accuracy: 0.7896\n",
      "Epoch 105/200\n",
      "177/177 - 2s - loss: 1.0894 - accuracy: 0.7875\n",
      "Epoch 106/200\n",
      "177/177 - 2s - loss: 1.0915 - accuracy: 0.7864\n",
      "Epoch 107/200\n",
      "177/177 - 2s - loss: 1.0921 - accuracy: 0.7859\n",
      "Epoch 108/200\n",
      "177/177 - 2s - loss: 1.0903 - accuracy: 0.7885\n",
      "Epoch 109/200\n",
      "177/177 - 2s - loss: 1.0917 - accuracy: 0.7871\n",
      "Epoch 110/200\n",
      "177/177 - 2s - loss: 1.0851 - accuracy: 0.7859\n",
      "Epoch 111/200\n",
      "177/177 - 2s - loss: 1.0823 - accuracy: 0.7882\n",
      "Epoch 112/200\n",
      "177/177 - 2s - loss: 1.0821 - accuracy: 0.7885\n",
      "Epoch 113/200\n",
      "177/177 - 2s - loss: 1.0810 - accuracy: 0.7891\n",
      "Epoch 114/200\n",
      "177/177 - 2s - loss: 1.0817 - accuracy: 0.7868\n",
      "Epoch 115/200\n",
      "177/177 - 2s - loss: 1.0796 - accuracy: 0.7898\n",
      "Epoch 116/200\n",
      "177/177 - 2s - loss: 1.0818 - accuracy: 0.7868\n",
      "Epoch 117/200\n",
      "177/177 - 2s - loss: 1.0925 - accuracy: 0.7864\n",
      "Epoch 118/200\n",
      "177/177 - 2s - loss: 1.1041 - accuracy: 0.7841\n",
      "Epoch 119/200\n",
      "177/177 - 2s - loss: 1.1077 - accuracy: 0.7829\n",
      "Epoch 120/200\n",
      "177/177 - 2s - loss: 1.0805 - accuracy: 0.7875\n",
      "Epoch 121/200\n",
      "177/177 - 2s - loss: 1.0759 - accuracy: 0.7877\n",
      "Epoch 122/200\n",
      "177/177 - 2s - loss: 1.0732 - accuracy: 0.7880\n",
      "Epoch 123/200\n",
      "177/177 - 2s - loss: 1.0724 - accuracy: 0.7877\n",
      "Epoch 124/200\n",
      "177/177 - 2s - loss: 1.0732 - accuracy: 0.7880\n",
      "Epoch 125/200\n",
      "177/177 - 2s - loss: 1.0703 - accuracy: 0.7887\n",
      "Epoch 126/200\n",
      "177/177 - 2s - loss: 1.0722 - accuracy: 0.7877\n",
      "Epoch 127/200\n",
      "177/177 - 2s - loss: 1.0694 - accuracy: 0.7889\n",
      "Epoch 128/200\n",
      "177/177 - 2s - loss: 1.0705 - accuracy: 0.7889\n",
      "Epoch 129/200\n",
      "177/177 - 2s - loss: 1.0690 - accuracy: 0.7878\n",
      "Epoch 130/200\n",
      "177/177 - 2s - loss: 1.0695 - accuracy: 0.7887\n",
      "Epoch 131/200\n",
      "177/177 - 2s - loss: 1.0693 - accuracy: 0.7877\n",
      "Epoch 132/200\n",
      "177/177 - 2s - loss: 1.0682 - accuracy: 0.7896\n",
      "Epoch 133/200\n",
      "177/177 - 2s - loss: 1.0684 - accuracy: 0.7875\n",
      "Epoch 134/200\n",
      "177/177 - 2s - loss: 1.0682 - accuracy: 0.7878\n",
      "Epoch 135/200\n",
      "177/177 - 2s - loss: 1.0679 - accuracy: 0.7885\n",
      "Epoch 136/200\n",
      "177/177 - 2s - loss: 1.0665 - accuracy: 0.7885\n",
      "Epoch 137/200\n",
      "177/177 - 2s - loss: 1.0675 - accuracy: 0.7889\n",
      "Epoch 138/200\n",
      "177/177 - 2s - loss: 1.0652 - accuracy: 0.7892\n",
      "Epoch 139/200\n",
      "177/177 - 2s - loss: 1.0657 - accuracy: 0.7873\n",
      "Epoch 140/200\n",
      "177/177 - 2s - loss: 1.0654 - accuracy: 0.7878\n",
      "Epoch 141/200\n",
      "177/177 - 2s - loss: 1.0660 - accuracy: 0.7917\n",
      "Epoch 142/200\n",
      "177/177 - 2s - loss: 1.0654 - accuracy: 0.7882\n",
      "Epoch 143/200\n",
      "177/177 - 2s - loss: 1.0652 - accuracy: 0.7891\n",
      "Epoch 144/200\n",
      "177/177 - 2s - loss: 1.0650 - accuracy: 0.7894\n",
      "Epoch 145/200\n",
      "177/177 - 2s - loss: 1.0678 - accuracy: 0.7878\n",
      "Epoch 146/200\n",
      "177/177 - 2s - loss: 1.0641 - accuracy: 0.7880\n",
      "Epoch 147/200\n",
      "177/177 - 2s - loss: 1.0637 - accuracy: 0.7877\n",
      "Epoch 148/200\n",
      "177/177 - 2s - loss: 1.0626 - accuracy: 0.7903\n",
      "Epoch 149/200\n",
      "177/177 - 2s - loss: 1.0673 - accuracy: 0.7894\n",
      "Epoch 150/200\n",
      "177/177 - 2s - loss: 1.1120 - accuracy: 0.7770\n",
      "Epoch 151/200\n",
      "177/177 - 2s - loss: 1.1192 - accuracy: 0.7786\n",
      "Epoch 152/200\n",
      "177/177 - 2s - loss: 1.0719 - accuracy: 0.7896\n",
      "Epoch 153/200\n",
      "177/177 - 2s - loss: 1.0639 - accuracy: 0.7891\n",
      "Epoch 154/200\n",
      "177/177 - 2s - loss: 1.0645 - accuracy: 0.7889\n",
      "Epoch 155/200\n",
      "177/177 - 2s - loss: 1.0629 - accuracy: 0.7889\n",
      "Epoch 156/200\n",
      "177/177 - 2s - loss: 1.0638 - accuracy: 0.7880\n",
      "Epoch 157/200\n",
      "177/177 - 2s - loss: 1.0615 - accuracy: 0.7907\n",
      "Epoch 158/200\n",
      "177/177 - 2s - loss: 1.0628 - accuracy: 0.7864\n",
      "Epoch 159/200\n",
      "177/177 - 2s - loss: 1.0610 - accuracy: 0.7887\n",
      "Epoch 160/200\n",
      "177/177 - 2s - loss: 1.0616 - accuracy: 0.7887\n",
      "Epoch 161/200\n",
      "177/177 - 2s - loss: 1.0601 - accuracy: 0.7900\n",
      "Epoch 162/200\n",
      "177/177 - 2s - loss: 1.0609 - accuracy: 0.7877\n",
      "Epoch 163/200\n",
      "177/177 - 2s - loss: 1.0623 - accuracy: 0.7877\n",
      "Epoch 164/200\n",
      "177/177 - 2s - loss: 1.0607 - accuracy: 0.7869\n",
      "Epoch 165/200\n",
      "177/177 - 2s - loss: 1.0603 - accuracy: 0.7885\n",
      "Epoch 166/200\n",
      "177/177 - 2s - loss: 1.0594 - accuracy: 0.7882\n",
      "Epoch 167/200\n",
      "177/177 - 2s - loss: 1.0597 - accuracy: 0.7877\n",
      "Epoch 168/200\n",
      "177/177 - 2s - loss: 1.0606 - accuracy: 0.7859\n",
      "Epoch 169/200\n",
      "177/177 - 2s - loss: 1.0596 - accuracy: 0.7884\n",
      "Epoch 170/200\n",
      "177/177 - 2s - loss: 1.0623 - accuracy: 0.7869\n",
      "Epoch 171/200\n",
      "177/177 - 2s - loss: 1.0600 - accuracy: 0.7891\n",
      "Epoch 172/200\n",
      "177/177 - 2s - loss: 1.0612 - accuracy: 0.7878\n",
      "Epoch 173/200\n",
      "177/177 - 2s - loss: 1.0766 - accuracy: 0.7869\n",
      "Epoch 174/200\n",
      "177/177 - 2s - loss: 1.0725 - accuracy: 0.7873\n",
      "Epoch 175/200\n",
      "177/177 - 2s - loss: 1.0663 - accuracy: 0.7877\n",
      "Epoch 176/200\n",
      "177/177 - 2s - loss: 1.0689 - accuracy: 0.7850\n",
      "Epoch 177/200\n",
      "177/177 - 2s - loss: 1.0680 - accuracy: 0.7871\n",
      "Epoch 178/200\n",
      "177/177 - 2s - loss: 1.0624 - accuracy: 0.7887\n",
      "Epoch 179/200\n",
      "177/177 - 2s - loss: 1.0592 - accuracy: 0.7900\n",
      "Epoch 180/200\n",
      "177/177 - 2s - loss: 1.0606 - accuracy: 0.7884\n",
      "Epoch 181/200\n",
      "177/177 - 2s - loss: 1.0575 - accuracy: 0.7905\n",
      "Epoch 182/200\n",
      "177/177 - 2s - loss: 1.0572 - accuracy: 0.7891\n",
      "Epoch 183/200\n",
      "177/177 - 2s - loss: 1.0601 - accuracy: 0.7882\n",
      "Epoch 184/200\n",
      "177/177 - 2s - loss: 1.0574 - accuracy: 0.7871\n",
      "Epoch 185/200\n",
      "177/177 - 2s - loss: 1.0586 - accuracy: 0.7884\n",
      "Epoch 186/200\n",
      "177/177 - 2s - loss: 1.0574 - accuracy: 0.7859\n",
      "Epoch 187/200\n",
      "177/177 - 2s - loss: 1.0585 - accuracy: 0.7885\n",
      "Epoch 188/200\n",
      "177/177 - 2s - loss: 1.0586 - accuracy: 0.7868\n",
      "Epoch 189/200\n",
      "177/177 - 2s - loss: 1.0587 - accuracy: 0.7873\n",
      "Epoch 190/200\n",
      "177/177 - 2s - loss: 1.0582 - accuracy: 0.7889\n",
      "Epoch 191/200\n",
      "177/177 - 2s - loss: 1.0575 - accuracy: 0.7869\n",
      "Epoch 192/200\n",
      "177/177 - 2s - loss: 1.0581 - accuracy: 0.7875\n",
      "Epoch 193/200\n",
      "177/177 - 2s - loss: 1.0583 - accuracy: 0.7884\n",
      "Epoch 194/200\n",
      "177/177 - 2s - loss: 1.0585 - accuracy: 0.7896\n",
      "Epoch 195/200\n",
      "177/177 - 2s - loss: 1.0592 - accuracy: 0.7878\n",
      "Epoch 196/200\n",
      "177/177 - 2s - loss: 1.0566 - accuracy: 0.7885\n",
      "Epoch 197/200\n",
      "177/177 - 2s - loss: 1.0563 - accuracy: 0.7877\n",
      "Epoch 198/200\n",
      "177/177 - 2s - loss: 1.0574 - accuracy: 0.7869\n",
      "Epoch 199/200\n",
      "177/177 - 2s - loss: 1.0563 - accuracy: 0.7891\n",
      "Epoch 200/200\n",
      "177/177 - 2s - loss: 1.0552 - accuracy: 0.7887\n"
     ]
    }
   ],
   "source": [
    "history = model.fit(X,Y,epochs=200,verbose=2)"
   ]
  },
  {
   "cell_type": "markdown",
   "metadata": {},
   "source": [
    "### 모델 검증"
   ]
  },
  {
   "cell_type": "code",
   "execution_count": 21,
   "metadata": {},
   "outputs": [],
   "source": [
    "from my_util import sentence_generation"
   ]
  },
  {
   "cell_type": "code",
   "execution_count": 22,
   "metadata": {},
   "outputs": [
    {
     "name": "stdout",
     "output_type": "stream",
     "text": [
      "WARNING:tensorflow:Model was constructed with shape (None, 18) for input Tensor(\"embedding_input:0\", shape=(None, 18), dtype=float32), but it was called on an input with incompatible shape (None, 19).\n",
      "i survived a sarin gas attack the great box of china\n",
      "epa the americans season 5 episode 6 recap im going home\n",
      "niger the presidents generals of edition gorsuch benefit to end from\n"
     ]
    }
   ],
   "source": [
    "print(sentence_generation(model, t, max_len, 'i',10))\r\n",
    "print(sentence_generation(model, t, max_len,'epa',10))\r\n",
    "print(sentence_generation(model, t, max_len, 'niger',10))"
   ]
  },
  {
   "cell_type": "code",
   "execution_count": null,
   "metadata": {},
   "outputs": [],
   "source": []
  }
 ],
 "metadata": {
  "interpreter": {
   "hash": "8c1eae21719a0790335dcb83aad72b63b602cfe5cdb2bda0f60bc11d4f154e4b"
  },
  "kernelspec": {
   "display_name": "Python 3.8.5 64-bit ('base': conda)",
   "name": "python3"
  },
  "language_info": {
   "codemirror_mode": {
    "name": "ipython",
    "version": 3
   },
   "file_extension": ".py",
   "mimetype": "text/x-python",
   "name": "python",
   "nbconvert_exporter": "python",
   "pygments_lexer": "ipython3",
   "version": "3.8.5"
  },
  "orig_nbformat": 4
 },
 "nbformat": 4,
 "nbformat_minor": 2
}