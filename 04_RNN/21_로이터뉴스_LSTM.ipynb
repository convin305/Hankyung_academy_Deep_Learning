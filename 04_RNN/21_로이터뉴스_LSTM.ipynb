{
 "cells": [
  {
   "cell_type": "markdown",
   "metadata": {},
   "source": [
    "# LSTM을 이용한 로이터뉴스 카테고리 분류"
   ]
  },
  {
   "cell_type": "code",
   "execution_count": 1,
   "metadata": {},
   "outputs": [],
   "source": [
    "import numpy as np\r\n",
    "import pandas as pd\r\n",
    "import tensorflow as tf\r\n",
    "\r\n",
    "seed = 2021\r\n",
    "np.random.seed(seed)\r\n",
    "tf.random.set_seed(seed)"
   ]
  },
  {
   "cell_type": "code",
   "execution_count": 3,
   "metadata": {},
   "outputs": [],
   "source": [
    "import matplotlib.pyplot as plt\r\n",
    "import seaborn as sns\r\n",
    "%matplotlib inline"
   ]
  },
  {
   "cell_type": "code",
   "execution_count": 7,
   "metadata": {},
   "outputs": [
    {
     "name": "stderr",
     "output_type": "stream",
     "text": [
      "C:\\Users\\CPB06GameN\\miniconda3\\lib\\site-packages\\tensorflow\\python\\keras\\datasets\\reuters.py:148: VisibleDeprecationWarning: Creating an ndarray from ragged nested sequences (which is a list-or-tuple of lists-or-tuples-or ndarrays with different lengths or shapes) is deprecated. If you meant to do this, you must specify 'dtype=object' when creating the ndarray\n",
      "  x_train, y_train = np.array(xs[:idx]), np.array(labels[:idx])\n",
      "C:\\Users\\CPB06GameN\\miniconda3\\lib\\site-packages\\tensorflow\\python\\keras\\datasets\\reuters.py:149: VisibleDeprecationWarning: Creating an ndarray from ragged nested sequences (which is a list-or-tuple of lists-or-tuples-or ndarrays with different lengths or shapes) is deprecated. If you meant to do this, you must specify 'dtype=object' when creating the ndarray\n",
      "  x_test, y_test = np.array(xs[idx:]), np.array(labels[idx:])\n"
     ]
    }
   ],
   "source": [
    "from tensorflow.keras.datasets import reuters\r\n",
    "(X_train, y_train), (X_test,y_test) = reuters.load_data(num_words=None, test_split=0.2)"
   ]
  },
  {
   "cell_type": "markdown",
   "metadata": {},
   "source": [
    "### 데이터 탐색"
   ]
  },
  {
   "cell_type": "code",
   "execution_count": 8,
   "metadata": {},
   "outputs": [
    {
     "name": "stdout",
     "output_type": "stream",
     "text": [
      "카테고리 갯수 : 46\n"
     ]
    },
    {
     "data": {
      "text/plain": [
       "(8982, 2246)"
      ]
     },
     "execution_count": 8,
     "metadata": {},
     "output_type": "execute_result"
    }
   ],
   "source": [
    "category = np.max(y_train) + 1\r\n",
    "print(f'카테고리 갯수 : {category}')\r\n",
    "len(X_train), len(X_test)"
   ]
  },
  {
   "cell_type": "code",
   "execution_count": 9,
   "metadata": {},
   "outputs": [
    {
     "name": "stdout",
     "output_type": "stream",
     "text": [
      "[1, 27595, 28842, 8, 43, 10, 447, 5, 25, 207, 270, 5, 3095, 111, 16, 369, 186, 90, 67, 7, 89, 5, 19, 102, 6, 19, 124, 15, 90, 67, 84, 22, 482, 26, 7, 48, 4, 49, 8, 864, 39, 209, 154, 6, 151, 6, 83, 11, 15, 22, 155, 11, 15, 7, 48, 9, 4579, 1005, 504, 6, 258, 6, 272, 11, 15, 22, 134, 44, 11, 15, 16, 8, 197, 1245, 90, 67, 52, 29, 209, 30, 32, 132, 6, 109, 15, 17, 12]\n"
     ]
    }
   ],
   "source": [
    "# 첫번째 뉴스\r\n",
    "print(X_train[0])"
   ]
  },
  {
   "cell_type": "code",
   "execution_count": 10,
   "metadata": {},
   "outputs": [
    {
     "name": "stdout",
     "output_type": "stream",
     "text": [
      "Downloading data from https://storage.googleapis.com/tensorflow/tf-keras-datasets/reuters_word_index.json\n",
      "557056/550378 [==============================] - 0s 0us/step\n"
     ]
    },
    {
     "data": {
      "text/plain": [
       "30979"
      ]
     },
     "execution_count": 10,
     "metadata": {},
     "output_type": "execute_result"
    }
   ],
   "source": [
    "index_dict = {}\r\n",
    "\r\n",
    "for key, value in reuters.get_word_index().items():\r\n",
    "    index_dict[value] = key\r\n",
    "\r\n",
    "len(index_dict)"
   ]
  },
  {
   "cell_type": "code",
   "execution_count": 11,
   "metadata": {},
   "outputs": [
    {
     "data": {
      "text/plain": [
       "'the wattie nondiscriminatory mln loss for plc said at only ended said commonwealth could 1 traders now april 0 a after said from 1985 and from foreign 000 april 0 prices its account year a but in this mln home an states earlier and rise and revs vs 000 its 16 vs 000 a but 3 psbr oils several and shareholders and dividend vs 000 its all 4 vs 000 1 mln agreed largely april 0 are 2 states will billion total and against 000 pct dlrs'"
      ]
     },
     "execution_count": 11,
     "metadata": {},
     "output_type": "execute_result"
    }
   ],
   "source": [
    "# 첫번째 기사 복원\r\n",
    "' '.join(index_dict[s] for s in X_train[0])"
   ]
  },
  {
   "cell_type": "code",
   "execution_count": 12,
   "metadata": {},
   "outputs": [
    {
     "name": "stdout",
     "output_type": "stream",
     "text": [
      "뉴스 최대 길이 :  2376\n",
      "뉴스 평균 길이 :  145.5398574927633\n"
     ]
    }
   ],
   "source": [
    "# 뉴스 기사의 길이\r\n",
    "print('뉴스 최대 길이 : ', max(len(l) for l in X_train))\r\n",
    "print('뉴스 평균 길이 : ', sum(map(len,X_train)) / len(X_train))"
   ]
  },
  {
   "cell_type": "code",
   "execution_count": 13,
   "metadata": {},
   "outputs": [
    {
     "data": {
      "image/png": "[encoded data removed]",
      "text/plain": [
       "<Figure size 432x288 with 1 Axes>"
      ]
     },
     "metadata": {
      "needs_background": "light"
     },
     "output_type": "display_data"
    }
   ],
   "source": [
    "plt.hist([len(l) for l in X_train],bins=50)\r\n",
    "plt.xlabel('Length of samples')\r\n",
    "plt.ylabel('number of samples')\r\n",
    "plt.show()"
   ]
  },
  {
   "cell_type": "code",
   "execution_count": 15,
   "metadata": {},
   "outputs": [
    {
     "name": "stderr",
     "output_type": "stream",
     "text": [
      "C:\\Users\\CPB06GameN\\miniconda3\\lib\\site-packages\\seaborn\\_decorators.py:36: FutureWarning: Pass the following variable as a keyword arg: x. From version 0.12, the only valid positional argument will be `data`, and passing other arguments without an explicit keyword will result in an error or misinterpretation.\n",
      "  warnings.warn(\n"
     ]
    },
    {
     "data": {
      "image/png": "[encoded data removed]",
      "text/plain": [
       "<Figure size 864x360 with 1 Axes>"
      ]
     },
     "metadata": {
      "needs_background": "light"
     },
     "output_type": "display_data"
    }
   ],
   "source": [
    "plt.figure(figsize=(12,5))\r\n",
    "sns.countplot(y_train)\r\n",
    "plt.show()"
   ]
  },
  {
   "cell_type": "markdown",
   "metadata": {},
   "source": [
    "### 단어 빈도수 기준 1000단어 (총 단어는 30,979)  \r\n",
    "### 문장 길이 : 100단어까지 (제일 긴 문장은 2376)"
   ]
  },
  {
   "cell_type": "code",
   "execution_count": 16,
   "metadata": {},
   "outputs": [
    {
     "name": "stderr",
     "output_type": "stream",
     "text": [
      "C:\\Users\\CPB06GameN\\miniconda3\\lib\\site-packages\\tensorflow\\python\\keras\\datasets\\reuters.py:148: VisibleDeprecationWarning: Creating an ndarray from ragged nested sequences (which is a list-or-tuple of lists-or-tuples-or ndarrays with different lengths or shapes) is deprecated. If you meant to do this, you must specify 'dtype=object' when creating the ndarray\n",
      "  x_train, y_train = np.array(xs[:idx]), np.array(labels[:idx])\n",
      "C:\\Users\\CPB06GameN\\miniconda3\\lib\\site-packages\\tensorflow\\python\\keras\\datasets\\reuters.py:149: VisibleDeprecationWarning: Creating an ndarray from ragged nested sequences (which is a list-or-tuple of lists-or-tuples-or ndarrays with different lengths or shapes) is deprecated. If you meant to do this, you must specify 'dtype=object' when creating the ndarray\n",
      "  x_test, y_test = np.array(xs[idx:]), np.array(labels[idx:])\n"
     ]
    }
   ],
   "source": [
    "(X_train, y_train), (X_test,y_test) = reuters.load_data(num_words=1000, test_split=0.2)"
   ]
  },
  {
   "cell_type": "markdown",
   "metadata": {},
   "source": [
    "모델의 입력으로 사용되는 모든 뉴스기사의 길이를 동일하게 100으로 맞춤"
   ]
  },
  {
   "cell_type": "code",
   "execution_count": 17,
   "metadata": {},
   "outputs": [],
   "source": [
    "from tensorflow.keras.preprocessing.sequence import pad_sequences\r\n",
    "max_len = 100\r\n",
    "X_train = pad_sequences(X_train,maxlen=max_len)\r\n",
    "X_test = pad_sequences(X_test,maxlen=max_len)"
   ]
  },
  {
   "cell_type": "markdown",
   "metadata": {},
   "source": [
    "뉴스 기사 레이블의 원 핫 인코딩"
   ]
  },
  {
   "cell_type": "code",
   "execution_count": 18,
   "metadata": {},
   "outputs": [],
   "source": [
    "from tensorflow.keras.utils import to_categorical\r\n",
    "Y_train = to_categorical(y_train)\r\n",
    "Y_test = to_categorical(y_test)"
   ]
  },
  {
   "cell_type": "code",
   "execution_count": 19,
   "metadata": {},
   "outputs": [
    {
     "data": {
      "text/plain": [
       "((8982, 100), (2246, 100), (8982, 46), (2246, 46))"
      ]
     },
     "execution_count": 19,
     "metadata": {},
     "output_type": "execute_result"
    }
   ],
   "source": [
    "X_train.shape, X_test.shape, Y_train.shape, Y_test.shape"
   ]
  },
  {
   "cell_type": "code",
   "execution_count": 20,
   "metadata": {},
   "outputs": [],
   "source": [
    "from tensorflow.keras.models import Sequential, load_model\r\n",
    "from tensorflow.keras.layers import Embedding, LSTM, Dense\r\n",
    "from tensorflow.keras.callbacks import ModelCheckpoint, EarlyStopping"
   ]
  },
  {
   "cell_type": "code",
   "execution_count": 21,
   "metadata": {},
   "outputs": [
    {
     "name": "stdout",
     "output_type": "stream",
     "text": [
      "Model: \"sequential\"\n",
      "_________________________________________________________________\n",
      "Layer (type)                 Output Shape              Param #   \n",
      "=================================================================\n",
      "embedding (Embedding)        (None, None, 100)         100000    \n",
      "_________________________________________________________________\n",
      "lstm (LSTM)                  (None, 120)               106080    \n",
      "_________________________________________________________________\n",
      "dense (Dense)                (None, 46)                5566      \n",
      "=================================================================\n",
      "Total params: 211,646\n",
      "Trainable params: 211,646\n",
      "Non-trainable params: 0\n",
      "_________________________________________________________________\n"
     ]
    }
   ],
   "source": [
    "model = Sequential([\r\n",
    "    Embedding(1000, 100),\r\n",
    "    LSTM(120),\r\n",
    "    Dense(category,activation='softmax')\r\n",
    "])\r\n"
   ]
  },
  {
   "cell_type": "code",
   "execution_count": 22,
   "metadata": {},
   "outputs": [
    {
     "name": "stdout",
     "output_type": "stream",
     "text": [
      "Model: \"sequential\"\n",
      "_________________________________________________________________\n",
      "Layer (type)                 Output Shape              Param #   \n",
      "=================================================================\n",
      "embedding (Embedding)        (None, None, 100)         100000    \n",
      "_________________________________________________________________\n",
      "lstm (LSTM)                  (None, 120)               106080    \n",
      "_________________________________________________________________\n",
      "dense (Dense)                (None, 46)                5566      \n",
      "=================================================================\n",
      "Total params: 211,646\n",
      "Trainable params: 211,646\n",
      "Non-trainable params: 0\n",
      "_________________________________________________________________\n"
     ]
    }
   ],
   "source": [
    "model.summary()"
   ]
  },
  {
   "cell_type": "code",
   "execution_count": 23,
   "metadata": {},
   "outputs": [],
   "source": [
    "model.compile(\r\n",
    "    optimizer='adam', loss= 'categorical_crossentropy', metrics=['accuracy']\r\n",
    ")"
   ]
  },
  {
   "cell_type": "code",
   "execution_count": 25,
   "metadata": {},
   "outputs": [],
   "source": [
    "# Callback 함수\r\n",
    "model_path = 'model/Reuters_bestmodel.h5'\r\n",
    "checkpointer = ModelCheckpoint(\r\n",
    "    model_path, monitor='val_loss', verbose=1, save_best_only=True\r\n",
    ")\r\n",
    "early_stopping = EarlyStopping(patience=10)"
   ]
  },
  {
   "cell_type": "code",
   "execution_count": 26,
   "metadata": {},
   "outputs": [
    {
     "name": "stdout",
     "output_type": "stream",
     "text": [
      "Epoch 1/50\n",
      "\n",
      "Epoch 00001: val_loss improved from inf to 2.04299, saving model to model\\Reuters_bestmodel.h5\n",
      "225/225 - 14s - loss: 2.3168 - accuracy: 0.4262 - val_loss: 2.0430 - val_accuracy: 0.4953\n",
      "Epoch 2/50\n",
      "\n",
      "Epoch 00002: val_loss improved from 2.04299 to 1.78564, saving model to model\\Reuters_bestmodel.h5\n",
      "225/225 - 12s - loss: 1.9302 - accuracy: 0.5081 - val_loss: 1.7856 - val_accuracy: 0.5531\n",
      "Epoch 3/50\n",
      "\n",
      "Epoch 00003: val_loss improved from 1.78564 to 1.64569, saving model to model\\Reuters_bestmodel.h5\n",
      "225/225 - 12s - loss: 1.7183 - accuracy: 0.5585 - val_loss: 1.6457 - val_accuracy: 0.5888\n",
      "Epoch 4/50\n",
      "\n",
      "Epoch 00004: val_loss did not improve from 1.64569\n",
      "225/225 - 12s - loss: 1.5872 - accuracy: 0.5926 - val_loss: 1.7460 - val_accuracy: 0.5537\n",
      "Epoch 5/50\n",
      "\n",
      "Epoch 00005: val_loss improved from 1.64569 to 1.58114, saving model to model\\Reuters_bestmodel.h5\n",
      "225/225 - 12s - loss: 1.5253 - accuracy: 0.6058 - val_loss: 1.5811 - val_accuracy: 0.6016\n",
      "Epoch 6/50\n",
      "\n",
      "Epoch 00006: val_loss improved from 1.58114 to 1.49090, saving model to model\\Reuters_bestmodel.h5\n",
      "225/225 - 12s - loss: 1.4416 - accuracy: 0.6206 - val_loss: 1.4909 - val_accuracy: 0.6244\n",
      "Epoch 7/50\n",
      "\n",
      "Epoch 00007: val_loss improved from 1.49090 to 1.45519, saving model to model\\Reuters_bestmodel.h5\n",
      "225/225 - 12s - loss: 1.3404 - accuracy: 0.6521 - val_loss: 1.4552 - val_accuracy: 0.6366\n",
      "Epoch 8/50\n",
      "\n",
      "Epoch 00008: val_loss improved from 1.45519 to 1.37060, saving model to model\\Reuters_bestmodel.h5\n",
      "225/225 - 13s - loss: 1.2512 - accuracy: 0.6757 - val_loss: 1.3706 - val_accuracy: 0.6533\n",
      "Epoch 9/50\n",
      "\n",
      "Epoch 00009: val_loss did not improve from 1.37060\n",
      "225/225 - 13s - loss: 1.1690 - accuracy: 0.6976 - val_loss: 1.4147 - val_accuracy: 0.6539\n",
      "Epoch 10/50\n",
      "\n",
      "Epoch 00010: val_loss improved from 1.37060 to 1.29186, saving model to model\\Reuters_bestmodel.h5\n",
      "225/225 - 12s - loss: 1.1202 - accuracy: 0.7097 - val_loss: 1.2919 - val_accuracy: 0.6811\n",
      "Epoch 11/50\n",
      "\n",
      "Epoch 00011: val_loss improved from 1.29186 to 1.28544, saving model to model\\Reuters_bestmodel.h5\n",
      "225/225 - 13s - loss: 1.0422 - accuracy: 0.7311 - val_loss: 1.2854 - val_accuracy: 0.6828\n",
      "Epoch 12/50\n",
      "\n",
      "Epoch 00012: val_loss improved from 1.28544 to 1.25015, saving model to model\\Reuters_bestmodel.h5\n",
      "225/225 - 12s - loss: 0.9825 - accuracy: 0.7434 - val_loss: 1.2502 - val_accuracy: 0.6939\n",
      "Epoch 13/50\n",
      "\n",
      "Epoch 00013: val_loss improved from 1.25015 to 1.24173, saving model to model\\Reuters_bestmodel.h5\n",
      "225/225 - 12s - loss: 0.9190 - accuracy: 0.7616 - val_loss: 1.2417 - val_accuracy: 0.7040\n",
      "Epoch 14/50\n",
      "\n",
      "Epoch 00014: val_loss improved from 1.24173 to 1.23192, saving model to model\\Reuters_bestmodel.h5\n",
      "225/225 - 12s - loss: 0.8565 - accuracy: 0.7779 - val_loss: 1.2319 - val_accuracy: 0.7017\n",
      "Epoch 15/50\n",
      "\n",
      "Epoch 00015: val_loss did not improve from 1.23192\n",
      "225/225 - 12s - loss: 0.8094 - accuracy: 0.7923 - val_loss: 1.2504 - val_accuracy: 0.6956\n",
      "Epoch 16/50\n",
      "\n",
      "Epoch 00016: val_loss improved from 1.23192 to 1.21373, saving model to model\\Reuters_bestmodel.h5\n",
      "225/225 - 12s - loss: 0.7541 - accuracy: 0.8070 - val_loss: 1.2137 - val_accuracy: 0.7062\n",
      "Epoch 17/50\n",
      "\n",
      "Epoch 00017: val_loss did not improve from 1.21373\n",
      "225/225 - 12s - loss: 0.7027 - accuracy: 0.8200 - val_loss: 1.2291 - val_accuracy: 0.7195\n",
      "Epoch 18/50\n",
      "\n",
      "Epoch 00018: val_loss did not improve from 1.21373\n",
      "225/225 - 12s - loss: 0.6582 - accuracy: 0.8291 - val_loss: 1.2540 - val_accuracy: 0.7129\n",
      "Epoch 19/50\n",
      "\n",
      "Epoch 00019: val_loss did not improve from 1.21373\n",
      "225/225 - 12s - loss: 0.6187 - accuracy: 0.8406 - val_loss: 1.2885 - val_accuracy: 0.7056\n",
      "Epoch 20/50\n",
      "\n",
      "Epoch 00020: val_loss did not improve from 1.21373\n",
      "225/225 - 12s - loss: 0.5650 - accuracy: 0.8590 - val_loss: 1.2642 - val_accuracy: 0.7229\n",
      "Epoch 21/50\n",
      "\n",
      "Epoch 00021: val_loss did not improve from 1.21373\n",
      "225/225 - 12s - loss: 0.5349 - accuracy: 0.8633 - val_loss: 1.3016 - val_accuracy: 0.7179\n",
      "Epoch 22/50\n",
      "\n",
      "Epoch 00022: val_loss did not improve from 1.21373\n",
      "225/225 - 12s - loss: 0.4965 - accuracy: 0.8720 - val_loss: 1.3056 - val_accuracy: 0.7251\n",
      "Epoch 23/50\n",
      "\n",
      "Epoch 00023: val_loss did not improve from 1.21373\n",
      "225/225 - 13s - loss: 0.4508 - accuracy: 0.8881 - val_loss: 1.3512 - val_accuracy: 0.7279\n",
      "Epoch 24/50\n",
      "\n",
      "Epoch 00024: val_loss did not improve from 1.21373\n",
      "225/225 - 13s - loss: 0.4235 - accuracy: 0.8919 - val_loss: 1.3490 - val_accuracy: 0.7195\n",
      "Epoch 25/50\n",
      "\n",
      "Epoch 00025: val_loss did not improve from 1.21373\n",
      "225/225 - 12s - loss: 0.3818 - accuracy: 0.9047 - val_loss: 1.4103 - val_accuracy: 0.7206\n",
      "Epoch 26/50\n",
      "\n",
      "Epoch 00026: val_loss did not improve from 1.21373\n",
      "225/225 - 13s - loss: 0.3480 - accuracy: 0.9150 - val_loss: 1.4605 - val_accuracy: 0.7129\n"
     ]
    }
   ],
   "source": [
    "# 모델 학습\r\n",
    "history = model.fit(X_train, Y_train, epochs=50, validation_split=0.2, verbose=2, callbacks=[checkpointer, early_stopping] )"
   ]
  },
  {
   "cell_type": "code",
   "execution_count": 27,
   "metadata": {},
   "outputs": [
    {
     "name": "stdout",
     "output_type": "stream",
     "text": [
      "71/71 [==============================] - 1s 17ms/step - loss: 1.2673 - accuracy: 0.6959\n"
     ]
    },
    {
     "data": {
      "text/plain": [
       "[1.267320156097412, 0.6959038376808167]"
      ]
     },
     "execution_count": 27,
     "metadata": {},
     "output_type": "execute_result"
    }
   ],
   "source": [
    "best_model = load_model(model_path)\r\n",
    "best_model.evaluate(X_test, Y_test)"
   ]
  },
  {
   "cell_type": "markdown",
   "metadata": {},
   "source": [
    "### 학습 과정 시각화  \r\n",
    "- 하나의 X축, 두개의 Y축 스케일"
   ]
  },
  {
   "cell_type": "code",
   "execution_count": 31,
   "metadata": {},
   "outputs": [],
   "source": [
    "y_acc = history.history['accuracy']\r\n",
    "y_vacc = history.history['val_accuracy']\r\n",
    "y_loss = history.history['loss']\r\n",
    "y_vloss = history.history['val_loss']\r\n",
    "x_len= np.arange(1,len(y_acc) + 1)"
   ]
  },
  {
   "cell_type": "code",
   "execution_count": 35,
   "metadata": {},
   "outputs": [
    {
     "data": {
      "image/png": "[encoded data removed]",
      "text/plain": [
       "<Figure size 864x576 with 2 Axes>"
      ]
     },
     "metadata": {
      "needs_background": "light"
     },
     "output_type": "display_data"
    }
   ],
   "source": [
    "fig, ax0 = plt.subplots(figsize = (12,8))\r\n",
    "ax1 = ax0.twinx()           # x축을 공유할 것이다 \r\n",
    "\r\n",
    "ax0.plot(x_len, y_loss, c = 'blue', label ='train loss')\r\n",
    "ax0.plot(x_len, y_vloss, c='red', label = 'val loss')\r\n",
    "ax0.set_ylabel('loss')\r\n",
    "\r\n",
    "ax1.plot(x_len, y_acc, c = 'darkgreen', label ='train accuracy')\r\n",
    "ax1.plot(x_len, y_vacc, c='magenta', label = 'val accuracy')\r\n",
    "ax1.set_ylabel('accuracy')\r\n",
    "ax0.set_xlabel('epoch')\r\n",
    "\r\n",
    "ax0.legend(loc='lower center'); ax1.legend(loc='upper center')\r\n",
    "plt.grid()\r\n",
    "plt.show()"
   ]
  }
 ],
 "metadata": {
  "interpreter": {
   "hash": "8c1eae21719a0790335dcb83aad72b63b602cfe5cdb2bda0f60bc11d4f154e4b"
  },
  "kernelspec": {
   "display_name": "Python 3.8.5 64-bit ('base': conda)",
   "name": "python3"
  },
  "language_info": {
   "codemirror_mode": {
    "name": "ipython",
    "version": 3
   },
   "file_extension": ".py",
   "mimetype": "text/x-python",
   "name": "python",
   "nbconvert_exporter": "python",
   "pygments_lexer": "ipython3",
   "version": "3.8.5"
  },
  "orig_nbformat": 4
 },
 "nbformat": 4,
 "nbformat_minor": 2
}